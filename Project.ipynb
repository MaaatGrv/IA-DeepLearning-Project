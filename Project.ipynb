{
 "cells": [
  {
   "cell_type": "code",
   "execution_count": 1,
   "metadata": {},
   "outputs": [],
   "source": [
    "import os\n",
    "import librosa\n",
    "import numpy as np\n",
    "import matplotlib.pyplot as plt\n",
    "from sklearn.preprocessing import LabelEncoder\n",
    "from sklearn.model_selection import train_test_split\n",
    "from tensorflow.keras.models import Sequential\n",
    "from tensorflow.keras.layers import Conv2D, MaxPooling2D, Flatten, Dense, Dropout, BatchNormalization\n",
    "from tensorflow.keras.utils import to_categorical\n",
    "from sklearn.metrics import confusion_matrix, ConfusionMatrixDisplay"
   ]
  },
  {
   "cell_type": "code",
   "execution_count": 2,
   "metadata": {},
   "outputs": [],
   "source": [
    "def augment_audio(audio, sr):\n",
    "    # Ajout de bruit\n",
    "    noise = np.random.randn(len(audio)) * 0.005\n",
    "    audio_with_noise = audio + noise\n",
    "    \n",
    "    # Modifier la hauteur en fréquence\n",
    "    try:\n",
    "        pitch_factor = np.random.uniform(-5, 5)  # En demi-tons\n",
    "        audio_pitch_shifted = librosa.effects.pitch_shift(audio, sr=sr, n_steps=pitch_factor)\n",
    "    except:\n",
    "        audio_pitch_shifted = audio\n",
    "\n",
    "    # Modifier la vitesse\n",
    "    audio_stretched = librosa.effects.time_stretch(audio, rate=np.random.uniform(0.8, 1.2))\n",
    "    \n",
    "    return [audio_with_noise, audio_pitch_shifted, audio_stretched]\n"
   ]
  },
  {
   "cell_type": "code",
   "execution_count": 3,
   "metadata": {},
   "outputs": [],
   "source": [
    "def extract_features_with_augmentation(file_path):\n",
    "    try:\n",
    "        audio, sr = librosa.load(file_path, duration=30)\n",
    "        mfccs = librosa.feature.mfcc(y=audio, sr=sr, n_mfcc=40)\n",
    "\n",
    "        # Ajouter des augmentations\n",
    "        augmented_audios = augment_audio(audio, sr)\n",
    "        augmented_mfccs = [librosa.feature.mfcc(y=a, sr=sr, n_mfcc=40) for a in augmented_audios]\n",
    "\n",
    "        # Combiner les MFCCs originaux et augmentés\n",
    "        all_mfccs = [np.mean(mfccs.T, axis=0)] + [np.mean(m.T, axis=0) for m in augmented_mfccs]\n",
    "        return all_mfccs\n",
    "    except Exception as e:\n",
    "        print(f\"Erreur lors du traitement du fichier {file_path}: {e}\")\n",
    "        return []\n"
   ]
  },
  {
   "cell_type": "code",
   "execution_count": 4,
   "metadata": {},
   "outputs": [],
   "source": [
    "def load_audio_features_with_augmentation(data_path):\n",
    "    genres = os.listdir(data_path)\n",
    "    features, labels = [], []\n",
    "    \n",
    "    for genre in genres:\n",
    "        genre_path = os.path.join(data_path, genre)\n",
    "        for file_name in os.listdir(genre_path):\n",
    "            file_path = os.path.join(genre_path, file_name)\n",
    "            try:\n",
    "                mfccs_list = extract_features_with_augmentation(file_path)\n",
    "                for mfccs in mfccs_list:\n",
    "                    features.append(mfccs)\n",
    "                    labels.append(genre)\n",
    "            except Exception as e:\n",
    "                print(f\"Erreur avec le fichier {file_path}: {e}\")\n",
    "\n",
    "    return np.array(features), np.array(labels)\n"
   ]
  },
  {
   "cell_type": "code",
   "execution_count": null,
   "metadata": {},
   "outputs": [],
   "source": [
    "# Chemin vers les données audio\n",
    "data_path = \"Data/genres_original\"\n",
    "\n",
    "# Charger les données avec augmentation\n",
    "X, y = load_audio_features_with_augmentation(data_path)\n",
    "print(f\"X shape: {X.shape}\")\n",
    "print(f\"y shape: {y.shape}\")\n",
    "\n",
    "# Encodage des labels\n",
    "encoder = LabelEncoder()\n",
    "y_encoded = encoder.fit_transform(y)\n",
    "y_categorical = to_categorical(y_encoded)\n",
    "\n",
    "# Diviser les données en ensembles d'entraînement et de test\n",
    "X_train, X_test, y_train, y_test = train_test_split(X, y_categorical, test_size=0.2, random_state=42)\n"
   ]
  },
  {
   "cell_type": "code",
   "execution_count": null,
   "metadata": {},
   "outputs": [],
   "source": [
    "model = Sequential([\n",
    "    Dense(512, activation='relu', input_shape=(40,)),\n",
    "    BatchNormalization(),\n",
    "    Dropout(0.3),\n",
    "    Dense(256, activation='relu'),\n",
    "    BatchNormalization(),\n",
    "    Dropout(0.3),\n",
    "    Dense(128, activation='relu'),\n",
    "    Dropout(0.3),\n",
    "    Dense(len(encoder.classes_), activation='softmax')  # Nombre de genres\n",
    "])\n"
   ]
  },
  {
   "cell_type": "code",
   "execution_count": null,
   "metadata": {},
   "outputs": [],
   "source": [
    "from tensorflow.keras.optimizers import Adam\n",
    "\n",
    "model.compile(optimizer=Adam(learning_rate=0.0001), \n",
    "              loss='categorical_crossentropy', \n",
    "              metrics=['accuracy'])\n",
    "\n",
    "model.summary()\n"
   ]
  },
  {
   "cell_type": "code",
   "execution_count": null,
   "metadata": {},
   "outputs": [],
   "source": [
    "# Entraîner le modèle\n",
    "history = model.fit(X_train, y_train, epochs=50, batch_size=32, validation_split=0.2)\n",
    "\n",
    "# Évaluer le modèle\n",
    "loss, accuracy = model.evaluate(X_test, y_test)\n",
    "print(f\"Précision sur l'ensemble de test : {accuracy * 100:.2f}%\")\n"
   ]
  },
  {
   "cell_type": "code",
   "execution_count": null,
   "metadata": {},
   "outputs": [],
   "source": [
    "# Précision\n",
    "plt.figure(figsize=(10, 5))\n",
    "plt.plot(history.history['accuracy'], label='Précision (entraînement)')\n",
    "plt.plot(history.history['val_accuracy'], label='Précision (validation)')\n",
    "plt.title(\"Précision au cours des epochs\")\n",
    "plt.xlabel(\"Epochs\")\n",
    "plt.ylabel(\"Précision\")\n",
    "plt.legend()\n",
    "plt.show()\n",
    "\n",
    "# Perte\n",
    "plt.figure(figsize=(10, 5))\n",
    "plt.plot(history.history['loss'], label='Perte (entraînement)')\n",
    "plt.plot(history.history['val_loss'], label='Perte (validation)')\n",
    "plt.title(\"Perte au cours des epochs\")\n",
    "plt.xlabel(\"Epochs\")\n",
    "plt.ylabel(\"Perte\")\n",
    "plt.legend()\n",
    "plt.show()\n"
   ]
  },
  {
   "cell_type": "code",
   "execution_count": null,
   "metadata": {},
   "outputs": [],
   "source": [
    "y_pred = np.argmax(model.predict(X_test), axis=-1)\n",
    "y_true = np.argmax(y_test, axis=-1)\n",
    "\n",
    "conf_matrix = confusion_matrix(y_true, y_pred)\n",
    "ConfusionMatrixDisplay(conf_matrix, display_labels=encoder.classes_).plot(cmap='viridis')\n",
    "plt.show()\n"
   ]
  },
  {
   "cell_type": "code",
   "execution_count": null,
   "metadata": {},
   "outputs": [],
   "source": [
    "def predict_genre(file_path):\n",
    "    test_features = extract_features_with_augmentation(file_path)[0]  # Extraire les MFCCs\n",
    "    test_features = np.expand_dims(test_features, axis=0)  # Ajouter une dimension\n",
    "    predicted_genre_index = np.argmax(model.predict(test_features), axis=-1)\n",
    "    return encoder.inverse_transform(predicted_genre_index)[0]\n",
    "\n",
    "# Exemple de test\n",
    "test_file = \"Data/genres_original/rock/rock.00001.wav\"  # Remplacez par un fichier audio\n",
    "predicted_genre = predict_genre(test_file)\n",
    "print(f\"Le genre prédit pour {test_file} est : {predicted_genre}\")\n"
   ]
  }
 ],
 "metadata": {
  "kernelspec": {
   "display_name": "Python 3",
   "language": "python",
   "name": "python3"
  },
  "language_info": {
   "codemirror_mode": {
    "name": "ipython",
    "version": 3
   },
   "file_extension": ".py",
   "mimetype": "text/x-python",
   "name": "python",
   "nbconvert_exporter": "python",
   "pygments_lexer": "ipython3",
   "version": "3.9.20"
  }
 },
 "nbformat": 4,
 "nbformat_minor": 2
}
