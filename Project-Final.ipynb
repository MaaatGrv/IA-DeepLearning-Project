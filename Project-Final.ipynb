{
 "cells": [
  {
   "cell_type": "markdown",
   "metadata": {},
   "source": [
    "## Table des Matières\n",
    "\n",
    "1. [Introduction](#introduction)\n",
    "2. [Étape 1 : Importer les Bibliothèques Nécessaires](#étape-1--importer-les-bibliothèques-nécessaires)\n",
    "3. [Étape 2 : Définir les Fonctions de Prétraitement et d’Augmentation](#étape-3--définir-la-fonction-de-création-des-modèles)\n",
    "4. [Étape 3 : Définir la Fonction de Création des Modèles](#étape-3--définir-la-fonction-de-création-des-modèles)\n",
    "5. [Étape 4 : Définir la Fonction de Téléchargement Audio depuis YouTube](#etape-4--definir-la-fonction-de-telechargement-audio-depuis-youtube)\n",
    "6. [Étape 5 : Initialiser les Hyperparamètres](#etape-5--initialiser-les-hyperparametres)\n",
    "7. [Étape 6 : Charger et Prétraiter les Données](#etape-6--charger-et-pretraiter-les-donnees)\n",
    "8. [Étape 7 : Itérer sur les Combinaisons d'Hyperparamètres et Entraîner les Modèles](#etape-7--iterer-sur-les-combinaisons-dhyperparametres-et-entrainer-les-modeles)\n",
    "9. [Étape 8 : Analyser et Sauvegarder les Résultats](#etape-8--analyser-et-sauvegarder-les-resultats)\n",
    "10. [Étape 9 : Visualiser les Meilleurs Résultats](#etape-9--visualiser-les-meilleurs-resultats)\n",
    "11. [Étape 10 : Sauvegarder et Charger les Meilleurs Modèles](#etape-10--sauvegarder-et-charger-les-meilleurs-modeles)\n",
    "12. [Étape 11 : Prédiction sur de Nouveaux Échantillons](#etape-11--prediction-sur-de-nouveaux-echantillons)"
   ]
  },
  {
   "cell_type": "markdown",
   "metadata": {},
   "source": [
    "## Introduction\n",
    "\n",
    "Dans ce notebook, nous allons :\n",
    "\n",
    "1. **Charger et prétraiter les données audio** en extrayant les caractéristiques MFCC avec augmentation de données.\n",
    "2. **Définir et entraîner différents modèles** (CNN 2D, CNN profond, RNN avec LSTM/GRU) en testant diverses combinaisons d'hyperparamètres tels que la taille du batch, le nombre d'époques, le taux d'apprentissage et le nombre de coefficients MFCC.\n",
    "3. **Évaluer les performances** de chaque modèle et collecter les métriques dans un tableau pour une analyse comparative.\n",
    "4. **Visualiser les meilleurs résultats** et **sauvegarder les modèles** optimaux pour une utilisation future."
   ]
  },
  {
   "cell_type": "markdown",
   "metadata": {},
   "source": [
    "## Étape 1 : Importer les Bibliothèques Nécessaires\n",
    "\n",
    "Tout d’abord, importons toutes les bibliothèques nécessaires pour le prétraitement des données, la création des modèles, et l’évaluation des performances."
   ]
  },
  {
   "cell_type": "code",
   "execution_count": 27,
   "metadata": {},
   "outputs": [],
   "source": [
    "import os\n",
    "import numpy as np\n",
    "import pandas as pd\n",
    "import librosa\n",
    "import joblib\n",
    "import itertools\n",
    "import matplotlib.pyplot as plt\n",
    "import seaborn as sns\n",
    "\n",
    "from sklearn.preprocessing import LabelEncoder\n",
    "from sklearn.model_selection import train_test_split\n",
    "from sklearn.metrics import confusion_matrix, ConfusionMatrixDisplay, classification_report, precision_score, recall_score, f1_score\n",
    "\n",
    "from tensorflow.keras.utils import to_categorical\n",
    "from tensorflow.keras.models import Sequential, load_model\n",
    "from tensorflow.keras.layers import Dense, Dropout, BatchNormalization, Conv2D, MaxPooling2D, Flatten, LSTM, GRU, TimeDistributed\n",
    "from tensorflow.keras.optimizers import Adam\n",
    "from tensorflow.keras.callbacks import EarlyStopping, ModelCheckpoint\n",
    "\n",
    "import yt_dlp as youtube_dl\n",
    "\n",
    "# Pour afficher les graphiques directement dans le notebook\n",
    "%matplotlib inline"
   ]
  },
  {
   "cell_type": "markdown",
   "metadata": {},
   "source": [
    "## Étape 2 : Définir les Fonctions de Prétraitement et d’Augmentation\n",
    "\n",
    "Nous allons définir les fonctions nécessaires pour :\n",
    "\n",
    "- **Augmenter les données audio** (ajout de bruit, modification de la hauteur et de la vitesse).\n",
    "- **Padder ou tronquer les MFCCs** pour assurer une longueur fixe.\n",
    "- **Extraire les MFCCs** avec augmentation."
   ]
  },
  {
   "cell_type": "code",
   "execution_count": 28,
   "metadata": {},
   "outputs": [],
   "source": [
    "def augment_audio(audio, sr):\n",
    "    \"\"\"\n",
    "    Applique des augmentations sur l'audio : ajout de bruit, modification de la hauteur et de la vitesse.\n",
    "    \"\"\"\n",
    "    # Ajout de bruit\n",
    "    noise = np.random.randn(len(audio)) * 0.005\n",
    "    audio_with_noise = audio + noise\n",
    "\n",
    "    # Modifier la hauteur en fréquence\n",
    "    try:\n",
    "        pitch_factor = np.random.uniform(-5, 5)  # En demi-tons\n",
    "        audio_pitch_shifted = librosa.effects.pitch_shift(audio, sr=sr, n_steps=pitch_factor)\n",
    "    except:\n",
    "        audio_pitch_shifted = audio\n",
    "\n",
    "    # Modifier la vitesse\n",
    "    try:\n",
    "        audio_stretched = librosa.effects.time_stretch(audio, rate=np.random.uniform(0.8, 1.2))\n",
    "    except:\n",
    "        audio_stretched = audio\n",
    "\n",
    "    return [audio_with_noise, audio_pitch_shifted, audio_stretched]\n",
    "\n",
    "def pad_or_truncate_mfcc(mfccs, fixed_length):\n",
    "    \"\"\"\n",
    "    Ajuste la longueur des MFCCs (n_mfcc, T) à (n_mfcc, fixed_length)\n",
    "    - Tronque si T > fixed_length\n",
    "    - Ajoute du padding (zéros) si T < fixed_length\n",
    "    \"\"\"\n",
    "    length = mfccs.shape[1]\n",
    "    if length > fixed_length:\n",
    "        mfccs = mfccs[:, :fixed_length]\n",
    "    elif length < fixed_length:\n",
    "        pad_width = fixed_length - length\n",
    "        mfccs = np.pad(mfccs, ((0, 0), (0, pad_width)), mode='constant')\n",
    "    return mfccs\n",
    "\n",
    "def extract_features_with_augmentation(file_path, fixed_length, n_mfcc=40):\n",
    "    \"\"\"\n",
    "    Extrait les MFCCs d'un fichier audio avec augmentation de données.\n",
    "    \"\"\"\n",
    "    try:\n",
    "        audio, sr = librosa.load(file_path, duration=30)\n",
    "        mfccs = librosa.feature.mfcc(y=audio, sr=sr, n_mfcc=n_mfcc)\n",
    "        mfccs = pad_or_truncate_mfcc(mfccs, fixed_length)\n",
    "\n",
    "        # Augmentations\n",
    "        augmented_audios = augment_audio(audio, sr)\n",
    "        augmented_mfccs = []\n",
    "        for a in augmented_audios:\n",
    "            m = librosa.feature.mfcc(y=a, sr=sr, n_mfcc=n_mfcc)\n",
    "            m = pad_or_truncate_mfcc(m, fixed_length)\n",
    "            augmented_mfccs.append(m)\n",
    "\n",
    "        # On renvoie la liste (original + augmentations) directement sous forme (n_mfcc, T)\n",
    "        all_mfccs = [mfccs] + augmented_mfccs\n",
    "        return all_mfccs\n",
    "    except Exception as e:\n",
    "        print(f\"Erreur lors du traitement du fichier {file_path}: {e}\")\n",
    "        return []"
   ]
  },
  {
   "cell_type": "markdown",
   "metadata": {},
   "source": [
    "## Étape 3 : Définir la Fonction de Création des Modèles\n",
    "\n",
    "Nous allons définir une fonction qui crée différents types de modèles en fonction des hyperparamètres spécifiés."
   ]
  },
  {
   "cell_type": "code",
   "execution_count": 29,
   "metadata": {},
   "outputs": [],
   "source": [
    "def create_model(model_type, input_shape, num_classes, learning_rate=0.001):\n",
    "    \"\"\"\n",
    "    Crée un modèle de deep learning en fonction du type spécifié.\n",
    "    \"\"\"\n",
    "    model = Sequential()\n",
    "    \n",
    "    if model_type == 'CNN_2D_basic':\n",
    "        # Modèle CNN 2D de base avec padding 'same'\n",
    "        model.add(Conv2D(32, (3,3), activation='relu', padding='same', input_shape=input_shape))\n",
    "        model.add(BatchNormalization())\n",
    "        model.add(MaxPooling2D((2,2)))\n",
    "        model.add(Dropout(0.3))\n",
    "\n",
    "        model.add(Conv2D(64, (3,3), activation='relu', padding='same'))\n",
    "        model.add(BatchNormalization())\n",
    "        model.add(MaxPooling2D((2,2)))\n",
    "        model.add(Dropout(0.3))\n",
    "\n",
    "        model.add(Conv2D(128, (3,3), activation='relu', padding='same'))\n",
    "        model.add(BatchNormalization())\n",
    "        model.add(MaxPooling2D((2,2)))\n",
    "        model.add(Dropout(0.3))\n",
    "\n",
    "        model.add(Flatten())\n",
    "        model.add(Dense(256, activation='relu'))\n",
    "        model.add(BatchNormalization())\n",
    "        model.add(Dropout(0.3))\n",
    "        model.add(Dense(128, activation='relu'))\n",
    "        model.add(Dropout(0.3))\n",
    "        model.add(Dense(num_classes, activation='softmax'))\n",
    "    \n",
    "    elif model_type == 'CNN_2D_deep':\n",
    "        # Modèle CNN 2D plus profond avec padding 'same'\n",
    "        model.add(Conv2D(32, (3,3), activation='relu', padding='same', input_shape=input_shape))\n",
    "        model.add(BatchNormalization())\n",
    "        model.add(Conv2D(32, (3,3), activation='relu', padding='same'))\n",
    "        model.add(BatchNormalization())\n",
    "        model.add(MaxPooling2D((2,2)))\n",
    "        model.add(Dropout(0.3))\n",
    "\n",
    "        model.add(Conv2D(64, (3,3), activation='relu', padding='same'))\n",
    "        model.add(BatchNormalization())\n",
    "        model.add(Conv2D(64, (3,3), activation='relu', padding='same'))\n",
    "        model.add(BatchNormalization())\n",
    "        model.add(MaxPooling2D((2,2)))\n",
    "        model.add(Dropout(0.3))\n",
    "\n",
    "        model.add(Conv2D(128, (3,3), activation='relu', padding='same'))\n",
    "        model.add(BatchNormalization())\n",
    "        model.add(Conv2D(128, (3,3), activation='relu', padding='same'))\n",
    "        model.add(BatchNormalization())\n",
    "        model.add(MaxPooling2D((2,2)))\n",
    "        model.add(Dropout(0.3))\n",
    "\n",
    "        model.add(Flatten())\n",
    "        model.add(Dense(512, activation='relu'))\n",
    "        model.add(BatchNormalization())\n",
    "        model.add(Dropout(0.4))\n",
    "        model.add(Dense(256, activation='relu'))\n",
    "        model.add(Dropout(0.4))\n",
    "        model.add(Dense(num_classes, activation='softmax'))\n",
    "    \n",
    "    elif model_type == 'CRNN':\n",
    "        # Modèle Convolutional Recurrent Neural Network avec padding 'same'\n",
    "        model.add(Conv2D(32, (3,3), activation='relu', padding='same', input_shape=input_shape))\n",
    "        model.add(BatchNormalization())\n",
    "        model.add(MaxPooling2D((2,2)))\n",
    "        model.add(Dropout(0.3))\n",
    "\n",
    "        model.add(Conv2D(64, (3,3), activation='relu', padding='same'))\n",
    "        model.add(BatchNormalization())\n",
    "        model.add(MaxPooling2D((2,2)))\n",
    "        model.add(Dropout(0.3))\n",
    "\n",
    "        model.add(TimeDistributed(Flatten()))\n",
    "        model.add(LSTM(128, return_sequences=True))\n",
    "        model.add(Dropout(0.3))\n",
    "        model.add(LSTM(64))\n",
    "        model.add(Dropout(0.3))\n",
    "        model.add(Dense(num_classes, activation='softmax'))\n",
    "    \n",
    "    elif model_type == 'CNN_1D':\n",
    "        # Modèle CNN 1D avec padding 'same'\n",
    "        model.add(Conv2D(32, (3,3), activation='relu', padding='same', input_shape=input_shape))\n",
    "        model.add(Flatten())\n",
    "        model.add(Dense(128, activation='relu'))\n",
    "        model.add(Dropout(0.3))\n",
    "        model.add(Dense(num_classes, activation='softmax'))\n",
    "    \n",
    "    elif model_type == 'RNN_LSTM':\n",
    "        # Modèle avec couches LSTM\n",
    "        # Reshape pour LSTM : (N, T, n_mfcc)\n",
    "        model.add(Flatten(input_shape=input_shape))  # Convertir en séquence pour LSTM\n",
    "        model.add(Dense(256, activation='relu'))\n",
    "        model.add(Dropout(0.3))\n",
    "        model.add(LSTM(128, return_sequences=True))\n",
    "        model.add(Dropout(0.3))\n",
    "        model.add(LSTM(64))\n",
    "        model.add(Dropout(0.3))\n",
    "        model.add(Dense(num_classes, activation='softmax'))\n",
    "    \n",
    "    elif model_type == 'RNN_GRU':\n",
    "        # Modèle avec couches GRU\n",
    "        # Reshape pour GRU : (N, T, n_mfcc)\n",
    "        model.add(Flatten(input_shape=input_shape))  # Convertir en séquence pour GRU\n",
    "        model.add(Dense(256, activation='relu'))\n",
    "        model.add(Dropout(0.3))\n",
    "        model.add(GRU(128, return_sequences=True))\n",
    "        model.add(Dropout(0.3))\n",
    "        model.add(GRU(64))\n",
    "        model.add(Dropout(0.3))\n",
    "        model.add(Dense(num_classes, activation='softmax'))\n",
    "    \n",
    "    else:\n",
    "        raise ValueError(f\"Type de modèle inconnu: {model_type}\")\n",
    "\n",
    "    # Compilation du modèle\n",
    "    optimizer = Adam(learning_rate=learning_rate)\n",
    "    model.compile(optimizer=optimizer, loss='categorical_crossentropy', metrics=['accuracy'])\n",
    "    \n",
    "    return model\n"
   ]
  },
  {
   "cell_type": "markdown",
   "metadata": {},
   "source": [
    "## Étape 4 : Définir la Fonction de Téléchargement Audio depuis YouTube\n",
    "\n",
    "Cette fonction permet de télécharger un fichier audio depuis une URL YouTube pour tester les prédictions."
   ]
  },
  {
   "cell_type": "code",
   "execution_count": 30,
   "metadata": {},
   "outputs": [],
   "source": [
    "def download_youtube_audio(youtube_url, output_path=\"downloaded_audio.wav\"):\n",
    "    \"\"\"\n",
    "    Télécharge l'audio d'une vidéo YouTube et le sauvegarde en fichier WAV.\n",
    "    \"\"\"\n",
    "    ydl_opts = {\n",
    "        'format': 'bestaudio/best',\n",
    "        'outtmpl': 'temp_audio.%(ext)s',\n",
    "        'postprocessors': [{\n",
    "            'key': 'FFmpegExtractAudio',\n",
    "            'preferredcodec': 'wav',\n",
    "            'preferredquality': '192',\n",
    "        }],\n",
    "    }\n",
    "\n",
    "    # Télécharger l'audio\n",
    "    with youtube_dl.YoutubeDL(ydl_opts) as ydl:\n",
    "        ydl.download([youtube_url])\n",
    "\n",
    "    # Renommer le fichier pour l'utiliser\n",
    "    if os.path.exists(\"temp_audio.wav\"):\n",
    "        os.rename(\"temp_audio.wav\", output_path)\n",
    "        print(f\"Audio téléchargé et sauvegardé sous : {output_path}\")\n",
    "    else:\n",
    "        print(\"Erreur lors du téléchargement.\")\n"
   ]
  },
  {
   "cell_type": "markdown",
   "metadata": {},
   "source": [
    "## Étape 5 : Initialiser les Hyperparamètres\n",
    "\n",
    "Définissons les différentes valeurs des hyperparamètres que nous allons tester."
   ]
  },
  {
   "cell_type": "code",
   "execution_count": 31,
   "metadata": {},
   "outputs": [],
   "source": [
    "# Définition des hyperparamètres à tester\n",
    "batch_sizes = [16, 32, 64]\n",
    "epochs_list = [20, 50, 100]\n",
    "learning_rates = [0.001, 0.0001, 0.00001]\n",
    "model_types = ['CNN_2D_basic', 'CNN_2D_deep', 'CRNN', 'RNN_LSTM', 'RNN_GRU']  # Ajouter d'autres modèles si nécessaire\n",
    "n_mfcc_values = [20, 40, 60]  # \"token size\" interprété comme nombre de MFCCs\n",
    "\n",
    "# Préparation du tableau de résultats\n",
    "results = []\n",
    "\n",
    "# Créer un répertoire pour sauvegarder les modèles\n",
    "os.makedirs('models', exist_ok=True)\n"
   ]
  },
  {
   "cell_type": "markdown",
   "metadata": {},
   "source": [
    "## Étape 6 : Charger et Prétraiter les Données\n",
    "\n",
    "Pour chaque valeur de `n_mfcc`, nous chargerons et prétraiterons les données audio avec augmentation."
   ]
  },
  {
   "cell_type": "code",
   "execution_count": 32,
   "metadata": {},
   "outputs": [],
   "source": [
    "def load_audio_features_with_augmentation(data_path, fixed_length, n_mfcc=40):\n",
    "    \"\"\"\n",
    "    Charge les features audio avec augmentation et ajuste les MFCCs à une longueur fixe.\n",
    "    \"\"\"\n",
    "    genres = os.listdir(data_path)\n",
    "    X_list = []\n",
    "    y_list = []\n",
    "\n",
    "    for genre in genres:\n",
    "        genre_path = os.path.join(data_path, genre)\n",
    "        for file_name in os.listdir(genre_path):\n",
    "            file_path = os.path.join(genre_path, file_name)\n",
    "            mfccs_list = extract_features_with_augmentation(file_path, fixed_length=fixed_length, n_mfcc=n_mfcc)\n",
    "            for m in mfccs_list:\n",
    "                # m est de forme (n_mfcc, fixed_length)\n",
    "                X_list.append(m)\n",
    "                y_list.append(genre)\n",
    "\n",
    "    X = np.array(X_list)  # X: (N, n_mfcc, fixed_length)\n",
    "    y = np.array(y_list)\n",
    "\n",
    "    # Ajout de la dimension \"canal\" pour le CNN 2D : (N, n_mfcc, fixed_length, 1)\n",
    "    X = X[..., np.newaxis]\n",
    "    return X, y\n"
   ]
  },
  {
   "cell_type": "markdown",
   "metadata": {},
   "source": [
    "## Étape 7 : Itérer sur les Combinaisons d'Hyperparamètres et Entraîner les Modèles\n",
    "\n",
    "Nous allons maintenant itérer sur toutes les combinaisons possibles d'hyperparamètres et de types de modèles, entraîner chaque modèle, évaluer ses performances, et enregistrer les résultats."
   ]
  },
  {
   "cell_type": "code",
   "execution_count": 33,
   "metadata": {},
   "outputs": [],
   "source": [
    "def model_exists(n_mfcc, model_type, batch_size, epochs, lr):\n",
    "    \"\"\"\n",
    "    Vérifie si le modèle avec les hyperparamètres spécifiés existe déjà.\n",
    "    \"\"\"\n",
    "    model_save_path = f\"models/n_mfcc_{n_mfcc}/{model_type}_bs{batch_size}_ep{epochs}_lr{lr}.keras\"\n",
    "    return os.path.exists(model_save_path)"
   ]
  },
  {
   "cell_type": "code",
   "execution_count": 34,
   "metadata": {},
   "outputs": [
    {
     "name": "stdout",
     "output_type": "stream",
     "text": [
      "\n",
      "Traitement pour n_mfcc = 20\n"
     ]
    },
    {
     "name": "stderr",
     "output_type": "stream",
     "text": [
      "/var/folders/g9/jzqz957j1slb_dkhyp9fl5_w0000gn/T/ipykernel_35556/1932264053.py:43: UserWarning: PySoundFile failed. Trying audioread instead.\n",
      "  audio, sr = librosa.load(file_path, duration=30)\n",
      "/Users/mathisgorvien/conda_envs/ia_deeplearning/lib/python3.9/site-packages/librosa/core/audio.py:184: FutureWarning: librosa.core.audio.__audioread_load\n",
      "\tDeprecated as of librosa version 0.10.0.\n",
      "\tIt will be removed in librosa version 1.0.\n",
      "  y, sr_native = __audioread_load(path, offset, duration, dtype)\n"
     ]
    },
    {
     "name": "stdout",
     "output_type": "stream",
     "text": [
      "Erreur lors du traitement du fichier Data/genres_original/jazz/jazz.00054.wav: \n",
      "Shape des données: X=(3996, 20, 1293, 1), y=(3996,)\n",
      "Entraînement du modèle: CNN_2D_basic, Batch Size: 16, Epochs: 20, Learning Rate: 0.001\n"
     ]
    },
    {
     "name": "stderr",
     "output_type": "stream",
     "text": [
      "/Users/mathisgorvien/conda_envs/ia_deeplearning/lib/python3.9/site-packages/keras/src/layers/convolutional/base_conv.py:107: UserWarning: Do not pass an `input_shape`/`input_dim` argument to a layer. When using Sequential models, prefer using an `Input(shape)` object as the first layer in the model instead.\n",
      "  super().__init__(activity_regularizer=activity_regularizer, **kwargs)\n"
     ]
    },
    {
     "name": "stdout",
     "output_type": "stream",
     "text": [
      "Epoch 1/20\n"
     ]
    },
    {
     "name": "stderr",
     "output_type": "stream",
     "text": [
      "2024-12-09 22:35:35.138633: E tensorflow/core/grappler/optimizers/meta_optimizer.cc:961] PluggableGraphOptimizer failed: INVALID_ARGUMENT: Failed to deserialize the `graph_buf`.\n"
     ]
    },
    {
     "name": "stdout",
     "output_type": "stream",
     "text": [
      "\u001b[1m160/160\u001b[0m \u001b[32m━━━━━━━━━━━━━━━━━━━━\u001b[0m\u001b[37m\u001b[0m \u001b[1m0s\u001b[0m 70ms/step - accuracy: 0.2367 - loss: 2.4252\n",
      "Epoch 1: val_accuracy improved from -inf to 0.10938, saving model to models/n_mfcc_20/CNN_2D_basic_bs16_ep20_lr0.001.keras\n",
      "\u001b[1m160/160\u001b[0m \u001b[32m━━━━━━━━━━━━━━━━━━━━\u001b[0m\u001b[37m\u001b[0m \u001b[1m15s\u001b[0m 77ms/step - accuracy: 0.2371 - loss: 2.4235 - val_accuracy: 0.1094 - val_loss: 3.3632\n",
      "Epoch 2/20\n",
      "\u001b[1m160/160\u001b[0m \u001b[32m━━━━━━━━━━━━━━━━━━━━\u001b[0m\u001b[37m\u001b[0m \u001b[1m0s\u001b[0m 69ms/step - accuracy: 0.3681 - loss: 1.8434\n",
      "Epoch 2: val_accuracy did not improve from 0.10938\n",
      "\u001b[1m160/160\u001b[0m \u001b[32m━━━━━━━━━━━━━━━━━━━━\u001b[0m\u001b[37m\u001b[0m \u001b[1m12s\u001b[0m 72ms/step - accuracy: 0.3683 - loss: 1.8427 - val_accuracy: 0.1094 - val_loss: 4.4375\n",
      "Epoch 3/20\n",
      "\u001b[1m160/160\u001b[0m \u001b[32m━━━━━━━━━━━━━━━━━━━━\u001b[0m\u001b[37m\u001b[0m \u001b[1m0s\u001b[0m 71ms/step - accuracy: 0.4536 - loss: 1.5614\n",
      "Epoch 3: val_accuracy did not improve from 0.10938\n",
      "\u001b[1m160/160\u001b[0m \u001b[32m━━━━━━━━━━━━━━━━━━━━\u001b[0m\u001b[37m\u001b[0m \u001b[1m12s\u001b[0m 74ms/step - accuracy: 0.4537 - loss: 1.5613 - val_accuracy: 0.1094 - val_loss: 3.5908\n",
      "Epoch 4/20\n",
      "\u001b[1m160/160\u001b[0m \u001b[32m━━━━━━━━━━━━━━━━━━━━\u001b[0m\u001b[37m\u001b[0m \u001b[1m0s\u001b[0m 69ms/step - accuracy: 0.5240 - loss: 1.3066\n",
      "Epoch 4: val_accuracy improved from 0.10938 to 0.26719, saving model to models/n_mfcc_20/CNN_2D_basic_bs16_ep20_lr0.001.keras\n",
      "\u001b[1m160/160\u001b[0m \u001b[32m━━━━━━━━━━━━━━━━━━━━\u001b[0m\u001b[37m\u001b[0m \u001b[1m12s\u001b[0m 74ms/step - accuracy: 0.5240 - loss: 1.3067 - val_accuracy: 0.2672 - val_loss: 2.4233\n",
      "Epoch 5/20\n",
      "\u001b[1m160/160\u001b[0m \u001b[32m━━━━━━━━━━━━━━━━━━━━\u001b[0m\u001b[37m\u001b[0m \u001b[1m0s\u001b[0m 70ms/step - accuracy: 0.5672 - loss: 1.2014\n",
      "Epoch 5: val_accuracy improved from 0.26719 to 0.52656, saving model to models/n_mfcc_20/CNN_2D_basic_bs16_ep20_lr0.001.keras\n",
      "\u001b[1m160/160\u001b[0m \u001b[32m━━━━━━━━━━━━━━━━━━━━\u001b[0m\u001b[37m\u001b[0m \u001b[1m12s\u001b[0m 75ms/step - accuracy: 0.5673 - loss: 1.2013 - val_accuracy: 0.5266 - val_loss: 1.3602\n",
      "Epoch 6/20\n",
      "\u001b[1m160/160\u001b[0m \u001b[32m━━━━━━━━━━━━━━━━━━━━\u001b[0m\u001b[37m\u001b[0m \u001b[1m0s\u001b[0m 71ms/step - accuracy: 0.6514 - loss: 1.0154\n",
      "Epoch 6: val_accuracy did not improve from 0.52656\n",
      "\u001b[1m160/160\u001b[0m \u001b[32m━━━━━━━━━━━━━━━━━━━━\u001b[0m\u001b[37m\u001b[0m \u001b[1m12s\u001b[0m 74ms/step - accuracy: 0.6515 - loss: 1.0153 - val_accuracy: 0.4172 - val_loss: 1.9003\n",
      "Epoch 7/20\n",
      "\u001b[1m160/160\u001b[0m \u001b[32m━━━━━━━━━━━━━━━━━━━━\u001b[0m\u001b[37m\u001b[0m \u001b[1m0s\u001b[0m 70ms/step - accuracy: 0.7406 - loss: 0.8023\n",
      "Epoch 7: val_accuracy improved from 0.52656 to 0.56875, saving model to models/n_mfcc_20/CNN_2D_basic_bs16_ep20_lr0.001.keras\n",
      "\u001b[1m160/160\u001b[0m \u001b[32m━━━━━━━━━━━━━━━━━━━━\u001b[0m\u001b[37m\u001b[0m \u001b[1m12s\u001b[0m 75ms/step - accuracy: 0.7405 - loss: 0.8022 - val_accuracy: 0.5688 - val_loss: 1.3309\n",
      "Epoch 8/20\n",
      "\u001b[1m160/160\u001b[0m \u001b[32m━━━━━━━━━━━━━━━━━━━━\u001b[0m\u001b[37m\u001b[0m \u001b[1m0s\u001b[0m 68ms/step - accuracy: 0.6868 - loss: 0.9164\n",
      "Epoch 8: val_accuracy did not improve from 0.56875\n",
      "\u001b[1m160/160\u001b[0m \u001b[32m━━━━━━━━━━━━━━━━━━━━\u001b[0m\u001b[37m\u001b[0m \u001b[1m11s\u001b[0m 71ms/step - accuracy: 0.6868 - loss: 0.9164 - val_accuracy: 0.2734 - val_loss: 3.0301\n",
      "Epoch 9/20\n",
      "\u001b[1m160/160\u001b[0m \u001b[32m━━━━━━━━━━━━━━━━━━━━\u001b[0m\u001b[37m\u001b[0m \u001b[1m0s\u001b[0m 66ms/step - accuracy: 0.7257 - loss: 0.8589\n",
      "Epoch 9: val_accuracy improved from 0.56875 to 0.69063, saving model to models/n_mfcc_20/CNN_2D_basic_bs16_ep20_lr0.001.keras\n",
      "\u001b[1m160/160\u001b[0m \u001b[32m━━━━━━━━━━━━━━━━━━━━\u001b[0m\u001b[37m\u001b[0m \u001b[1m11s\u001b[0m 71ms/step - accuracy: 0.7257 - loss: 0.8587 - val_accuracy: 0.6906 - val_loss: 0.8840\n",
      "Epoch 10/20\n",
      "\u001b[1m160/160\u001b[0m \u001b[32m━━━━━━━━━━━━━━━━━━━━\u001b[0m\u001b[37m\u001b[0m \u001b[1m0s\u001b[0m 66ms/step - accuracy: 0.7886 - loss: 0.6359\n",
      "Epoch 10: val_accuracy did not improve from 0.69063\n",
      "\u001b[1m160/160\u001b[0m \u001b[32m━━━━━━━━━━━━━━━━━━━━\u001b[0m\u001b[37m\u001b[0m \u001b[1m11s\u001b[0m 69ms/step - accuracy: 0.7886 - loss: 0.6358 - val_accuracy: 0.4437 - val_loss: 1.7598\n",
      "Epoch 11/20\n",
      "\u001b[1m160/160\u001b[0m \u001b[32m━━━━━━━━━━━━━━━━━━━━\u001b[0m\u001b[37m\u001b[0m \u001b[1m0s\u001b[0m 68ms/step - accuracy: 0.8248 - loss: 0.5554\n",
      "Epoch 11: val_accuracy did not improve from 0.69063\n",
      "\u001b[1m160/160\u001b[0m \u001b[32m━━━━━━━━━━━━━━━━━━━━\u001b[0m\u001b[37m\u001b[0m \u001b[1m11s\u001b[0m 71ms/step - accuracy: 0.8249 - loss: 0.5552 - val_accuracy: 0.6531 - val_loss: 1.1223\n",
      "Epoch 12/20\n",
      "\u001b[1m160/160\u001b[0m \u001b[32m━━━━━━━━━━━━━━━━━━━━\u001b[0m\u001b[37m\u001b[0m \u001b[1m0s\u001b[0m 67ms/step - accuracy: 0.8670 - loss: 0.4002\n",
      "Epoch 12: val_accuracy improved from 0.69063 to 0.77344, saving model to models/n_mfcc_20/CNN_2D_basic_bs16_ep20_lr0.001.keras\n",
      "\u001b[1m160/160\u001b[0m \u001b[32m━━━━━━━━━━━━━━━━━━━━\u001b[0m\u001b[37m\u001b[0m \u001b[1m11s\u001b[0m 71ms/step - accuracy: 0.8670 - loss: 0.4000 - val_accuracy: 0.7734 - val_loss: 0.7113\n",
      "Epoch 13/20\n",
      "\u001b[1m160/160\u001b[0m \u001b[32m━━━━━━━━━━━━━━━━━━━━\u001b[0m\u001b[37m\u001b[0m \u001b[1m0s\u001b[0m 67ms/step - accuracy: 0.8475 - loss: 0.4587\n",
      "Epoch 13: val_accuracy did not improve from 0.77344\n",
      "\u001b[1m160/160\u001b[0m \u001b[32m━━━━━━━━━━━━━━━━━━━━\u001b[0m\u001b[37m\u001b[0m \u001b[1m11s\u001b[0m 70ms/step - accuracy: 0.8474 - loss: 0.4588 - val_accuracy: 0.5562 - val_loss: 1.5991\n",
      "Epoch 14/20\n",
      "\u001b[1m160/160\u001b[0m \u001b[32m━━━━━━━━━━━━━━━━━━━━\u001b[0m\u001b[37m\u001b[0m \u001b[1m0s\u001b[0m 65ms/step - accuracy: 0.8705 - loss: 0.3760\n",
      "Epoch 14: val_accuracy did not improve from 0.77344\n",
      "\u001b[1m160/160\u001b[0m \u001b[32m━━━━━━━━━━━━━━━━━━━━\u001b[0m\u001b[37m\u001b[0m \u001b[1m11s\u001b[0m 68ms/step - accuracy: 0.8706 - loss: 0.3759 - val_accuracy: 0.7578 - val_loss: 0.7701\n",
      "Epoch 15/20\n",
      "\u001b[1m160/160\u001b[0m \u001b[32m━━━━━━━━━━━━━━━━━━━━\u001b[0m\u001b[37m\u001b[0m \u001b[1m0s\u001b[0m 65ms/step - accuracy: 0.9172 - loss: 0.2414\n",
      "Epoch 15: val_accuracy did not improve from 0.77344\n",
      "\u001b[1m160/160\u001b[0m \u001b[32m━━━━━━━━━━━━━━━━━━━━\u001b[0m\u001b[37m\u001b[0m \u001b[1m11s\u001b[0m 68ms/step - accuracy: 0.9172 - loss: 0.2414 - val_accuracy: 0.7469 - val_loss: 0.9215\n",
      "Epoch 16/20\n",
      "\u001b[1m160/160\u001b[0m \u001b[32m━━━━━━━━━━━━━━━━━━━━\u001b[0m\u001b[37m\u001b[0m \u001b[1m0s\u001b[0m 67ms/step - accuracy: 0.9341 - loss: 0.1899\n",
      "Epoch 16: val_accuracy did not improve from 0.77344\n",
      "\u001b[1m160/160\u001b[0m \u001b[32m━━━━━━━━━━━━━━━━━━━━\u001b[0m\u001b[37m\u001b[0m \u001b[1m11s\u001b[0m 70ms/step - accuracy: 0.9341 - loss: 0.1898 - val_accuracy: 0.7516 - val_loss: 0.8389\n",
      "Epoch 17/20\n",
      "\u001b[1m160/160\u001b[0m \u001b[32m━━━━━━━━━━━━━━━━━━━━\u001b[0m\u001b[37m\u001b[0m \u001b[1m0s\u001b[0m 66ms/step - accuracy: 0.9571 - loss: 0.1390\n",
      "Epoch 17: val_accuracy improved from 0.77344 to 0.79688, saving model to models/n_mfcc_20/CNN_2D_basic_bs16_ep20_lr0.001.keras\n",
      "\u001b[1m160/160\u001b[0m \u001b[32m━━━━━━━━━━━━━━━━━━━━\u001b[0m\u001b[37m\u001b[0m \u001b[1m11s\u001b[0m 71ms/step - accuracy: 0.9571 - loss: 0.1391 - val_accuracy: 0.7969 - val_loss: 0.7247\n"
     ]
    },
    {
     "name": "stderr",
     "output_type": "stream",
     "text": [
      "2024-12-09 22:38:53.445975: E tensorflow/core/grappler/optimizers/meta_optimizer.cc:961] PluggableGraphOptimizer failed: INVALID_ARGUMENT: Failed to deserialize the `graph_buf`.\n"
     ]
    },
    {
     "name": "stdout",
     "output_type": "stream",
     "text": [
      "\u001b[1m25/25\u001b[0m \u001b[32m━━━━━━━━━━━━━━━━━━━━\u001b[0m\u001b[37m\u001b[0m \u001b[1m1s\u001b[0m 15ms/step\n",
      "Résultat: {'n_mfcc': 20, 'model_type': 'CNN_2D_basic', 'batch_size': 16, 'epochs': 20, 'learning_rate': 0.001, 'accuracy': 0.7724999785423279, 'loss': 0.6713155508041382, 'validation_accuracy': 0.796875, 'validation_loss': 0.7112526297569275, 'precision': 0.8083635222276893, 'recall': 0.7725, 'f1_score': 0.7717869135559894}\n",
      "Résultats sauvegardés dans 'model_results.csv'.\n",
      "Entraînement du modèle: CNN_2D_basic, Batch Size: 16, Epochs: 20, Learning Rate: 0.0001\n"
     ]
    },
    {
     "name": "stderr",
     "output_type": "stream",
     "text": [
      "/Users/mathisgorvien/conda_envs/ia_deeplearning/lib/python3.9/site-packages/keras/src/layers/convolutional/base_conv.py:107: UserWarning: Do not pass an `input_shape`/`input_dim` argument to a layer. When using Sequential models, prefer using an `Input(shape)` object as the first layer in the model instead.\n",
      "  super().__init__(activity_regularizer=activity_regularizer, **kwargs)\n"
     ]
    },
    {
     "name": "stdout",
     "output_type": "stream",
     "text": [
      "Epoch 1/20\n",
      "\u001b[1m160/160\u001b[0m \u001b[32m━━━━━━━━━━━━━━━━━━━━\u001b[0m\u001b[37m\u001b[0m \u001b[1m0s\u001b[0m 69ms/step - accuracy: 0.1844 - loss: 2.4199\n",
      "Epoch 1: val_accuracy improved from -inf to 0.08125, saving model to models/n_mfcc_20/CNN_2D_basic_bs16_ep20_lr0.0001.keras\n",
      "\u001b[1m160/160\u001b[0m \u001b[32m━━━━━━━━━━━━━━━━━━━━\u001b[0m\u001b[37m\u001b[0m \u001b[1m18s\u001b[0m 77ms/step - accuracy: 0.1848 - loss: 2.4185 - val_accuracy: 0.0812 - val_loss: 6.2490\n",
      "Epoch 2/20\n",
      "\u001b[1m160/160\u001b[0m \u001b[32m━━━━━━━━━━━━━━━━━━━━\u001b[0m\u001b[37m\u001b[0m \u001b[1m0s\u001b[0m 67ms/step - accuracy: 0.3411 - loss: 1.8784\n",
      "Epoch 2: val_accuracy improved from 0.08125 to 0.09219, saving model to models/n_mfcc_20/CNN_2D_basic_bs16_ep20_lr0.0001.keras\n",
      "\u001b[1m160/160\u001b[0m \u001b[32m━━━━━━━━━━━━━━━━━━━━\u001b[0m\u001b[37m\u001b[0m \u001b[1m12s\u001b[0m 71ms/step - accuracy: 0.3412 - loss: 1.8781 - val_accuracy: 0.0922 - val_loss: 9.8178\n",
      "Epoch 3/20\n",
      "\u001b[1m160/160\u001b[0m \u001b[32m━━━━━━━━━━━━━━━━━━━━\u001b[0m\u001b[37m\u001b[0m \u001b[1m0s\u001b[0m 66ms/step - accuracy: 0.4297 - loss: 1.6416\n",
      "Epoch 3: val_accuracy did not improve from 0.09219\n",
      "\u001b[1m160/160\u001b[0m \u001b[32m━━━━━━━━━━━━━━━━━━━━\u001b[0m\u001b[37m\u001b[0m \u001b[1m11s\u001b[0m 69ms/step - accuracy: 0.4298 - loss: 1.6413 - val_accuracy: 0.0859 - val_loss: 12.9729\n",
      "Epoch 4/20\n",
      "\u001b[1m160/160\u001b[0m \u001b[32m━━━━━━━━━━━━━━━━━━━━\u001b[0m\u001b[37m\u001b[0m \u001b[1m0s\u001b[0m 67ms/step - accuracy: 0.5087 - loss: 1.4250\n",
      "Epoch 4: val_accuracy improved from 0.09219 to 0.11875, saving model to models/n_mfcc_20/CNN_2D_basic_bs16_ep20_lr0.0001.keras\n",
      "\u001b[1m160/160\u001b[0m \u001b[32m━━━━━━━━━━━━━━━━━━━━\u001b[0m\u001b[37m\u001b[0m \u001b[1m11s\u001b[0m 70ms/step - accuracy: 0.5086 - loss: 1.4250 - val_accuracy: 0.1187 - val_loss: 11.6323\n",
      "Epoch 5/20\n",
      "\u001b[1m160/160\u001b[0m \u001b[32m━━━━━━━━━━━━━━━━━━━━\u001b[0m\u001b[37m\u001b[0m \u001b[1m0s\u001b[0m 67ms/step - accuracy: 0.5410 - loss: 1.3501\n",
      "Epoch 5: val_accuracy improved from 0.11875 to 0.17969, saving model to models/n_mfcc_20/CNN_2D_basic_bs16_ep20_lr0.0001.keras\n",
      "\u001b[1m160/160\u001b[0m \u001b[32m━━━━━━━━━━━━━━━━━━━━\u001b[0m\u001b[37m\u001b[0m \u001b[1m11s\u001b[0m 71ms/step - accuracy: 0.5410 - loss: 1.3500 - val_accuracy: 0.1797 - val_loss: 7.2425\n",
      "Epoch 6/20\n",
      "\u001b[1m160/160\u001b[0m \u001b[32m━━━━━━━━━━━━━━━━━━━━\u001b[0m\u001b[37m\u001b[0m \u001b[1m0s\u001b[0m 67ms/step - accuracy: 0.6237 - loss: 1.1520\n",
      "Epoch 6: val_accuracy improved from 0.17969 to 0.23906, saving model to models/n_mfcc_20/CNN_2D_basic_bs16_ep20_lr0.0001.keras\n",
      "\u001b[1m160/160\u001b[0m \u001b[32m━━━━━━━━━━━━━━━━━━━━\u001b[0m\u001b[37m\u001b[0m \u001b[1m11s\u001b[0m 72ms/step - accuracy: 0.6237 - loss: 1.1521 - val_accuracy: 0.2391 - val_loss: 6.8053\n"
     ]
    },
    {
     "name": "stderr",
     "output_type": "stream",
     "text": [
      "2024-12-09 22:40:09.920183: E tensorflow/core/grappler/optimizers/meta_optimizer.cc:961] PluggableGraphOptimizer failed: INVALID_ARGUMENT: Failed to deserialize the `graph_buf`.\n"
     ]
    },
    {
     "name": "stdout",
     "output_type": "stream",
     "text": [
      "\u001b[1m25/25\u001b[0m \u001b[32m━━━━━━━━━━━━━━━━━━━━\u001b[0m\u001b[37m\u001b[0m \u001b[1m1s\u001b[0m 15ms/step\n",
      "Résultat: {'n_mfcc': 20, 'model_type': 'CNN_2D_basic', 'batch_size': 16, 'epochs': 20, 'learning_rate': 0.0001, 'accuracy': 0.12125000357627869, 'loss': 6.095724105834961, 'validation_accuracy': 0.23906250298023224, 'validation_loss': 6.24904727935791, 'precision': 0.014701562500000001, 'recall': 0.12125, 'f1_score': 0.026223522853957636}\n",
      "Résultats sauvegardés dans 'model_results.csv'.\n",
      "Entraînement du modèle: CNN_2D_basic, Batch Size: 16, Epochs: 20, Learning Rate: 1e-05\n"
     ]
    },
    {
     "name": "stderr",
     "output_type": "stream",
     "text": [
      "/Users/mathisgorvien/conda_envs/ia_deeplearning/lib/python3.9/site-packages/keras/src/layers/convolutional/base_conv.py:107: UserWarning: Do not pass an `input_shape`/`input_dim` argument to a layer. When using Sequential models, prefer using an `Input(shape)` object as the first layer in the model instead.\n",
      "  super().__init__(activity_regularizer=activity_regularizer, **kwargs)\n"
     ]
    },
    {
     "name": "stdout",
     "output_type": "stream",
     "text": [
      "Epoch 1/20\n",
      "\u001b[1m160/160\u001b[0m \u001b[32m━━━━━━━━━━━━━━━━━━━━\u001b[0m\u001b[37m\u001b[0m \u001b[1m0s\u001b[0m 68ms/step - accuracy: 0.1329 - loss: 2.8908\n",
      "Epoch 1: val_accuracy improved from -inf to 0.10000, saving model to models/n_mfcc_20/CNN_2D_basic_bs16_ep20_lr1e-05.keras\n",
      "\u001b[1m160/160\u001b[0m \u001b[32m━━━━━━━━━━━━━━━━━━━━\u001b[0m\u001b[37m\u001b[0m \u001b[1m15s\u001b[0m 75ms/step - accuracy: 0.1331 - loss: 2.8899 - val_accuracy: 0.1000 - val_loss: 2.6655\n",
      "Epoch 2/20\n",
      "\u001b[1m160/160\u001b[0m \u001b[32m━━━━━━━━━━━━━━━━━━━━\u001b[0m\u001b[37m\u001b[0m \u001b[1m0s\u001b[0m 65ms/step - accuracy: 0.2034 - loss: 2.4486\n",
      "Epoch 2: val_accuracy improved from 0.10000 to 0.11563, saving model to models/n_mfcc_20/CNN_2D_basic_bs16_ep20_lr1e-05.keras\n",
      "\u001b[1m160/160\u001b[0m \u001b[32m━━━━━━━━━━━━━━━━━━━━\u001b[0m\u001b[37m\u001b[0m \u001b[1m11s\u001b[0m 69ms/step - accuracy: 0.2034 - loss: 2.4485 - val_accuracy: 0.1156 - val_loss: 3.5124\n",
      "Epoch 3/20\n",
      "\u001b[1m160/160\u001b[0m \u001b[32m━━━━━━━━━━━━━━━━━━━━\u001b[0m\u001b[37m\u001b[0m \u001b[1m0s\u001b[0m 66ms/step - accuracy: 0.2382 - loss: 2.3347\n",
      "Epoch 3: val_accuracy did not improve from 0.11563\n",
      "\u001b[1m160/160\u001b[0m \u001b[32m━━━━━━━━━━━━━━━━━━━━\u001b[0m\u001b[37m\u001b[0m \u001b[1m11s\u001b[0m 69ms/step - accuracy: 0.2382 - loss: 2.3345 - val_accuracy: 0.0984 - val_loss: 4.5537\n",
      "Epoch 4/20\n",
      "\u001b[1m160/160\u001b[0m \u001b[32m━━━━━━━━━━━━━━━━━━━━\u001b[0m\u001b[37m\u001b[0m \u001b[1m0s\u001b[0m 68ms/step - accuracy: 0.2603 - loss: 2.1768\n",
      "Epoch 4: val_accuracy did not improve from 0.11563\n",
      "\u001b[1m160/160\u001b[0m \u001b[32m━━━━━━━━━━━━━━━━━━━━\u001b[0m\u001b[37m\u001b[0m \u001b[1m11s\u001b[0m 71ms/step - accuracy: 0.2603 - loss: 2.1767 - val_accuracy: 0.0609 - val_loss: 3.9599\n",
      "Epoch 5/20\n",
      "\u001b[1m160/160\u001b[0m \u001b[32m━━━━━━━━━━━━━━━━━━━━\u001b[0m\u001b[37m\u001b[0m \u001b[1m0s\u001b[0m 66ms/step - accuracy: 0.2943 - loss: 2.0765\n",
      "Epoch 5: val_accuracy did not improve from 0.11563\n",
      "\u001b[1m160/160\u001b[0m \u001b[32m━━━━━━━━━━━━━━━━━━━━\u001b[0m\u001b[37m\u001b[0m \u001b[1m11s\u001b[0m 69ms/step - accuracy: 0.2943 - loss: 2.0765 - val_accuracy: 0.0781 - val_loss: 3.2722\n",
      "Epoch 6/20\n",
      "\u001b[1m160/160\u001b[0m \u001b[32m━━━━━━━━━━━━━━━━━━━━\u001b[0m\u001b[37m\u001b[0m \u001b[1m0s\u001b[0m 66ms/step - accuracy: 0.3107 - loss: 1.9966\n",
      "Epoch 6: val_accuracy did not improve from 0.11563\n",
      "\u001b[1m160/160\u001b[0m \u001b[32m━━━━━━━━━━━━━━━━━━━━\u001b[0m\u001b[37m\u001b[0m \u001b[1m11s\u001b[0m 69ms/step - accuracy: 0.3107 - loss: 1.9967 - val_accuracy: 0.0984 - val_loss: 3.1922\n"
     ]
    },
    {
     "name": "stderr",
     "output_type": "stream",
     "text": [
      "2024-12-09 22:41:23.036085: E tensorflow/core/grappler/optimizers/meta_optimizer.cc:961] PluggableGraphOptimizer failed: INVALID_ARGUMENT: Failed to deserialize the `graph_buf`.\n"
     ]
    },
    {
     "name": "stdout",
     "output_type": "stream",
     "text": [
      "\u001b[1m25/25\u001b[0m \u001b[32m━━━━━━━━━━━━━━━━━━━━\u001b[0m\u001b[37m\u001b[0m \u001b[1m1s\u001b[0m 15ms/step\n",
      "Résultat: {'n_mfcc': 20, 'model_type': 'CNN_2D_basic', 'batch_size': 16, 'epochs': 20, 'learning_rate': 1e-05, 'accuracy': 0.10000000149011612, 'loss': 2.734334945678711, 'validation_accuracy': 0.11562500149011612, 'validation_loss': 2.665515899658203, 'precision': 0.011170212765957447, 'recall': 0.1, 'f1_score': 0.020095693779904306}\n",
      "Résultats sauvegardés dans 'model_results.csv'.\n",
      "Entraînement du modèle: CNN_2D_basic, Batch Size: 16, Epochs: 50, Learning Rate: 0.001\n"
     ]
    },
    {
     "name": "stderr",
     "output_type": "stream",
     "text": [
      "/Users/mathisgorvien/conda_envs/ia_deeplearning/lib/python3.9/site-packages/keras/src/layers/convolutional/base_conv.py:107: UserWarning: Do not pass an `input_shape`/`input_dim` argument to a layer. When using Sequential models, prefer using an `Input(shape)` object as the first layer in the model instead.\n",
      "  super().__init__(activity_regularizer=activity_regularizer, **kwargs)\n"
     ]
    },
    {
     "name": "stdout",
     "output_type": "stream",
     "text": [
      "Epoch 1/50\n",
      "\u001b[1m160/160\u001b[0m \u001b[32m━━━━━━━━━━━━━━━━━━━━\u001b[0m\u001b[37m\u001b[0m \u001b[1m0s\u001b[0m 70ms/step - accuracy: 0.2868 - loss: 2.0903\n",
      "Epoch 1: val_accuracy improved from -inf to 0.08125, saving model to models/n_mfcc_20/CNN_2D_basic_bs16_ep50_lr0.001.keras\n",
      "\u001b[1m160/160\u001b[0m \u001b[32m━━━━━━━━━━━━━━━━━━━━\u001b[0m\u001b[37m\u001b[0m \u001b[1m15s\u001b[0m 77ms/step - accuracy: 0.2872 - loss: 2.0889 - val_accuracy: 0.0812 - val_loss: 18.7632\n",
      "Epoch 2/50\n",
      "\u001b[1m160/160\u001b[0m \u001b[32m━━━━━━━━━━━━━━━━━━━━\u001b[0m\u001b[37m\u001b[0m \u001b[1m0s\u001b[0m 67ms/step - accuracy: 0.4672 - loss: 1.4729\n",
      "Epoch 2: val_accuracy improved from 0.08125 to 0.10312, saving model to models/n_mfcc_20/CNN_2D_basic_bs16_ep50_lr0.001.keras\n",
      "\u001b[1m160/160\u001b[0m \u001b[32m━━━━━━━━━━━━━━━━━━━━\u001b[0m\u001b[37m\u001b[0m \u001b[1m11s\u001b[0m 71ms/step - accuracy: 0.4674 - loss: 1.4726 - val_accuracy: 0.1031 - val_loss: 13.7110\n",
      "Epoch 3/50\n",
      "\u001b[1m160/160\u001b[0m \u001b[32m━━━━━━━━━━━━━━━━━━━━\u001b[0m\u001b[37m\u001b[0m \u001b[1m0s\u001b[0m 68ms/step - accuracy: 0.5784 - loss: 1.2143\n",
      "Epoch 3: val_accuracy did not improve from 0.10312\n",
      "\u001b[1m160/160\u001b[0m \u001b[32m━━━━━━━━━━━━━━━━━━━━\u001b[0m\u001b[37m\u001b[0m \u001b[1m11s\u001b[0m 71ms/step - accuracy: 0.5786 - loss: 1.2141 - val_accuracy: 0.1031 - val_loss: 15.3015\n",
      "Epoch 4/50\n",
      "\u001b[1m160/160\u001b[0m \u001b[32m━━━━━━━━━━━━━━━━━━━━\u001b[0m\u001b[37m\u001b[0m \u001b[1m0s\u001b[0m 66ms/step - accuracy: 0.7095 - loss: 0.8402\n",
      "Epoch 4: val_accuracy improved from 0.10312 to 0.37969, saving model to models/n_mfcc_20/CNN_2D_basic_bs16_ep50_lr0.001.keras\n",
      "\u001b[1m160/160\u001b[0m \u001b[32m━━━━━━━━━━━━━━━━━━━━\u001b[0m\u001b[37m\u001b[0m \u001b[1m11s\u001b[0m 71ms/step - accuracy: 0.7095 - loss: 0.8402 - val_accuracy: 0.3797 - val_loss: 4.0074\n",
      "Epoch 5/50\n",
      "\u001b[1m160/160\u001b[0m \u001b[32m━━━━━━━━━━━━━━━━━━━━\u001b[0m\u001b[37m\u001b[0m \u001b[1m0s\u001b[0m 68ms/step - accuracy: 0.8175 - loss: 0.5742\n",
      "Epoch 5: val_accuracy improved from 0.37969 to 0.63125, saving model to models/n_mfcc_20/CNN_2D_basic_bs16_ep50_lr0.001.keras\n",
      "\u001b[1m160/160\u001b[0m \u001b[32m━━━━━━━━━━━━━━━━━━━━\u001b[0m\u001b[37m\u001b[0m \u001b[1m12s\u001b[0m 73ms/step - accuracy: 0.8175 - loss: 0.5743 - val_accuracy: 0.6313 - val_loss: 1.3147\n",
      "Epoch 6/50\n",
      "\u001b[1m160/160\u001b[0m \u001b[32m━━━━━━━━━━━━━━━━━━━━\u001b[0m\u001b[37m\u001b[0m \u001b[1m0s\u001b[0m 67ms/step - accuracy: 0.8629 - loss: 0.4371\n",
      "Epoch 6: val_accuracy improved from 0.63125 to 0.70156, saving model to models/n_mfcc_20/CNN_2D_basic_bs16_ep50_lr0.001.keras\n",
      "\u001b[1m160/160\u001b[0m \u001b[32m━━━━━━━━━━━━━━━━━━━━\u001b[0m\u001b[37m\u001b[0m \u001b[1m12s\u001b[0m 72ms/step - accuracy: 0.8629 - loss: 0.4370 - val_accuracy: 0.7016 - val_loss: 1.1372\n",
      "Epoch 7/50\n",
      "\u001b[1m160/160\u001b[0m \u001b[32m━━━━━━━━━━━━━━━━━━━━\u001b[0m\u001b[37m\u001b[0m \u001b[1m0s\u001b[0m 68ms/step - accuracy: 0.8799 - loss: 0.3844\n",
      "Epoch 7: val_accuracy did not improve from 0.70156\n",
      "\u001b[1m160/160\u001b[0m \u001b[32m━━━━━━━━━━━━━━━━━━━━\u001b[0m\u001b[37m\u001b[0m \u001b[1m11s\u001b[0m 71ms/step - accuracy: 0.8798 - loss: 0.3844 - val_accuracy: 0.6219 - val_loss: 2.1878\n",
      "Epoch 8/50\n",
      "\u001b[1m160/160\u001b[0m \u001b[32m━━━━━━━━━━━━━━━━━━━━\u001b[0m\u001b[37m\u001b[0m \u001b[1m0s\u001b[0m 67ms/step - accuracy: 0.9142 - loss: 0.2558\n",
      "Epoch 8: val_accuracy did not improve from 0.70156\n",
      "\u001b[1m160/160\u001b[0m \u001b[32m━━━━━━━━━━━━━━━━━━━━\u001b[0m\u001b[37m\u001b[0m \u001b[1m11s\u001b[0m 70ms/step - accuracy: 0.9141 - loss: 0.2560 - val_accuracy: 0.6406 - val_loss: 1.4421\n",
      "Epoch 9/50\n",
      "\u001b[1m160/160\u001b[0m \u001b[32m━━━━━━━━━━━━━━━━━━━━\u001b[0m\u001b[37m\u001b[0m \u001b[1m0s\u001b[0m 66ms/step - accuracy: 0.9153 - loss: 0.2618\n",
      "Epoch 9: val_accuracy improved from 0.70156 to 0.80781, saving model to models/n_mfcc_20/CNN_2D_basic_bs16_ep50_lr0.001.keras\n",
      "\u001b[1m160/160\u001b[0m \u001b[32m━━━━━━━━━━━━━━━━━━━━\u001b[0m\u001b[37m\u001b[0m \u001b[1m11s\u001b[0m 71ms/step - accuracy: 0.9152 - loss: 0.2619 - val_accuracy: 0.8078 - val_loss: 0.6124\n",
      "Epoch 10/50\n",
      "\u001b[1m160/160\u001b[0m \u001b[32m━━━━━━━━━━━━━━━━━━━━\u001b[0m\u001b[37m\u001b[0m \u001b[1m0s\u001b[0m 65ms/step - accuracy: 0.9354 - loss: 0.2150\n",
      "Epoch 10: val_accuracy did not improve from 0.80781\n",
      "\u001b[1m160/160\u001b[0m \u001b[32m━━━━━━━━━━━━━━━━━━━━\u001b[0m\u001b[37m\u001b[0m \u001b[1m11s\u001b[0m 68ms/step - accuracy: 0.9354 - loss: 0.2150 - val_accuracy: 0.7797 - val_loss: 0.7897\n",
      "Epoch 11/50\n",
      "\u001b[1m160/160\u001b[0m \u001b[32m━━━━━━━━━━━━━━━━━━━━\u001b[0m\u001b[37m\u001b[0m \u001b[1m0s\u001b[0m 66ms/step - accuracy: 0.9540 - loss: 0.1355\n",
      "Epoch 11: val_accuracy did not improve from 0.80781\n",
      "\u001b[1m160/160\u001b[0m \u001b[32m━━━━━━━━━━━━━━━━━━━━\u001b[0m\u001b[37m\u001b[0m \u001b[1m11s\u001b[0m 69ms/step - accuracy: 0.9540 - loss: 0.1356 - val_accuracy: 0.6047 - val_loss: 1.9647\n",
      "Epoch 12/50\n",
      "\u001b[1m160/160\u001b[0m \u001b[32m━━━━━━━━━━━━━━━━━━━━\u001b[0m\u001b[37m\u001b[0m \u001b[1m0s\u001b[0m 69ms/step - accuracy: 0.9579 - loss: 0.1352\n",
      "Epoch 12: val_accuracy did not improve from 0.80781\n",
      "\u001b[1m160/160\u001b[0m \u001b[32m━━━━━━━━━━━━━━━━━━━━\u001b[0m\u001b[37m\u001b[0m \u001b[1m12s\u001b[0m 72ms/step - accuracy: 0.9578 - loss: 0.1353 - val_accuracy: 0.7781 - val_loss: 1.5018\n",
      "Epoch 13/50\n",
      "\u001b[1m160/160\u001b[0m \u001b[32m━━━━━━━━━━━━━━━━━━━━\u001b[0m\u001b[37m\u001b[0m \u001b[1m0s\u001b[0m 69ms/step - accuracy: 0.9674 - loss: 0.1088\n",
      "Epoch 13: val_accuracy did not improve from 0.80781\n",
      "\u001b[1m160/160\u001b[0m \u001b[32m━━━━━━━━━━━━━━━━━━━━\u001b[0m\u001b[37m\u001b[0m \u001b[1m12s\u001b[0m 72ms/step - accuracy: 0.9674 - loss: 0.1089 - val_accuracy: 0.7766 - val_loss: 1.2214\n",
      "Epoch 14/50\n",
      "\u001b[1m160/160\u001b[0m \u001b[32m━━━━━━━━━━━━━━━━━━━━\u001b[0m\u001b[37m\u001b[0m \u001b[1m0s\u001b[0m 66ms/step - accuracy: 0.9564 - loss: 0.1242\n",
      "Epoch 14: val_accuracy did not improve from 0.80781\n",
      "\u001b[1m160/160\u001b[0m \u001b[32m━━━━━━━━━━━━━━━━━━━━\u001b[0m\u001b[37m\u001b[0m \u001b[1m11s\u001b[0m 68ms/step - accuracy: 0.9564 - loss: 0.1244 - val_accuracy: 0.6828 - val_loss: 3.1737\n"
     ]
    },
    {
     "name": "stderr",
     "output_type": "stream",
     "text": [
      "2024-12-09 22:44:07.766209: E tensorflow/core/grappler/optimizers/meta_optimizer.cc:961] PluggableGraphOptimizer failed: INVALID_ARGUMENT: Failed to deserialize the `graph_buf`.\n"
     ]
    },
    {
     "name": "stdout",
     "output_type": "stream",
     "text": [
      "\u001b[1m25/25\u001b[0m \u001b[32m━━━━━━━━━━━━━━━━━━━━\u001b[0m\u001b[37m\u001b[0m \u001b[1m1s\u001b[0m 15ms/step\n",
      "Résultat: {'n_mfcc': 20, 'model_type': 'CNN_2D_basic', 'batch_size': 16, 'epochs': 50, 'learning_rate': 0.001, 'accuracy': 0.8450000286102295, 'loss': 0.46155059337615967, 'validation_accuracy': 0.807812511920929, 'validation_loss': 0.6123915314674377, 'precision': 0.8493173072154155, 'recall': 0.845, 'f1_score': 0.8443329807498696}\n",
      "Résultats sauvegardés dans 'model_results.csv'.\n",
      "Entraînement du modèle: CNN_2D_basic, Batch Size: 16, Epochs: 50, Learning Rate: 0.0001\n"
     ]
    },
    {
     "name": "stderr",
     "output_type": "stream",
     "text": [
      "/Users/mathisgorvien/conda_envs/ia_deeplearning/lib/python3.9/site-packages/keras/src/layers/convolutional/base_conv.py:107: UserWarning: Do not pass an `input_shape`/`input_dim` argument to a layer. When using Sequential models, prefer using an `Input(shape)` object as the first layer in the model instead.\n",
      "  super().__init__(activity_regularizer=activity_regularizer, **kwargs)\n"
     ]
    },
    {
     "name": "stdout",
     "output_type": "stream",
     "text": [
      "Epoch 1/50\n",
      "\u001b[1m160/160\u001b[0m \u001b[32m━━━━━━━━━━━━━━━━━━━━\u001b[0m\u001b[37m\u001b[0m \u001b[1m0s\u001b[0m 70ms/step - accuracy: 0.2401 - loss: 2.3455\n",
      "Epoch 1: val_accuracy improved from -inf to 0.12969, saving model to models/n_mfcc_20/CNN_2D_basic_bs16_ep50_lr0.0001.keras\n",
      "\u001b[1m160/160\u001b[0m \u001b[32m━━━━━━━━━━━━━━━━━━━━\u001b[0m\u001b[37m\u001b[0m \u001b[1m15s\u001b[0m 78ms/step - accuracy: 0.2404 - loss: 2.3441 - val_accuracy: 0.1297 - val_loss: 7.5814\n",
      "Epoch 2/50\n",
      "\u001b[1m160/160\u001b[0m \u001b[32m━━━━━━━━━━━━━━━━━━━━\u001b[0m\u001b[37m\u001b[0m \u001b[1m0s\u001b[0m 67ms/step - accuracy: 0.3644 - loss: 1.8018\n",
      "Epoch 2: val_accuracy did not improve from 0.12969\n",
      "\u001b[1m160/160\u001b[0m \u001b[32m━━━━━━━━━━━━━━━━━━━━\u001b[0m\u001b[37m\u001b[0m \u001b[1m11s\u001b[0m 70ms/step - accuracy: 0.3645 - loss: 1.8015 - val_accuracy: 0.1203 - val_loss: 14.1170\n",
      "Epoch 3/50\n",
      "\u001b[1m160/160\u001b[0m \u001b[32m━━━━━━━━━━━━━━━━━━━━\u001b[0m\u001b[37m\u001b[0m \u001b[1m0s\u001b[0m 65ms/step - accuracy: 0.4563 - loss: 1.5679\n",
      "Epoch 3: val_accuracy did not improve from 0.12969\n",
      "\u001b[1m160/160\u001b[0m \u001b[32m━━━━━━━━━━━━━━━━━━━━\u001b[0m\u001b[37m\u001b[0m \u001b[1m11s\u001b[0m 68ms/step - accuracy: 0.4563 - loss: 1.5678 - val_accuracy: 0.1000 - val_loss: 27.3244\n",
      "Epoch 4/50\n",
      "\u001b[1m160/160\u001b[0m \u001b[32m━━━━━━━━━━━━━━━━━━━━\u001b[0m\u001b[37m\u001b[0m \u001b[1m0s\u001b[0m 66ms/step - accuracy: 0.5124 - loss: 1.4002\n",
      "Epoch 4: val_accuracy improved from 0.12969 to 0.16875, saving model to models/n_mfcc_20/CNN_2D_basic_bs16_ep50_lr0.0001.keras\n",
      "\u001b[1m160/160\u001b[0m \u001b[32m━━━━━━━━━━━━━━━━━━━━\u001b[0m\u001b[37m\u001b[0m \u001b[1m11s\u001b[0m 71ms/step - accuracy: 0.5124 - loss: 1.4002 - val_accuracy: 0.1688 - val_loss: 12.6755\n",
      "Epoch 5/50\n",
      "\u001b[1m160/160\u001b[0m \u001b[32m━━━━━━━━━━━━━━━━━━━━\u001b[0m\u001b[37m\u001b[0m \u001b[1m0s\u001b[0m 67ms/step - accuracy: 0.5713 - loss: 1.2900\n",
      "Epoch 5: val_accuracy improved from 0.16875 to 0.20937, saving model to models/n_mfcc_20/CNN_2D_basic_bs16_ep50_lr0.0001.keras\n",
      "\u001b[1m160/160\u001b[0m \u001b[32m━━━━━━━━━━━━━━━━━━━━\u001b[0m\u001b[37m\u001b[0m \u001b[1m11s\u001b[0m 71ms/step - accuracy: 0.5713 - loss: 1.2897 - val_accuracy: 0.2094 - val_loss: 7.1350\n",
      "Epoch 6/50\n",
      "\u001b[1m160/160\u001b[0m \u001b[32m━━━━━━━━━━━━━━━━━━━━\u001b[0m\u001b[37m\u001b[0m \u001b[1m0s\u001b[0m 67ms/step - accuracy: 0.6165 - loss: 1.1221\n",
      "Epoch 6: val_accuracy improved from 0.20937 to 0.25156, saving model to models/n_mfcc_20/CNN_2D_basic_bs16_ep50_lr0.0001.keras\n",
      "\u001b[1m160/160\u001b[0m \u001b[32m━━━━━━━━━━━━━━━━━━━━\u001b[0m\u001b[37m\u001b[0m \u001b[1m12s\u001b[0m 72ms/step - accuracy: 0.6166 - loss: 1.1220 - val_accuracy: 0.2516 - val_loss: 5.6729\n",
      "Epoch 7/50\n",
      "\u001b[1m160/160\u001b[0m \u001b[32m━━━━━━━━━━━━━━━━━━━━\u001b[0m\u001b[37m\u001b[0m \u001b[1m0s\u001b[0m 68ms/step - accuracy: 0.6731 - loss: 0.9940\n",
      "Epoch 7: val_accuracy improved from 0.25156 to 0.27187, saving model to models/n_mfcc_20/CNN_2D_basic_bs16_ep50_lr0.0001.keras\n",
      "\u001b[1m160/160\u001b[0m \u001b[32m━━━━━━━━━━━━━━━━━━━━\u001b[0m\u001b[37m\u001b[0m \u001b[1m12s\u001b[0m 72ms/step - accuracy: 0.6731 - loss: 0.9939 - val_accuracy: 0.2719 - val_loss: 5.3200\n",
      "Epoch 8/50\n",
      "\u001b[1m160/160\u001b[0m \u001b[32m━━━━━━━━━━━━━━━━━━━━\u001b[0m\u001b[37m\u001b[0m \u001b[1m0s\u001b[0m 68ms/step - accuracy: 0.7064 - loss: 0.8558\n",
      "Epoch 8: val_accuracy improved from 0.27187 to 0.28594, saving model to models/n_mfcc_20/CNN_2D_basic_bs16_ep50_lr0.0001.keras\n",
      "\u001b[1m160/160\u001b[0m \u001b[32m━━━━━━━━━━━━━━━━━━━━\u001b[0m\u001b[37m\u001b[0m \u001b[1m12s\u001b[0m 72ms/step - accuracy: 0.7065 - loss: 0.8557 - val_accuracy: 0.2859 - val_loss: 6.2395\n",
      "Epoch 9/50\n",
      "\u001b[1m160/160\u001b[0m \u001b[32m━━━━━━━━━━━━━━━━━━━━\u001b[0m\u001b[37m\u001b[0m \u001b[1m0s\u001b[0m 66ms/step - accuracy: 0.7688 - loss: 0.7155\n",
      "Epoch 9: val_accuracy improved from 0.28594 to 0.28906, saving model to models/n_mfcc_20/CNN_2D_basic_bs16_ep50_lr0.0001.keras\n",
      "\u001b[1m160/160\u001b[0m \u001b[32m━━━━━━━━━━━━━━━━━━━━\u001b[0m\u001b[37m\u001b[0m \u001b[1m11s\u001b[0m 70ms/step - accuracy: 0.7687 - loss: 0.7156 - val_accuracy: 0.2891 - val_loss: 7.0242\n",
      "Epoch 10/50\n",
      "\u001b[1m160/160\u001b[0m \u001b[32m━━━━━━━━━━━━━━━━━━━━\u001b[0m\u001b[37m\u001b[0m \u001b[1m0s\u001b[0m 67ms/step - accuracy: 0.7970 - loss: 0.6540\n",
      "Epoch 10: val_accuracy improved from 0.28906 to 0.35938, saving model to models/n_mfcc_20/CNN_2D_basic_bs16_ep50_lr0.0001.keras\n",
      "\u001b[1m160/160\u001b[0m \u001b[32m━━━━━━━━━━━━━━━━━━━━\u001b[0m\u001b[37m\u001b[0m \u001b[1m12s\u001b[0m 72ms/step - accuracy: 0.7970 - loss: 0.6540 - val_accuracy: 0.3594 - val_loss: 5.0729\n",
      "Epoch 11/50\n",
      "\u001b[1m160/160\u001b[0m \u001b[32m━━━━━━━━━━━━━━━━━━━━\u001b[0m\u001b[37m\u001b[0m \u001b[1m0s\u001b[0m 69ms/step - accuracy: 0.8082 - loss: 0.5945\n",
      "Epoch 11: val_accuracy improved from 0.35938 to 0.42656, saving model to models/n_mfcc_20/CNN_2D_basic_bs16_ep50_lr0.0001.keras\n",
      "\u001b[1m160/160\u001b[0m \u001b[32m━━━━━━━━━━━━━━━━━━━━\u001b[0m\u001b[37m\u001b[0m \u001b[1m12s\u001b[0m 73ms/step - accuracy: 0.8083 - loss: 0.5943 - val_accuracy: 0.4266 - val_loss: 4.2976\n",
      "Epoch 12/50\n",
      "\u001b[1m160/160\u001b[0m \u001b[32m━━━━━━━━━━━━━━━━━━━━\u001b[0m\u001b[37m\u001b[0m \u001b[1m0s\u001b[0m 67ms/step - accuracy: 0.8532 - loss: 0.4957\n",
      "Epoch 12: val_accuracy did not improve from 0.42656\n",
      "\u001b[1m160/160\u001b[0m \u001b[32m━━━━━━━━━━━━━━━━━━━━\u001b[0m\u001b[37m\u001b[0m \u001b[1m11s\u001b[0m 70ms/step - accuracy: 0.8532 - loss: 0.4957 - val_accuracy: 0.3922 - val_loss: 5.0146\n",
      "Epoch 13/50\n",
      "\u001b[1m160/160\u001b[0m \u001b[32m━━━━━━━━━━━━━━━━━━━━\u001b[0m\u001b[37m\u001b[0m \u001b[1m0s\u001b[0m 66ms/step - accuracy: 0.8784 - loss: 0.3941\n",
      "Epoch 13: val_accuracy improved from 0.42656 to 0.43437, saving model to models/n_mfcc_20/CNN_2D_basic_bs16_ep50_lr0.0001.keras\n",
      "\u001b[1m160/160\u001b[0m \u001b[32m━━━━━━━━━━━━━━━━━━━━\u001b[0m\u001b[37m\u001b[0m \u001b[1m11s\u001b[0m 71ms/step - accuracy: 0.8784 - loss: 0.3943 - val_accuracy: 0.4344 - val_loss: 3.9534\n",
      "Epoch 14/50\n",
      "\u001b[1m160/160\u001b[0m \u001b[32m━━━━━━━━━━━━━━━━━━━━\u001b[0m\u001b[37m\u001b[0m \u001b[1m0s\u001b[0m 68ms/step - accuracy: 0.8819 - loss: 0.3925\n",
      "Epoch 14: val_accuracy did not improve from 0.43437\n",
      "\u001b[1m160/160\u001b[0m \u001b[32m━━━━━━━━━━━━━━━━━━━━\u001b[0m\u001b[37m\u001b[0m \u001b[1m11s\u001b[0m 72ms/step - accuracy: 0.8819 - loss: 0.3925 - val_accuracy: 0.2859 - val_loss: 7.2061\n",
      "Epoch 15/50\n",
      "\u001b[1m160/160\u001b[0m \u001b[32m━━━━━━━━━━━━━━━━━━━━\u001b[0m\u001b[37m\u001b[0m \u001b[1m0s\u001b[0m 71ms/step - accuracy: 0.9060 - loss: 0.3379\n",
      "Epoch 15: val_accuracy improved from 0.43437 to 0.49219, saving model to models/n_mfcc_20/CNN_2D_basic_bs16_ep50_lr0.0001.keras\n",
      "\u001b[1m160/160\u001b[0m \u001b[32m━━━━━━━━━━━━━━━━━━━━\u001b[0m\u001b[37m\u001b[0m \u001b[1m12s\u001b[0m 77ms/step - accuracy: 0.9060 - loss: 0.3379 - val_accuracy: 0.4922 - val_loss: 3.7779\n",
      "Epoch 16/50\n",
      "\u001b[1m160/160\u001b[0m \u001b[32m━━━━━━━━━━━━━━━━━━━━\u001b[0m\u001b[37m\u001b[0m \u001b[1m0s\u001b[0m 69ms/step - accuracy: 0.9118 - loss: 0.2975\n",
      "Epoch 16: val_accuracy did not improve from 0.49219\n",
      "\u001b[1m160/160\u001b[0m \u001b[32m━━━━━━━━━━━━━━━━━━━━\u001b[0m\u001b[37m\u001b[0m \u001b[1m12s\u001b[0m 72ms/step - accuracy: 0.9118 - loss: 0.2975 - val_accuracy: 0.4531 - val_loss: 3.6882\n",
      "Epoch 17/50\n",
      "\u001b[1m160/160\u001b[0m \u001b[32m━━━━━━━━━━━━━━━━━━━━\u001b[0m\u001b[37m\u001b[0m \u001b[1m0s\u001b[0m 68ms/step - accuracy: 0.9221 - loss: 0.2842\n",
      "Epoch 17: val_accuracy improved from 0.49219 to 0.57031, saving model to models/n_mfcc_20/CNN_2D_basic_bs16_ep50_lr0.0001.keras\n",
      "\u001b[1m160/160\u001b[0m \u001b[32m━━━━━━━━━━━━━━━━━━━━\u001b[0m\u001b[37m\u001b[0m \u001b[1m12s\u001b[0m 72ms/step - accuracy: 0.9221 - loss: 0.2841 - val_accuracy: 0.5703 - val_loss: 2.5804\n",
      "Epoch 18/50\n",
      "\u001b[1m160/160\u001b[0m \u001b[32m━━━━━━━━━━━━━━━━━━━━\u001b[0m\u001b[37m\u001b[0m \u001b[1m0s\u001b[0m 67ms/step - accuracy: 0.9400 - loss: 0.2160\n",
      "Epoch 18: val_accuracy did not improve from 0.57031\n",
      "\u001b[1m160/160\u001b[0m \u001b[32m━━━━━━━━━━━━━━━━━━━━\u001b[0m\u001b[37m\u001b[0m \u001b[1m11s\u001b[0m 70ms/step - accuracy: 0.9400 - loss: 0.2160 - val_accuracy: 0.5625 - val_loss: 2.6253\n",
      "Epoch 19/50\n",
      "\u001b[1m160/160\u001b[0m \u001b[32m━━━━━━━━━━━━━━━━━━━━\u001b[0m\u001b[37m\u001b[0m \u001b[1m0s\u001b[0m 66ms/step - accuracy: 0.9470 - loss: 0.2011\n",
      "Epoch 19: val_accuracy improved from 0.57031 to 0.58906, saving model to models/n_mfcc_20/CNN_2D_basic_bs16_ep50_lr0.0001.keras\n",
      "\u001b[1m160/160\u001b[0m \u001b[32m━━━━━━━━━━━━━━━━━━━━\u001b[0m\u001b[37m\u001b[0m \u001b[1m11s\u001b[0m 71ms/step - accuracy: 0.9470 - loss: 0.2011 - val_accuracy: 0.5891 - val_loss: 2.4432\n",
      "Epoch 20/50\n",
      "\u001b[1m160/160\u001b[0m \u001b[32m━━━━━━━━━━━━━━━━━━━━\u001b[0m\u001b[37m\u001b[0m \u001b[1m0s\u001b[0m 67ms/step - accuracy: 0.9503 - loss: 0.1884\n",
      "Epoch 20: val_accuracy improved from 0.58906 to 0.61563, saving model to models/n_mfcc_20/CNN_2D_basic_bs16_ep50_lr0.0001.keras\n",
      "\u001b[1m160/160\u001b[0m \u001b[32m━━━━━━━━━━━━━━━━━━━━\u001b[0m\u001b[37m\u001b[0m \u001b[1m11s\u001b[0m 71ms/step - accuracy: 0.9503 - loss: 0.1884 - val_accuracy: 0.6156 - val_loss: 2.5532\n",
      "Epoch 21/50\n",
      "\u001b[1m160/160\u001b[0m \u001b[32m━━━━━━━━━━━━━━━━━━━━\u001b[0m\u001b[37m\u001b[0m \u001b[1m0s\u001b[0m 68ms/step - accuracy: 0.9546 - loss: 0.1644\n",
      "Epoch 21: val_accuracy improved from 0.61563 to 0.62344, saving model to models/n_mfcc_20/CNN_2D_basic_bs16_ep50_lr0.0001.keras\n",
      "\u001b[1m160/160\u001b[0m \u001b[32m━━━━━━━━━━━━━━━━━━━━\u001b[0m\u001b[37m\u001b[0m \u001b[1m12s\u001b[0m 72ms/step - accuracy: 0.9546 - loss: 0.1645 - val_accuracy: 0.6234 - val_loss: 2.3396\n",
      "Epoch 22/50\n",
      "\u001b[1m160/160\u001b[0m \u001b[32m━━━━━━━━━━━━━━━━━━━━\u001b[0m\u001b[37m\u001b[0m \u001b[1m0s\u001b[0m 65ms/step - accuracy: 0.9642 - loss: 0.1321\n",
      "Epoch 22: val_accuracy improved from 0.62344 to 0.64688, saving model to models/n_mfcc_20/CNN_2D_basic_bs16_ep50_lr0.0001.keras\n",
      "\u001b[1m160/160\u001b[0m \u001b[32m━━━━━━━━━━━━━━━━━━━━\u001b[0m\u001b[37m\u001b[0m \u001b[1m11s\u001b[0m 69ms/step - accuracy: 0.9641 - loss: 0.1322 - val_accuracy: 0.6469 - val_loss: 2.3727\n",
      "Epoch 23/50\n",
      "\u001b[1m160/160\u001b[0m \u001b[32m━━━━━━━━━━━━━━━━━━━━\u001b[0m\u001b[37m\u001b[0m \u001b[1m0s\u001b[0m 66ms/step - accuracy: 0.9678 - loss: 0.1291\n",
      "Epoch 23: val_accuracy improved from 0.64688 to 0.65156, saving model to models/n_mfcc_20/CNN_2D_basic_bs16_ep50_lr0.0001.keras\n",
      "\u001b[1m160/160\u001b[0m \u001b[32m━━━━━━━━━━━━━━━━━━━━\u001b[0m\u001b[37m\u001b[0m \u001b[1m11s\u001b[0m 70ms/step - accuracy: 0.9678 - loss: 0.1291 - val_accuracy: 0.6516 - val_loss: 2.2406\n",
      "Epoch 24/50\n",
      "\u001b[1m160/160\u001b[0m \u001b[32m━━━━━━━━━━━━━━━━━━━━\u001b[0m\u001b[37m\u001b[0m \u001b[1m0s\u001b[0m 68ms/step - accuracy: 0.9666 - loss: 0.1172\n",
      "Epoch 24: val_accuracy did not improve from 0.65156\n",
      "\u001b[1m160/160\u001b[0m \u001b[32m━━━━━━━━━━━━━━━━━━━━\u001b[0m\u001b[37m\u001b[0m \u001b[1m11s\u001b[0m 71ms/step - accuracy: 0.9666 - loss: 0.1173 - val_accuracy: 0.6187 - val_loss: 2.7798\n",
      "Epoch 25/50\n",
      "\u001b[1m160/160\u001b[0m \u001b[32m━━━━━━━━━━━━━━━━━━━━\u001b[0m\u001b[37m\u001b[0m \u001b[1m0s\u001b[0m 74ms/step - accuracy: 0.9704 - loss: 0.1058\n",
      "Epoch 25: val_accuracy improved from 0.65156 to 0.68281, saving model to models/n_mfcc_20/CNN_2D_basic_bs16_ep50_lr0.0001.keras\n",
      "\u001b[1m160/160\u001b[0m \u001b[32m━━━━━━━━━━━━━━━━━━━━\u001b[0m\u001b[37m\u001b[0m \u001b[1m13s\u001b[0m 78ms/step - accuracy: 0.9704 - loss: 0.1058 - val_accuracy: 0.6828 - val_loss: 1.9787\n",
      "Epoch 26/50\n",
      "\u001b[1m160/160\u001b[0m \u001b[32m━━━━━━━━━━━━━━━━━━━━\u001b[0m\u001b[37m\u001b[0m \u001b[1m0s\u001b[0m 64ms/step - accuracy: 0.9711 - loss: 0.0988\n",
      "Epoch 26: val_accuracy did not improve from 0.68281\n",
      "\u001b[1m160/160\u001b[0m \u001b[32m━━━━━━━━━━━━━━━━━━━━\u001b[0m\u001b[37m\u001b[0m \u001b[1m11s\u001b[0m 67ms/step - accuracy: 0.9711 - loss: 0.0988 - val_accuracy: 0.6391 - val_loss: 2.2795\n",
      "Epoch 27/50\n",
      "\u001b[1m160/160\u001b[0m \u001b[32m━━━━━━━━━━━━━━━━━━━━\u001b[0m\u001b[37m\u001b[0m \u001b[1m0s\u001b[0m 64ms/step - accuracy: 0.9756 - loss: 0.0950\n",
      "Epoch 27: val_accuracy did not improve from 0.68281\n",
      "\u001b[1m160/160\u001b[0m \u001b[32m━━━━━━━━━━━━━━━━━━━━\u001b[0m\u001b[37m\u001b[0m \u001b[1m11s\u001b[0m 67ms/step - accuracy: 0.9756 - loss: 0.0950 - val_accuracy: 0.6641 - val_loss: 2.1494\n",
      "Epoch 28/50\n",
      "\u001b[1m160/160\u001b[0m \u001b[32m━━━━━━━━━━━━━━━━━━━━\u001b[0m\u001b[37m\u001b[0m \u001b[1m0s\u001b[0m 65ms/step - accuracy: 0.9773 - loss: 0.0815\n",
      "Epoch 28: val_accuracy improved from 0.68281 to 0.76094, saving model to models/n_mfcc_20/CNN_2D_basic_bs16_ep50_lr0.0001.keras\n",
      "\u001b[1m160/160\u001b[0m \u001b[32m━━━━━━━━━━━━━━━━━━━━\u001b[0m\u001b[37m\u001b[0m \u001b[1m11s\u001b[0m 69ms/step - accuracy: 0.9773 - loss: 0.0816 - val_accuracy: 0.7609 - val_loss: 1.3209\n",
      "Epoch 29/50\n",
      "\u001b[1m160/160\u001b[0m \u001b[32m━━━━━━━━━━━━━━━━━━━━\u001b[0m\u001b[37m\u001b[0m \u001b[1m0s\u001b[0m 65ms/step - accuracy: 0.9755 - loss: 0.0736\n",
      "Epoch 29: val_accuracy did not improve from 0.76094\n",
      "\u001b[1m160/160\u001b[0m \u001b[32m━━━━━━━━━━━━━━━━━━━━\u001b[0m\u001b[37m\u001b[0m \u001b[1m11s\u001b[0m 68ms/step - accuracy: 0.9755 - loss: 0.0736 - val_accuracy: 0.7172 - val_loss: 1.9726\n",
      "Epoch 30/50\n",
      "\u001b[1m160/160\u001b[0m \u001b[32m━━━━━━━━━━━━━━━━━━━━\u001b[0m\u001b[37m\u001b[0m \u001b[1m0s\u001b[0m 75ms/step - accuracy: 0.9819 - loss: 0.0718\n",
      "Epoch 30: val_accuracy did not improve from 0.76094\n",
      "\u001b[1m160/160\u001b[0m \u001b[32m━━━━━━━━━━━━━━━━━━━━\u001b[0m\u001b[37m\u001b[0m \u001b[1m13s\u001b[0m 78ms/step - accuracy: 0.9818 - loss: 0.0718 - val_accuracy: 0.7484 - val_loss: 1.5502\n",
      "Epoch 31/50\n",
      "\u001b[1m160/160\u001b[0m \u001b[32m━━━━━━━━━━━━━━━━━━━━\u001b[0m\u001b[37m\u001b[0m \u001b[1m0s\u001b[0m 69ms/step - accuracy: 0.9828 - loss: 0.0668\n",
      "Epoch 31: val_accuracy did not improve from 0.76094\n",
      "\u001b[1m160/160\u001b[0m \u001b[32m━━━━━━━━━━━━━━━━━━━━\u001b[0m\u001b[37m\u001b[0m \u001b[1m12s\u001b[0m 72ms/step - accuracy: 0.9828 - loss: 0.0667 - val_accuracy: 0.7125 - val_loss: 2.0049\n",
      "Epoch 32/50\n",
      "\u001b[1m160/160\u001b[0m \u001b[32m━━━━━━━━━━━━━━━━━━━━\u001b[0m\u001b[37m\u001b[0m \u001b[1m0s\u001b[0m 66ms/step - accuracy: 0.9764 - loss: 0.0819\n",
      "Epoch 32: val_accuracy improved from 0.76094 to 0.76250, saving model to models/n_mfcc_20/CNN_2D_basic_bs16_ep50_lr0.0001.keras\n",
      "\u001b[1m160/160\u001b[0m \u001b[32m━━━━━━━━━━━━━━━━━━━━\u001b[0m\u001b[37m\u001b[0m \u001b[1m11s\u001b[0m 70ms/step - accuracy: 0.9764 - loss: 0.0818 - val_accuracy: 0.7625 - val_loss: 1.3444\n",
      "Epoch 33/50\n",
      "\u001b[1m160/160\u001b[0m \u001b[32m━━━━━━━━━━━━━━━━━━━━\u001b[0m\u001b[37m\u001b[0m \u001b[1m0s\u001b[0m 66ms/step - accuracy: 0.9834 - loss: 0.0584\n",
      "Epoch 33: val_accuracy did not improve from 0.76250\n",
      "\u001b[1m160/160\u001b[0m \u001b[32m━━━━━━━━━━━━━━━━━━━━\u001b[0m\u001b[37m\u001b[0m \u001b[1m11s\u001b[0m 68ms/step - accuracy: 0.9834 - loss: 0.0584 - val_accuracy: 0.7031 - val_loss: 2.0110\n"
     ]
    },
    {
     "name": "stderr",
     "output_type": "stream",
     "text": [
      "2024-12-09 22:50:30.545354: E tensorflow/core/grappler/optimizers/meta_optimizer.cc:961] PluggableGraphOptimizer failed: INVALID_ARGUMENT: Failed to deserialize the `graph_buf`.\n"
     ]
    },
    {
     "name": "stdout",
     "output_type": "stream",
     "text": [
      "\u001b[1m25/25\u001b[0m \u001b[32m━━━━━━━━━━━━━━━━━━━━\u001b[0m\u001b[37m\u001b[0m \u001b[1m1s\u001b[0m 15ms/step\n",
      "Résultat: {'n_mfcc': 20, 'model_type': 'CNN_2D_basic', 'batch_size': 16, 'epochs': 50, 'learning_rate': 0.0001, 'accuracy': 0.762499988079071, 'loss': 1.0769211053848267, 'validation_accuracy': 0.762499988079071, 'validation_loss': 1.32094407081604, 'precision': 0.8129184415876418, 'recall': 0.7625, 'f1_score': 0.7666124600954823}\n",
      "Résultats sauvegardés dans 'model_results.csv'.\n",
      "Entraînement du modèle: CNN_2D_basic, Batch Size: 16, Epochs: 50, Learning Rate: 1e-05\n"
     ]
    },
    {
     "name": "stderr",
     "output_type": "stream",
     "text": [
      "/Users/mathisgorvien/conda_envs/ia_deeplearning/lib/python3.9/site-packages/keras/src/layers/convolutional/base_conv.py:107: UserWarning: Do not pass an `input_shape`/`input_dim` argument to a layer. When using Sequential models, prefer using an `Input(shape)` object as the first layer in the model instead.\n",
      "  super().__init__(activity_regularizer=activity_regularizer, **kwargs)\n"
     ]
    },
    {
     "name": "stdout",
     "output_type": "stream",
     "text": [
      "Epoch 1/50\n",
      "\u001b[1m160/160\u001b[0m \u001b[32m━━━━━━━━━━━━━━━━━━━━\u001b[0m\u001b[37m\u001b[0m \u001b[1m0s\u001b[0m 71ms/step - accuracy: 0.1039 - loss: 3.3654\n",
      "Epoch 1: val_accuracy improved from -inf to 0.10000, saving model to models/n_mfcc_20/CNN_2D_basic_bs16_ep50_lr1e-05.keras\n",
      "\u001b[1m160/160\u001b[0m \u001b[32m━━━━━━━━━━━━━━━━━━━━\u001b[0m\u001b[37m\u001b[0m \u001b[1m15s\u001b[0m 77ms/step - accuracy: 0.1040 - loss: 3.3638 - val_accuracy: 0.1000 - val_loss: 3.1463\n",
      "Epoch 2/50\n",
      "\u001b[1m160/160\u001b[0m \u001b[32m━━━━━━━━━━━━━━━━━━━━\u001b[0m\u001b[37m\u001b[0m \u001b[1m0s\u001b[0m 70ms/step - accuracy: 0.1828 - loss: 2.6381\n",
      "Epoch 2: val_accuracy improved from 0.10000 to 0.11406, saving model to models/n_mfcc_20/CNN_2D_basic_bs16_ep50_lr1e-05.keras\n",
      "\u001b[1m160/160\u001b[0m \u001b[32m━━━━━━━━━━━━━━━━━━━━\u001b[0m\u001b[37m\u001b[0m \u001b[1m12s\u001b[0m 74ms/step - accuracy: 0.1828 - loss: 2.6378 - val_accuracy: 0.1141 - val_loss: 5.6825\n",
      "Epoch 3/50\n",
      "\u001b[1m160/160\u001b[0m \u001b[32m━━━━━━━━━━━━━━━━━━━━\u001b[0m\u001b[37m\u001b[0m \u001b[1m0s\u001b[0m 68ms/step - accuracy: 0.2141 - loss: 2.3867\n",
      "Epoch 3: val_accuracy improved from 0.11406 to 0.11875, saving model to models/n_mfcc_20/CNN_2D_basic_bs16_ep50_lr1e-05.keras\n",
      "\u001b[1m160/160\u001b[0m \u001b[32m━━━━━━━━━━━━━━━━━━━━\u001b[0m\u001b[37m\u001b[0m \u001b[1m12s\u001b[0m 72ms/step - accuracy: 0.2141 - loss: 2.3867 - val_accuracy: 0.1187 - val_loss: 5.8562\n",
      "Epoch 4/50\n",
      "\u001b[1m160/160\u001b[0m \u001b[32m━━━━━━━━━━━━━━━━━━━━\u001b[0m\u001b[37m\u001b[0m \u001b[1m0s\u001b[0m 67ms/step - accuracy: 0.2359 - loss: 2.3418\n",
      "Epoch 4: val_accuracy improved from 0.11875 to 0.12031, saving model to models/n_mfcc_20/CNN_2D_basic_bs16_ep50_lr1e-05.keras\n",
      "\u001b[1m160/160\u001b[0m \u001b[32m━━━━━━━━━━━━━━━━━━━━\u001b[0m\u001b[37m\u001b[0m \u001b[1m11s\u001b[0m 71ms/step - accuracy: 0.2360 - loss: 2.3413 - val_accuracy: 0.1203 - val_loss: 4.4251\n",
      "Epoch 5/50\n",
      "\u001b[1m160/160\u001b[0m \u001b[32m━━━━━━━━━━━━━━━━━━━━\u001b[0m\u001b[37m\u001b[0m \u001b[1m0s\u001b[0m 66ms/step - accuracy: 0.2662 - loss: 2.1881\n",
      "Epoch 5: val_accuracy did not improve from 0.12031\n",
      "\u001b[1m160/160\u001b[0m \u001b[32m━━━━━━━━━━━━━━━━━━━━\u001b[0m\u001b[37m\u001b[0m \u001b[1m11s\u001b[0m 69ms/step - accuracy: 0.2662 - loss: 2.1881 - val_accuracy: 0.1156 - val_loss: 3.6523\n",
      "Epoch 6/50\n",
      "\u001b[1m160/160\u001b[0m \u001b[32m━━━━━━━━━━━━━━━━━━━━\u001b[0m\u001b[37m\u001b[0m \u001b[1m0s\u001b[0m 66ms/step - accuracy: 0.2926 - loss: 2.1180\n",
      "Epoch 6: val_accuracy improved from 0.12031 to 0.14687, saving model to models/n_mfcc_20/CNN_2D_basic_bs16_ep50_lr1e-05.keras\n",
      "\u001b[1m160/160\u001b[0m \u001b[32m━━━━━━━━━━━━━━━━━━━━\u001b[0m\u001b[37m\u001b[0m \u001b[1m11s\u001b[0m 69ms/step - accuracy: 0.2926 - loss: 2.1178 - val_accuracy: 0.1469 - val_loss: 3.4311\n"
     ]
    },
    {
     "name": "stderr",
     "output_type": "stream",
     "text": [
      "2024-12-09 22:51:45.278177: E tensorflow/core/grappler/optimizers/meta_optimizer.cc:961] PluggableGraphOptimizer failed: INVALID_ARGUMENT: Failed to deserialize the `graph_buf`.\n"
     ]
    },
    {
     "name": "stdout",
     "output_type": "stream",
     "text": [
      "\u001b[1m25/25\u001b[0m \u001b[32m━━━━━━━━━━━━━━━━━━━━\u001b[0m\u001b[37m\u001b[0m \u001b[1m1s\u001b[0m 15ms/step\n",
      "Résultat: {'n_mfcc': 20, 'model_type': 'CNN_2D_basic', 'batch_size': 16, 'epochs': 50, 'learning_rate': 1e-05, 'accuracy': 0.09000000357627869, 'loss': 3.2585110664367676, 'validation_accuracy': 0.14687499403953552, 'validation_loss': 3.146301031112671, 'precision': 0.0081, 'recall': 0.09, 'f1_score': 0.014862385321100917}\n",
      "Résultats sauvegardés dans 'model_results.csv'.\n",
      "Entraînement du modèle: CNN_2D_basic, Batch Size: 16, Epochs: 100, Learning Rate: 0.001\n"
     ]
    },
    {
     "name": "stderr",
     "output_type": "stream",
     "text": [
      "/Users/mathisgorvien/conda_envs/ia_deeplearning/lib/python3.9/site-packages/keras/src/layers/convolutional/base_conv.py:107: UserWarning: Do not pass an `input_shape`/`input_dim` argument to a layer. When using Sequential models, prefer using an `Input(shape)` object as the first layer in the model instead.\n",
      "  super().__init__(activity_regularizer=activity_regularizer, **kwargs)\n"
     ]
    },
    {
     "name": "stdout",
     "output_type": "stream",
     "text": [
      "Epoch 1/100\n",
      "\u001b[1m160/160\u001b[0m \u001b[32m━━━━━━━━━━━━━━━━━━━━\u001b[0m\u001b[37m\u001b[0m \u001b[1m0s\u001b[0m 68ms/step - accuracy: 0.2674 - loss: 2.1523\n",
      "Epoch 1: val_accuracy improved from -inf to 0.10000, saving model to models/n_mfcc_20/CNN_2D_basic_bs16_ep100_lr0.001.keras\n",
      "\u001b[1m160/160\u001b[0m \u001b[32m━━━━━━━━━━━━━━━━━━━━\u001b[0m\u001b[37m\u001b[0m \u001b[1m17s\u001b[0m 74ms/step - accuracy: 0.2678 - loss: 2.1507 - val_accuracy: 0.1000 - val_loss: 24.4105\n",
      "Epoch 2/100\n",
      "\u001b[1m160/160\u001b[0m \u001b[32m━━━━━━━━━━━━━━━━━━━━\u001b[0m\u001b[37m\u001b[0m \u001b[1m0s\u001b[0m 66ms/step - accuracy: 0.4877 - loss: 1.4382\n",
      "Epoch 2: val_accuracy improved from 0.10000 to 0.12188, saving model to models/n_mfcc_20/CNN_2D_basic_bs16_ep100_lr0.001.keras\n",
      "\u001b[1m160/160\u001b[0m \u001b[32m━━━━━━━━━━━━━━━━━━━━\u001b[0m\u001b[37m\u001b[0m \u001b[1m11s\u001b[0m 70ms/step - accuracy: 0.4879 - loss: 1.4377 - val_accuracy: 0.1219 - val_loss: 8.1163\n",
      "Epoch 3/100\n",
      "\u001b[1m160/160\u001b[0m \u001b[32m━━━━━━━━━━━━━━━━━━━━\u001b[0m\u001b[37m\u001b[0m \u001b[1m0s\u001b[0m 66ms/step - accuracy: 0.5941 - loss: 1.1720\n",
      "Epoch 3: val_accuracy improved from 0.12188 to 0.25000, saving model to models/n_mfcc_20/CNN_2D_basic_bs16_ep100_lr0.001.keras\n",
      "\u001b[1m160/160\u001b[0m \u001b[32m━━━━━━━━━━━━━━━━━━━━\u001b[0m\u001b[37m\u001b[0m \u001b[1m11s\u001b[0m 69ms/step - accuracy: 0.5942 - loss: 1.1715 - val_accuracy: 0.2500 - val_loss: 5.1774\n",
      "Epoch 4/100\n",
      "\u001b[1m160/160\u001b[0m \u001b[32m━━━━━━━━━━━━━━━━━━━━\u001b[0m\u001b[37m\u001b[0m \u001b[1m0s\u001b[0m 66ms/step - accuracy: 0.6935 - loss: 0.8805\n",
      "Epoch 4: val_accuracy improved from 0.25000 to 0.42500, saving model to models/n_mfcc_20/CNN_2D_basic_bs16_ep100_lr0.001.keras\n",
      "\u001b[1m160/160\u001b[0m \u001b[32m━━━━━━━━━━━━━━━━━━━━\u001b[0m\u001b[37m\u001b[0m \u001b[1m11s\u001b[0m 70ms/step - accuracy: 0.6935 - loss: 0.8805 - val_accuracy: 0.4250 - val_loss: 1.9212\n",
      "Epoch 5/100\n",
      "\u001b[1m160/160\u001b[0m \u001b[32m━━━━━━━━━━━━━━━━━━━━\u001b[0m\u001b[37m\u001b[0m \u001b[1m0s\u001b[0m 66ms/step - accuracy: 0.8188 - loss: 0.5655\n",
      "Epoch 5: val_accuracy improved from 0.42500 to 0.48438, saving model to models/n_mfcc_20/CNN_2D_basic_bs16_ep100_lr0.001.keras\n",
      "\u001b[1m160/160\u001b[0m \u001b[32m━━━━━━━━━━━━━━━━━━━━\u001b[0m\u001b[37m\u001b[0m \u001b[1m11s\u001b[0m 70ms/step - accuracy: 0.8187 - loss: 0.5656 - val_accuracy: 0.4844 - val_loss: 1.9411\n",
      "Epoch 6/100\n",
      "\u001b[1m160/160\u001b[0m \u001b[32m━━━━━━━━━━━━━━━━━━━━\u001b[0m\u001b[37m\u001b[0m \u001b[1m0s\u001b[0m 66ms/step - accuracy: 0.8599 - loss: 0.4263\n",
      "Epoch 6: val_accuracy improved from 0.48438 to 0.59531, saving model to models/n_mfcc_20/CNN_2D_basic_bs16_ep100_lr0.001.keras\n",
      "\u001b[1m160/160\u001b[0m \u001b[32m━━━━━━━━━━━━━━━━━━━━\u001b[0m\u001b[37m\u001b[0m \u001b[1m11s\u001b[0m 70ms/step - accuracy: 0.8599 - loss: 0.4264 - val_accuracy: 0.5953 - val_loss: 1.4382\n",
      "Epoch 7/100\n",
      "\u001b[1m160/160\u001b[0m \u001b[32m━━━━━━━━━━━━━━━━━━━━\u001b[0m\u001b[37m\u001b[0m \u001b[1m0s\u001b[0m 66ms/step - accuracy: 0.8719 - loss: 0.3483\n",
      "Epoch 7: val_accuracy did not improve from 0.59531\n",
      "\u001b[1m160/160\u001b[0m \u001b[32m━━━━━━━━━━━━━━━━━━━━\u001b[0m\u001b[37m\u001b[0m \u001b[1m11s\u001b[0m 69ms/step - accuracy: 0.8720 - loss: 0.3483 - val_accuracy: 0.5859 - val_loss: 1.8271\n",
      "Epoch 8/100\n",
      "\u001b[1m160/160\u001b[0m \u001b[32m━━━━━━━━━━━━━━━━━━━━\u001b[0m\u001b[37m\u001b[0m \u001b[1m0s\u001b[0m 66ms/step - accuracy: 0.9217 - loss: 0.2434\n",
      "Epoch 8: val_accuracy improved from 0.59531 to 0.74531, saving model to models/n_mfcc_20/CNN_2D_basic_bs16_ep100_lr0.001.keras\n",
      "\u001b[1m160/160\u001b[0m \u001b[32m━━━━━━━━━━━━━━━━━━━━\u001b[0m\u001b[37m\u001b[0m \u001b[1m11s\u001b[0m 70ms/step - accuracy: 0.9217 - loss: 0.2435 - val_accuracy: 0.7453 - val_loss: 0.8227\n",
      "Epoch 9/100\n",
      "\u001b[1m160/160\u001b[0m \u001b[32m━━━━━━━━━━━━━━━━━━━━\u001b[0m\u001b[37m\u001b[0m \u001b[1m0s\u001b[0m 66ms/step - accuracy: 0.9402 - loss: 0.1883\n",
      "Epoch 9: val_accuracy improved from 0.74531 to 0.76719, saving model to models/n_mfcc_20/CNN_2D_basic_bs16_ep100_lr0.001.keras\n",
      "\u001b[1m160/160\u001b[0m \u001b[32m━━━━━━━━━━━━━━━━━━━━\u001b[0m\u001b[37m\u001b[0m \u001b[1m11s\u001b[0m 70ms/step - accuracy: 0.9402 - loss: 0.1883 - val_accuracy: 0.7672 - val_loss: 0.8237\n",
      "Epoch 10/100\n",
      "\u001b[1m160/160\u001b[0m \u001b[32m━━━━━━━━━━━━━━━━━━━━\u001b[0m\u001b[37m\u001b[0m \u001b[1m0s\u001b[0m 66ms/step - accuracy: 0.9465 - loss: 0.1603\n",
      "Epoch 10: val_accuracy improved from 0.76719 to 0.78438, saving model to models/n_mfcc_20/CNN_2D_basic_bs16_ep100_lr0.001.keras\n",
      "\u001b[1m160/160\u001b[0m \u001b[32m━━━━━━━━━━━━━━━━━━━━\u001b[0m\u001b[37m\u001b[0m \u001b[1m11s\u001b[0m 70ms/step - accuracy: 0.9464 - loss: 0.1604 - val_accuracy: 0.7844 - val_loss: 0.8658\n",
      "Epoch 11/100\n",
      "\u001b[1m160/160\u001b[0m \u001b[32m━━━━━━━━━━━━━━━━━━━━\u001b[0m\u001b[37m\u001b[0m \u001b[1m0s\u001b[0m 66ms/step - accuracy: 0.9517 - loss: 0.1391\n",
      "Epoch 11: val_accuracy did not improve from 0.78438\n",
      "\u001b[1m160/160\u001b[0m \u001b[32m━━━━━━━━━━━━━━━━━━━━\u001b[0m\u001b[37m\u001b[0m \u001b[1m11s\u001b[0m 69ms/step - accuracy: 0.9517 - loss: 0.1391 - val_accuracy: 0.6922 - val_loss: 1.3697\n",
      "Epoch 12/100\n",
      "\u001b[1m160/160\u001b[0m \u001b[32m━━━━━━━━━━━━━━━━━━━━\u001b[0m\u001b[37m\u001b[0m \u001b[1m0s\u001b[0m 66ms/step - accuracy: 0.9437 - loss: 0.1390\n",
      "Epoch 12: val_accuracy did not improve from 0.78438\n",
      "\u001b[1m160/160\u001b[0m \u001b[32m━━━━━━━━━━━━━━━━━━━━\u001b[0m\u001b[37m\u001b[0m \u001b[1m11s\u001b[0m 69ms/step - accuracy: 0.9438 - loss: 0.1389 - val_accuracy: 0.7812 - val_loss: 0.8619\n",
      "Epoch 13/100\n",
      "\u001b[1m160/160\u001b[0m \u001b[32m━━━━━━━━━━━━━━━━━━━━\u001b[0m\u001b[37m\u001b[0m \u001b[1m0s\u001b[0m 66ms/step - accuracy: 0.9527 - loss: 0.1336\n",
      "Epoch 13: val_accuracy improved from 0.78438 to 0.79062, saving model to models/n_mfcc_20/CNN_2D_basic_bs16_ep100_lr0.001.keras\n",
      "\u001b[1m160/160\u001b[0m \u001b[32m━━━━━━━━━━━━━━━━━━━━\u001b[0m\u001b[37m\u001b[0m \u001b[1m11s\u001b[0m 70ms/step - accuracy: 0.9527 - loss: 0.1335 - val_accuracy: 0.7906 - val_loss: 0.7848\n",
      "Epoch 14/100\n",
      "\u001b[1m160/160\u001b[0m \u001b[32m━━━━━━━━━━━━━━━━━━━━\u001b[0m\u001b[37m\u001b[0m \u001b[1m0s\u001b[0m 66ms/step - accuracy: 0.9706 - loss: 0.0964\n",
      "Epoch 14: val_accuracy did not improve from 0.79062\n",
      "\u001b[1m160/160\u001b[0m \u001b[32m━━━━━━━━━━━━━━━━━━━━\u001b[0m\u001b[37m\u001b[0m \u001b[1m11s\u001b[0m 69ms/step - accuracy: 0.9706 - loss: 0.0964 - val_accuracy: 0.6875 - val_loss: 1.4828\n",
      "Epoch 15/100\n",
      "\u001b[1m160/160\u001b[0m \u001b[32m━━━━━━━━━━━━━━━━━━━━\u001b[0m\u001b[37m\u001b[0m \u001b[1m0s\u001b[0m 67ms/step - accuracy: 0.9702 - loss: 0.1036\n",
      "Epoch 15: val_accuracy improved from 0.79062 to 0.81563, saving model to models/n_mfcc_20/CNN_2D_basic_bs16_ep100_lr0.001.keras\n",
      "\u001b[1m160/160\u001b[0m \u001b[32m━━━━━━━━━━━━━━━━━━━━\u001b[0m\u001b[37m\u001b[0m \u001b[1m11s\u001b[0m 70ms/step - accuracy: 0.9702 - loss: 0.1035 - val_accuracy: 0.8156 - val_loss: 0.6964\n",
      "Epoch 16/100\n",
      "\u001b[1m160/160\u001b[0m \u001b[32m━━━━━━━━━━━━━━━━━━━━\u001b[0m\u001b[37m\u001b[0m \u001b[1m0s\u001b[0m 66ms/step - accuracy: 0.9702 - loss: 0.0801\n",
      "Epoch 16: val_accuracy improved from 0.81563 to 0.83438, saving model to models/n_mfcc_20/CNN_2D_basic_bs16_ep100_lr0.001.keras\n",
      "\u001b[1m160/160\u001b[0m \u001b[32m━━━━━━━━━━━━━━━━━━━━\u001b[0m\u001b[37m\u001b[0m \u001b[1m11s\u001b[0m 70ms/step - accuracy: 0.9702 - loss: 0.0801 - val_accuracy: 0.8344 - val_loss: 0.7464\n",
      "Epoch 17/100\n",
      "\u001b[1m160/160\u001b[0m \u001b[32m━━━━━━━━━━━━━━━━━━━━\u001b[0m\u001b[37m\u001b[0m \u001b[1m0s\u001b[0m 66ms/step - accuracy: 0.9656 - loss: 0.1005\n",
      "Epoch 17: val_accuracy did not improve from 0.83438\n",
      "\u001b[1m160/160\u001b[0m \u001b[32m━━━━━━━━━━━━━━━━━━━━\u001b[0m\u001b[37m\u001b[0m \u001b[1m11s\u001b[0m 69ms/step - accuracy: 0.9657 - loss: 0.1004 - val_accuracy: 0.8328 - val_loss: 0.8069\n",
      "Epoch 18/100\n",
      "\u001b[1m160/160\u001b[0m \u001b[32m━━━━━━━━━━━━━━━━━━━━\u001b[0m\u001b[37m\u001b[0m \u001b[1m0s\u001b[0m 66ms/step - accuracy: 0.9776 - loss: 0.0771\n",
      "Epoch 18: val_accuracy did not improve from 0.83438\n",
      "\u001b[1m160/160\u001b[0m \u001b[32m━━━━━━━━━━━━━━━━━━━━\u001b[0m\u001b[37m\u001b[0m \u001b[1m11s\u001b[0m 69ms/step - accuracy: 0.9776 - loss: 0.0772 - val_accuracy: 0.7812 - val_loss: 1.0776\n",
      "Epoch 19/100\n",
      "\u001b[1m160/160\u001b[0m \u001b[32m━━━━━━━━━━━━━━━━━━━━\u001b[0m\u001b[37m\u001b[0m \u001b[1m0s\u001b[0m 66ms/step - accuracy: 0.9604 - loss: 0.1127\n",
      "Epoch 19: val_accuracy did not improve from 0.83438\n",
      "\u001b[1m160/160\u001b[0m \u001b[32m━━━━━━━━━━━━━━━━━━━━\u001b[0m\u001b[37m\u001b[0m \u001b[1m11s\u001b[0m 69ms/step - accuracy: 0.9603 - loss: 0.1129 - val_accuracy: 0.5141 - val_loss: 3.7149\n",
      "Epoch 20/100\n",
      "\u001b[1m160/160\u001b[0m \u001b[32m━━━━━━━━━━━━━━━━━━━━\u001b[0m\u001b[37m\u001b[0m \u001b[1m0s\u001b[0m 66ms/step - accuracy: 0.9649 - loss: 0.1061\n",
      "Epoch 20: val_accuracy did not improve from 0.83438\n",
      "\u001b[1m160/160\u001b[0m \u001b[32m━━━━━━━━━━━━━━━━━━━━\u001b[0m\u001b[37m\u001b[0m \u001b[1m11s\u001b[0m 69ms/step - accuracy: 0.9649 - loss: 0.1061 - val_accuracy: 0.8234 - val_loss: 0.7710\n"
     ]
    },
    {
     "name": "stderr",
     "output_type": "stream",
     "text": [
      "2024-12-09 22:55:36.209725: E tensorflow/core/grappler/optimizers/meta_optimizer.cc:961] PluggableGraphOptimizer failed: INVALID_ARGUMENT: Failed to deserialize the `graph_buf`.\n"
     ]
    },
    {
     "name": "stdout",
     "output_type": "stream",
     "text": [
      "\u001b[1m25/25\u001b[0m \u001b[32m━━━━━━━━━━━━━━━━━━━━\u001b[0m\u001b[37m\u001b[0m \u001b[1m1s\u001b[0m 15ms/step\n",
      "Résultat: {'n_mfcc': 20, 'model_type': 'CNN_2D_basic', 'batch_size': 16, 'epochs': 100, 'learning_rate': 0.001, 'accuracy': 0.8500000238418579, 'loss': 0.571241021156311, 'validation_accuracy': 0.8343750238418579, 'validation_loss': 0.6963542103767395, 'precision': 0.8611651365234982, 'recall': 0.85, 'f1_score': 0.8500787378524294}\n",
      "Résultats sauvegardés dans 'model_results.csv'.\n",
      "Entraînement du modèle: CNN_2D_basic, Batch Size: 16, Epochs: 100, Learning Rate: 0.0001\n"
     ]
    },
    {
     "name": "stderr",
     "output_type": "stream",
     "text": [
      "/Users/mathisgorvien/conda_envs/ia_deeplearning/lib/python3.9/site-packages/keras/src/layers/convolutional/base_conv.py:107: UserWarning: Do not pass an `input_shape`/`input_dim` argument to a layer. When using Sequential models, prefer using an `Input(shape)` object as the first layer in the model instead.\n",
      "  super().__init__(activity_regularizer=activity_regularizer, **kwargs)\n"
     ]
    },
    {
     "name": "stdout",
     "output_type": "stream",
     "text": [
      "Epoch 1/100\n",
      "\u001b[1m160/160\u001b[0m \u001b[32m━━━━━━━━━━━━━━━━━━━━\u001b[0m\u001b[37m\u001b[0m \u001b[1m0s\u001b[0m 68ms/step - accuracy: 0.1969 - loss: 2.4550\n",
      "Epoch 1: val_accuracy improved from -inf to 0.08281, saving model to models/n_mfcc_20/CNN_2D_basic_bs16_ep100_lr0.0001.keras\n",
      "\u001b[1m160/160\u001b[0m \u001b[32m━━━━━━━━━━━━━━━━━━━━\u001b[0m\u001b[37m\u001b[0m \u001b[1m15s\u001b[0m 74ms/step - accuracy: 0.1972 - loss: 2.4534 - val_accuracy: 0.0828 - val_loss: 6.2203\n",
      "Epoch 2/100\n",
      "\u001b[1m160/160\u001b[0m \u001b[32m━━━━━━━━━━━━━━━━━━━━\u001b[0m\u001b[37m\u001b[0m \u001b[1m0s\u001b[0m 66ms/step - accuracy: 0.3609 - loss: 1.8237\n",
      "Epoch 2: val_accuracy improved from 0.08281 to 0.08906, saving model to models/n_mfcc_20/CNN_2D_basic_bs16_ep100_lr0.0001.keras\n",
      "\u001b[1m160/160\u001b[0m \u001b[32m━━━━━━━━━━━━━━━━━━━━\u001b[0m\u001b[37m\u001b[0m \u001b[1m11s\u001b[0m 70ms/step - accuracy: 0.3610 - loss: 1.8233 - val_accuracy: 0.0891 - val_loss: 15.5070\n",
      "Epoch 3/100\n",
      "\u001b[1m160/160\u001b[0m \u001b[32m━━━━━━━━━━━━━━━━━━━━\u001b[0m\u001b[37m\u001b[0m \u001b[1m0s\u001b[0m 66ms/step - accuracy: 0.4461 - loss: 1.5636\n",
      "Epoch 3: val_accuracy did not improve from 0.08906\n",
      "\u001b[1m160/160\u001b[0m \u001b[32m━━━━━━━━━━━━━━━━━━━━\u001b[0m\u001b[37m\u001b[0m \u001b[1m11s\u001b[0m 68ms/step - accuracy: 0.4462 - loss: 1.5634 - val_accuracy: 0.0891 - val_loss: 27.4850\n",
      "Epoch 4/100\n",
      "\u001b[1m160/160\u001b[0m \u001b[32m━━━━━━━━━━━━━━━━━━━━\u001b[0m\u001b[37m\u001b[0m \u001b[1m0s\u001b[0m 67ms/step - accuracy: 0.5122 - loss: 1.3855\n",
      "Epoch 4: val_accuracy improved from 0.08906 to 0.09844, saving model to models/n_mfcc_20/CNN_2D_basic_bs16_ep100_lr0.0001.keras\n",
      "\u001b[1m160/160\u001b[0m \u001b[32m━━━━━━━━━━━━━━━━━━━━\u001b[0m\u001b[37m\u001b[0m \u001b[1m11s\u001b[0m 71ms/step - accuracy: 0.5123 - loss: 1.3853 - val_accuracy: 0.0984 - val_loss: 18.0809\n",
      "Epoch 5/100\n",
      "\u001b[1m160/160\u001b[0m \u001b[32m━━━━━━━━━━━━━━━━━━━━\u001b[0m\u001b[37m\u001b[0m \u001b[1m0s\u001b[0m 71ms/step - accuracy: 0.5694 - loss: 1.2502\n",
      "Epoch 5: val_accuracy improved from 0.09844 to 0.20469, saving model to models/n_mfcc_20/CNN_2D_basic_bs16_ep100_lr0.0001.keras\n",
      "\u001b[1m160/160\u001b[0m \u001b[32m━━━━━━━━━━━━━━━━━━━━\u001b[0m\u001b[37m\u001b[0m \u001b[1m12s\u001b[0m 75ms/step - accuracy: 0.5695 - loss: 1.2501 - val_accuracy: 0.2047 - val_loss: 6.5599\n",
      "Epoch 6/100\n",
      "\u001b[1m160/160\u001b[0m \u001b[32m━━━━━━━━━━━━━━━━━━━━\u001b[0m\u001b[37m\u001b[0m \u001b[1m0s\u001b[0m 70ms/step - accuracy: 0.6328 - loss: 1.1131\n",
      "Epoch 6: val_accuracy improved from 0.20469 to 0.25781, saving model to models/n_mfcc_20/CNN_2D_basic_bs16_ep100_lr0.0001.keras\n",
      "\u001b[1m160/160\u001b[0m \u001b[32m━━━━━━━━━━━━━━━━━━━━\u001b[0m\u001b[37m\u001b[0m \u001b[1m12s\u001b[0m 74ms/step - accuracy: 0.6328 - loss: 1.1130 - val_accuracy: 0.2578 - val_loss: 6.7911\n"
     ]
    },
    {
     "name": "stderr",
     "output_type": "stream",
     "text": [
      "2024-12-09 22:56:50.270162: E tensorflow/core/grappler/optimizers/meta_optimizer.cc:961] PluggableGraphOptimizer failed: INVALID_ARGUMENT: Failed to deserialize the `graph_buf`.\n"
     ]
    },
    {
     "name": "stdout",
     "output_type": "stream",
     "text": [
      "\u001b[1m25/25\u001b[0m \u001b[32m━━━━━━━━━━━━━━━━━━━━\u001b[0m\u001b[37m\u001b[0m \u001b[1m1s\u001b[0m 17ms/step\n",
      "Résultat: {'n_mfcc': 20, 'model_type': 'CNN_2D_basic', 'batch_size': 16, 'epochs': 100, 'learning_rate': 0.0001, 'accuracy': 0.12125000357627869, 'loss': 5.9182257652282715, 'validation_accuracy': 0.2578125, 'validation_loss': 6.220316410064697, 'precision': 0.01728208826503301, 'recall': 0.12125, 'f1_score': 0.029418025362318842}\n",
      "Résultats sauvegardés dans 'model_results.csv'.\n",
      "Entraînement du modèle: CNN_2D_basic, Batch Size: 16, Epochs: 100, Learning Rate: 1e-05\n"
     ]
    },
    {
     "name": "stderr",
     "output_type": "stream",
     "text": [
      "/Users/mathisgorvien/conda_envs/ia_deeplearning/lib/python3.9/site-packages/keras/src/layers/convolutional/base_conv.py:107: UserWarning: Do not pass an `input_shape`/`input_dim` argument to a layer. When using Sequential models, prefer using an `Input(shape)` object as the first layer in the model instead.\n",
      "  super().__init__(activity_regularizer=activity_regularizer, **kwargs)\n"
     ]
    },
    {
     "name": "stdout",
     "output_type": "stream",
     "text": [
      "Epoch 1/100\n",
      "\u001b[1m160/160\u001b[0m \u001b[32m━━━━━━━━━━━━━━━━━━━━\u001b[0m\u001b[37m\u001b[0m \u001b[1m0s\u001b[0m 72ms/step - accuracy: 0.1251 - loss: 3.1185\n",
      "Epoch 1: val_accuracy improved from -inf to 0.08906, saving model to models/n_mfcc_20/CNN_2D_basic_bs16_ep100_lr1e-05.keras\n",
      "\u001b[1m160/160\u001b[0m \u001b[32m━━━━━━━━━━━━━━━━━━━━\u001b[0m\u001b[37m\u001b[0m \u001b[1m16s\u001b[0m 79ms/step - accuracy: 0.1252 - loss: 3.1172 - val_accuracy: 0.0891 - val_loss: 3.5544\n",
      "Epoch 2/100\n",
      "\u001b[1m160/160\u001b[0m \u001b[32m━━━━━━━━━━━━━━━━━━━━\u001b[0m\u001b[37m\u001b[0m \u001b[1m0s\u001b[0m 70ms/step - accuracy: 0.2170 - loss: 2.5211\n",
      "Epoch 2: val_accuracy did not improve from 0.08906\n",
      "\u001b[1m160/160\u001b[0m \u001b[32m━━━━━━━━━━━━━━━━━━━━\u001b[0m\u001b[37m\u001b[0m \u001b[1m12s\u001b[0m 72ms/step - accuracy: 0.2170 - loss: 2.5209 - val_accuracy: 0.0891 - val_loss: 7.8169\n",
      "Epoch 3/100\n",
      "\u001b[1m160/160\u001b[0m \u001b[32m━━━━━━━━━━━━━━━━━━━━\u001b[0m\u001b[37m\u001b[0m \u001b[1m0s\u001b[0m 70ms/step - accuracy: 0.2394 - loss: 2.3054\n",
      "Epoch 3: val_accuracy did not improve from 0.08906\n",
      "\u001b[1m160/160\u001b[0m \u001b[32m━━━━━━━━━━━━━━━━━━━━\u001b[0m\u001b[37m\u001b[0m \u001b[1m12s\u001b[0m 73ms/step - accuracy: 0.2394 - loss: 2.3053 - val_accuracy: 0.0859 - val_loss: 9.0170\n",
      "Epoch 4/100\n",
      "\u001b[1m160/160\u001b[0m \u001b[32m━━━━━━━━━━━━━━━━━━━━\u001b[0m\u001b[37m\u001b[0m \u001b[1m0s\u001b[0m 70ms/step - accuracy: 0.2631 - loss: 2.1846\n",
      "Epoch 4: val_accuracy did not improve from 0.08906\n",
      "\u001b[1m160/160\u001b[0m \u001b[32m━━━━━━━━━━━━━━━━━━━━\u001b[0m\u001b[37m\u001b[0m \u001b[1m12s\u001b[0m 73ms/step - accuracy: 0.2631 - loss: 2.1845 - val_accuracy: 0.0734 - val_loss: 6.6716\n",
      "Epoch 5/100\n",
      "\u001b[1m160/160\u001b[0m \u001b[32m━━━━━━━━━━━━━━━━━━━━\u001b[0m\u001b[37m\u001b[0m \u001b[1m0s\u001b[0m 70ms/step - accuracy: 0.2889 - loss: 2.0523\n",
      "Epoch 5: val_accuracy improved from 0.08906 to 0.12344, saving model to models/n_mfcc_20/CNN_2D_basic_bs16_ep100_lr1e-05.keras\n",
      "\u001b[1m160/160\u001b[0m \u001b[32m━━━━━━━━━━━━━━━━━━━━\u001b[0m\u001b[37m\u001b[0m \u001b[1m12s\u001b[0m 74ms/step - accuracy: 0.2889 - loss: 2.0524 - val_accuracy: 0.1234 - val_loss: 4.6426\n",
      "Epoch 6/100\n",
      "\u001b[1m160/160\u001b[0m \u001b[32m━━━━━━━━━━━━━━━━━━━━\u001b[0m\u001b[37m\u001b[0m \u001b[1m0s\u001b[0m 70ms/step - accuracy: 0.3095 - loss: 1.9836\n",
      "Epoch 6: val_accuracy improved from 0.12344 to 0.14844, saving model to models/n_mfcc_20/CNN_2D_basic_bs16_ep100_lr1e-05.keras\n",
      "\u001b[1m160/160\u001b[0m \u001b[32m━━━━━━━━━━━━━━━━━━━━\u001b[0m\u001b[37m\u001b[0m \u001b[1m12s\u001b[0m 74ms/step - accuracy: 0.3096 - loss: 1.9837 - val_accuracy: 0.1484 - val_loss: 4.1212\n"
     ]
    },
    {
     "name": "stderr",
     "output_type": "stream",
     "text": [
      "2024-12-09 22:58:06.585850: E tensorflow/core/grappler/optimizers/meta_optimizer.cc:961] PluggableGraphOptimizer failed: INVALID_ARGUMENT: Failed to deserialize the `graph_buf`.\n"
     ]
    },
    {
     "name": "stdout",
     "output_type": "stream",
     "text": [
      "\u001b[1m25/25\u001b[0m \u001b[32m━━━━━━━━━━━━━━━━━━━━\u001b[0m\u001b[37m\u001b[0m \u001b[1m1s\u001b[0m 17ms/step\n",
      "Résultat: {'n_mfcc': 20, 'model_type': 'CNN_2D_basic', 'batch_size': 16, 'epochs': 100, 'learning_rate': 1e-05, 'accuracy': 0.09375, 'loss': 3.495579481124878, 'validation_accuracy': 0.1484375, 'validation_loss': 3.554377317428589, 'precision': 0.0087890625, 'recall': 0.09375, 'f1_score': 0.016071428571428573}\n",
      "Résultats sauvegardés dans 'model_results.csv'.\n",
      "Entraînement du modèle: CNN_2D_basic, Batch Size: 32, Epochs: 20, Learning Rate: 0.001\n"
     ]
    },
    {
     "name": "stderr",
     "output_type": "stream",
     "text": [
      "/Users/mathisgorvien/conda_envs/ia_deeplearning/lib/python3.9/site-packages/keras/src/layers/convolutional/base_conv.py:107: UserWarning: Do not pass an `input_shape`/`input_dim` argument to a layer. When using Sequential models, prefer using an `Input(shape)` object as the first layer in the model instead.\n",
      "  super().__init__(activity_regularizer=activity_regularizer, **kwargs)\n"
     ]
    },
    {
     "name": "stdout",
     "output_type": "stream",
     "text": [
      "Epoch 1/20\n",
      "\u001b[1m80/80\u001b[0m \u001b[32m━━━━━━━━━━━━━━━━━━━━\u001b[0m\u001b[37m\u001b[0m \u001b[1m0s\u001b[0m 112ms/step - accuracy: 0.2658 - loss: 2.0878\n",
      "Epoch 1: val_accuracy improved from -inf to 0.11563, saving model to models/n_mfcc_20/CNN_2D_basic_bs32_ep20_lr0.001.keras\n",
      "\u001b[1m80/80\u001b[0m \u001b[32m━━━━━━━━━━━━━━━━━━━━\u001b[0m\u001b[37m\u001b[0m \u001b[1m13s\u001b[0m 127ms/step - accuracy: 0.2668 - loss: 2.0846 - val_accuracy: 0.1156 - val_loss: 13.6647\n",
      "Epoch 2/20\n",
      "\u001b[1m80/80\u001b[0m \u001b[32m━━━━━━━━━━━━━━━━━━━━\u001b[0m\u001b[37m\u001b[0m \u001b[1m0s\u001b[0m 105ms/step - accuracy: 0.4776 - loss: 1.5057\n",
      "Epoch 2: val_accuracy did not improve from 0.11563\n",
      "\u001b[1m80/80\u001b[0m \u001b[32m━━━━━━━━━━━━━━━━━━━━\u001b[0m\u001b[37m\u001b[0m \u001b[1m9s\u001b[0m 110ms/step - accuracy: 0.4781 - loss: 1.5042 - val_accuracy: 0.1156 - val_loss: 16.8890\n",
      "Epoch 3/20\n",
      "\u001b[1m80/80\u001b[0m \u001b[32m━━━━━━━━━━━━━━━━━━━━\u001b[0m\u001b[37m\u001b[0m \u001b[1m0s\u001b[0m 104ms/step - accuracy: 0.6293 - loss: 1.0902\n",
      "Epoch 3: val_accuracy did not improve from 0.11563\n",
      "\u001b[1m80/80\u001b[0m \u001b[32m━━━━━━━━━━━━━━━━━━━━\u001b[0m\u001b[37m\u001b[0m \u001b[1m9s\u001b[0m 109ms/step - accuracy: 0.6295 - loss: 1.0894 - val_accuracy: 0.0875 - val_loss: 5.4649\n",
      "Epoch 4/20\n",
      "\u001b[1m80/80\u001b[0m \u001b[32m━━━━━━━━━━━━━━━━━━━━\u001b[0m\u001b[37m\u001b[0m \u001b[1m0s\u001b[0m 104ms/step - accuracy: 0.7595 - loss: 0.7387\n",
      "Epoch 4: val_accuracy did not improve from 0.11563\n",
      "\u001b[1m80/80\u001b[0m \u001b[32m━━━━━━━━━━━━━━━━━━━━\u001b[0m\u001b[37m\u001b[0m \u001b[1m9s\u001b[0m 109ms/step - accuracy: 0.7595 - loss: 0.7387 - val_accuracy: 0.0984 - val_loss: 6.4656\n",
      "Epoch 5/20\n",
      "\u001b[1m80/80\u001b[0m \u001b[32m━━━━━━━━━━━━━━━━━━━━\u001b[0m\u001b[37m\u001b[0m \u001b[1m0s\u001b[0m 103ms/step - accuracy: 0.8365 - loss: 0.5170\n",
      "Epoch 5: val_accuracy did not improve from 0.11563\n",
      "\u001b[1m80/80\u001b[0m \u001b[32m━━━━━━━━━━━━━━━━━━━━\u001b[0m\u001b[37m\u001b[0m \u001b[1m9s\u001b[0m 107ms/step - accuracy: 0.8365 - loss: 0.5167 - val_accuracy: 0.1125 - val_loss: 15.7060\n",
      "Epoch 6/20\n",
      "\u001b[1m80/80\u001b[0m \u001b[32m━━━━━━━━━━━━━━━━━━━━\u001b[0m\u001b[37m\u001b[0m \u001b[1m0s\u001b[0m 103ms/step - accuracy: 0.9078 - loss: 0.2909\n",
      "Epoch 6: val_accuracy improved from 0.11563 to 0.16406, saving model to models/n_mfcc_20/CNN_2D_basic_bs32_ep20_lr0.001.keras\n",
      "\u001b[1m80/80\u001b[0m \u001b[32m━━━━━━━━━━━━━━━━━━━━\u001b[0m\u001b[37m\u001b[0m \u001b[1m9s\u001b[0m 111ms/step - accuracy: 0.9080 - loss: 0.2907 - val_accuracy: 0.1641 - val_loss: 8.7687\n",
      "Epoch 7/20\n",
      "\u001b[1m80/80\u001b[0m \u001b[32m━━━━━━━━━━━━━━━━━━━━\u001b[0m\u001b[37m\u001b[0m \u001b[1m0s\u001b[0m 103ms/step - accuracy: 0.9353 - loss: 0.2024\n",
      "Epoch 7: val_accuracy did not improve from 0.16406\n",
      "\u001b[1m80/80\u001b[0m \u001b[32m━━━━━━━━━━━━━━━━━━━━\u001b[0m\u001b[37m\u001b[0m \u001b[1m9s\u001b[0m 108ms/step - accuracy: 0.9353 - loss: 0.2025 - val_accuracy: 0.1328 - val_loss: 8.3959\n",
      "Epoch 8/20\n",
      "\u001b[1m80/80\u001b[0m \u001b[32m━━━━━━━━━━━━━━━━━━━━\u001b[0m\u001b[37m\u001b[0m \u001b[1m0s\u001b[0m 105ms/step - accuracy: 0.9424 - loss: 0.1930\n",
      "Epoch 8: val_accuracy improved from 0.16406 to 0.32344, saving model to models/n_mfcc_20/CNN_2D_basic_bs32_ep20_lr0.001.keras\n",
      "\u001b[1m80/80\u001b[0m \u001b[32m━━━━━━━━━━━━━━━━━━━━\u001b[0m\u001b[37m\u001b[0m \u001b[1m9s\u001b[0m 113ms/step - accuracy: 0.9425 - loss: 0.1929 - val_accuracy: 0.3234 - val_loss: 5.1358\n",
      "Epoch 9/20\n",
      "\u001b[1m80/80\u001b[0m \u001b[32m━━━━━━━━━━━━━━━━━━━━\u001b[0m\u001b[37m\u001b[0m \u001b[1m0s\u001b[0m 105ms/step - accuracy: 0.9637 - loss: 0.1270\n",
      "Epoch 9: val_accuracy improved from 0.32344 to 0.66406, saving model to models/n_mfcc_20/CNN_2D_basic_bs32_ep20_lr0.001.keras\n",
      "\u001b[1m80/80\u001b[0m \u001b[32m━━━━━━━━━━━━━━━━━━━━\u001b[0m\u001b[37m\u001b[0m \u001b[1m9s\u001b[0m 112ms/step - accuracy: 0.9637 - loss: 0.1270 - val_accuracy: 0.6641 - val_loss: 1.4589\n",
      "Epoch 10/20\n",
      "\u001b[1m80/80\u001b[0m \u001b[32m━━━━━━━━━━━━━━━━━━━━\u001b[0m\u001b[37m\u001b[0m \u001b[1m0s\u001b[0m 105ms/step - accuracy: 0.9721 - loss: 0.0912\n",
      "Epoch 10: val_accuracy improved from 0.66406 to 0.73125, saving model to models/n_mfcc_20/CNN_2D_basic_bs32_ep20_lr0.001.keras\n",
      "\u001b[1m80/80\u001b[0m \u001b[32m━━━━━━━━━━━━━━━━━━━━\u001b[0m\u001b[37m\u001b[0m \u001b[1m9s\u001b[0m 113ms/step - accuracy: 0.9721 - loss: 0.0913 - val_accuracy: 0.7312 - val_loss: 1.1567\n",
      "Epoch 11/20\n",
      "\u001b[1m80/80\u001b[0m \u001b[32m━━━━━━━━━━━━━━━━━━━━\u001b[0m\u001b[37m\u001b[0m \u001b[1m0s\u001b[0m 105ms/step - accuracy: 0.9684 - loss: 0.0903\n",
      "Epoch 11: val_accuracy improved from 0.73125 to 0.76406, saving model to models/n_mfcc_20/CNN_2D_basic_bs32_ep20_lr0.001.keras\n",
      "\u001b[1m80/80\u001b[0m \u001b[32m━━━━━━━━━━━━━━━━━━━━\u001b[0m\u001b[37m\u001b[0m \u001b[1m9s\u001b[0m 112ms/step - accuracy: 0.9684 - loss: 0.0903 - val_accuracy: 0.7641 - val_loss: 0.9674\n",
      "Epoch 12/20\n",
      "\u001b[1m80/80\u001b[0m \u001b[32m━━━━━━━━━━━━━━━━━━━━\u001b[0m\u001b[37m\u001b[0m \u001b[1m0s\u001b[0m 104ms/step - accuracy: 0.9672 - loss: 0.0880\n",
      "Epoch 12: val_accuracy improved from 0.76406 to 0.80937, saving model to models/n_mfcc_20/CNN_2D_basic_bs32_ep20_lr0.001.keras\n",
      "\u001b[1m80/80\u001b[0m \u001b[32m━━━━━━━━━━━━━━━━━━━━\u001b[0m\u001b[37m\u001b[0m \u001b[1m9s\u001b[0m 111ms/step - accuracy: 0.9672 - loss: 0.0881 - val_accuracy: 0.8094 - val_loss: 0.6681\n",
      "Epoch 13/20\n",
      "\u001b[1m80/80\u001b[0m \u001b[32m━━━━━━━━━━━━━━━━━━━━\u001b[0m\u001b[37m\u001b[0m \u001b[1m0s\u001b[0m 107ms/step - accuracy: 0.9683 - loss: 0.0904\n",
      "Epoch 13: val_accuracy did not improve from 0.80937\n",
      "\u001b[1m80/80\u001b[0m \u001b[32m━━━━━━━━━━━━━━━━━━━━\u001b[0m\u001b[37m\u001b[0m \u001b[1m9s\u001b[0m 111ms/step - accuracy: 0.9683 - loss: 0.0904 - val_accuracy: 0.7422 - val_loss: 1.0358\n",
      "Epoch 14/20\n",
      "\u001b[1m80/80\u001b[0m \u001b[32m━━━━━━━━━━━━━━━━━━━━\u001b[0m\u001b[37m\u001b[0m \u001b[1m0s\u001b[0m 103ms/step - accuracy: 0.9706 - loss: 0.0885\n",
      "Epoch 14: val_accuracy did not improve from 0.80937\n",
      "\u001b[1m80/80\u001b[0m \u001b[32m━━━━━━━━━━━━━━━━━━━━\u001b[0m\u001b[37m\u001b[0m \u001b[1m9s\u001b[0m 108ms/step - accuracy: 0.9706 - loss: 0.0886 - val_accuracy: 0.7500 - val_loss: 1.1187\n",
      "Epoch 15/20\n",
      "\u001b[1m80/80\u001b[0m \u001b[32m━━━━━━━━━━━━━━━━━━━━\u001b[0m\u001b[37m\u001b[0m \u001b[1m0s\u001b[0m 104ms/step - accuracy: 0.9781 - loss: 0.0790\n",
      "Epoch 15: val_accuracy improved from 0.80937 to 0.82031, saving model to models/n_mfcc_20/CNN_2D_basic_bs32_ep20_lr0.001.keras\n",
      "\u001b[1m80/80\u001b[0m \u001b[32m━━━━━━━━━━━━━━━━━━━━\u001b[0m\u001b[37m\u001b[0m \u001b[1m9s\u001b[0m 112ms/step - accuracy: 0.9780 - loss: 0.0792 - val_accuracy: 0.8203 - val_loss: 0.6195\n",
      "Epoch 16/20\n",
      "\u001b[1m80/80\u001b[0m \u001b[32m━━━━━━━━━━━━━━━━━━━━\u001b[0m\u001b[37m\u001b[0m \u001b[1m0s\u001b[0m 103ms/step - accuracy: 0.9809 - loss: 0.0667\n",
      "Epoch 16: val_accuracy improved from 0.82031 to 0.83750, saving model to models/n_mfcc_20/CNN_2D_basic_bs32_ep20_lr0.001.keras\n",
      "\u001b[1m80/80\u001b[0m \u001b[32m━━━━━━━━━━━━━━━━━━━━\u001b[0m\u001b[37m\u001b[0m \u001b[1m9s\u001b[0m 110ms/step - accuracy: 0.9809 - loss: 0.0667 - val_accuracy: 0.8375 - val_loss: 0.6549\n",
      "Epoch 17/20\n",
      "\u001b[1m80/80\u001b[0m \u001b[32m━━━━━━━━━━━━━━━━━━━━\u001b[0m\u001b[37m\u001b[0m \u001b[1m0s\u001b[0m 103ms/step - accuracy: 0.9831 - loss: 0.0634\n",
      "Epoch 17: val_accuracy improved from 0.83750 to 0.84375, saving model to models/n_mfcc_20/CNN_2D_basic_bs32_ep20_lr0.001.keras\n",
      "\u001b[1m80/80\u001b[0m \u001b[32m━━━━━━━━━━━━━━━━━━━━\u001b[0m\u001b[37m\u001b[0m \u001b[1m9s\u001b[0m 110ms/step - accuracy: 0.9831 - loss: 0.0633 - val_accuracy: 0.8438 - val_loss: 0.5999\n",
      "Epoch 18/20\n",
      "\u001b[1m80/80\u001b[0m \u001b[32m━━━━━━━━━━━━━━━━━━━━\u001b[0m\u001b[37m\u001b[0m \u001b[1m0s\u001b[0m 102ms/step - accuracy: 0.9879 - loss: 0.0368\n",
      "Epoch 18: val_accuracy did not improve from 0.84375\n",
      "\u001b[1m80/80\u001b[0m \u001b[32m━━━━━━━━━━━━━━━━━━━━\u001b[0m\u001b[37m\u001b[0m \u001b[1m9s\u001b[0m 107ms/step - accuracy: 0.9879 - loss: 0.0369 - val_accuracy: 0.7547 - val_loss: 1.2461\n",
      "Epoch 19/20\n",
      "\u001b[1m80/80\u001b[0m \u001b[32m━━━━━━━━━━━━━━━━━━━━\u001b[0m\u001b[37m\u001b[0m \u001b[1m0s\u001b[0m 104ms/step - accuracy: 0.9760 - loss: 0.0689\n",
      "Epoch 19: val_accuracy did not improve from 0.84375\n",
      "\u001b[1m80/80\u001b[0m \u001b[32m━━━━━━━━━━━━━━━━━━━━\u001b[0m\u001b[37m\u001b[0m \u001b[1m9s\u001b[0m 109ms/step - accuracy: 0.9761 - loss: 0.0688 - val_accuracy: 0.7625 - val_loss: 1.1196\n",
      "Epoch 20/20\n",
      "\u001b[1m80/80\u001b[0m \u001b[32m━━━━━━━━━━━━━━━━━━━━\u001b[0m\u001b[37m\u001b[0m \u001b[1m0s\u001b[0m 104ms/step - accuracy: 0.9809 - loss: 0.0596\n",
      "Epoch 20: val_accuracy did not improve from 0.84375\n",
      "\u001b[1m80/80\u001b[0m \u001b[32m━━━━━━━━━━━━━━━━━━━━\u001b[0m\u001b[37m\u001b[0m \u001b[1m9s\u001b[0m 108ms/step - accuracy: 0.9809 - loss: 0.0597 - val_accuracy: 0.7750 - val_loss: 1.0655\n",
      "\u001b[1m 1/25\u001b[0m \u001b[37m━━━━━━━━━━━━━━━━━━━━\u001b[0m \u001b[1m5s\u001b[0m 220ms/step"
     ]
    },
    {
     "name": "stderr",
     "output_type": "stream",
     "text": [
      "2024-12-09 23:01:09.935479: E tensorflow/core/grappler/optimizers/meta_optimizer.cc:961] PluggableGraphOptimizer failed: INVALID_ARGUMENT: Failed to deserialize the `graph_buf`.\n"
     ]
    },
    {
     "name": "stdout",
     "output_type": "stream",
     "text": [
      "\u001b[1m25/25\u001b[0m \u001b[32m━━━━━━━━━━━━━━━━━━━━\u001b[0m\u001b[37m\u001b[0m \u001b[1m1s\u001b[0m 16ms/step\n",
      "Résultat: {'n_mfcc': 20, 'model_type': 'CNN_2D_basic', 'batch_size': 32, 'epochs': 20, 'learning_rate': 0.001, 'accuracy': 0.8637499809265137, 'loss': 0.5411103963851929, 'validation_accuracy': 0.84375, 'validation_loss': 0.5998951196670532, 'precision': 0.8736216725693045, 'recall': 0.86375, 'f1_score': 0.8644965699447273}\n",
      "Résultats sauvegardés dans 'model_results.csv'.\n",
      "Entraînement du modèle: CNN_2D_basic, Batch Size: 32, Epochs: 20, Learning Rate: 0.0001\n"
     ]
    },
    {
     "name": "stderr",
     "output_type": "stream",
     "text": [
      "/Users/mathisgorvien/conda_envs/ia_deeplearning/lib/python3.9/site-packages/keras/src/layers/convolutional/base_conv.py:107: UserWarning: Do not pass an `input_shape`/`input_dim` argument to a layer. When using Sequential models, prefer using an `Input(shape)` object as the first layer in the model instead.\n",
      "  super().__init__(activity_regularizer=activity_regularizer, **kwargs)\n"
     ]
    },
    {
     "name": "stdout",
     "output_type": "stream",
     "text": [
      "Epoch 1/20\n",
      "\u001b[1m80/80\u001b[0m \u001b[32m━━━━━━━━━━━━━━━━━━━━\u001b[0m\u001b[37m\u001b[0m \u001b[1m0s\u001b[0m 110ms/step - accuracy: 0.1770 - loss: 2.6321\n",
      "Epoch 1: val_accuracy improved from -inf to 0.10000, saving model to models/n_mfcc_20/CNN_2D_basic_bs32_ep20_lr0.0001.keras\n",
      "\u001b[1m80/80\u001b[0m \u001b[32m━━━━━━━━━━━━━━━━━━━━\u001b[0m\u001b[37m\u001b[0m \u001b[1m13s\u001b[0m 124ms/step - accuracy: 0.1778 - loss: 2.6280 - val_accuracy: 0.1000 - val_loss: 4.5696\n",
      "Epoch 2/20\n",
      "\u001b[1m80/80\u001b[0m \u001b[32m━━━━━━━━━━━━━━━━━━━━\u001b[0m\u001b[37m\u001b[0m \u001b[1m0s\u001b[0m 104ms/step - accuracy: 0.3404 - loss: 1.8384\n",
      "Epoch 2: val_accuracy did not improve from 0.10000\n",
      "\u001b[1m80/80\u001b[0m \u001b[32m━━━━━━━━━━━━━━━━━━━━\u001b[0m\u001b[37m\u001b[0m \u001b[1m9s\u001b[0m 109ms/step - accuracy: 0.3405 - loss: 1.8382 - val_accuracy: 0.1000 - val_loss: 7.0186\n",
      "Epoch 3/20\n",
      "\u001b[1m80/80\u001b[0m \u001b[32m━━━━━━━━━━━━━━━━━━━━\u001b[0m\u001b[37m\u001b[0m \u001b[1m0s\u001b[0m 94ms/step - accuracy: 0.4335 - loss: 1.6376\n",
      "Epoch 3: val_accuracy improved from 0.10000 to 0.10469, saving model to models/n_mfcc_20/CNN_2D_basic_bs32_ep20_lr0.0001.keras\n",
      "\u001b[1m80/80\u001b[0m \u001b[32m━━━━━━━━━━━━━━━━━━━━\u001b[0m\u001b[37m\u001b[0m \u001b[1m8s\u001b[0m 101ms/step - accuracy: 0.4336 - loss: 1.6372 - val_accuracy: 0.1047 - val_loss: 9.8492\n",
      "Epoch 4/20\n",
      "\u001b[1m80/80\u001b[0m \u001b[32m━━━━━━━━━━━━━━━━━━━━\u001b[0m\u001b[37m\u001b[0m \u001b[1m0s\u001b[0m 93ms/step - accuracy: 0.4829 - loss: 1.4768\n",
      "Epoch 4: val_accuracy did not improve from 0.10469\n",
      "\u001b[1m80/80\u001b[0m \u001b[32m━━━━━━━━━━━━━━━━━━━━\u001b[0m\u001b[37m\u001b[0m \u001b[1m8s\u001b[0m 97ms/step - accuracy: 0.4831 - loss: 1.4763 - val_accuracy: 0.1016 - val_loss: 13.6235\n",
      "Epoch 5/20\n",
      "\u001b[1m80/80\u001b[0m \u001b[32m━━━━━━━━━━━━━━━━━━━━\u001b[0m\u001b[37m\u001b[0m \u001b[1m0s\u001b[0m 93ms/step - accuracy: 0.5377 - loss: 1.3128\n",
      "Epoch 5: val_accuracy improved from 0.10469 to 0.11094, saving model to models/n_mfcc_20/CNN_2D_basic_bs32_ep20_lr0.0001.keras\n",
      "\u001b[1m80/80\u001b[0m \u001b[32m━━━━━━━━━━━━━━━━━━━━\u001b[0m\u001b[37m\u001b[0m \u001b[1m8s\u001b[0m 100ms/step - accuracy: 0.5380 - loss: 1.3124 - val_accuracy: 0.1109 - val_loss: 15.8906\n",
      "Epoch 6/20\n",
      "\u001b[1m80/80\u001b[0m \u001b[32m━━━━━━━━━━━━━━━━━━━━\u001b[0m\u001b[37m\u001b[0m \u001b[1m0s\u001b[0m 92ms/step - accuracy: 0.6034 - loss: 1.1889\n",
      "Epoch 6: val_accuracy did not improve from 0.11094\n",
      "\u001b[1m80/80\u001b[0m \u001b[32m━━━━━━━━━━━━━━━━━━━━\u001b[0m\u001b[37m\u001b[0m \u001b[1m8s\u001b[0m 96ms/step - accuracy: 0.6034 - loss: 1.1887 - val_accuracy: 0.1063 - val_loss: 18.1173\n",
      "\u001b[1m25/25\u001b[0m \u001b[32m━━━━━━━━━━━━━━━━━━━━\u001b[0m\u001b[37m\u001b[0m \u001b[1m1s\u001b[0m 15ms/step\n",
      "Résultat: {'n_mfcc': 20, 'model_type': 'CNN_2D_basic', 'batch_size': 32, 'epochs': 20, 'learning_rate': 0.0001, 'accuracy': 0.09000000357627869, 'loss': 4.765878200531006, 'validation_accuracy': 0.11093749850988388, 'validation_loss': 4.5695881843566895, 'precision': 0.0081, 'recall': 0.09, 'f1_score': 0.014862385321100917}\n",
      "Résultats sauvegardés dans 'model_results.csv'.\n",
      "Entraînement du modèle: CNN_2D_basic, Batch Size: 32, Epochs: 20, Learning Rate: 1e-05\n"
     ]
    },
    {
     "name": "stderr",
     "output_type": "stream",
     "text": [
      "/Users/mathisgorvien/conda_envs/ia_deeplearning/lib/python3.9/site-packages/keras/src/layers/convolutional/base_conv.py:107: UserWarning: Do not pass an `input_shape`/`input_dim` argument to a layer. When using Sequential models, prefer using an `Input(shape)` object as the first layer in the model instead.\n",
      "  super().__init__(activity_regularizer=activity_regularizer, **kwargs)\n"
     ]
    },
    {
     "name": "stdout",
     "output_type": "stream",
     "text": [
      "Epoch 1/20\n"
     ]
    },
    {
     "name": "stderr",
     "output_type": "stream",
     "text": [
      "2024-12-09 23:02:10.122835: E tensorflow/core/grappler/optimizers/meta_optimizer.cc:961] PluggableGraphOptimizer failed: INVALID_ARGUMENT: Failed to deserialize the `graph_buf`.\n"
     ]
    },
    {
     "name": "stdout",
     "output_type": "stream",
     "text": [
      "\u001b[1m80/80\u001b[0m \u001b[32m━━━━━━━━━━━━━━━━━━━━\u001b[0m\u001b[37m\u001b[0m \u001b[1m0s\u001b[0m 102ms/step - accuracy: 0.1317 - loss: 2.9681\n",
      "Epoch 1: val_accuracy improved from -inf to 0.10000, saving model to models/n_mfcc_20/CNN_2D_basic_bs32_ep20_lr1e-05.keras\n",
      "\u001b[1m80/80\u001b[0m \u001b[32m━━━━━━━━━━━━━━━━━━━━\u001b[0m\u001b[37m\u001b[0m \u001b[1m15s\u001b[0m 114ms/step - accuracy: 0.1319 - loss: 2.9668 - val_accuracy: 0.1000 - val_loss: 2.6217\n",
      "Epoch 2/20\n",
      "\u001b[1m80/80\u001b[0m \u001b[32m━━━━━━━━━━━━━━━━━━━━\u001b[0m\u001b[37m\u001b[0m \u001b[1m0s\u001b[0m 95ms/step - accuracy: 0.1950 - loss: 2.5836\n",
      "Epoch 2: val_accuracy did not improve from 0.10000\n",
      "\u001b[1m80/80\u001b[0m \u001b[32m━━━━━━━━━━━━━━━━━━━━\u001b[0m\u001b[37m\u001b[0m \u001b[1m8s\u001b[0m 99ms/step - accuracy: 0.1951 - loss: 2.5831 - val_accuracy: 0.1000 - val_loss: 3.2581\n",
      "Epoch 3/20\n",
      "\u001b[1m80/80\u001b[0m \u001b[32m━━━━━━━━━━━━━━━━━━━━\u001b[0m\u001b[37m\u001b[0m \u001b[1m0s\u001b[0m 94ms/step - accuracy: 0.2195 - loss: 2.4644\n",
      "Epoch 3: val_accuracy did not improve from 0.10000\n",
      "\u001b[1m80/80\u001b[0m \u001b[32m━━━━━━━━━━━━━━━━━━━━\u001b[0m\u001b[37m\u001b[0m \u001b[1m8s\u001b[0m 99ms/step - accuracy: 0.2196 - loss: 2.4640 - val_accuracy: 0.0812 - val_loss: 3.9664\n",
      "Epoch 4/20\n",
      "\u001b[1m80/80\u001b[0m \u001b[32m━━━━━━━━━━━━━━━━━━━━\u001b[0m\u001b[37m\u001b[0m \u001b[1m0s\u001b[0m 95ms/step - accuracy: 0.2683 - loss: 2.2706\n",
      "Epoch 4: val_accuracy did not improve from 0.10000\n",
      "\u001b[1m80/80\u001b[0m \u001b[32m━━━━━━━━━━━━━━━━━━━━\u001b[0m\u001b[37m\u001b[0m \u001b[1m8s\u001b[0m 99ms/step - accuracy: 0.2683 - loss: 2.2712 - val_accuracy: 0.0844 - val_loss: 4.4728\n",
      "Epoch 5/20\n",
      "\u001b[1m80/80\u001b[0m \u001b[32m━━━━━━━━━━━━━━━━━━━━\u001b[0m\u001b[37m\u001b[0m \u001b[1m0s\u001b[0m 95ms/step - accuracy: 0.2832 - loss: 2.2094\n",
      "Epoch 5: val_accuracy did not improve from 0.10000\n",
      "\u001b[1m80/80\u001b[0m \u001b[32m━━━━━━━━━━━━━━━━━━━━\u001b[0m\u001b[37m\u001b[0m \u001b[1m8s\u001b[0m 99ms/step - accuracy: 0.2831 - loss: 2.2096 - val_accuracy: 0.0828 - val_loss: 5.0721\n",
      "Epoch 6/20\n",
      "\u001b[1m80/80\u001b[0m \u001b[32m━━━━━━━━━━━━━━━━━━━━\u001b[0m\u001b[37m\u001b[0m \u001b[1m0s\u001b[0m 94ms/step - accuracy: 0.2976 - loss: 2.1514\n",
      "Epoch 6: val_accuracy did not improve from 0.10000\n",
      "\u001b[1m80/80\u001b[0m \u001b[32m━━━━━━━━━━━━━━━━━━━━\u001b[0m\u001b[37m\u001b[0m \u001b[1m8s\u001b[0m 99ms/step - accuracy: 0.2976 - loss: 2.1516 - val_accuracy: 0.0953 - val_loss: 5.0744\n",
      "\u001b[1m25/25\u001b[0m \u001b[32m━━━━━━━━━━━━━━━━━━━━\u001b[0m\u001b[37m\u001b[0m \u001b[1m1s\u001b[0m 15ms/step\n",
      "Résultat: {'n_mfcc': 20, 'model_type': 'CNN_2D_basic', 'batch_size': 32, 'epochs': 20, 'learning_rate': 1e-05, 'accuracy': 0.09000000357627869, 'loss': 2.622589111328125, 'validation_accuracy': 0.10000000149011612, 'validation_loss': 2.6217029094696045, 'precision': 0.0081, 'recall': 0.09, 'f1_score': 0.014862385321100917}\n",
      "Résultats sauvegardés dans 'model_results.csv'.\n",
      "Entraînement du modèle: CNN_2D_basic, Batch Size: 32, Epochs: 50, Learning Rate: 0.001\n"
     ]
    },
    {
     "name": "stderr",
     "output_type": "stream",
     "text": [
      "/Users/mathisgorvien/conda_envs/ia_deeplearning/lib/python3.9/site-packages/keras/src/layers/convolutional/base_conv.py:107: UserWarning: Do not pass an `input_shape`/`input_dim` argument to a layer. When using Sequential models, prefer using an `Input(shape)` object as the first layer in the model instead.\n",
      "  super().__init__(activity_regularizer=activity_regularizer, **kwargs)\n"
     ]
    },
    {
     "name": "stdout",
     "output_type": "stream",
     "text": [
      "Epoch 1/50\n",
      "\u001b[1m80/80\u001b[0m \u001b[32m━━━━━━━━━━━━━━━━━━━━\u001b[0m\u001b[37m\u001b[0m \u001b[1m0s\u001b[0m 100ms/step - accuracy: 0.2640 - loss: 2.1789"
     ]
    },
    {
     "name": "stderr",
     "output_type": "stream",
     "text": [
      "2024-12-09 23:03:13.776911: E tensorflow/core/grappler/optimizers/meta_optimizer.cc:961] PluggableGraphOptimizer failed: INVALID_ARGUMENT: Failed to deserialize the `graph_buf`.\n"
     ]
    },
    {
     "name": "stdout",
     "output_type": "stream",
     "text": [
      "\n",
      "Epoch 1: val_accuracy improved from -inf to 0.10156, saving model to models/n_mfcc_20/CNN_2D_basic_bs32_ep50_lr0.001.keras\n",
      "\u001b[1m80/80\u001b[0m \u001b[32m━━━━━━━━━━━━━━━━━━━━\u001b[0m\u001b[37m\u001b[0m \u001b[1m12s\u001b[0m 113ms/step - accuracy: 0.2647 - loss: 2.1758 - val_accuracy: 0.1016 - val_loss: 19.6506\n",
      "Epoch 2/50\n",
      "\u001b[1m80/80\u001b[0m \u001b[32m━━━━━━━━━━━━━━━━━━━━\u001b[0m\u001b[37m\u001b[0m \u001b[1m0s\u001b[0m 93ms/step - accuracy: 0.4967 - loss: 1.4151\n",
      "Epoch 2: val_accuracy improved from 0.10156 to 0.12031, saving model to models/n_mfcc_20/CNN_2D_basic_bs32_ep50_lr0.001.keras\n",
      "\u001b[1m80/80\u001b[0m \u001b[32m━━━━━━━━━━━━━━━━━━━━\u001b[0m\u001b[37m\u001b[0m \u001b[1m8s\u001b[0m 99ms/step - accuracy: 0.4970 - loss: 1.4146 - val_accuracy: 0.1203 - val_loss: 5.7431\n",
      "Epoch 3/50\n",
      "\u001b[1m80/80\u001b[0m \u001b[32m━━━━━━━━━━━━━━━━━━━━\u001b[0m\u001b[37m\u001b[0m \u001b[1m0s\u001b[0m 93ms/step - accuracy: 0.6416 - loss: 1.0694\n",
      "Epoch 3: val_accuracy did not improve from 0.12031\n",
      "\u001b[1m80/80\u001b[0m \u001b[32m━━━━━━━━━━━━━━━━━━━━\u001b[0m\u001b[37m\u001b[0m \u001b[1m8s\u001b[0m 97ms/step - accuracy: 0.6417 - loss: 1.0689 - val_accuracy: 0.1141 - val_loss: 14.1215\n",
      "Epoch 4/50\n",
      "\u001b[1m80/80\u001b[0m \u001b[32m━━━━━━━━━━━━━━━━━━━━\u001b[0m\u001b[37m\u001b[0m \u001b[1m0s\u001b[0m 93ms/step - accuracy: 0.7297 - loss: 0.7799\n",
      "Epoch 4: val_accuracy did not improve from 0.12031\n",
      "\u001b[1m80/80\u001b[0m \u001b[32m━━━━━━━━━━━━━━━━━━━━\u001b[0m\u001b[37m\u001b[0m \u001b[1m8s\u001b[0m 97ms/step - accuracy: 0.7300 - loss: 0.7794 - val_accuracy: 0.1109 - val_loss: 27.6951\n",
      "Epoch 5/50\n",
      "\u001b[1m80/80\u001b[0m \u001b[32m━━━━━━━━━━━━━━━━━━━━\u001b[0m\u001b[37m\u001b[0m \u001b[1m0s\u001b[0m 92ms/step - accuracy: 0.8574 - loss: 0.4819\n",
      "Epoch 5: val_accuracy did not improve from 0.12031\n",
      "\u001b[1m80/80\u001b[0m \u001b[32m━━━━━━━━━━━━━━━━━━━━\u001b[0m\u001b[37m\u001b[0m \u001b[1m8s\u001b[0m 97ms/step - accuracy: 0.8574 - loss: 0.4819 - val_accuracy: 0.0906 - val_loss: 13.9614\n",
      "Epoch 6/50\n",
      "\u001b[1m80/80\u001b[0m \u001b[32m━━━━━━━━━━━━━━━━━━━━\u001b[0m\u001b[37m\u001b[0m \u001b[1m0s\u001b[0m 94ms/step - accuracy: 0.9191 - loss: 0.2909\n",
      "Epoch 6: val_accuracy improved from 0.12031 to 0.26406, saving model to models/n_mfcc_20/CNN_2D_basic_bs32_ep50_lr0.001.keras\n",
      "\u001b[1m80/80\u001b[0m \u001b[32m━━━━━━━━━━━━━━━━━━━━\u001b[0m\u001b[37m\u001b[0m \u001b[1m8s\u001b[0m 101ms/step - accuracy: 0.9192 - loss: 0.2905 - val_accuracy: 0.2641 - val_loss: 6.2724\n",
      "Epoch 7/50\n",
      "\u001b[1m80/80\u001b[0m \u001b[32m━━━━━━━━━━━━━━━━━━━━\u001b[0m\u001b[37m\u001b[0m \u001b[1m0s\u001b[0m 95ms/step - accuracy: 0.9409 - loss: 0.2080\n",
      "Epoch 7: val_accuracy improved from 0.26406 to 0.40156, saving model to models/n_mfcc_20/CNN_2D_basic_bs32_ep50_lr0.001.keras\n",
      "\u001b[1m80/80\u001b[0m \u001b[32m━━━━━━━━━━━━━━━━━━━━\u001b[0m\u001b[37m\u001b[0m \u001b[1m8s\u001b[0m 102ms/step - accuracy: 0.9408 - loss: 0.2082 - val_accuracy: 0.4016 - val_loss: 4.1358\n",
      "Epoch 8/50\n",
      "\u001b[1m80/80\u001b[0m \u001b[32m━━━━━━━━━━━━━━━━━━━━\u001b[0m\u001b[37m\u001b[0m \u001b[1m0s\u001b[0m 95ms/step - accuracy: 0.9410 - loss: 0.1808\n",
      "Epoch 8: val_accuracy improved from 0.40156 to 0.42812, saving model to models/n_mfcc_20/CNN_2D_basic_bs32_ep50_lr0.001.keras\n",
      "\u001b[1m80/80\u001b[0m \u001b[32m━━━━━━━━━━━━━━━━━━━━\u001b[0m\u001b[37m\u001b[0m \u001b[1m8s\u001b[0m 102ms/step - accuracy: 0.9410 - loss: 0.1807 - val_accuracy: 0.4281 - val_loss: 3.2798\n",
      "Epoch 9/50\n",
      "\u001b[1m80/80\u001b[0m \u001b[32m━━━━━━━━━━━━━━━━━━━━\u001b[0m\u001b[37m\u001b[0m \u001b[1m0s\u001b[0m 93ms/step - accuracy: 0.9668 - loss: 0.1212\n",
      "Epoch 9: val_accuracy improved from 0.42812 to 0.60000, saving model to models/n_mfcc_20/CNN_2D_basic_bs32_ep50_lr0.001.keras\n",
      "\u001b[1m80/80\u001b[0m \u001b[32m━━━━━━━━━━━━━━━━━━━━\u001b[0m\u001b[37m\u001b[0m \u001b[1m8s\u001b[0m 100ms/step - accuracy: 0.9667 - loss: 0.1213 - val_accuracy: 0.6000 - val_loss: 2.0283\n",
      "Epoch 10/50\n",
      "\u001b[1m80/80\u001b[0m \u001b[32m━━━━━━━━━━━━━━━━━━━━\u001b[0m\u001b[37m\u001b[0m \u001b[1m0s\u001b[0m 93ms/step - accuracy: 0.9688 - loss: 0.1047\n",
      "Epoch 10: val_accuracy improved from 0.60000 to 0.70000, saving model to models/n_mfcc_20/CNN_2D_basic_bs32_ep50_lr0.001.keras\n",
      "\u001b[1m80/80\u001b[0m \u001b[32m━━━━━━━━━━━━━━━━━━━━\u001b[0m\u001b[37m\u001b[0m \u001b[1m8s\u001b[0m 99ms/step - accuracy: 0.9688 - loss: 0.1046 - val_accuracy: 0.7000 - val_loss: 1.5024\n",
      "Epoch 11/50\n",
      "\u001b[1m80/80\u001b[0m \u001b[32m━━━━━━━━━━━━━━━━━━━━\u001b[0m\u001b[37m\u001b[0m \u001b[1m0s\u001b[0m 92ms/step - accuracy: 0.9750 - loss: 0.0895\n",
      "Epoch 11: val_accuracy did not improve from 0.70000\n",
      "\u001b[1m80/80\u001b[0m \u001b[32m━━━━━━━━━━━━━━━━━━━━\u001b[0m\u001b[37m\u001b[0m \u001b[1m8s\u001b[0m 97ms/step - accuracy: 0.9750 - loss: 0.0897 - val_accuracy: 0.6656 - val_loss: 1.6080\n",
      "Epoch 12/50\n",
      "\u001b[1m80/80\u001b[0m \u001b[32m━━━━━━━━━━━━━━━━━━━━\u001b[0m\u001b[37m\u001b[0m \u001b[1m0s\u001b[0m 93ms/step - accuracy: 0.9716 - loss: 0.0896\n",
      "Epoch 12: val_accuracy improved from 0.70000 to 0.77812, saving model to models/n_mfcc_20/CNN_2D_basic_bs32_ep50_lr0.001.keras\n",
      "\u001b[1m80/80\u001b[0m \u001b[32m━━━━━━━━━━━━━━━━━━━━\u001b[0m\u001b[37m\u001b[0m \u001b[1m8s\u001b[0m 100ms/step - accuracy: 0.9716 - loss: 0.0896 - val_accuracy: 0.7781 - val_loss: 0.8522\n",
      "Epoch 13/50\n",
      "\u001b[1m80/80\u001b[0m \u001b[32m━━━━━━━━━━━━━━━━━━━━\u001b[0m\u001b[37m\u001b[0m \u001b[1m0s\u001b[0m 92ms/step - accuracy: 0.9789 - loss: 0.0646\n",
      "Epoch 13: val_accuracy did not improve from 0.77812\n",
      "\u001b[1m80/80\u001b[0m \u001b[32m━━━━━━━━━━━━━━━━━━━━\u001b[0m\u001b[37m\u001b[0m \u001b[1m8s\u001b[0m 97ms/step - accuracy: 0.9789 - loss: 0.0648 - val_accuracy: 0.7641 - val_loss: 0.9407\n",
      "Epoch 14/50\n",
      "\u001b[1m80/80\u001b[0m \u001b[32m━━━━━━━━━━━━━━━━━━━━\u001b[0m\u001b[37m\u001b[0m \u001b[1m0s\u001b[0m 93ms/step - accuracy: 0.9676 - loss: 0.0826\n",
      "Epoch 14: val_accuracy did not improve from 0.77812\n",
      "\u001b[1m80/80\u001b[0m \u001b[32m━━━━━━━━━━━━━━━━━━━━\u001b[0m\u001b[37m\u001b[0m \u001b[1m8s\u001b[0m 97ms/step - accuracy: 0.9677 - loss: 0.0825 - val_accuracy: 0.7406 - val_loss: 1.3752\n",
      "Epoch 15/50\n",
      "\u001b[1m80/80\u001b[0m \u001b[32m━━━━━━━━━━━━━━━━━━━━\u001b[0m\u001b[37m\u001b[0m \u001b[1m0s\u001b[0m 93ms/step - accuracy: 0.9840 - loss: 0.0522\n",
      "Epoch 15: val_accuracy improved from 0.77812 to 0.78750, saving model to models/n_mfcc_20/CNN_2D_basic_bs32_ep50_lr0.001.keras\n",
      "\u001b[1m80/80\u001b[0m \u001b[32m━━━━━━━━━━━━━━━━━━━━\u001b[0m\u001b[37m\u001b[0m \u001b[1m8s\u001b[0m 99ms/step - accuracy: 0.9840 - loss: 0.0521 - val_accuracy: 0.7875 - val_loss: 0.9260\n",
      "Epoch 16/50\n",
      "\u001b[1m80/80\u001b[0m \u001b[32m━━━━━━━━━━━━━━━━━━━━\u001b[0m\u001b[37m\u001b[0m \u001b[1m0s\u001b[0m 94ms/step - accuracy: 0.9875 - loss: 0.0392\n",
      "Epoch 16: val_accuracy improved from 0.78750 to 0.82969, saving model to models/n_mfcc_20/CNN_2D_basic_bs32_ep50_lr0.001.keras\n",
      "\u001b[1m80/80\u001b[0m \u001b[32m━━━━━━━━━━━━━━━━━━━━\u001b[0m\u001b[37m\u001b[0m \u001b[1m8s\u001b[0m 101ms/step - accuracy: 0.9875 - loss: 0.0393 - val_accuracy: 0.8297 - val_loss: 0.7201\n",
      "Epoch 17/50\n",
      "\u001b[1m80/80\u001b[0m \u001b[32m━━━━━━━━━━━━━━━━━━━━\u001b[0m\u001b[37m\u001b[0m \u001b[1m0s\u001b[0m 92ms/step - accuracy: 0.9846 - loss: 0.0459\n",
      "Epoch 17: val_accuracy did not improve from 0.82969\n",
      "\u001b[1m80/80\u001b[0m \u001b[32m━━━━━━━━━━━━━━━━━━━━\u001b[0m\u001b[37m\u001b[0m \u001b[1m8s\u001b[0m 97ms/step - accuracy: 0.9847 - loss: 0.0458 - val_accuracy: 0.7781 - val_loss: 1.1854\n",
      "Epoch 18/50\n",
      "\u001b[1m80/80\u001b[0m \u001b[32m━━━━━━━━━━━━━━━━━━━━\u001b[0m\u001b[37m\u001b[0m \u001b[1m0s\u001b[0m 93ms/step - accuracy: 0.9805 - loss: 0.0470\n",
      "Epoch 18: val_accuracy did not improve from 0.82969\n",
      "\u001b[1m80/80\u001b[0m \u001b[32m━━━━━━━━━━━━━━━━━━━━\u001b[0m\u001b[37m\u001b[0m \u001b[1m8s\u001b[0m 97ms/step - accuracy: 0.9805 - loss: 0.0470 - val_accuracy: 0.7141 - val_loss: 1.2843\n",
      "Epoch 19/50\n",
      "\u001b[1m80/80\u001b[0m \u001b[32m━━━━━━━━━━━━━━━━━━━━\u001b[0m\u001b[37m\u001b[0m \u001b[1m0s\u001b[0m 93ms/step - accuracy: 0.9790 - loss: 0.0593\n",
      "Epoch 19: val_accuracy did not improve from 0.82969\n",
      "\u001b[1m80/80\u001b[0m \u001b[32m━━━━━━━━━━━━━━━━━━━━\u001b[0m\u001b[37m\u001b[0m \u001b[1m8s\u001b[0m 97ms/step - accuracy: 0.9790 - loss: 0.0593 - val_accuracy: 0.7453 - val_loss: 1.1033\n",
      "Epoch 20/50\n",
      "\u001b[1m80/80\u001b[0m \u001b[32m━━━━━━━━━━━━━━━━━━━━\u001b[0m\u001b[37m\u001b[0m \u001b[1m0s\u001b[0m 93ms/step - accuracy: 0.9734 - loss: 0.0800\n",
      "Epoch 20: val_accuracy did not improve from 0.82969\n",
      "\u001b[1m80/80\u001b[0m \u001b[32m━━━━━━━━━━━━━━━━━━━━\u001b[0m\u001b[37m\u001b[0m \u001b[1m8s\u001b[0m 97ms/step - accuracy: 0.9734 - loss: 0.0797 - val_accuracy: 0.8078 - val_loss: 0.7794\n",
      "Epoch 21/50\n",
      "\u001b[1m80/80\u001b[0m \u001b[32m━━━━━━━━━━━━━━━━━━━━\u001b[0m\u001b[37m\u001b[0m \u001b[1m0s\u001b[0m 92ms/step - accuracy: 0.9867 - loss: 0.0423\n",
      "Epoch 21: val_accuracy did not improve from 0.82969\n",
      "\u001b[1m80/80\u001b[0m \u001b[32m━━━━━━━━━━━━━━━━━━━━\u001b[0m\u001b[37m\u001b[0m \u001b[1m8s\u001b[0m 96ms/step - accuracy: 0.9866 - loss: 0.0424 - val_accuracy: 0.6453 - val_loss: 1.8269\n",
      "\u001b[1m 1/25\u001b[0m \u001b[37m━━━━━━━━━━━━━━━━━━━━\u001b[0m \u001b[1m6s\u001b[0m 253ms/step"
     ]
    },
    {
     "name": "stderr",
     "output_type": "stream",
     "text": [
      "2024-12-09 23:05:53.100910: E tensorflow/core/grappler/optimizers/meta_optimizer.cc:961] PluggableGraphOptimizer failed: INVALID_ARGUMENT: Failed to deserialize the `graph_buf`.\n"
     ]
    },
    {
     "name": "stdout",
     "output_type": "stream",
     "text": [
      "\u001b[1m25/25\u001b[0m \u001b[32m━━━━━━━━━━━━━━━━━━━━\u001b[0m\u001b[37m\u001b[0m \u001b[1m1s\u001b[0m 15ms/step\n",
      "Résultat: {'n_mfcc': 20, 'model_type': 'CNN_2D_basic', 'batch_size': 32, 'epochs': 50, 'learning_rate': 0.001, 'accuracy': 0.8550000190734863, 'loss': 0.5009707808494568, 'validation_accuracy': 0.8296874761581421, 'validation_loss': 0.7201088666915894, 'precision': 0.8645062029027752, 'recall': 0.855, 'f1_score': 0.8544944571435635}\n",
      "Résultats sauvegardés dans 'model_results.csv'.\n",
      "Entraînement du modèle: CNN_2D_basic, Batch Size: 32, Epochs: 50, Learning Rate: 0.0001\n"
     ]
    },
    {
     "name": "stderr",
     "output_type": "stream",
     "text": [
      "/Users/mathisgorvien/conda_envs/ia_deeplearning/lib/python3.9/site-packages/keras/src/layers/convolutional/base_conv.py:107: UserWarning: Do not pass an `input_shape`/`input_dim` argument to a layer. When using Sequential models, prefer using an `Input(shape)` object as the first layer in the model instead.\n",
      "  super().__init__(activity_regularizer=activity_regularizer, **kwargs)\n"
     ]
    },
    {
     "name": "stdout",
     "output_type": "stream",
     "text": [
      "Epoch 1/50\n",
      "\u001b[1m80/80\u001b[0m \u001b[32m━━━━━━━━━━━━━━━━━━━━\u001b[0m\u001b[37m\u001b[0m \u001b[1m0s\u001b[0m 103ms/step - accuracy: 0.1931 - loss: 2.5811\n",
      "Epoch 1: val_accuracy improved from -inf to 0.10000, saving model to models/n_mfcc_20/CNN_2D_basic_bs32_ep50_lr0.0001.keras\n",
      "\u001b[1m80/80\u001b[0m \u001b[32m━━━━━━━━━━━━━━━━━━━━\u001b[0m\u001b[37m\u001b[0m \u001b[1m12s\u001b[0m 115ms/step - accuracy: 0.1938 - loss: 2.5772 - val_accuracy: 0.1000 - val_loss: 4.2324\n",
      "Epoch 2/50\n",
      "\u001b[1m80/80\u001b[0m \u001b[32m━━━━━━━━━━━━━━━━━━━━\u001b[0m\u001b[37m\u001b[0m \u001b[1m0s\u001b[0m 95ms/step - accuracy: 0.3734 - loss: 1.8223\n",
      "Epoch 2: val_accuracy did not improve from 0.10000\n",
      "\u001b[1m80/80\u001b[0m \u001b[32m━━━━━━━━━━━━━━━━━━━━\u001b[0m\u001b[37m\u001b[0m \u001b[1m8s\u001b[0m 99ms/step - accuracy: 0.3736 - loss: 1.8218 - val_accuracy: 0.0891 - val_loss: 6.9465\n",
      "Epoch 3/50\n",
      "\u001b[1m80/80\u001b[0m \u001b[32m━━━━━━━━━━━━━━━━━━━━\u001b[0m\u001b[37m\u001b[0m \u001b[1m0s\u001b[0m 94ms/step - accuracy: 0.4602 - loss: 1.5637\n",
      "Epoch 3: val_accuracy did not improve from 0.10000\n",
      "\u001b[1m80/80\u001b[0m \u001b[32m━━━━━━━━━━━━━━━━━━━━\u001b[0m\u001b[37m\u001b[0m \u001b[1m8s\u001b[0m 99ms/step - accuracy: 0.4602 - loss: 1.5635 - val_accuracy: 0.0891 - val_loss: 11.2021\n",
      "Epoch 4/50\n",
      "\u001b[1m80/80\u001b[0m \u001b[32m━━━━━━━━━━━━━━━━━━━━\u001b[0m\u001b[37m\u001b[0m \u001b[1m0s\u001b[0m 95ms/step - accuracy: 0.4872 - loss: 1.4812\n",
      "Epoch 4: val_accuracy did not improve from 0.10000\n",
      "\u001b[1m80/80\u001b[0m \u001b[32m━━━━━━━━━━━━━━━━━━━━\u001b[0m\u001b[37m\u001b[0m \u001b[1m8s\u001b[0m 99ms/step - accuracy: 0.4874 - loss: 1.4805 - val_accuracy: 0.0891 - val_loss: 17.1695\n",
      "Epoch 5/50\n",
      "\u001b[1m80/80\u001b[0m \u001b[32m━━━━━━━━━━━━━━━━━━━━\u001b[0m\u001b[37m\u001b[0m \u001b[1m0s\u001b[0m 95ms/step - accuracy: 0.5421 - loss: 1.3029\n",
      "Epoch 5: val_accuracy did not improve from 0.10000\n",
      "\u001b[1m80/80\u001b[0m \u001b[32m━━━━━━━━━━━━━━━━━━━━\u001b[0m\u001b[37m\u001b[0m \u001b[1m8s\u001b[0m 99ms/step - accuracy: 0.5424 - loss: 1.3023 - val_accuracy: 0.0891 - val_loss: 21.9168\n",
      "Epoch 6/50\n",
      "\u001b[1m80/80\u001b[0m \u001b[32m━━━━━━━━━━━━━━━━━━━━\u001b[0m\u001b[37m\u001b[0m \u001b[1m0s\u001b[0m 95ms/step - accuracy: 0.6063 - loss: 1.1377\n",
      "Epoch 6: val_accuracy did not improve from 0.10000\n",
      "\u001b[1m80/80\u001b[0m \u001b[32m━━━━━━━━━━━━━━━━━━━━\u001b[0m\u001b[37m\u001b[0m \u001b[1m8s\u001b[0m 100ms/step - accuracy: 0.6064 - loss: 1.1373 - val_accuracy: 0.0891 - val_loss: 19.6736\n",
      "\u001b[1m25/25\u001b[0m \u001b[32m━━━━━━━━━━━━━━━━━━━━\u001b[0m\u001b[37m\u001b[0m \u001b[1m1s\u001b[0m 15ms/step\n",
      "Résultat: {'n_mfcc': 20, 'model_type': 'CNN_2D_basic', 'batch_size': 32, 'epochs': 50, 'learning_rate': 0.0001, 'accuracy': 0.09000000357627869, 'loss': 4.220739841461182, 'validation_accuracy': 0.10000000149011612, 'validation_loss': 4.232355117797852, 'precision': 0.0081, 'recall': 0.09, 'f1_score': 0.014862385321100917}\n",
      "Résultats sauvegardés dans 'model_results.csv'.\n",
      "Entraînement du modèle: CNN_2D_basic, Batch Size: 32, Epochs: 50, Learning Rate: 1e-05\n"
     ]
    },
    {
     "name": "stderr",
     "output_type": "stream",
     "text": [
      "/Users/mathisgorvien/conda_envs/ia_deeplearning/lib/python3.9/site-packages/keras/src/layers/convolutional/base_conv.py:107: UserWarning: Do not pass an `input_shape`/`input_dim` argument to a layer. When using Sequential models, prefer using an `Input(shape)` object as the first layer in the model instead.\n",
      "  super().__init__(activity_regularizer=activity_regularizer, **kwargs)\n"
     ]
    },
    {
     "name": "stdout",
     "output_type": "stream",
     "text": [
      "Epoch 1/50\n",
      "\u001b[1m80/80\u001b[0m \u001b[32m━━━━━━━━━━━━━━━━━━━━\u001b[0m\u001b[37m\u001b[0m \u001b[1m0s\u001b[0m 101ms/step - accuracy: 0.1188 - loss: 3.2616"
     ]
    },
    {
     "name": "stderr",
     "output_type": "stream",
     "text": [
      "2024-12-09 23:06:59.375855: E tensorflow/core/grappler/optimizers/meta_optimizer.cc:961] PluggableGraphOptimizer failed: INVALID_ARGUMENT: Failed to deserialize the `graph_buf`.\n"
     ]
    },
    {
     "name": "stdout",
     "output_type": "stream",
     "text": [
      "\n",
      "Epoch 1: val_accuracy improved from -inf to 0.10000, saving model to models/n_mfcc_20/CNN_2D_basic_bs32_ep50_lr1e-05.keras\n",
      "\u001b[1m80/80\u001b[0m \u001b[32m━━━━━━━━━━━━━━━━━━━━\u001b[0m\u001b[37m\u001b[0m \u001b[1m12s\u001b[0m 113ms/step - accuracy: 0.1191 - loss: 3.2600 - val_accuracy: 0.1000 - val_loss: 2.4797\n",
      "Epoch 2/50\n",
      "\u001b[1m80/80\u001b[0m \u001b[32m━━━━━━━━━━━━━━━━━━━━\u001b[0m\u001b[37m\u001b[0m \u001b[1m0s\u001b[0m 95ms/step - accuracy: 0.1813 - loss: 2.8704\n",
      "Epoch 2: val_accuracy did not improve from 0.10000\n",
      "\u001b[1m80/80\u001b[0m \u001b[32m━━━━━━━━━━━━━━━━━━━━\u001b[0m\u001b[37m\u001b[0m \u001b[1m8s\u001b[0m 100ms/step - accuracy: 0.1815 - loss: 2.8695 - val_accuracy: 0.1000 - val_loss: 3.1859\n",
      "Epoch 3/50\n",
      "\u001b[1m80/80\u001b[0m \u001b[32m━━━━━━━━━━━━━━━━━━━━\u001b[0m\u001b[37m\u001b[0m \u001b[1m0s\u001b[0m 94ms/step - accuracy: 0.2155 - loss: 2.5847\n",
      "Epoch 3: val_accuracy did not improve from 0.10000\n",
      "\u001b[1m80/80\u001b[0m \u001b[32m━━━━━━━━━━━━━━━━━━━━\u001b[0m\u001b[37m\u001b[0m \u001b[1m8s\u001b[0m 98ms/step - accuracy: 0.2155 - loss: 2.5847 - val_accuracy: 0.1000 - val_loss: 3.8663\n",
      "Epoch 4/50\n",
      "\u001b[1m80/80\u001b[0m \u001b[32m━━━━━━━━━━━━━━━━━━━━\u001b[0m\u001b[37m\u001b[0m \u001b[1m0s\u001b[0m 94ms/step - accuracy: 0.2202 - loss: 2.5044\n",
      "Epoch 4: val_accuracy did not improve from 0.10000\n",
      "\u001b[1m80/80\u001b[0m \u001b[32m━━━━━━━━━━━━━━━━━━━━\u001b[0m\u001b[37m\u001b[0m \u001b[1m8s\u001b[0m 98ms/step - accuracy: 0.2203 - loss: 2.5040 - val_accuracy: 0.1000 - val_loss: 5.5125\n",
      "Epoch 5/50\n",
      "\u001b[1m80/80\u001b[0m \u001b[32m━━━━━━━━━━━━━━━━━━━━\u001b[0m\u001b[37m\u001b[0m \u001b[1m0s\u001b[0m 94ms/step - accuracy: 0.2566 - loss: 2.3613\n",
      "Epoch 5: val_accuracy did not improve from 0.10000\n",
      "\u001b[1m80/80\u001b[0m \u001b[32m━━━━━━━━━━━━━━━━━━━━\u001b[0m\u001b[37m\u001b[0m \u001b[1m8s\u001b[0m 98ms/step - accuracy: 0.2568 - loss: 2.3608 - val_accuracy: 0.1000 - val_loss: 6.2960\n",
      "Epoch 6/50\n",
      "\u001b[1m80/80\u001b[0m \u001b[32m━━━━━━━━━━━━━━━━━━━━\u001b[0m\u001b[37m\u001b[0m \u001b[1m0s\u001b[0m 96ms/step - accuracy: 0.2853 - loss: 2.2633\n",
      "Epoch 6: val_accuracy improved from 0.10000 to 0.11250, saving model to models/n_mfcc_20/CNN_2D_basic_bs32_ep50_lr1e-05.keras\n",
      "\u001b[1m80/80\u001b[0m \u001b[32m━━━━━━━━━━━━━━━━━━━━\u001b[0m\u001b[37m\u001b[0m \u001b[1m8s\u001b[0m 103ms/step - accuracy: 0.2854 - loss: 2.2628 - val_accuracy: 0.1125 - val_loss: 5.0167\n",
      "\u001b[1m25/25\u001b[0m \u001b[32m━━━━━━━━━━━━━━━━━━━━\u001b[0m\u001b[37m\u001b[0m \u001b[1m1s\u001b[0m 15ms/step\n",
      "Résultat: {'n_mfcc': 20, 'model_type': 'CNN_2D_basic', 'batch_size': 32, 'epochs': 50, 'learning_rate': 1e-05, 'accuracy': 0.09000000357627869, 'loss': 2.469109535217285, 'validation_accuracy': 0.11249999701976776, 'validation_loss': 2.4796533584594727, 'precision': 0.0081, 'recall': 0.09, 'f1_score': 0.014862385321100917}\n",
      "Résultats sauvegardés dans 'model_results.csv'.\n",
      "Entraînement du modèle: CNN_2D_basic, Batch Size: 32, Epochs: 100, Learning Rate: 0.001\n"
     ]
    },
    {
     "name": "stderr",
     "output_type": "stream",
     "text": [
      "/Users/mathisgorvien/conda_envs/ia_deeplearning/lib/python3.9/site-packages/keras/src/layers/convolutional/base_conv.py:107: UserWarning: Do not pass an `input_shape`/`input_dim` argument to a layer. When using Sequential models, prefer using an `Input(shape)` object as the first layer in the model instead.\n",
      "  super().__init__(activity_regularizer=activity_regularizer, **kwargs)\n"
     ]
    },
    {
     "name": "stdout",
     "output_type": "stream",
     "text": [
      "Epoch 1/100\n",
      "\u001b[1m80/80\u001b[0m \u001b[32m━━━━━━━━━━━━━━━━━━━━\u001b[0m\u001b[37m\u001b[0m \u001b[1m0s\u001b[0m 103ms/step - accuracy: 0.2446 - loss: 2.2065\n",
      "Epoch 1: val_accuracy improved from -inf to 0.10938, saving model to models/n_mfcc_20/CNN_2D_basic_bs32_ep100_lr0.001.keras\n",
      "\u001b[1m80/80\u001b[0m \u001b[32m━━━━━━━━━━━━━━━━━━━━\u001b[0m\u001b[37m\u001b[0m \u001b[1m12s\u001b[0m 116ms/step - accuracy: 0.2454 - loss: 2.2033 - val_accuracy: 0.1094 - val_loss: 22.0071\n",
      "Epoch 2/100\n",
      "\u001b[1m80/80\u001b[0m \u001b[32m━━━━━━━━━━━━━━━━━━━━\u001b[0m\u001b[37m\u001b[0m \u001b[1m0s\u001b[0m 95ms/step - accuracy: 0.4851 - loss: 1.4394\n",
      "Epoch 2: val_accuracy did not improve from 0.10938\n",
      "\u001b[1m80/80\u001b[0m \u001b[32m━━━━━━━━━━━━━━━━━━━━\u001b[0m\u001b[37m\u001b[0m \u001b[1m8s\u001b[0m 100ms/step - accuracy: 0.4856 - loss: 1.4383 - val_accuracy: 0.1094 - val_loss: 8.2493\n",
      "Epoch 3/100\n",
      "\u001b[1m80/80\u001b[0m \u001b[32m━━━━━━━━━━━━━━━━━━━━\u001b[0m\u001b[37m\u001b[0m \u001b[1m0s\u001b[0m 95ms/step - accuracy: 0.5619 - loss: 1.2563\n",
      "Epoch 3: val_accuracy did not improve from 0.10938\n",
      "\u001b[1m80/80\u001b[0m \u001b[32m━━━━━━━━━━━━━━━━━━━━\u001b[0m\u001b[37m\u001b[0m \u001b[1m8s\u001b[0m 99ms/step - accuracy: 0.5620 - loss: 1.2559 - val_accuracy: 0.0891 - val_loss: 18.5496\n",
      "Epoch 4/100\n",
      "\u001b[1m80/80\u001b[0m \u001b[32m━━━━━━━━━━━━━━━━━━━━\u001b[0m\u001b[37m\u001b[0m \u001b[1m0s\u001b[0m 95ms/step - accuracy: 0.6444 - loss: 1.0659\n",
      "Epoch 4: val_accuracy did not improve from 0.10938\n",
      "\u001b[1m80/80\u001b[0m \u001b[32m━━━━━━━━━━━━━━━━━━━━\u001b[0m\u001b[37m\u001b[0m \u001b[1m8s\u001b[0m 99ms/step - accuracy: 0.6444 - loss: 1.0659 - val_accuracy: 0.0891 - val_loss: 35.2511\n",
      "Epoch 5/100\n",
      "\u001b[1m80/80\u001b[0m \u001b[32m━━━━━━━━━━━━━━━━━━━━\u001b[0m\u001b[37m\u001b[0m \u001b[1m0s\u001b[0m 95ms/step - accuracy: 0.7283 - loss: 0.7795\n",
      "Epoch 5: val_accuracy did not improve from 0.10938\n",
      "\u001b[1m80/80\u001b[0m \u001b[32m━━━━━━━━━━━━━━━━━━━━\u001b[0m\u001b[37m\u001b[0m \u001b[1m8s\u001b[0m 99ms/step - accuracy: 0.7283 - loss: 0.7796 - val_accuracy: 0.0781 - val_loss: 10.0069\n",
      "Epoch 6/100\n",
      "\u001b[1m80/80\u001b[0m \u001b[32m━━━━━━━━━━━━━━━━━━━━\u001b[0m\u001b[37m\u001b[0m \u001b[1m0s\u001b[0m 95ms/step - accuracy: 0.7190 - loss: 0.7825\n",
      "Epoch 6: val_accuracy improved from 0.10938 to 0.20937, saving model to models/n_mfcc_20/CNN_2D_basic_bs32_ep100_lr0.001.keras\n",
      "\u001b[1m80/80\u001b[0m \u001b[32m━━━━━━━━━━━━━━━━━━━━\u001b[0m\u001b[37m\u001b[0m \u001b[1m8s\u001b[0m 101ms/step - accuracy: 0.7192 - loss: 0.7821 - val_accuracy: 0.2094 - val_loss: 4.6397\n",
      "Epoch 7/100\n",
      "\u001b[1m80/80\u001b[0m \u001b[32m━━━━━━━━━━━━━━━━━━━━\u001b[0m\u001b[37m\u001b[0m \u001b[1m0s\u001b[0m 95ms/step - accuracy: 0.7552 - loss: 0.7490\n",
      "Epoch 7: val_accuracy improved from 0.20937 to 0.37344, saving model to models/n_mfcc_20/CNN_2D_basic_bs32_ep100_lr0.001.keras\n",
      "\u001b[1m80/80\u001b[0m \u001b[32m━━━━━━━━━━━━━━━━━━━━\u001b[0m\u001b[37m\u001b[0m \u001b[1m8s\u001b[0m 101ms/step - accuracy: 0.7555 - loss: 0.7482 - val_accuracy: 0.3734 - val_loss: 2.6270\n",
      "Epoch 8/100\n",
      "\u001b[1m80/80\u001b[0m \u001b[32m━━━━━━━━━━━━━━━━━━━━\u001b[0m\u001b[37m\u001b[0m \u001b[1m0s\u001b[0m 95ms/step - accuracy: 0.8670 - loss: 0.4213\n",
      "Epoch 8: val_accuracy improved from 0.37344 to 0.50625, saving model to models/n_mfcc_20/CNN_2D_basic_bs32_ep100_lr0.001.keras\n",
      "\u001b[1m80/80\u001b[0m \u001b[32m━━━━━━━━━━━━━━━━━━━━\u001b[0m\u001b[37m\u001b[0m \u001b[1m8s\u001b[0m 102ms/step - accuracy: 0.8672 - loss: 0.4207 - val_accuracy: 0.5063 - val_loss: 1.9075\n",
      "Epoch 9/100\n",
      "\u001b[1m80/80\u001b[0m \u001b[32m━━━━━━━━━━━━━━━━━━━━\u001b[0m\u001b[37m\u001b[0m \u001b[1m0s\u001b[0m 95ms/step - accuracy: 0.9251 - loss: 0.2467\n",
      "Epoch 9: val_accuracy improved from 0.50625 to 0.56719, saving model to models/n_mfcc_20/CNN_2D_basic_bs32_ep100_lr0.001.keras\n",
      "\u001b[1m80/80\u001b[0m \u001b[32m━━━━━━━━━━━━━━━━━━━━\u001b[0m\u001b[37m\u001b[0m \u001b[1m8s\u001b[0m 102ms/step - accuracy: 0.9250 - loss: 0.2468 - val_accuracy: 0.5672 - val_loss: 1.7954\n",
      "Epoch 10/100\n",
      "\u001b[1m80/80\u001b[0m \u001b[32m━━━━━━━━━━━━━━━━━━━━\u001b[0m\u001b[37m\u001b[0m \u001b[1m0s\u001b[0m 95ms/step - accuracy: 0.9343 - loss: 0.1892\n",
      "Epoch 10: val_accuracy improved from 0.56719 to 0.61719, saving model to models/n_mfcc_20/CNN_2D_basic_bs32_ep100_lr0.001.keras\n",
      "\u001b[1m80/80\u001b[0m \u001b[32m━━━━━━━━━━━━━━━━━━━━\u001b[0m\u001b[37m\u001b[0m \u001b[1m8s\u001b[0m 102ms/step - accuracy: 0.9344 - loss: 0.1891 - val_accuracy: 0.6172 - val_loss: 1.6144\n",
      "Epoch 11/100\n",
      "\u001b[1m80/80\u001b[0m \u001b[32m━━━━━━━━━━━━━━━━━━━━\u001b[0m\u001b[37m\u001b[0m \u001b[1m0s\u001b[0m 95ms/step - accuracy: 0.9497 - loss: 0.1394\n",
      "Epoch 11: val_accuracy improved from 0.61719 to 0.76562, saving model to models/n_mfcc_20/CNN_2D_basic_bs32_ep100_lr0.001.keras\n",
      "\u001b[1m80/80\u001b[0m \u001b[32m━━━━━━━━━━━━━━━━━━━━\u001b[0m\u001b[37m\u001b[0m \u001b[1m8s\u001b[0m 102ms/step - accuracy: 0.9498 - loss: 0.1394 - val_accuracy: 0.7656 - val_loss: 0.8650\n",
      "Epoch 12/100\n",
      "\u001b[1m80/80\u001b[0m \u001b[32m━━━━━━━━━━━━━━━━━━━━\u001b[0m\u001b[37m\u001b[0m \u001b[1m0s\u001b[0m 95ms/step - accuracy: 0.9584 - loss: 0.1380\n",
      "Epoch 12: val_accuracy improved from 0.76562 to 0.82031, saving model to models/n_mfcc_20/CNN_2D_basic_bs32_ep100_lr0.001.keras\n",
      "\u001b[1m80/80\u001b[0m \u001b[32m━━━━━━━━━━━━━━━━━━━━\u001b[0m\u001b[37m\u001b[0m \u001b[1m8s\u001b[0m 102ms/step - accuracy: 0.9584 - loss: 0.1378 - val_accuracy: 0.8203 - val_loss: 0.6068\n",
      "Epoch 13/100\n",
      "\u001b[1m80/80\u001b[0m \u001b[32m━━━━━━━━━━━━━━━━━━━━\u001b[0m\u001b[37m\u001b[0m \u001b[1m0s\u001b[0m 95ms/step - accuracy: 0.9720 - loss: 0.0725\n",
      "Epoch 13: val_accuracy did not improve from 0.82031\n",
      "\u001b[1m80/80\u001b[0m \u001b[32m━━━━━━━━━━━━━━━━━━━━\u001b[0m\u001b[37m\u001b[0m \u001b[1m8s\u001b[0m 99ms/step - accuracy: 0.9720 - loss: 0.0725 - val_accuracy: 0.7656 - val_loss: 0.9511\n",
      "Epoch 14/100\n",
      "\u001b[1m80/80\u001b[0m \u001b[32m━━━━━━━━━━━━━━━━━━━━\u001b[0m\u001b[37m\u001b[0m \u001b[1m0s\u001b[0m 96ms/step - accuracy: 0.9774 - loss: 0.0769\n",
      "Epoch 14: val_accuracy did not improve from 0.82031\n",
      "\u001b[1m80/80\u001b[0m \u001b[32m━━━━━━━━━━━━━━━━━━━━\u001b[0m\u001b[37m\u001b[0m \u001b[1m8s\u001b[0m 100ms/step - accuracy: 0.9774 - loss: 0.0770 - val_accuracy: 0.8141 - val_loss: 0.6460\n",
      "Epoch 15/100\n",
      "\u001b[1m80/80\u001b[0m \u001b[32m━━━━━━━━━━━━━━━━━━━━\u001b[0m\u001b[37m\u001b[0m \u001b[1m0s\u001b[0m 95ms/step - accuracy: 0.9585 - loss: 0.1173\n",
      "Epoch 15: val_accuracy did not improve from 0.82031\n",
      "\u001b[1m80/80\u001b[0m \u001b[32m━━━━━━━━━━━━━━━━━━━━\u001b[0m\u001b[37m\u001b[0m \u001b[1m8s\u001b[0m 99ms/step - accuracy: 0.9586 - loss: 0.1171 - val_accuracy: 0.7625 - val_loss: 0.9572\n",
      "Epoch 16/100\n",
      "\u001b[1m80/80\u001b[0m \u001b[32m━━━━━━━━━━━━━━━━━━━━\u001b[0m\u001b[37m\u001b[0m \u001b[1m0s\u001b[0m 95ms/step - accuracy: 0.9713 - loss: 0.0879\n",
      "Epoch 16: val_accuracy did not improve from 0.82031\n",
      "\u001b[1m80/80\u001b[0m \u001b[32m━━━━━━━━━━━━━━━━━━━━\u001b[0m\u001b[37m\u001b[0m \u001b[1m8s\u001b[0m 99ms/step - accuracy: 0.9714 - loss: 0.0878 - val_accuracy: 0.7984 - val_loss: 0.7539\n",
      "Epoch 17/100\n",
      "\u001b[1m80/80\u001b[0m \u001b[32m━━━━━━━━━━━━━━━━━━━━\u001b[0m\u001b[37m\u001b[0m \u001b[1m0s\u001b[0m 95ms/step - accuracy: 0.9765 - loss: 0.0745\n",
      "Epoch 17: val_accuracy did not improve from 0.82031\n",
      "\u001b[1m80/80\u001b[0m \u001b[32m━━━━━━━━━━━━━━━━━━━━\u001b[0m\u001b[37m\u001b[0m \u001b[1m8s\u001b[0m 99ms/step - accuracy: 0.9765 - loss: 0.0745 - val_accuracy: 0.7703 - val_loss: 1.3371\n",
      "\u001b[1m 5/25\u001b[0m \u001b[32m━━━━\u001b[0m\u001b[37m━━━━━━━━━━━━━━━━\u001b[0m \u001b[1m0s\u001b[0m 14ms/step "
     ]
    },
    {
     "name": "stderr",
     "output_type": "stream",
     "text": [
      "2024-12-09 23:10:03.502217: E tensorflow/core/grappler/optimizers/meta_optimizer.cc:961] PluggableGraphOptimizer failed: INVALID_ARGUMENT: Failed to deserialize the `graph_buf`.\n"
     ]
    },
    {
     "name": "stdout",
     "output_type": "stream",
     "text": [
      "\u001b[1m25/25\u001b[0m \u001b[32m━━━━━━━━━━━━━━━━━━━━\u001b[0m\u001b[37m\u001b[0m \u001b[1m1s\u001b[0m 15ms/step\n",
      "Résultat: {'n_mfcc': 20, 'model_type': 'CNN_2D_basic', 'batch_size': 32, 'epochs': 100, 'learning_rate': 0.001, 'accuracy': 0.8887500166893005, 'loss': 0.4692216217517853, 'validation_accuracy': 0.8203125, 'validation_loss': 0.6067976951599121, 'precision': 0.8960329304447279, 'recall': 0.88875, 'f1_score': 0.8896293307111831}\n",
      "Résultats sauvegardés dans 'model_results.csv'.\n",
      "Entraînement du modèle: CNN_2D_basic, Batch Size: 32, Epochs: 100, Learning Rate: 0.0001\n"
     ]
    },
    {
     "name": "stderr",
     "output_type": "stream",
     "text": [
      "/Users/mathisgorvien/conda_envs/ia_deeplearning/lib/python3.9/site-packages/keras/src/layers/convolutional/base_conv.py:107: UserWarning: Do not pass an `input_shape`/`input_dim` argument to a layer. When using Sequential models, prefer using an `Input(shape)` object as the first layer in the model instead.\n",
      "  super().__init__(activity_regularizer=activity_regularizer, **kwargs)\n"
     ]
    },
    {
     "name": "stdout",
     "output_type": "stream",
     "text": [
      "Epoch 1/100\n",
      "\u001b[1m80/80\u001b[0m \u001b[32m━━━━━━━━━━━━━━━━━━━━\u001b[0m\u001b[37m\u001b[0m \u001b[1m0s\u001b[0m 100ms/step - accuracy: 0.1813 - loss: 2.6248\n",
      "Epoch 1: val_accuracy improved from -inf to 0.08125, saving model to models/n_mfcc_20/CNN_2D_basic_bs32_ep100_lr0.0001.keras\n",
      "\u001b[1m80/80\u001b[0m \u001b[32m━━━━━━━━━━━━━━━━━━━━\u001b[0m\u001b[37m\u001b[0m \u001b[1m12s\u001b[0m 113ms/step - accuracy: 0.1819 - loss: 2.6213 - val_accuracy: 0.0812 - val_loss: 5.1983\n",
      "Epoch 2/100\n",
      "\u001b[1m80/80\u001b[0m \u001b[32m━━━━━━━━━━━━━━━━━━━━\u001b[0m\u001b[37m\u001b[0m \u001b[1m0s\u001b[0m 92ms/step - accuracy: 0.3356 - loss: 1.9466\n",
      "Epoch 2: val_accuracy did not improve from 0.08125\n",
      "\u001b[1m80/80\u001b[0m \u001b[32m━━━━━━━━━━━━━━━━━━━━\u001b[0m\u001b[37m\u001b[0m \u001b[1m8s\u001b[0m 96ms/step - accuracy: 0.3358 - loss: 1.9457 - val_accuracy: 0.0812 - val_loss: 9.8190\n",
      "Epoch 3/100\n",
      "\u001b[1m80/80\u001b[0m \u001b[32m━━━━━━━━━━━━━━━━━━━━\u001b[0m\u001b[37m\u001b[0m \u001b[1m0s\u001b[0m 90ms/step - accuracy: 0.4261 - loss: 1.6525\n",
      "Epoch 3: val_accuracy did not improve from 0.08125\n",
      "\u001b[1m80/80\u001b[0m \u001b[32m━━━━━━━━━━━━━━━━━━━━\u001b[0m\u001b[37m\u001b[0m \u001b[1m8s\u001b[0m 95ms/step - accuracy: 0.4261 - loss: 1.6523 - val_accuracy: 0.0812 - val_loss: 12.9515\n",
      "Epoch 4/100\n",
      "\u001b[1m80/80\u001b[0m \u001b[32m━━━━━━━━━━━━━━━━━━━━\u001b[0m\u001b[37m\u001b[0m \u001b[1m0s\u001b[0m 91ms/step - accuracy: 0.4839 - loss: 1.4910\n",
      "Epoch 4: val_accuracy did not improve from 0.08125\n",
      "\u001b[1m80/80\u001b[0m \u001b[32m━━━━━━━━━━━━━━━━━━━━\u001b[0m\u001b[37m\u001b[0m \u001b[1m8s\u001b[0m 95ms/step - accuracy: 0.4839 - loss: 1.4907 - val_accuracy: 0.0812 - val_loss: 16.1960\n",
      "Epoch 5/100\n",
      "\u001b[1m80/80\u001b[0m \u001b[32m━━━━━━━━━━━━━━━━━━━━\u001b[0m\u001b[37m\u001b[0m \u001b[1m0s\u001b[0m 91ms/step - accuracy: 0.5359 - loss: 1.3500\n",
      "Epoch 5: val_accuracy did not improve from 0.08125\n",
      "\u001b[1m80/80\u001b[0m \u001b[32m━━━━━━━━━━━━━━━━━━━━\u001b[0m\u001b[37m\u001b[0m \u001b[1m8s\u001b[0m 95ms/step - accuracy: 0.5361 - loss: 1.3495 - val_accuracy: 0.0812 - val_loss: 15.3247\n",
      "Epoch 6/100\n",
      "\u001b[1m80/80\u001b[0m \u001b[32m━━━━━━━━━━━━━━━━━━━━\u001b[0m\u001b[37m\u001b[0m \u001b[1m0s\u001b[0m 91ms/step - accuracy: 0.5812 - loss: 1.1859\n",
      "Epoch 6: val_accuracy did not improve from 0.08125\n",
      "\u001b[1m80/80\u001b[0m \u001b[32m━━━━━━━━━━━━━━━━━━━━\u001b[0m\u001b[37m\u001b[0m \u001b[1m8s\u001b[0m 95ms/step - accuracy: 0.5812 - loss: 1.1858 - val_accuracy: 0.0812 - val_loss: 13.3157\n",
      "\u001b[1m25/25\u001b[0m \u001b[32m━━━━━━━━━━━━━━━━━━━━\u001b[0m\u001b[37m\u001b[0m \u001b[1m1s\u001b[0m 15ms/step\n",
      "Résultat: {'n_mfcc': 20, 'model_type': 'CNN_2D_basic', 'batch_size': 32, 'epochs': 100, 'learning_rate': 0.0001, 'accuracy': 0.12125000357627869, 'loss': 5.043763160705566, 'validation_accuracy': 0.08124999701976776, 'validation_loss': 5.19825553894043, 'precision': 0.014701562500000001, 'recall': 0.12125, 'f1_score': 0.026223522853957636}\n",
      "Résultats sauvegardés dans 'model_results.csv'.\n",
      "Entraînement du modèle: CNN_2D_basic, Batch Size: 32, Epochs: 100, Learning Rate: 1e-05\n"
     ]
    },
    {
     "name": "stderr",
     "output_type": "stream",
     "text": [
      "/Users/mathisgorvien/conda_envs/ia_deeplearning/lib/python3.9/site-packages/keras/src/layers/convolutional/base_conv.py:107: UserWarning: Do not pass an `input_shape`/`input_dim` argument to a layer. When using Sequential models, prefer using an `Input(shape)` object as the first layer in the model instead.\n",
      "  super().__init__(activity_regularizer=activity_regularizer, **kwargs)\n"
     ]
    },
    {
     "name": "stdout",
     "output_type": "stream",
     "text": [
      "Epoch 1/100\n",
      "\u001b[1m80/80\u001b[0m \u001b[32m━━━━━━━━━━━━━━━━━━━━\u001b[0m\u001b[37m\u001b[0m \u001b[1m0s\u001b[0m 99ms/step - accuracy: 0.1214 - loss: 3.1902"
     ]
    },
    {
     "name": "stderr",
     "output_type": "stream",
     "text": [
      "2024-12-09 23:11:11.569228: E tensorflow/core/grappler/optimizers/meta_optimizer.cc:961] PluggableGraphOptimizer failed: INVALID_ARGUMENT: Failed to deserialize the `graph_buf`.\n"
     ]
    },
    {
     "name": "stdout",
     "output_type": "stream",
     "text": [
      "\n",
      "Epoch 1: val_accuracy improved from -inf to 0.08125, saving model to models/n_mfcc_20/CNN_2D_basic_bs32_ep100_lr1e-05.keras\n",
      "\u001b[1m80/80\u001b[0m \u001b[32m━━━━━━━━━━━━━━━━━━━━\u001b[0m\u001b[37m\u001b[0m \u001b[1m16s\u001b[0m 111ms/step - accuracy: 0.1216 - loss: 3.1881 - val_accuracy: 0.0812 - val_loss: 2.9516\n",
      "Epoch 2/100\n",
      "\u001b[1m80/80\u001b[0m \u001b[32m━━━━━━━━━━━━━━━━━━━━\u001b[0m\u001b[37m\u001b[0m \u001b[1m0s\u001b[0m 93ms/step - accuracy: 0.1960 - loss: 2.6877\n",
      "Epoch 2: val_accuracy did not improve from 0.08125\n",
      "\u001b[1m80/80\u001b[0m \u001b[32m━━━━━━━━━━━━━━━━━━━━\u001b[0m\u001b[37m\u001b[0m \u001b[1m8s\u001b[0m 97ms/step - accuracy: 0.1961 - loss: 2.6873 - val_accuracy: 0.0812 - val_loss: 3.6243\n",
      "Epoch 3/100\n",
      "\u001b[1m80/80\u001b[0m \u001b[32m━━━━━━━━━━━━━━━━━━━━\u001b[0m\u001b[37m\u001b[0m \u001b[1m0s\u001b[0m 94ms/step - accuracy: 0.2209 - loss: 2.4809\n",
      "Epoch 3: val_accuracy did not improve from 0.08125\n",
      "\u001b[1m80/80\u001b[0m \u001b[32m━━━━━━━━━━━━━━━━━━━━\u001b[0m\u001b[37m\u001b[0m \u001b[1m8s\u001b[0m 98ms/step - accuracy: 0.2209 - loss: 2.4807 - val_accuracy: 0.0812 - val_loss: 4.7713\n",
      "Epoch 4/100\n",
      "\u001b[1m80/80\u001b[0m \u001b[32m━━━━━━━━━━━━━━━━━━━━\u001b[0m\u001b[37m\u001b[0m \u001b[1m0s\u001b[0m 93ms/step - accuracy: 0.2301 - loss: 2.4482\n",
      "Epoch 4: val_accuracy improved from 0.08125 to 0.11094, saving model to models/n_mfcc_20/CNN_2D_basic_bs32_ep100_lr1e-05.keras\n",
      "\u001b[1m80/80\u001b[0m \u001b[32m━━━━━━━━━━━━━━━━━━━━\u001b[0m\u001b[37m\u001b[0m \u001b[1m8s\u001b[0m 100ms/step - accuracy: 0.2303 - loss: 2.4470 - val_accuracy: 0.1109 - val_loss: 5.4159\n",
      "Epoch 5/100\n",
      "\u001b[1m80/80\u001b[0m \u001b[32m━━━━━━━━━━━━━━━━━━━━\u001b[0m\u001b[37m\u001b[0m \u001b[1m0s\u001b[0m 93ms/step - accuracy: 0.2664 - loss: 2.2523\n",
      "Epoch 5: val_accuracy improved from 0.11094 to 0.12969, saving model to models/n_mfcc_20/CNN_2D_basic_bs32_ep100_lr1e-05.keras\n",
      "\u001b[1m80/80\u001b[0m \u001b[32m━━━━━━━━━━━━━━━━━━━━\u001b[0m\u001b[37m\u001b[0m \u001b[1m8s\u001b[0m 100ms/step - accuracy: 0.2665 - loss: 2.2518 - val_accuracy: 0.1297 - val_loss: 6.0879\n",
      "Epoch 6/100\n",
      "\u001b[1m80/80\u001b[0m \u001b[32m━━━━━━━━━━━━━━━━━━━━\u001b[0m\u001b[37m\u001b[0m \u001b[1m0s\u001b[0m 92ms/step - accuracy: 0.2804 - loss: 2.1662\n",
      "Epoch 6: val_accuracy improved from 0.12969 to 0.13750, saving model to models/n_mfcc_20/CNN_2D_basic_bs32_ep100_lr1e-05.keras\n",
      "\u001b[1m80/80\u001b[0m \u001b[32m━━━━━━━━━━━━━━━━━━━━\u001b[0m\u001b[37m\u001b[0m \u001b[1m8s\u001b[0m 99ms/step - accuracy: 0.2806 - loss: 2.1660 - val_accuracy: 0.1375 - val_loss: 6.4636\n",
      "\u001b[1m25/25\u001b[0m \u001b[32m━━━━━━━━━━━━━━━━━━━━\u001b[0m\u001b[37m\u001b[0m \u001b[1m1s\u001b[0m 15ms/step\n",
      "Résultat: {'n_mfcc': 20, 'model_type': 'CNN_2D_basic', 'batch_size': 32, 'epochs': 100, 'learning_rate': 1e-05, 'accuracy': 0.12125000357627869, 'loss': 2.7511489391326904, 'validation_accuracy': 0.13750000298023224, 'validation_loss': 2.9515652656555176, 'precision': 0.014701562500000001, 'recall': 0.12125, 'f1_score': 0.026223522853957636}\n",
      "Résultats sauvegardés dans 'model_results.csv'.\n",
      "Entraînement du modèle: CNN_2D_basic, Batch Size: 64, Epochs: 20, Learning Rate: 0.001\n"
     ]
    },
    {
     "name": "stderr",
     "output_type": "stream",
     "text": [
      "/Users/mathisgorvien/conda_envs/ia_deeplearning/lib/python3.9/site-packages/keras/src/layers/convolutional/base_conv.py:107: UserWarning: Do not pass an `input_shape`/`input_dim` argument to a layer. When using Sequential models, prefer using an `Input(shape)` object as the first layer in the model instead.\n",
      "  super().__init__(activity_regularizer=activity_regularizer, **kwargs)\n"
     ]
    },
    {
     "name": "stdout",
     "output_type": "stream",
     "text": [
      "Epoch 1/20\n",
      "\u001b[1m40/40\u001b[0m \u001b[32m━━━━━━━━━━━━━━━━━━━━\u001b[0m\u001b[37m\u001b[0m \u001b[1m0s\u001b[0m 181ms/step - accuracy: 0.2565 - loss: 2.1775\n",
      "Epoch 1: val_accuracy improved from -inf to 0.11406, saving model to models/n_mfcc_20/CNN_2D_basic_bs64_ep20_lr0.001.keras\n",
      "\u001b[1m40/40\u001b[0m \u001b[32m━━━━━━━━━━━━━━━━━━━━\u001b[0m\u001b[37m\u001b[0m \u001b[1m11s\u001b[0m 204ms/step - accuracy: 0.2579 - loss: 2.1722 - val_accuracy: 0.1141 - val_loss: 9.9561\n",
      "Epoch 2/20\n",
      "\u001b[1m40/40\u001b[0m \u001b[32m━━━━━━━━━━━━━━━━━━━━\u001b[0m\u001b[37m\u001b[0m \u001b[1m0s\u001b[0m 173ms/step - accuracy: 0.4512 - loss: 1.5579\n",
      "Epoch 2: val_accuracy improved from 0.11406 to 0.12969, saving model to models/n_mfcc_20/CNN_2D_basic_bs64_ep20_lr0.001.keras\n",
      "\u001b[1m40/40\u001b[0m \u001b[32m━━━━━━━━━━━━━━━━━━━━\u001b[0m\u001b[37m\u001b[0m \u001b[1m7s\u001b[0m 187ms/step - accuracy: 0.4520 - loss: 1.5558 - val_accuracy: 0.1297 - val_loss: 15.3707\n",
      "Epoch 3/20\n",
      "\u001b[1m40/40\u001b[0m \u001b[32m━━━━━━━━━━━━━━━━━━━━\u001b[0m\u001b[37m\u001b[0m \u001b[1m0s\u001b[0m 172ms/step - accuracy: 0.6208 - loss: 1.1321\n",
      "Epoch 3: val_accuracy did not improve from 0.12969\n",
      "\u001b[1m40/40\u001b[0m \u001b[32m━━━━━━━━━━━━━━━━━━━━\u001b[0m\u001b[37m\u001b[0m \u001b[1m7s\u001b[0m 181ms/step - accuracy: 0.6207 - loss: 1.1312 - val_accuracy: 0.1156 - val_loss: 8.3430\n",
      "Epoch 4/20\n",
      "\u001b[1m40/40\u001b[0m \u001b[32m━━━━━━━━━━━━━━━━━━━━\u001b[0m\u001b[37m\u001b[0m \u001b[1m0s\u001b[0m 171ms/step - accuracy: 0.7233 - loss: 0.8435\n",
      "Epoch 4: val_accuracy did not improve from 0.12969\n",
      "\u001b[1m40/40\u001b[0m \u001b[32m━━━━━━━━━━━━━━━━━━━━\u001b[0m\u001b[37m\u001b[0m \u001b[1m7s\u001b[0m 180ms/step - accuracy: 0.7235 - loss: 0.8424 - val_accuracy: 0.1094 - val_loss: 6.9852\n",
      "Epoch 5/20\n",
      "\u001b[1m40/40\u001b[0m \u001b[32m━━━━━━━━━━━━━━━━━━━━\u001b[0m\u001b[37m\u001b[0m \u001b[1m0s\u001b[0m 171ms/step - accuracy: 0.8127 - loss: 0.5814\n",
      "Epoch 5: val_accuracy did not improve from 0.12969\n",
      "\u001b[1m40/40\u001b[0m \u001b[32m━━━━━━━━━━━━━━━━━━━━\u001b[0m\u001b[37m\u001b[0m \u001b[1m7s\u001b[0m 181ms/step - accuracy: 0.8128 - loss: 0.5813 - val_accuracy: 0.1094 - val_loss: 6.6801\n",
      "Epoch 6/20\n",
      "\u001b[1m40/40\u001b[0m \u001b[32m━━━━━━━━━━━━━━━━━━━━\u001b[0m\u001b[37m\u001b[0m \u001b[1m0s\u001b[0m 171ms/step - accuracy: 0.8864 - loss: 0.3787\n",
      "Epoch 6: val_accuracy did not improve from 0.12969\n",
      "\u001b[1m40/40\u001b[0m \u001b[32m━━━━━━━━━━━━━━━━━━━━\u001b[0m\u001b[37m\u001b[0m \u001b[1m7s\u001b[0m 180ms/step - accuracy: 0.8865 - loss: 0.3783 - val_accuracy: 0.1031 - val_loss: 9.8418\n",
      "Epoch 7/20\n",
      "\u001b[1m40/40\u001b[0m \u001b[32m━━━━━━━━━━━━━━━━━━━━\u001b[0m\u001b[37m\u001b[0m \u001b[1m0s\u001b[0m 172ms/step - accuracy: 0.9216 - loss: 0.2586\n",
      "Epoch 7: val_accuracy did not improve from 0.12969\n",
      "\u001b[1m40/40\u001b[0m \u001b[32m━━━━━━━━━━━━━━━━━━━━\u001b[0m\u001b[37m\u001b[0m \u001b[1m7s\u001b[0m 181ms/step - accuracy: 0.9218 - loss: 0.2582 - val_accuracy: 0.1016 - val_loss: 13.7482\n",
      "Epoch 8/20\n",
      "\u001b[1m40/40\u001b[0m \u001b[32m━━━━━━━━━━━━━━━━━━━━\u001b[0m\u001b[37m\u001b[0m \u001b[1m0s\u001b[0m 171ms/step - accuracy: 0.9543 - loss: 0.1628\n",
      "Epoch 8: val_accuracy did not improve from 0.12969\n",
      "\u001b[1m40/40\u001b[0m \u001b[32m━━━━━━━━━━━━━━━━━━━━\u001b[0m\u001b[37m\u001b[0m \u001b[1m7s\u001b[0m 180ms/step - accuracy: 0.9542 - loss: 0.1628 - val_accuracy: 0.1016 - val_loss: 19.9314\n",
      "Epoch 9/20\n",
      "\u001b[1m40/40\u001b[0m \u001b[32m━━━━━━━━━━━━━━━━━━━━\u001b[0m\u001b[37m\u001b[0m \u001b[1m0s\u001b[0m 171ms/step - accuracy: 0.9616 - loss: 0.1228\n",
      "Epoch 9: val_accuracy did not improve from 0.12969\n",
      "\u001b[1m40/40\u001b[0m \u001b[32m━━━━━━━━━━━━━━━━━━━━\u001b[0m\u001b[37m\u001b[0m \u001b[1m7s\u001b[0m 180ms/step - accuracy: 0.9616 - loss: 0.1228 - val_accuracy: 0.1047 - val_loss: 26.2197\n",
      "Epoch 10/20\n",
      "\u001b[1m40/40\u001b[0m \u001b[32m━━━━━━━━━━━━━━━━━━━━\u001b[0m\u001b[37m\u001b[0m \u001b[1m0s\u001b[0m 172ms/step - accuracy: 0.9688 - loss: 0.0995\n",
      "Epoch 10: val_accuracy did not improve from 0.12969\n",
      "\u001b[1m40/40\u001b[0m \u001b[32m━━━━━━━━━━━━━━━━━━━━\u001b[0m\u001b[37m\u001b[0m \u001b[1m7s\u001b[0m 180ms/step - accuracy: 0.9688 - loss: 0.0998 - val_accuracy: 0.1047 - val_loss: 26.6853\n"
     ]
    },
    {
     "name": "stderr",
     "output_type": "stream",
     "text": [
      "2024-12-09 23:13:10.346325: E tensorflow/core/grappler/optimizers/meta_optimizer.cc:961] PluggableGraphOptimizer failed: INVALID_ARGUMENT: Failed to deserialize the `graph_buf`.\n"
     ]
    },
    {
     "name": "stdout",
     "output_type": "stream",
     "text": [
      "\u001b[1m25/25\u001b[0m \u001b[32m━━━━━━━━━━━━━━━━━━━━\u001b[0m\u001b[37m\u001b[0m \u001b[1m1s\u001b[0m 15ms/step\n",
      "Résultat: {'n_mfcc': 20, 'model_type': 'CNN_2D_basic', 'batch_size': 64, 'epochs': 20, 'learning_rate': 0.001, 'accuracy': 0.10750000178813934, 'loss': 6.667713165283203, 'validation_accuracy': 0.12968750298023224, 'validation_loss': 6.680075645446777, 'precision': 0.011556249999999999, 'recall': 0.1075, 'f1_score': 0.020869074492099324}\n",
      "Résultats sauvegardés dans 'model_results.csv'.\n",
      "Entraînement du modèle: CNN_2D_basic, Batch Size: 64, Epochs: 20, Learning Rate: 0.0001\n"
     ]
    },
    {
     "name": "stderr",
     "output_type": "stream",
     "text": [
      "/Users/mathisgorvien/conda_envs/ia_deeplearning/lib/python3.9/site-packages/keras/src/layers/convolutional/base_conv.py:107: UserWarning: Do not pass an `input_shape`/`input_dim` argument to a layer. When using Sequential models, prefer using an `Input(shape)` object as the first layer in the model instead.\n",
      "  super().__init__(activity_regularizer=activity_regularizer, **kwargs)\n"
     ]
    },
    {
     "name": "stdout",
     "output_type": "stream",
     "text": [
      "Epoch 1/20\n",
      "\u001b[1m40/40\u001b[0m \u001b[32m━━━━━━━━━━━━━━━━━━━━\u001b[0m\u001b[37m\u001b[0m \u001b[1m0s\u001b[0m 183ms/step - accuracy: 0.1215 - loss: 2.9132\n",
      "Epoch 1: val_accuracy improved from -inf to 0.08125, saving model to models/n_mfcc_20/CNN_2D_basic_bs64_ep20_lr0.0001.keras\n",
      "\u001b[1m40/40\u001b[0m \u001b[32m━━━━━━━━━━━━━━━━━━━━\u001b[0m\u001b[37m\u001b[0m \u001b[1m11s\u001b[0m 210ms/step - accuracy: 0.1222 - loss: 2.9096 - val_accuracy: 0.0812 - val_loss: 2.3237\n",
      "Epoch 2/20\n",
      "\u001b[1m40/40\u001b[0m \u001b[32m━━━━━━━━━━━━━━━━━━━━\u001b[0m\u001b[37m\u001b[0m \u001b[1m0s\u001b[0m 171ms/step - accuracy: 0.2052 - loss: 2.4658\n",
      "Epoch 2: val_accuracy improved from 0.08125 to 0.10000, saving model to models/n_mfcc_20/CNN_2D_basic_bs64_ep20_lr0.0001.keras\n",
      "\u001b[1m40/40\u001b[0m \u001b[32m━━━━━━━━━━━━━━━━━━━━\u001b[0m\u001b[37m\u001b[0m \u001b[1m7s\u001b[0m 184ms/step - accuracy: 0.2053 - loss: 2.4646 - val_accuracy: 0.1000 - val_loss: 2.3956\n",
      "Epoch 3/20\n",
      "\u001b[1m40/40\u001b[0m \u001b[32m━━━━━━━━━━━━━━━━━━━━\u001b[0m\u001b[37m\u001b[0m \u001b[1m0s\u001b[0m 195ms/step - accuracy: 0.2429 - loss: 2.3245\n",
      "Epoch 3: val_accuracy improved from 0.10000 to 0.11719, saving model to models/n_mfcc_20/CNN_2D_basic_bs64_ep20_lr0.0001.keras\n",
      "\u001b[1m40/40\u001b[0m \u001b[32m━━━━━━━━━━━━━━━━━━━━\u001b[0m\u001b[37m\u001b[0m \u001b[1m8s\u001b[0m 212ms/step - accuracy: 0.2430 - loss: 2.3236 - val_accuracy: 0.1172 - val_loss: 2.4844\n",
      "Epoch 4/20\n",
      "\u001b[1m40/40\u001b[0m \u001b[32m━━━━━━━━━━━━━━━━━━━━\u001b[0m\u001b[37m\u001b[0m \u001b[1m0s\u001b[0m 185ms/step - accuracy: 0.2821 - loss: 2.1381\n",
      "Epoch 4: val_accuracy did not improve from 0.11719\n",
      "\u001b[1m40/40\u001b[0m \u001b[32m━━━━━━━━━━━━━━━━━━━━\u001b[0m\u001b[37m\u001b[0m \u001b[1m8s\u001b[0m 194ms/step - accuracy: 0.2819 - loss: 2.1383 - val_accuracy: 0.1016 - val_loss: 2.5037\n",
      "Epoch 5/20\n",
      "\u001b[1m40/40\u001b[0m \u001b[32m━━━━━━━━━━━━━━━━━━━━\u001b[0m\u001b[37m\u001b[0m \u001b[1m0s\u001b[0m 174ms/step - accuracy: 0.3084 - loss: 2.0478\n",
      "Epoch 5: val_accuracy did not improve from 0.11719\n",
      "\u001b[1m40/40\u001b[0m \u001b[32m━━━━━━━━━━━━━━━━━━━━\u001b[0m\u001b[37m\u001b[0m \u001b[1m7s\u001b[0m 182ms/step - accuracy: 0.3086 - loss: 2.0476 - val_accuracy: 0.1094 - val_loss: 2.5741\n",
      "Epoch 6/20\n",
      "\u001b[1m40/40\u001b[0m \u001b[32m━━━━━━━━━━━━━━━━━━━━\u001b[0m\u001b[37m\u001b[0m \u001b[1m0s\u001b[0m 172ms/step - accuracy: 0.3492 - loss: 1.9463\n",
      "Epoch 6: val_accuracy did not improve from 0.11719\n",
      "\u001b[1m40/40\u001b[0m \u001b[32m━━━━━━━━━━━━━━━━━━━━\u001b[0m\u001b[37m\u001b[0m \u001b[1m7s\u001b[0m 180ms/step - accuracy: 0.3492 - loss: 1.9455 - val_accuracy: 0.1094 - val_loss: 2.6078\n",
      "\u001b[1m25/25\u001b[0m \u001b[32m━━━━━━━━━━━━━━━━━━━━\u001b[0m\u001b[37m\u001b[0m \u001b[1m1s\u001b[0m 15ms/step\n",
      "Résultat: {'n_mfcc': 20, 'model_type': 'CNN_2D_basic', 'batch_size': 64, 'epochs': 20, 'learning_rate': 0.0001, 'accuracy': 0.12125000357627869, 'loss': 2.313453435897827, 'validation_accuracy': 0.1171875, 'validation_loss': 2.3236846923828125, 'precision': 0.014701562500000001, 'recall': 0.12125, 'f1_score': 0.026223522853957636}\n",
      "Résultats sauvegardés dans 'model_results.csv'.\n",
      "Entraînement du modèle: CNN_2D_basic, Batch Size: 64, Epochs: 20, Learning Rate: 1e-05\n"
     ]
    },
    {
     "name": "stderr",
     "output_type": "stream",
     "text": [
      "/Users/mathisgorvien/conda_envs/ia_deeplearning/lib/python3.9/site-packages/keras/src/layers/convolutional/base_conv.py:107: UserWarning: Do not pass an `input_shape`/`input_dim` argument to a layer. When using Sequential models, prefer using an `Input(shape)` object as the first layer in the model instead.\n",
      "  super().__init__(activity_regularizer=activity_regularizer, **kwargs)\n"
     ]
    },
    {
     "name": "stdout",
     "output_type": "stream",
     "text": [
      "Epoch 1/20\n",
      "\u001b[1m40/40\u001b[0m \u001b[32m━━━━━━━━━━━━━━━━━━━━\u001b[0m\u001b[37m\u001b[0m \u001b[1m0s\u001b[0m 194ms/step - accuracy: 0.1193 - loss: 2.9149"
     ]
    },
    {
     "name": "stderr",
     "output_type": "stream",
     "text": [
      "2024-12-09 23:14:15.665291: E tensorflow/core/grappler/optimizers/meta_optimizer.cc:961] PluggableGraphOptimizer failed: INVALID_ARGUMENT: Failed to deserialize the `graph_buf`.\n"
     ]
    },
    {
     "name": "stdout",
     "output_type": "stream",
     "text": [
      "\n",
      "Epoch 1: val_accuracy improved from -inf to 0.10000, saving model to models/n_mfcc_20/CNN_2D_basic_bs64_ep20_lr1e-05.keras\n",
      "\u001b[1m40/40\u001b[0m \u001b[32m━━━━━━━━━━━━━━━━━━━━\u001b[0m\u001b[37m\u001b[0m \u001b[1m13s\u001b[0m 221ms/step - accuracy: 0.1198 - loss: 2.9139 - val_accuracy: 0.1000 - val_loss: 2.5624\n",
      "Epoch 2/20\n",
      "\u001b[1m40/40\u001b[0m \u001b[32m━━━━━━━━━━━━━━━━━━━━\u001b[0m\u001b[37m\u001b[0m \u001b[1m0s\u001b[0m 176ms/step - accuracy: 0.1846 - loss: 2.6553\n",
      "Epoch 2: val_accuracy did not improve from 0.10000\n",
      "\u001b[1m40/40\u001b[0m \u001b[32m━━━━━━━━━━━━━━━━━━━━\u001b[0m\u001b[37m\u001b[0m \u001b[1m7s\u001b[0m 185ms/step - accuracy: 0.1848 - loss: 2.6551 - val_accuracy: 0.1000 - val_loss: 3.0279\n",
      "Epoch 3/20\n",
      "\u001b[1m40/40\u001b[0m \u001b[32m━━━━━━━━━━━━━━━━━━━━\u001b[0m\u001b[37m\u001b[0m \u001b[1m0s\u001b[0m 174ms/step - accuracy: 0.2350 - loss: 2.5331\n",
      "Epoch 3: val_accuracy did not improve from 0.10000\n",
      "\u001b[1m40/40\u001b[0m \u001b[32m━━━━━━━━━━━━━━━━━━━━\u001b[0m\u001b[37m\u001b[0m \u001b[1m7s\u001b[0m 183ms/step - accuracy: 0.2350 - loss: 2.5324 - val_accuracy: 0.1000 - val_loss: 3.6129\n",
      "Epoch 4/20\n",
      "\u001b[1m40/40\u001b[0m \u001b[32m━━━━━━━━━━━━━━━━━━━━\u001b[0m\u001b[37m\u001b[0m \u001b[1m0s\u001b[0m 174ms/step - accuracy: 0.2368 - loss: 2.4896\n",
      "Epoch 4: val_accuracy did not improve from 0.10000\n",
      "\u001b[1m40/40\u001b[0m \u001b[32m━━━━━━━━━━━━━━━━━━━━\u001b[0m\u001b[37m\u001b[0m \u001b[1m7s\u001b[0m 183ms/step - accuracy: 0.2372 - loss: 2.4881 - val_accuracy: 0.1000 - val_loss: 4.3456\n",
      "Epoch 5/20\n",
      "\u001b[1m40/40\u001b[0m \u001b[32m━━━━━━━━━━━━━━━━━━━━\u001b[0m\u001b[37m\u001b[0m \u001b[1m0s\u001b[0m 174ms/step - accuracy: 0.2535 - loss: 2.3396\n",
      "Epoch 5: val_accuracy did not improve from 0.10000\n",
      "\u001b[1m40/40\u001b[0m \u001b[32m━━━━━━━━━━━━━━━━━━━━\u001b[0m\u001b[37m\u001b[0m \u001b[1m7s\u001b[0m 182ms/step - accuracy: 0.2537 - loss: 2.3393 - val_accuracy: 0.1000 - val_loss: 5.1222\n",
      "Epoch 6/20\n",
      "\u001b[1m40/40\u001b[0m \u001b[32m━━━━━━━━━━━━━━━━━━━━\u001b[0m\u001b[37m\u001b[0m \u001b[1m0s\u001b[0m 173ms/step - accuracy: 0.2759 - loss: 2.2423\n",
      "Epoch 6: val_accuracy did not improve from 0.10000\n",
      "\u001b[1m40/40\u001b[0m \u001b[32m━━━━━━━━━━━━━━━━━━━━\u001b[0m\u001b[37m\u001b[0m \u001b[1m7s\u001b[0m 182ms/step - accuracy: 0.2760 - loss: 2.2427 - val_accuracy: 0.1000 - val_loss: 5.5941\n",
      "\u001b[1m25/25\u001b[0m \u001b[32m━━━━━━━━━━━━━━━━━━━━\u001b[0m\u001b[37m\u001b[0m \u001b[1m1s\u001b[0m 15ms/step\n",
      "Résultat: {'n_mfcc': 20, 'model_type': 'CNN_2D_basic', 'batch_size': 64, 'epochs': 20, 'learning_rate': 1e-05, 'accuracy': 0.09000000357627869, 'loss': 2.543928384780884, 'validation_accuracy': 0.10000000149011612, 'validation_loss': 2.5624186992645264, 'precision': 0.0081, 'recall': 0.09, 'f1_score': 0.014862385321100917}\n",
      "Résultats sauvegardés dans 'model_results.csv'.\n",
      "Entraînement du modèle: CNN_2D_basic, Batch Size: 64, Epochs: 50, Learning Rate: 0.001\n"
     ]
    },
    {
     "name": "stderr",
     "output_type": "stream",
     "text": [
      "/Users/mathisgorvien/conda_envs/ia_deeplearning/lib/python3.9/site-packages/keras/src/layers/convolutional/base_conv.py:107: UserWarning: Do not pass an `input_shape`/`input_dim` argument to a layer. When using Sequential models, prefer using an `Input(shape)` object as the first layer in the model instead.\n",
      "  super().__init__(activity_regularizer=activity_regularizer, **kwargs)\n"
     ]
    },
    {
     "name": "stdout",
     "output_type": "stream",
     "text": [
      "Epoch 1/50\n",
      "\u001b[1m40/40\u001b[0m \u001b[32m━━━━━━━━━━━━━━━━━━━━\u001b[0m\u001b[37m\u001b[0m \u001b[1m0s\u001b[0m 185ms/step - accuracy: 0.2445 - loss: 2.2505\n",
      "Epoch 1: val_accuracy improved from -inf to 0.08125, saving model to models/n_mfcc_20/CNN_2D_basic_bs64_ep50_lr0.001.keras\n",
      "\u001b[1m40/40\u001b[0m \u001b[32m━━━━━━━━━━━━━━━━━━━━\u001b[0m\u001b[37m\u001b[0m \u001b[1m12s\u001b[0m 210ms/step - accuracy: 0.2456 - loss: 2.2448 - val_accuracy: 0.0812 - val_loss: 21.6915\n",
      "Epoch 2/50\n",
      "\u001b[1m40/40\u001b[0m \u001b[32m━━━━━━━━━━━━━━━━━━━━\u001b[0m\u001b[37m\u001b[0m \u001b[1m0s\u001b[0m 177ms/step - accuracy: 0.2882 - loss: 2.0832\n",
      "Epoch 2: val_accuracy improved from 0.08125 to 0.10000, saving model to models/n_mfcc_20/CNN_2D_basic_bs64_ep50_lr0.001.keras\n",
      "\u001b[1m40/40\u001b[0m \u001b[32m━━━━━━━━━━━━━━━━━━━━\u001b[0m\u001b[37m\u001b[0m \u001b[1m8s\u001b[0m 190ms/step - accuracy: 0.2888 - loss: 2.0819 - val_accuracy: 0.1000 - val_loss: 3.3927\n",
      "Epoch 3/50\n",
      "\u001b[1m40/40\u001b[0m \u001b[32m━━━━━━━━━━━━━━━━━━━━\u001b[0m\u001b[37m\u001b[0m \u001b[1m0s\u001b[0m 177ms/step - accuracy: 0.3984 - loss: 1.7405\n",
      "Epoch 3: val_accuracy improved from 0.10000 to 0.10938, saving model to models/n_mfcc_20/CNN_2D_basic_bs64_ep50_lr0.001.keras\n",
      "\u001b[1m40/40\u001b[0m \u001b[32m━━━━━━━━━━━━━━━━━━━━\u001b[0m\u001b[37m\u001b[0m \u001b[1m8s\u001b[0m 189ms/step - accuracy: 0.3986 - loss: 1.7398 - val_accuracy: 0.1094 - val_loss: 4.3782\n",
      "Epoch 4/50\n",
      "\u001b[1m40/40\u001b[0m \u001b[32m━━━━━━━━━━━━━━━━━━━━\u001b[0m\u001b[37m\u001b[0m \u001b[1m0s\u001b[0m 175ms/step - accuracy: 0.4670 - loss: 1.5042\n",
      "Epoch 4: val_accuracy did not improve from 0.10938\n",
      "\u001b[1m40/40\u001b[0m \u001b[32m━━━━━━━━━━━━━━━━━━━━\u001b[0m\u001b[37m\u001b[0m \u001b[1m7s\u001b[0m 184ms/step - accuracy: 0.4671 - loss: 1.5031 - val_accuracy: 0.1094 - val_loss: 4.0038\n",
      "Epoch 5/50\n",
      "\u001b[1m40/40\u001b[0m \u001b[32m━━━━━━━━━━━━━━━━━━━━\u001b[0m\u001b[37m\u001b[0m \u001b[1m0s\u001b[0m 177ms/step - accuracy: 0.4994 - loss: 1.3729\n",
      "Epoch 5: val_accuracy did not improve from 0.10938\n",
      "\u001b[1m40/40\u001b[0m \u001b[32m━━━━━━━━━━━━━━━━━━━━\u001b[0m\u001b[37m\u001b[0m \u001b[1m7s\u001b[0m 185ms/step - accuracy: 0.4995 - loss: 1.3730 - val_accuracy: 0.1094 - val_loss: 4.3420\n",
      "Epoch 6/50\n",
      "\u001b[1m40/40\u001b[0m \u001b[32m━━━━━━━━━━━━━━━━━━━━\u001b[0m\u001b[37m\u001b[0m \u001b[1m0s\u001b[0m 176ms/step - accuracy: 0.4827 - loss: 1.4781\n",
      "Epoch 6: val_accuracy did not improve from 0.10938\n",
      "\u001b[1m40/40\u001b[0m \u001b[32m━━━━━━━━━━━━━━━━━━━━\u001b[0m\u001b[37m\u001b[0m \u001b[1m7s\u001b[0m 185ms/step - accuracy: 0.4833 - loss: 1.4767 - val_accuracy: 0.1094 - val_loss: 3.8979\n",
      "Epoch 7/50\n",
      "\u001b[1m40/40\u001b[0m \u001b[32m━━━━━━━━━━━━━━━━━━━━\u001b[0m\u001b[37m\u001b[0m \u001b[1m0s\u001b[0m 176ms/step - accuracy: 0.5710 - loss: 1.1990\n",
      "Epoch 7: val_accuracy improved from 0.10938 to 0.15000, saving model to models/n_mfcc_20/CNN_2D_basic_bs64_ep50_lr0.001.keras\n",
      "\u001b[1m40/40\u001b[0m \u001b[32m━━━━━━━━━━━━━━━━━━━━\u001b[0m\u001b[37m\u001b[0m \u001b[1m8s\u001b[0m 189ms/step - accuracy: 0.5714 - loss: 1.1980 - val_accuracy: 0.1500 - val_loss: 4.0989\n"
     ]
    },
    {
     "name": "stderr",
     "output_type": "stream",
     "text": [
      "2024-12-09 23:15:52.556480: E tensorflow/core/grappler/optimizers/meta_optimizer.cc:961] PluggableGraphOptimizer failed: INVALID_ARGUMENT: Failed to deserialize the `graph_buf`.\n"
     ]
    },
    {
     "name": "stdout",
     "output_type": "stream",
     "text": [
      "\u001b[1m25/25\u001b[0m \u001b[32m━━━━━━━━━━━━━━━━━━━━\u001b[0m\u001b[37m\u001b[0m \u001b[1m1s\u001b[0m 15ms/step\n",
      "Résultat: {'n_mfcc': 20, 'model_type': 'CNN_2D_basic', 'batch_size': 64, 'epochs': 50, 'learning_rate': 0.001, 'accuracy': 0.09000000357627869, 'loss': 3.3759896755218506, 'validation_accuracy': 0.15000000596046448, 'validation_loss': 3.392660140991211, 'precision': 0.008470588235294117, 'recall': 0.09, 'f1_score': 0.015483870967741937}\n",
      "Résultats sauvegardés dans 'model_results.csv'.\n",
      "Entraînement du modèle: CNN_2D_basic, Batch Size: 64, Epochs: 50, Learning Rate: 0.0001\n"
     ]
    },
    {
     "name": "stderr",
     "output_type": "stream",
     "text": [
      "/Users/mathisgorvien/conda_envs/ia_deeplearning/lib/python3.9/site-packages/keras/src/layers/convolutional/base_conv.py:107: UserWarning: Do not pass an `input_shape`/`input_dim` argument to a layer. When using Sequential models, prefer using an `Input(shape)` object as the first layer in the model instead.\n",
      "  super().__init__(activity_regularizer=activity_regularizer, **kwargs)\n"
     ]
    },
    {
     "name": "stdout",
     "output_type": "stream",
     "text": [
      "Epoch 1/50\n",
      "\u001b[1m40/40\u001b[0m \u001b[32m━━━━━━━━━━━━━━━━━━━━\u001b[0m\u001b[37m\u001b[0m \u001b[1m0s\u001b[0m 194ms/step - accuracy: 0.1656 - loss: 2.7682\n",
      "Epoch 1: val_accuracy improved from -inf to 0.10000, saving model to models/n_mfcc_20/CNN_2D_basic_bs64_ep50_lr0.0001.keras\n",
      "\u001b[1m40/40\u001b[0m \u001b[32m━━━━━━━━━━━━━━━━━━━━\u001b[0m\u001b[37m\u001b[0m \u001b[1m12s\u001b[0m 221ms/step - accuracy: 0.1665 - loss: 2.7600 - val_accuracy: 0.1000 - val_loss: 4.2403\n",
      "Epoch 2/50\n",
      "\u001b[1m40/40\u001b[0m \u001b[32m━━━━━━━━━━━━━━━━━━━━\u001b[0m\u001b[37m\u001b[0m \u001b[1m0s\u001b[0m 183ms/step - accuracy: 0.3049 - loss: 1.9753\n",
      "Epoch 2: val_accuracy did not improve from 0.10000\n",
      "\u001b[1m40/40\u001b[0m \u001b[32m━━━━━━━━━━━━━━━━━━━━\u001b[0m\u001b[37m\u001b[0m \u001b[1m8s\u001b[0m 192ms/step - accuracy: 0.3055 - loss: 1.9745 - val_accuracy: 0.1000 - val_loss: 7.2717\n",
      "Epoch 3/50\n",
      "\u001b[1m40/40\u001b[0m \u001b[32m━━━━━━━━━━━━━━━━━━━━\u001b[0m\u001b[37m\u001b[0m \u001b[1m0s\u001b[0m 182ms/step - accuracy: 0.4029 - loss: 1.7262\n",
      "Epoch 3: val_accuracy did not improve from 0.10000\n",
      "\u001b[1m40/40\u001b[0m \u001b[32m━━━━━━━━━━━━━━━━━━━━\u001b[0m\u001b[37m\u001b[0m \u001b[1m8s\u001b[0m 191ms/step - accuracy: 0.4031 - loss: 1.7260 - val_accuracy: 0.1000 - val_loss: 10.6152\n",
      "Epoch 4/50\n",
      "\u001b[1m40/40\u001b[0m \u001b[32m━━━━━━━━━━━━━━━━━━━━\u001b[0m\u001b[37m\u001b[0m \u001b[1m0s\u001b[0m 184ms/step - accuracy: 0.4540 - loss: 1.5680\n",
      "Epoch 4: val_accuracy did not improve from 0.10000\n",
      "\u001b[1m40/40\u001b[0m \u001b[32m━━━━━━━━━━━━━━━━━━━━\u001b[0m\u001b[37m\u001b[0m \u001b[1m8s\u001b[0m 193ms/step - accuracy: 0.4539 - loss: 1.5679 - val_accuracy: 0.1000 - val_loss: 14.5182\n",
      "Epoch 5/50\n",
      "\u001b[1m40/40\u001b[0m \u001b[32m━━━━━━━━━━━━━━━━━━━━\u001b[0m\u001b[37m\u001b[0m \u001b[1m0s\u001b[0m 185ms/step - accuracy: 0.5030 - loss: 1.4256\n",
      "Epoch 5: val_accuracy did not improve from 0.10000\n",
      "\u001b[1m40/40\u001b[0m \u001b[32m━━━━━━━━━━━━━━━━━━━━\u001b[0m\u001b[37m\u001b[0m \u001b[1m8s\u001b[0m 194ms/step - accuracy: 0.5031 - loss: 1.4254 - val_accuracy: 0.1000 - val_loss: 17.4573\n",
      "Epoch 6/50\n",
      "\u001b[1m40/40\u001b[0m \u001b[32m━━━━━━━━━━━━━━━━━━━━\u001b[0m\u001b[37m\u001b[0m \u001b[1m0s\u001b[0m 186ms/step - accuracy: 0.5691 - loss: 1.2668\n",
      "Epoch 6: val_accuracy did not improve from 0.10000\n",
      "\u001b[1m40/40\u001b[0m \u001b[32m━━━━━━━━━━━━━━━━━━━━\u001b[0m\u001b[37m\u001b[0m \u001b[1m8s\u001b[0m 194ms/step - accuracy: 0.5692 - loss: 1.2664 - val_accuracy: 0.1000 - val_loss: 21.5905\n",
      "\u001b[1m25/25\u001b[0m \u001b[32m━━━━━━━━━━━━━━━━━━━━\u001b[0m\u001b[37m\u001b[0m \u001b[1m1s\u001b[0m 15ms/step\n",
      "Résultat: {'n_mfcc': 20, 'model_type': 'CNN_2D_basic', 'batch_size': 64, 'epochs': 50, 'learning_rate': 0.0001, 'accuracy': 0.09000000357627869, 'loss': 4.235357284545898, 'validation_accuracy': 0.10000000149011612, 'validation_loss': 4.240304470062256, 'precision': 0.0081, 'recall': 0.09, 'f1_score': 0.014862385321100917}\n",
      "Résultats sauvegardés dans 'model_results.csv'.\n",
      "Entraînement du modèle: CNN_2D_basic, Batch Size: 64, Epochs: 50, Learning Rate: 1e-05\n"
     ]
    },
    {
     "name": "stderr",
     "output_type": "stream",
     "text": [
      "/Users/mathisgorvien/conda_envs/ia_deeplearning/lib/python3.9/site-packages/keras/src/layers/convolutional/base_conv.py:107: UserWarning: Do not pass an `input_shape`/`input_dim` argument to a layer. When using Sequential models, prefer using an `Input(shape)` object as the first layer in the model instead.\n",
      "  super().__init__(activity_regularizer=activity_regularizer, **kwargs)\n"
     ]
    },
    {
     "name": "stdout",
     "output_type": "stream",
     "text": [
      "Epoch 1/50\n",
      "\u001b[1m40/40\u001b[0m \u001b[32m━━━━━━━━━━━━━━━━━━━━\u001b[0m\u001b[37m\u001b[0m \u001b[1m0s\u001b[0m 200ms/step - accuracy: 0.1158 - loss: 3.1569"
     ]
    },
    {
     "name": "stderr",
     "output_type": "stream",
     "text": [
      "2024-12-09 23:16:58.983946: E tensorflow/core/grappler/optimizers/meta_optimizer.cc:961] PluggableGraphOptimizer failed: INVALID_ARGUMENT: Failed to deserialize the `graph_buf`.\n"
     ]
    },
    {
     "name": "stdout",
     "output_type": "stream",
     "text": [
      "\n",
      "Epoch 1: val_accuracy improved from -inf to 0.10938, saving model to models/n_mfcc_20/CNN_2D_basic_bs64_ep50_lr1e-05.keras\n",
      "\u001b[1m40/40\u001b[0m \u001b[32m━━━━━━━━━━━━━━━━━━━━\u001b[0m\u001b[37m\u001b[0m \u001b[1m12s\u001b[0m 224ms/step - accuracy: 0.1163 - loss: 3.1517 - val_accuracy: 0.1094 - val_loss: 2.4534\n",
      "Epoch 2/50\n",
      "\u001b[1m40/40\u001b[0m \u001b[32m━━━━━━━━━━━━━━━━━━━━\u001b[0m\u001b[37m\u001b[0m \u001b[1m0s\u001b[0m 185ms/step - accuracy: 0.1675 - loss: 2.7075\n",
      "Epoch 2: val_accuracy did not improve from 0.10938\n",
      "\u001b[1m40/40\u001b[0m \u001b[32m━━━━━━━━━━━━━━━━━━━━\u001b[0m\u001b[37m\u001b[0m \u001b[1m8s\u001b[0m 193ms/step - accuracy: 0.1680 - loss: 2.7068 - val_accuracy: 0.1094 - val_loss: 2.9477\n",
      "Epoch 3/50\n",
      "\u001b[1m40/40\u001b[0m \u001b[32m━━━━━━━━━━━━━━━━━━━━\u001b[0m\u001b[37m\u001b[0m \u001b[1m0s\u001b[0m 183ms/step - accuracy: 0.2123 - loss: 2.5201\n",
      "Epoch 3: val_accuracy did not improve from 0.10938\n",
      "\u001b[1m40/40\u001b[0m \u001b[32m━━━━━━━━━━━━━━━━━━━━\u001b[0m\u001b[37m\u001b[0m \u001b[1m8s\u001b[0m 191ms/step - accuracy: 0.2123 - loss: 2.5199 - val_accuracy: 0.1094 - val_loss: 3.7782\n",
      "Epoch 4/50\n",
      "\u001b[1m40/40\u001b[0m \u001b[32m━━━━━━━━━━━━━━━━━━━━\u001b[0m\u001b[37m\u001b[0m \u001b[1m0s\u001b[0m 184ms/step - accuracy: 0.2367 - loss: 2.3995\n",
      "Epoch 4: val_accuracy did not improve from 0.10938\n",
      "\u001b[1m40/40\u001b[0m \u001b[32m━━━━━━━━━━━━━━━━━━━━\u001b[0m\u001b[37m\u001b[0m \u001b[1m8s\u001b[0m 192ms/step - accuracy: 0.2367 - loss: 2.3998 - val_accuracy: 0.1094 - val_loss: 4.6608\n",
      "Epoch 5/50\n",
      "\u001b[1m40/40\u001b[0m \u001b[32m━━━━━━━━━━━━━━━━━━━━\u001b[0m\u001b[37m\u001b[0m \u001b[1m0s\u001b[0m 182ms/step - accuracy: 0.2511 - loss: 2.3592\n",
      "Epoch 5: val_accuracy did not improve from 0.10938\n",
      "\u001b[1m40/40\u001b[0m \u001b[32m━━━━━━━━━━━━━━━━━━━━\u001b[0m\u001b[37m\u001b[0m \u001b[1m8s\u001b[0m 191ms/step - accuracy: 0.2510 - loss: 2.3585 - val_accuracy: 0.1094 - val_loss: 5.5311\n",
      "Epoch 6/50\n",
      "\u001b[1m40/40\u001b[0m \u001b[32m━━━━━━━━━━━━━━━━━━━━\u001b[0m\u001b[37m\u001b[0m \u001b[1m0s\u001b[0m 183ms/step - accuracy: 0.2614 - loss: 2.2481\n",
      "Epoch 6: val_accuracy did not improve from 0.10938\n",
      "\u001b[1m40/40\u001b[0m \u001b[32m━━━━━━━━━━━━━━━━━━━━\u001b[0m\u001b[37m\u001b[0m \u001b[1m8s\u001b[0m 192ms/step - accuracy: 0.2614 - loss: 2.2490 - val_accuracy: 0.0891 - val_loss: 6.2784\n",
      "\u001b[1m25/25\u001b[0m \u001b[32m━━━━━━━━━━━━━━━━━━━━\u001b[0m\u001b[37m\u001b[0m \u001b[1m1s\u001b[0m 15ms/step\n",
      "Résultat: {'n_mfcc': 20, 'model_type': 'CNN_2D_basic', 'batch_size': 64, 'epochs': 50, 'learning_rate': 1e-05, 'accuracy': 0.10750000178813934, 'loss': 2.464296817779541, 'validation_accuracy': 0.109375, 'validation_loss': 2.4533612728118896, 'precision': 0.011556249999999999, 'recall': 0.1075, 'f1_score': 0.020869074492099324}\n",
      "Résultats sauvegardés dans 'model_results.csv'.\n",
      "Entraînement du modèle: CNN_2D_basic, Batch Size: 64, Epochs: 100, Learning Rate: 0.001\n"
     ]
    },
    {
     "name": "stderr",
     "output_type": "stream",
     "text": [
      "/Users/mathisgorvien/conda_envs/ia_deeplearning/lib/python3.9/site-packages/keras/src/layers/convolutional/base_conv.py:107: UserWarning: Do not pass an `input_shape`/`input_dim` argument to a layer. When using Sequential models, prefer using an `Input(shape)` object as the first layer in the model instead.\n",
      "  super().__init__(activity_regularizer=activity_regularizer, **kwargs)\n"
     ]
    },
    {
     "name": "stdout",
     "output_type": "stream",
     "text": [
      "Epoch 1/100\n",
      "\u001b[1m40/40\u001b[0m \u001b[32m━━━━━━━━━━━━━━━━━━━━\u001b[0m\u001b[37m\u001b[0m \u001b[1m0s\u001b[0m 201ms/step - accuracy: 0.2506 - loss: 2.1972\n",
      "Epoch 1: val_accuracy improved from -inf to 0.10938, saving model to models/n_mfcc_20/CNN_2D_basic_bs64_ep100_lr0.001.keras\n",
      "\u001b[1m40/40\u001b[0m \u001b[32m━━━━━━━━━━━━━━━━━━━━\u001b[0m\u001b[37m\u001b[0m \u001b[1m13s\u001b[0m 231ms/step - accuracy: 0.2521 - loss: 2.1913 - val_accuracy: 0.1094 - val_loss: 10.5329\n",
      "Epoch 2/100\n",
      "\u001b[1m40/40\u001b[0m \u001b[32m━━━━━━━━━━━━━━━━━━━━\u001b[0m\u001b[37m\u001b[0m \u001b[1m0s\u001b[0m 211ms/step - accuracy: 0.4531 - loss: 1.5258\n",
      "Epoch 2: val_accuracy did not improve from 0.10938\n",
      "\u001b[1m40/40\u001b[0m \u001b[32m━━━━━━━━━━━━━━━━━━━━\u001b[0m\u001b[37m\u001b[0m \u001b[1m9s\u001b[0m 221ms/step - accuracy: 0.4541 - loss: 1.5230 - val_accuracy: 0.1094 - val_loss: 18.4375\n",
      "Epoch 3/100\n",
      "\u001b[1m40/40\u001b[0m \u001b[32m━━━━━━━━━━━━━━━━━━━━\u001b[0m\u001b[37m\u001b[0m \u001b[1m0s\u001b[0m 247ms/step - accuracy: 0.6015 - loss: 1.1009\n",
      "Epoch 3: val_accuracy did not improve from 0.10938\n",
      "\u001b[1m40/40\u001b[0m \u001b[32m━━━━━━━━━━━━━━━━━━━━\u001b[0m\u001b[37m\u001b[0m \u001b[1m10s\u001b[0m 257ms/step - accuracy: 0.6021 - loss: 1.0994 - val_accuracy: 0.1094 - val_loss: 15.8095\n",
      "Epoch 4/100\n",
      "\u001b[1m40/40\u001b[0m \u001b[32m━━━━━━━━━━━━━━━━━━━━\u001b[0m\u001b[37m\u001b[0m \u001b[1m0s\u001b[0m 200ms/step - accuracy: 0.7607 - loss: 0.7632\n",
      "Epoch 4: val_accuracy did not improve from 0.10938\n",
      "\u001b[1m40/40\u001b[0m \u001b[32m━━━━━━━━━━━━━━━━━━━━\u001b[0m\u001b[37m\u001b[0m \u001b[1m8s\u001b[0m 209ms/step - accuracy: 0.7610 - loss: 0.7617 - val_accuracy: 0.1000 - val_loss: 7.3875\n",
      "Epoch 5/100\n",
      "\u001b[1m40/40\u001b[0m \u001b[32m━━━━━━━━━━━━━━━━━━━━\u001b[0m\u001b[37m\u001b[0m \u001b[1m0s\u001b[0m 210ms/step - accuracy: 0.8602 - loss: 0.4663\n",
      "Epoch 5: val_accuracy did not improve from 0.10938\n",
      "\u001b[1m40/40\u001b[0m \u001b[32m━━━━━━━━━━━━━━━━━━━━\u001b[0m\u001b[37m\u001b[0m \u001b[1m9s\u001b[0m 220ms/step - accuracy: 0.8604 - loss: 0.4656 - val_accuracy: 0.1000 - val_loss: 7.6176\n",
      "Epoch 6/100\n",
      "\u001b[1m40/40\u001b[0m \u001b[32m━━━━━━━━━━━━━━━━━━━━\u001b[0m\u001b[37m\u001b[0m \u001b[1m0s\u001b[0m 197ms/step - accuracy: 0.9045 - loss: 0.3158\n",
      "Epoch 6: val_accuracy did not improve from 0.10938\n",
      "\u001b[1m40/40\u001b[0m \u001b[32m━━━━━━━━━━━━━━━━━━━━\u001b[0m\u001b[37m\u001b[0m \u001b[1m8s\u001b[0m 207ms/step - accuracy: 0.9046 - loss: 0.3154 - val_accuracy: 0.1000 - val_loss: 6.0882\n",
      "Epoch 7/100\n",
      "\u001b[1m40/40\u001b[0m \u001b[32m━━━━━━━━━━━━━━━━━━━━\u001b[0m\u001b[37m\u001b[0m \u001b[1m0s\u001b[0m 189ms/step - accuracy: 0.9386 - loss: 0.2052\n",
      "Epoch 7: val_accuracy did not improve from 0.10938\n",
      "\u001b[1m40/40\u001b[0m \u001b[32m━━━━━━━━━━━━━━━━━━━━\u001b[0m\u001b[37m\u001b[0m \u001b[1m8s\u001b[0m 198ms/step - accuracy: 0.9387 - loss: 0.2049 - val_accuracy: 0.1000 - val_loss: 6.7896\n",
      "Epoch 8/100\n",
      "\u001b[1m40/40\u001b[0m \u001b[32m━━━━━━━━━━━━━━━━━━━━\u001b[0m\u001b[37m\u001b[0m \u001b[1m0s\u001b[0m 191ms/step - accuracy: 0.9559 - loss: 0.1462\n",
      "Epoch 8: val_accuracy improved from 0.10938 to 0.14687, saving model to models/n_mfcc_20/CNN_2D_basic_bs64_ep100_lr0.001.keras\n",
      "\u001b[1m40/40\u001b[0m \u001b[32m━━━━━━━━━━━━━━━━━━━━\u001b[0m\u001b[37m\u001b[0m \u001b[1m8s\u001b[0m 204ms/step - accuracy: 0.9559 - loss: 0.1463 - val_accuracy: 0.1469 - val_loss: 7.5594\n",
      "Epoch 9/100\n",
      "\u001b[1m40/40\u001b[0m \u001b[32m━━━━━━━━━━━━━━━━━━━━\u001b[0m\u001b[37m\u001b[0m \u001b[1m0s\u001b[0m 191ms/step - accuracy: 0.9634 - loss: 0.1186\n",
      "Epoch 9: val_accuracy improved from 0.14687 to 0.16719, saving model to models/n_mfcc_20/CNN_2D_basic_bs64_ep100_lr0.001.keras\n",
      "\u001b[1m40/40\u001b[0m \u001b[32m━━━━━━━━━━━━━━━━━━━━\u001b[0m\u001b[37m\u001b[0m \u001b[1m8s\u001b[0m 204ms/step - accuracy: 0.9635 - loss: 0.1185 - val_accuracy: 0.1672 - val_loss: 7.3773\n",
      "Epoch 10/100\n",
      "\u001b[1m40/40\u001b[0m \u001b[32m━━━━━━━━━━━━━━━━━━━━\u001b[0m\u001b[37m\u001b[0m \u001b[1m0s\u001b[0m 190ms/step - accuracy: 0.9753 - loss: 0.0873\n",
      "Epoch 10: val_accuracy improved from 0.16719 to 0.20625, saving model to models/n_mfcc_20/CNN_2D_basic_bs64_ep100_lr0.001.keras\n",
      "\u001b[1m40/40\u001b[0m \u001b[32m━━━━━━━━━━━━━━━━━━━━\u001b[0m\u001b[37m\u001b[0m \u001b[1m8s\u001b[0m 203ms/step - accuracy: 0.9753 - loss: 0.0873 - val_accuracy: 0.2062 - val_loss: 6.0534\n",
      "Epoch 11/100\n",
      "\u001b[1m40/40\u001b[0m \u001b[32m━━━━━━━━━━━━━━━━━━━━\u001b[0m\u001b[37m\u001b[0m \u001b[1m0s\u001b[0m 189ms/step - accuracy: 0.9835 - loss: 0.0627\n",
      "Epoch 11: val_accuracy improved from 0.20625 to 0.30625, saving model to models/n_mfcc_20/CNN_2D_basic_bs64_ep100_lr0.001.keras\n",
      "\u001b[1m40/40\u001b[0m \u001b[32m━━━━━━━━━━━━━━━━━━━━\u001b[0m\u001b[37m\u001b[0m \u001b[1m13s\u001b[0m 340ms/step - accuracy: 0.9835 - loss: 0.0630 - val_accuracy: 0.3063 - val_loss: 4.7038\n",
      "Epoch 12/100\n",
      "\u001b[1m40/40\u001b[0m \u001b[32m━━━━━━━━━━━━━━━━━━━━\u001b[0m\u001b[37m\u001b[0m \u001b[1m0s\u001b[0m 197ms/step - accuracy: 0.9838 - loss: 0.0573\n",
      "Epoch 12: val_accuracy did not improve from 0.30625\n",
      "\u001b[1m40/40\u001b[0m \u001b[32m━━━━━━━━━━━━━━━━━━━━\u001b[0m\u001b[37m\u001b[0m \u001b[1m9s\u001b[0m 206ms/step - accuracy: 0.9837 - loss: 0.0575 - val_accuracy: 0.2875 - val_loss: 6.1792\n",
      "Epoch 13/100\n",
      "\u001b[1m40/40\u001b[0m \u001b[32m━━━━━━━━━━━━━━━━━━━━\u001b[0m\u001b[37m\u001b[0m \u001b[1m0s\u001b[0m 192ms/step - accuracy: 0.9775 - loss: 0.0784\n",
      "Epoch 13: val_accuracy did not improve from 0.30625\n",
      "\u001b[1m40/40\u001b[0m \u001b[32m━━━━━━━━━━━━━━━━━━━━\u001b[0m\u001b[37m\u001b[0m \u001b[1m8s\u001b[0m 201ms/step - accuracy: 0.9773 - loss: 0.0786 - val_accuracy: 0.2672 - val_loss: 6.2466\n",
      "Epoch 14/100\n",
      "\u001b[1m40/40\u001b[0m \u001b[32m━━━━━━━━━━━━━━━━━━━━\u001b[0m\u001b[37m\u001b[0m \u001b[1m0s\u001b[0m 191ms/step - accuracy: 0.9636 - loss: 0.1089\n",
      "Epoch 14: val_accuracy improved from 0.30625 to 0.44688, saving model to models/n_mfcc_20/CNN_2D_basic_bs64_ep100_lr0.001.keras\n",
      "\u001b[1m40/40\u001b[0m \u001b[32m━━━━━━━━━━━━━━━━━━━━\u001b[0m\u001b[37m\u001b[0m \u001b[1m8s\u001b[0m 205ms/step - accuracy: 0.9638 - loss: 0.1083 - val_accuracy: 0.4469 - val_loss: 4.2555\n",
      "Epoch 15/100\n",
      "\u001b[1m40/40\u001b[0m \u001b[32m━━━━━━━━━━━━━━━━━━━━\u001b[0m\u001b[37m\u001b[0m \u001b[1m0s\u001b[0m 192ms/step - accuracy: 0.9845 - loss: 0.0627\n",
      "Epoch 15: val_accuracy improved from 0.44688 to 0.52344, saving model to models/n_mfcc_20/CNN_2D_basic_bs64_ep100_lr0.001.keras\n",
      "\u001b[1m40/40\u001b[0m \u001b[32m━━━━━━━━━━━━━━━━━━━━\u001b[0m\u001b[37m\u001b[0m \u001b[1m8s\u001b[0m 206ms/step - accuracy: 0.9845 - loss: 0.0627 - val_accuracy: 0.5234 - val_loss: 3.4649\n",
      "Epoch 16/100\n",
      "\u001b[1m40/40\u001b[0m \u001b[32m━━━━━━━━━━━━━━━━━━━━\u001b[0m\u001b[37m\u001b[0m \u001b[1m0s\u001b[0m 190ms/step - accuracy: 0.9857 - loss: 0.0506\n",
      "Epoch 16: val_accuracy improved from 0.52344 to 0.57969, saving model to models/n_mfcc_20/CNN_2D_basic_bs64_ep100_lr0.001.keras\n",
      "\u001b[1m40/40\u001b[0m \u001b[32m━━━━━━━━━━━━━━━━━━━━\u001b[0m\u001b[37m\u001b[0m \u001b[1m8s\u001b[0m 204ms/step - accuracy: 0.9857 - loss: 0.0507 - val_accuracy: 0.5797 - val_loss: 2.5350\n",
      "Epoch 17/100\n",
      "\u001b[1m40/40\u001b[0m \u001b[32m━━━━━━━━━━━━━━━━━━━━\u001b[0m\u001b[37m\u001b[0m \u001b[1m0s\u001b[0m 191ms/step - accuracy: 0.9858 - loss: 0.0425\n",
      "Epoch 17: val_accuracy improved from 0.57969 to 0.63594, saving model to models/n_mfcc_20/CNN_2D_basic_bs64_ep100_lr0.001.keras\n",
      "\u001b[1m40/40\u001b[0m \u001b[32m━━━━━━━━━━━━━━━━━━━━\u001b[0m\u001b[37m\u001b[0m \u001b[1m8s\u001b[0m 204ms/step - accuracy: 0.9858 - loss: 0.0425 - val_accuracy: 0.6359 - val_loss: 1.9500\n",
      "Epoch 18/100\n",
      "\u001b[1m40/40\u001b[0m \u001b[32m━━━━━━━━━━━━━━━━━━━━\u001b[0m\u001b[37m\u001b[0m \u001b[1m0s\u001b[0m 190ms/step - accuracy: 0.9856 - loss: 0.0458\n",
      "Epoch 18: val_accuracy improved from 0.63594 to 0.64219, saving model to models/n_mfcc_20/CNN_2D_basic_bs64_ep100_lr0.001.keras\n",
      "\u001b[1m40/40\u001b[0m \u001b[32m━━━━━━━━━━━━━━━━━━━━\u001b[0m\u001b[37m\u001b[0m \u001b[1m8s\u001b[0m 204ms/step - accuracy: 0.9856 - loss: 0.0457 - val_accuracy: 0.6422 - val_loss: 1.8892\n",
      "Epoch 19/100\n",
      "\u001b[1m40/40\u001b[0m \u001b[32m━━━━━━━━━━━━━━━━━━━━\u001b[0m\u001b[37m\u001b[0m \u001b[1m0s\u001b[0m 191ms/step - accuracy: 0.9898 - loss: 0.0312\n",
      "Epoch 19: val_accuracy improved from 0.64219 to 0.71406, saving model to models/n_mfcc_20/CNN_2D_basic_bs64_ep100_lr0.001.keras\n",
      "\u001b[1m40/40\u001b[0m \u001b[32m━━━━━━━━━━━━━━━━━━━━\u001b[0m\u001b[37m\u001b[0m \u001b[1m8s\u001b[0m 204ms/step - accuracy: 0.9898 - loss: 0.0312 - val_accuracy: 0.7141 - val_loss: 1.2796\n",
      "Epoch 20/100\n",
      "\u001b[1m40/40\u001b[0m \u001b[32m━━━━━━━━━━━━━━━━━━━━\u001b[0m\u001b[37m\u001b[0m \u001b[1m0s\u001b[0m 190ms/step - accuracy: 0.9938 - loss: 0.0210\n",
      "Epoch 20: val_accuracy improved from 0.71406 to 0.77344, saving model to models/n_mfcc_20/CNN_2D_basic_bs64_ep100_lr0.001.keras\n",
      "\u001b[1m40/40\u001b[0m \u001b[32m━━━━━━━━━━━━━━━━━━━━\u001b[0m\u001b[37m\u001b[0m \u001b[1m8s\u001b[0m 203ms/step - accuracy: 0.9939 - loss: 0.0210 - val_accuracy: 0.7734 - val_loss: 1.0860\n",
      "Epoch 21/100\n",
      "\u001b[1m40/40\u001b[0m \u001b[32m━━━━━━━━━━━━━━━━━━━━\u001b[0m\u001b[37m\u001b[0m \u001b[1m0s\u001b[0m 191ms/step - accuracy: 0.9932 - loss: 0.0250\n",
      "Epoch 21: val_accuracy improved from 0.77344 to 0.78750, saving model to models/n_mfcc_20/CNN_2D_basic_bs64_ep100_lr0.001.keras\n",
      "\u001b[1m40/40\u001b[0m \u001b[32m━━━━━━━━━━━━━━━━━━━━\u001b[0m\u001b[37m\u001b[0m \u001b[1m8s\u001b[0m 203ms/step - accuracy: 0.9931 - loss: 0.0252 - val_accuracy: 0.7875 - val_loss: 1.2280\n",
      "Epoch 22/100\n",
      "\u001b[1m40/40\u001b[0m \u001b[32m━━━━━━━━━━━━━━━━━━━━\u001b[0m\u001b[37m\u001b[0m \u001b[1m0s\u001b[0m 190ms/step - accuracy: 0.9882 - loss: 0.0315\n",
      "Epoch 22: val_accuracy improved from 0.78750 to 0.81250, saving model to models/n_mfcc_20/CNN_2D_basic_bs64_ep100_lr0.001.keras\n",
      "\u001b[1m40/40\u001b[0m \u001b[32m━━━━━━━━━━━━━━━━━━━━\u001b[0m\u001b[37m\u001b[0m \u001b[1m8s\u001b[0m 203ms/step - accuracy: 0.9882 - loss: 0.0315 - val_accuracy: 0.8125 - val_loss: 0.8474\n",
      "Epoch 23/100\n",
      "\u001b[1m40/40\u001b[0m \u001b[32m━━━━━━━━━━━━━━━━━━━━\u001b[0m\u001b[37m\u001b[0m \u001b[1m0s\u001b[0m 190ms/step - accuracy: 0.9937 - loss: 0.0227\n",
      "Epoch 23: val_accuracy did not improve from 0.81250\n",
      "\u001b[1m40/40\u001b[0m \u001b[32m━━━━━━━━━━━━━━━━━━━━\u001b[0m\u001b[37m\u001b[0m \u001b[1m8s\u001b[0m 198ms/step - accuracy: 0.9936 - loss: 0.0228 - val_accuracy: 0.7984 - val_loss: 0.8969\n",
      "Epoch 24/100\n",
      "\u001b[1m40/40\u001b[0m \u001b[32m━━━━━━━━━━━━━━━━━━━━\u001b[0m\u001b[37m\u001b[0m \u001b[1m0s\u001b[0m 190ms/step - accuracy: 0.9925 - loss: 0.0290\n",
      "Epoch 24: val_accuracy improved from 0.81250 to 0.81563, saving model to models/n_mfcc_20/CNN_2D_basic_bs64_ep100_lr0.001.keras\n",
      "\u001b[1m40/40\u001b[0m \u001b[32m━━━━━━━━━━━━━━━━━━━━\u001b[0m\u001b[37m\u001b[0m \u001b[1m8s\u001b[0m 204ms/step - accuracy: 0.9925 - loss: 0.0292 - val_accuracy: 0.8156 - val_loss: 0.7950\n",
      "Epoch 25/100\n",
      "\u001b[1m40/40\u001b[0m \u001b[32m━━━━━━━━━━━━━━━━━━━━\u001b[0m\u001b[37m\u001b[0m \u001b[1m0s\u001b[0m 191ms/step - accuracy: 0.9896 - loss: 0.0342\n",
      "Epoch 25: val_accuracy did not improve from 0.81563\n",
      "\u001b[1m40/40\u001b[0m \u001b[32m━━━━━━━━━━━━━━━━━━━━\u001b[0m\u001b[37m\u001b[0m \u001b[1m8s\u001b[0m 199ms/step - accuracy: 0.9896 - loss: 0.0342 - val_accuracy: 0.8094 - val_loss: 0.8414\n",
      "Epoch 26/100\n",
      "\u001b[1m40/40\u001b[0m \u001b[32m━━━━━━━━━━━━━━━━━━━━\u001b[0m\u001b[37m\u001b[0m \u001b[1m0s\u001b[0m 191ms/step - accuracy: 0.9928 - loss: 0.0248\n",
      "Epoch 26: val_accuracy improved from 0.81563 to 0.82656, saving model to models/n_mfcc_20/CNN_2D_basic_bs64_ep100_lr0.001.keras\n",
      "\u001b[1m40/40\u001b[0m \u001b[32m━━━━━━━━━━━━━━━━━━━━\u001b[0m\u001b[37m\u001b[0m \u001b[1m8s\u001b[0m 204ms/step - accuracy: 0.9928 - loss: 0.0249 - val_accuracy: 0.8266 - val_loss: 0.6480\n",
      "Epoch 27/100\n",
      "\u001b[1m40/40\u001b[0m \u001b[32m━━━━━━━━━━━━━━━━━━━━\u001b[0m\u001b[37m\u001b[0m \u001b[1m0s\u001b[0m 191ms/step - accuracy: 0.9969 - loss: 0.0174\n",
      "Epoch 27: val_accuracy improved from 0.82656 to 0.84844, saving model to models/n_mfcc_20/CNN_2D_basic_bs64_ep100_lr0.001.keras\n",
      "\u001b[1m40/40\u001b[0m \u001b[32m━━━━━━━━━━━━━━━━━━━━\u001b[0m\u001b[37m\u001b[0m \u001b[1m8s\u001b[0m 204ms/step - accuracy: 0.9969 - loss: 0.0175 - val_accuracy: 0.8484 - val_loss: 0.6560\n",
      "Epoch 28/100\n",
      "\u001b[1m40/40\u001b[0m \u001b[32m━━━━━━━━━━━━━━━━━━━━\u001b[0m\u001b[37m\u001b[0m \u001b[1m0s\u001b[0m 193ms/step - accuracy: 0.9961 - loss: 0.0173\n",
      "Epoch 28: val_accuracy did not improve from 0.84844\n",
      "\u001b[1m40/40\u001b[0m \u001b[32m━━━━━━━━━━━━━━━━━━━━\u001b[0m\u001b[37m\u001b[0m \u001b[1m8s\u001b[0m 202ms/step - accuracy: 0.9961 - loss: 0.0173 - val_accuracy: 0.8234 - val_loss: 0.7150\n",
      "Epoch 29/100\n",
      "\u001b[1m40/40\u001b[0m \u001b[32m━━━━━━━━━━━━━━━━━━━━\u001b[0m\u001b[37m\u001b[0m \u001b[1m0s\u001b[0m 189ms/step - accuracy: 0.9942 - loss: 0.0156\n",
      "Epoch 29: val_accuracy did not improve from 0.84844\n",
      "\u001b[1m40/40\u001b[0m \u001b[32m━━━━━━━━━━━━━━━━━━━━\u001b[0m\u001b[37m\u001b[0m \u001b[1m8s\u001b[0m 198ms/step - accuracy: 0.9941 - loss: 0.0157 - val_accuracy: 0.8125 - val_loss: 0.8776\n",
      "Epoch 30/100\n",
      "\u001b[1m40/40\u001b[0m \u001b[32m━━━━━━━━━━━━━━━━━━━━\u001b[0m\u001b[37m\u001b[0m \u001b[1m0s\u001b[0m 190ms/step - accuracy: 0.9890 - loss: 0.0239\n",
      "Epoch 30: val_accuracy did not improve from 0.84844\n",
      "\u001b[1m40/40\u001b[0m \u001b[32m━━━━━━━━━━━━━━━━━━━━\u001b[0m\u001b[37m\u001b[0m \u001b[1m8s\u001b[0m 199ms/step - accuracy: 0.9890 - loss: 0.0238 - val_accuracy: 0.7953 - val_loss: 0.9932\n",
      "Epoch 31/100\n",
      "\u001b[1m40/40\u001b[0m \u001b[32m━━━━━━━━━━━━━━━━━━━━\u001b[0m\u001b[37m\u001b[0m \u001b[1m0s\u001b[0m 189ms/step - accuracy: 0.9951 - loss: 0.0172\n",
      "Epoch 31: val_accuracy did not improve from 0.84844\n",
      "\u001b[1m40/40\u001b[0m \u001b[32m━━━━━━━━━━━━━━━━━━━━\u001b[0m\u001b[37m\u001b[0m \u001b[1m8s\u001b[0m 198ms/step - accuracy: 0.9951 - loss: 0.0173 - val_accuracy: 0.7641 - val_loss: 1.3757\n"
     ]
    },
    {
     "name": "stderr",
     "output_type": "stream",
     "text": [
      "2024-12-09 23:22:06.327916: E tensorflow/core/grappler/optimizers/meta_optimizer.cc:961] PluggableGraphOptimizer failed: INVALID_ARGUMENT: Failed to deserialize the `graph_buf`.\n"
     ]
    },
    {
     "name": "stdout",
     "output_type": "stream",
     "text": [
      "\u001b[1m25/25\u001b[0m \u001b[32m━━━━━━━━━━━━━━━━━━━━\u001b[0m\u001b[37m\u001b[0m \u001b[1m1s\u001b[0m 15ms/step\n",
      "Résultat: {'n_mfcc': 20, 'model_type': 'CNN_2D_basic', 'batch_size': 64, 'epochs': 100, 'learning_rate': 0.001, 'accuracy': 0.8487499952316284, 'loss': 0.5685408711433411, 'validation_accuracy': 0.848437488079071, 'validation_loss': 0.6479800343513489, 'precision': 0.8593945814079943, 'recall': 0.84875, 'f1_score': 0.8489302458176661}\n",
      "Résultats sauvegardés dans 'model_results.csv'.\n",
      "Entraînement du modèle: CNN_2D_basic, Batch Size: 64, Epochs: 100, Learning Rate: 0.0001\n"
     ]
    },
    {
     "name": "stderr",
     "output_type": "stream",
     "text": [
      "/Users/mathisgorvien/conda_envs/ia_deeplearning/lib/python3.9/site-packages/keras/src/layers/convolutional/base_conv.py:107: UserWarning: Do not pass an `input_shape`/`input_dim` argument to a layer. When using Sequential models, prefer using an `Input(shape)` object as the first layer in the model instead.\n",
      "  super().__init__(activity_regularizer=activity_regularizer, **kwargs)\n"
     ]
    },
    {
     "name": "stdout",
     "output_type": "stream",
     "text": [
      "Epoch 1/100\n",
      "\u001b[1m40/40\u001b[0m \u001b[32m━━━━━━━━━━━━━━━━━━━━\u001b[0m\u001b[37m\u001b[0m \u001b[1m0s\u001b[0m 208ms/step - accuracy: 0.1836 - loss: 2.6305\n",
      "Epoch 1: val_accuracy improved from -inf to 0.10938, saving model to models/n_mfcc_20/CNN_2D_basic_bs64_ep100_lr0.0001.keras\n",
      "\u001b[1m40/40\u001b[0m \u001b[32m━━━━━━━━━━━━━━━━━━━━\u001b[0m\u001b[37m\u001b[0m \u001b[1m13s\u001b[0m 231ms/step - accuracy: 0.1848 - loss: 2.6238 - val_accuracy: 0.1094 - val_loss: 3.5621\n",
      "Epoch 2/100\n",
      "\u001b[1m40/40\u001b[0m \u001b[32m━━━━━━━━━━━━━━━━━━━━\u001b[0m\u001b[37m\u001b[0m \u001b[1m0s\u001b[0m 213ms/step - accuracy: 0.3377 - loss: 1.9097\n",
      "Epoch 2: val_accuracy did not improve from 0.10938\n",
      "\u001b[1m40/40\u001b[0m \u001b[32m━━━━━━━━━━━━━━━━━━━━\u001b[0m\u001b[37m\u001b[0m \u001b[1m9s\u001b[0m 222ms/step - accuracy: 0.3378 - loss: 1.9092 - val_accuracy: 0.1094 - val_loss: 6.6890\n",
      "Epoch 3/100\n",
      "\u001b[1m40/40\u001b[0m \u001b[32m━━━━━━━━━━━━━━━━━━━━\u001b[0m\u001b[37m\u001b[0m \u001b[1m0s\u001b[0m 219ms/step - accuracy: 0.3696 - loss: 1.8106\n",
      "Epoch 3: val_accuracy did not improve from 0.10938\n",
      "\u001b[1m40/40\u001b[0m \u001b[32m━━━━━━━━━━━━━━━━━━━━\u001b[0m\u001b[37m\u001b[0m \u001b[1m9s\u001b[0m 228ms/step - accuracy: 0.3704 - loss: 1.8079 - val_accuracy: 0.1094 - val_loss: 10.1057\n",
      "Epoch 4/100\n",
      "\u001b[1m40/40\u001b[0m \u001b[32m━━━━━━━━━━━━━━━━━━━━\u001b[0m\u001b[37m\u001b[0m \u001b[1m0s\u001b[0m 212ms/step - accuracy: 0.4475 - loss: 1.5476\n",
      "Epoch 4: val_accuracy did not improve from 0.10938\n",
      "\u001b[1m40/40\u001b[0m \u001b[32m━━━━━━━━━━━━━━━━━━━━\u001b[0m\u001b[37m\u001b[0m \u001b[1m9s\u001b[0m 220ms/step - accuracy: 0.4477 - loss: 1.5470 - val_accuracy: 0.1094 - val_loss: 12.7335\n",
      "Epoch 5/100\n",
      "\u001b[1m40/40\u001b[0m \u001b[32m━━━━━━━━━━━━━━━━━━━━\u001b[0m\u001b[37m\u001b[0m \u001b[1m0s\u001b[0m 212ms/step - accuracy: 0.5046 - loss: 1.4132\n",
      "Epoch 5: val_accuracy did not improve from 0.10938\n",
      "\u001b[1m40/40\u001b[0m \u001b[32m━━━━━━━━━━━━━━━━━━━━\u001b[0m\u001b[37m\u001b[0m \u001b[1m9s\u001b[0m 221ms/step - accuracy: 0.5048 - loss: 1.4126 - val_accuracy: 0.1094 - val_loss: 15.2618\n",
      "Epoch 6/100\n",
      "\u001b[1m40/40\u001b[0m \u001b[32m━━━━━━━━━━━━━━━━━━━━\u001b[0m\u001b[37m\u001b[0m \u001b[1m0s\u001b[0m 212ms/step - accuracy: 0.5619 - loss: 1.2562\n",
      "Epoch 6: val_accuracy did not improve from 0.10938\n",
      "\u001b[1m40/40\u001b[0m \u001b[32m━━━━━━━━━━━━━━━━━━━━\u001b[0m\u001b[37m\u001b[0m \u001b[1m9s\u001b[0m 220ms/step - accuracy: 0.5618 - loss: 1.2566 - val_accuracy: 0.1094 - val_loss: 17.6045\n",
      "\u001b[1m 1/25\u001b[0m \u001b[37m━━━━━━━━━━━━━━━━━━━━\u001b[0m \u001b[1m5s\u001b[0m 238ms/step"
     ]
    },
    {
     "name": "stderr",
     "output_type": "stream",
     "text": [
      "2024-12-09 23:23:06.447767: E tensorflow/core/grappler/optimizers/meta_optimizer.cc:961] PluggableGraphOptimizer failed: INVALID_ARGUMENT: Failed to deserialize the `graph_buf`.\n"
     ]
    },
    {
     "name": "stdout",
     "output_type": "stream",
     "text": [
      "\u001b[1m25/25\u001b[0m \u001b[32m━━━━━━━━━━━━━━━━━━━━\u001b[0m\u001b[37m\u001b[0m \u001b[1m1s\u001b[0m 15ms/step\n",
      "Résultat: {'n_mfcc': 20, 'model_type': 'CNN_2D_basic', 'batch_size': 64, 'epochs': 100, 'learning_rate': 0.0001, 'accuracy': 0.10750000178813934, 'loss': 3.3483526706695557, 'validation_accuracy': 0.109375, 'validation_loss': 3.562068462371826, 'precision': 0.011867779204107832, 'recall': 0.1075, 'f1_score': 0.021375722543352606}\n",
      "Résultats sauvegardés dans 'model_results.csv'.\n",
      "Entraînement du modèle: CNN_2D_basic, Batch Size: 64, Epochs: 100, Learning Rate: 1e-05\n"
     ]
    },
    {
     "name": "stderr",
     "output_type": "stream",
     "text": [
      "/Users/mathisgorvien/conda_envs/ia_deeplearning/lib/python3.9/site-packages/keras/src/layers/convolutional/base_conv.py:107: UserWarning: Do not pass an `input_shape`/`input_dim` argument to a layer. When using Sequential models, prefer using an `Input(shape)` object as the first layer in the model instead.\n",
      "  super().__init__(activity_regularizer=activity_regularizer, **kwargs)\n"
     ]
    },
    {
     "name": "stdout",
     "output_type": "stream",
     "text": [
      "Epoch 1/100\n",
      "\u001b[1m40/40\u001b[0m \u001b[32m━━━━━━━━━━━━━━━━━━━━\u001b[0m\u001b[37m\u001b[0m \u001b[1m0s\u001b[0m 243ms/step - accuracy: 0.0966 - loss: 3.3105\n",
      "Epoch 1: val_accuracy improved from -inf to 0.12969, saving model to models/n_mfcc_20/CNN_2D_basic_bs64_ep100_lr1e-05.keras\n",
      "\u001b[1m40/40\u001b[0m \u001b[32m━━━━━━━━━━━━━━━━━━━━\u001b[0m\u001b[37m\u001b[0m \u001b[1m14s\u001b[0m 266ms/step - accuracy: 0.0969 - loss: 3.3064 - val_accuracy: 0.1297 - val_loss: 2.3612\n",
      "Epoch 2/100\n",
      "\u001b[1m40/40\u001b[0m \u001b[32m━━━━━━━━━━━━━━━━━━━━\u001b[0m\u001b[37m\u001b[0m \u001b[1m0s\u001b[0m 243ms/step - accuracy: 0.1723 - loss: 2.7980\n",
      "Epoch 2: val_accuracy did not improve from 0.12969\n",
      "\u001b[1m40/40\u001b[0m \u001b[32m━━━━━━━━━━━━━━━━━━━━\u001b[0m\u001b[37m\u001b[0m \u001b[1m10s\u001b[0m 253ms/step - accuracy: 0.1724 - loss: 2.7964 - val_accuracy: 0.1000 - val_loss: 2.6869\n",
      "Epoch 3/100\n",
      "\u001b[1m40/40\u001b[0m \u001b[32m━━━━━━━━━━━━━━━━━━━━\u001b[0m\u001b[37m\u001b[0m \u001b[1m0s\u001b[0m 240ms/step - accuracy: 0.1882 - loss: 2.5670\n",
      "Epoch 3: val_accuracy did not improve from 0.12969\n",
      "\u001b[1m40/40\u001b[0m \u001b[32m━━━━━━━━━━━━━━━━━━━━\u001b[0m\u001b[37m\u001b[0m \u001b[1m10s\u001b[0m 250ms/step - accuracy: 0.1884 - loss: 2.5658 - val_accuracy: 0.1000 - val_loss: 3.3288\n",
      "Epoch 4/100\n",
      "\u001b[1m40/40\u001b[0m \u001b[32m━━━━━━━━━━━━━━━━━━━━\u001b[0m\u001b[37m\u001b[0m \u001b[1m0s\u001b[0m 249ms/step - accuracy: 0.2290 - loss: 2.4227\n",
      "Epoch 4: val_accuracy did not improve from 0.12969\n",
      "\u001b[1m40/40\u001b[0m \u001b[32m━━━━━━━━━━━━━━━━━━━━\u001b[0m\u001b[37m\u001b[0m \u001b[1m10s\u001b[0m 259ms/step - accuracy: 0.2292 - loss: 2.4215 - val_accuracy: 0.1000 - val_loss: 4.0754\n",
      "Epoch 5/100\n",
      "\u001b[1m40/40\u001b[0m \u001b[32m━━━━━━━━━━━━━━━━━━━━\u001b[0m\u001b[37m\u001b[0m \u001b[1m0s\u001b[0m 243ms/step - accuracy: 0.2385 - loss: 2.3336\n",
      "Epoch 5: val_accuracy did not improve from 0.12969\n",
      "\u001b[1m40/40\u001b[0m \u001b[32m━━━━━━━━━━━━━━━━━━━━\u001b[0m\u001b[37m\u001b[0m \u001b[1m10s\u001b[0m 252ms/step - accuracy: 0.2388 - loss: 2.3330 - val_accuracy: 0.1000 - val_loss: 4.8629\n",
      "Epoch 6/100\n",
      "\u001b[1m40/40\u001b[0m \u001b[32m━━━━━━━━━━━━━━━━━━━━\u001b[0m\u001b[37m\u001b[0m \u001b[1m0s\u001b[0m 234ms/step - accuracy: 0.2612 - loss: 2.2326\n",
      "Epoch 6: val_accuracy did not improve from 0.12969\n",
      "\u001b[1m40/40\u001b[0m \u001b[32m━━━━━━━━━━━━━━━━━━━━\u001b[0m\u001b[37m\u001b[0m \u001b[1m10s\u001b[0m 243ms/step - accuracy: 0.2614 - loss: 2.2316 - val_accuracy: 0.1000 - val_loss: 5.5466\n"
     ]
    },
    {
     "name": "stderr",
     "output_type": "stream",
     "text": [
      "2024-12-09 23:24:12.504716: E tensorflow/core/grappler/optimizers/meta_optimizer.cc:961] PluggableGraphOptimizer failed: INVALID_ARGUMENT: Failed to deserialize the `graph_buf`.\n"
     ]
    },
    {
     "name": "stdout",
     "output_type": "stream",
     "text": [
      "\u001b[1m25/25\u001b[0m \u001b[32m━━━━━━━━━━━━━━━━━━━━\u001b[0m\u001b[37m\u001b[0m \u001b[1m1s\u001b[0m 15ms/step\n",
      "Résultat: {'n_mfcc': 20, 'model_type': 'CNN_2D_basic', 'batch_size': 64, 'epochs': 100, 'learning_rate': 1e-05, 'accuracy': 0.1599999964237213, 'loss': 2.359675168991089, 'validation_accuracy': 0.12968750298023224, 'validation_loss': 2.361238956451416, 'precision': 0.03353661219358894, 'recall': 0.16, 'f1_score': 0.05540723981900452}\n",
      "Résultats sauvegardés dans 'model_results.csv'.\n",
      "Entraînement du modèle: CNN_2D_deep, Batch Size: 16, Epochs: 20, Learning Rate: 0.001\n"
     ]
    },
    {
     "name": "stderr",
     "output_type": "stream",
     "text": [
      "/Users/mathisgorvien/conda_envs/ia_deeplearning/lib/python3.9/site-packages/keras/src/layers/convolutional/base_conv.py:107: UserWarning: Do not pass an `input_shape`/`input_dim` argument to a layer. When using Sequential models, prefer using an `Input(shape)` object as the first layer in the model instead.\n",
      "  super().__init__(activity_regularizer=activity_regularizer, **kwargs)\n"
     ]
    },
    {
     "name": "stdout",
     "output_type": "stream",
     "text": [
      "Epoch 1/20\n",
      "\u001b[1m160/160\u001b[0m \u001b[32m━━━━━━━━━━━━━━━━━━━━\u001b[0m\u001b[37m\u001b[0m \u001b[1m0s\u001b[0m 145ms/step - accuracy: 0.2064 - loss: 2.6723\n",
      "Epoch 1: val_accuracy improved from -inf to 0.10000, saving model to models/n_mfcc_20/CNN_2D_deep_bs16_ep20_lr0.001.keras\n",
      "\u001b[1m160/160\u001b[0m \u001b[32m━━━━━━━━━━━━━━━━━━━━\u001b[0m\u001b[37m\u001b[0m \u001b[1m32s\u001b[0m 157ms/step - accuracy: 0.2067 - loss: 2.6710 - val_accuracy: 0.1000 - val_loss: 3.9663\n",
      "Epoch 2/20\n",
      "\u001b[1m160/160\u001b[0m \u001b[32m━━━━━━━━━━━━━━━━━━━━\u001b[0m\u001b[37m\u001b[0m \u001b[1m0s\u001b[0m 142ms/step - accuracy: 0.3486 - loss: 2.0542\n",
      "Epoch 2: val_accuracy did not improve from 0.10000\n",
      "\u001b[1m160/160\u001b[0m \u001b[32m━━━━━━━━━━━━━━━━━━━━\u001b[0m\u001b[37m\u001b[0m \u001b[1m24s\u001b[0m 147ms/step - accuracy: 0.3487 - loss: 2.0537 - val_accuracy: 0.0859 - val_loss: 6.0613\n",
      "Epoch 3/20\n",
      "\u001b[1m160/160\u001b[0m \u001b[32m━━━━━━━━━━━━━━━━━━━━\u001b[0m\u001b[37m\u001b[0m \u001b[1m0s\u001b[0m 139ms/step - accuracy: 0.3645 - loss: 1.9213\n",
      "Epoch 3: val_accuracy improved from 0.10000 to 0.28906, saving model to models/n_mfcc_20/CNN_2D_deep_bs16_ep20_lr0.001.keras\n",
      "\u001b[1m160/160\u001b[0m \u001b[32m━━━━━━━━━━━━━━━━━━━━\u001b[0m\u001b[37m\u001b[0m \u001b[1m23s\u001b[0m 146ms/step - accuracy: 0.3648 - loss: 1.9203 - val_accuracy: 0.2891 - val_loss: 2.7799\n",
      "Epoch 4/20\n",
      "\u001b[1m160/160\u001b[0m \u001b[32m━━━━━━━━━━━━━━━━━━━━\u001b[0m\u001b[37m\u001b[0m \u001b[1m0s\u001b[0m 140ms/step - accuracy: 0.4889 - loss: 1.5558\n",
      "Epoch 4: val_accuracy improved from 0.28906 to 0.44844, saving model to models/n_mfcc_20/CNN_2D_deep_bs16_ep20_lr0.001.keras\n",
      "\u001b[1m160/160\u001b[0m \u001b[32m━━━━━━━━━━━━━━━━━━━━\u001b[0m\u001b[37m\u001b[0m \u001b[1m23s\u001b[0m 146ms/step - accuracy: 0.4889 - loss: 1.5557 - val_accuracy: 0.4484 - val_loss: 1.7037\n",
      "Epoch 5/20\n",
      "\u001b[1m160/160\u001b[0m \u001b[32m━━━━━━━━━━━━━━━━━━━━\u001b[0m\u001b[37m\u001b[0m \u001b[1m0s\u001b[0m 140ms/step - accuracy: 0.5154 - loss: 1.4125\n",
      "Epoch 5: val_accuracy improved from 0.44844 to 0.59375, saving model to models/n_mfcc_20/CNN_2D_deep_bs16_ep20_lr0.001.keras\n",
      "\u001b[1m160/160\u001b[0m \u001b[32m━━━━━━━━━━━━━━━━━━━━\u001b[0m\u001b[37m\u001b[0m \u001b[1m24s\u001b[0m 147ms/step - accuracy: 0.5155 - loss: 1.4120 - val_accuracy: 0.5938 - val_loss: 1.1753\n",
      "Epoch 6/20\n",
      "\u001b[1m160/160\u001b[0m \u001b[32m━━━━━━━━━━━━━━━━━━━━\u001b[0m\u001b[37m\u001b[0m \u001b[1m0s\u001b[0m 140ms/step - accuracy: 0.6510 - loss: 1.0029\n",
      "Epoch 6: val_accuracy improved from 0.59375 to 0.65469, saving model to models/n_mfcc_20/CNN_2D_deep_bs16_ep20_lr0.001.keras\n",
      "\u001b[1m160/160\u001b[0m \u001b[32m━━━━━━━━━━━━━━━━━━━━\u001b[0m\u001b[37m\u001b[0m \u001b[1m24s\u001b[0m 147ms/step - accuracy: 0.6510 - loss: 1.0031 - val_accuracy: 0.6547 - val_loss: 1.0169\n",
      "Epoch 7/20\n",
      "\u001b[1m160/160\u001b[0m \u001b[32m━━━━━━━━━━━━━━━━━━━━\u001b[0m\u001b[37m\u001b[0m \u001b[1m0s\u001b[0m 141ms/step - accuracy: 0.6891 - loss: 0.9375\n",
      "Epoch 7: val_accuracy improved from 0.65469 to 0.74531, saving model to models/n_mfcc_20/CNN_2D_deep_bs16_ep20_lr0.001.keras\n",
      "\u001b[1m160/160\u001b[0m \u001b[32m━━━━━━━━━━━━━━━━━━━━\u001b[0m\u001b[37m\u001b[0m \u001b[1m24s\u001b[0m 148ms/step - accuracy: 0.6891 - loss: 0.9375 - val_accuracy: 0.7453 - val_loss: 0.8833\n",
      "Epoch 8/20\n",
      "\u001b[1m160/160\u001b[0m \u001b[32m━━━━━━━━━━━━━━━━━━━━\u001b[0m\u001b[37m\u001b[0m \u001b[1m0s\u001b[0m 140ms/step - accuracy: 0.7524 - loss: 0.7572\n",
      "Epoch 8: val_accuracy did not improve from 0.74531\n",
      "\u001b[1m160/160\u001b[0m \u001b[32m━━━━━━━━━━━━━━━━━━━━\u001b[0m\u001b[37m\u001b[0m \u001b[1m23s\u001b[0m 145ms/step - accuracy: 0.7524 - loss: 0.7574 - val_accuracy: 0.7000 - val_loss: 0.8653\n",
      "Epoch 9/20\n",
      "\u001b[1m160/160\u001b[0m \u001b[32m━━━━━━━━━━━━━━━━━━━━\u001b[0m\u001b[37m\u001b[0m \u001b[1m0s\u001b[0m 140ms/step - accuracy: 0.7564 - loss: 0.7641\n",
      "Epoch 9: val_accuracy did not improve from 0.74531\n",
      "\u001b[1m160/160\u001b[0m \u001b[32m━━━━━━━━━━━━━━━━━━━━\u001b[0m\u001b[37m\u001b[0m \u001b[1m23s\u001b[0m 144ms/step - accuracy: 0.7561 - loss: 0.7652 - val_accuracy: 0.4859 - val_loss: 2.0739\n",
      "Epoch 10/20\n",
      "\u001b[1m160/160\u001b[0m \u001b[32m━━━━━━━━━━━━━━━━━━━━\u001b[0m\u001b[37m\u001b[0m \u001b[1m0s\u001b[0m 140ms/step - accuracy: 0.6612 - loss: 0.9748\n",
      "Epoch 10: val_accuracy did not improve from 0.74531\n",
      "\u001b[1m160/160\u001b[0m \u001b[32m━━━━━━━━━━━━━━━━━━━━\u001b[0m\u001b[37m\u001b[0m \u001b[1m23s\u001b[0m 145ms/step - accuracy: 0.6613 - loss: 0.9747 - val_accuracy: 0.3016 - val_loss: 3.4459\n",
      "Epoch 11/20\n",
      "\u001b[1m160/160\u001b[0m \u001b[32m━━━━━━━━━━━━━━━━━━━━\u001b[0m\u001b[37m\u001b[0m \u001b[1m0s\u001b[0m 140ms/step - accuracy: 0.7337 - loss: 0.7549\n",
      "Epoch 11: val_accuracy did not improve from 0.74531\n",
      "\u001b[1m160/160\u001b[0m \u001b[32m━━━━━━━━━━━━━━━━━━━━\u001b[0m\u001b[37m\u001b[0m \u001b[1m23s\u001b[0m 144ms/step - accuracy: 0.7337 - loss: 0.7548 - val_accuracy: 0.6641 - val_loss: 0.9817\n",
      "Epoch 12/20\n",
      "\u001b[1m160/160\u001b[0m \u001b[32m━━━━━━━━━━━━━━━━━━━━\u001b[0m\u001b[37m\u001b[0m \u001b[1m0s\u001b[0m 140ms/step - accuracy: 0.8312 - loss: 0.4872\n",
      "Epoch 12: val_accuracy improved from 0.74531 to 0.76719, saving model to models/n_mfcc_20/CNN_2D_deep_bs16_ep20_lr0.001.keras\n",
      "\u001b[1m160/160\u001b[0m \u001b[32m━━━━━━━━━━━━━━━━━━━━\u001b[0m\u001b[37m\u001b[0m \u001b[1m23s\u001b[0m 147ms/step - accuracy: 0.8312 - loss: 0.4872 - val_accuracy: 0.7672 - val_loss: 0.7450\n",
      "Epoch 13/20\n",
      "\u001b[1m160/160\u001b[0m \u001b[32m━━━━━━━━━━━━━━━━━━━━\u001b[0m\u001b[37m\u001b[0m \u001b[1m0s\u001b[0m 140ms/step - accuracy: 0.8788 - loss: 0.3591\n",
      "Epoch 13: val_accuracy improved from 0.76719 to 0.81406, saving model to models/n_mfcc_20/CNN_2D_deep_bs16_ep20_lr0.001.keras\n",
      "\u001b[1m160/160\u001b[0m \u001b[32m━━━━━━━━━━━━━━━━━━━━\u001b[0m\u001b[37m\u001b[0m \u001b[1m24s\u001b[0m 147ms/step - accuracy: 0.8787 - loss: 0.3592 - val_accuracy: 0.8141 - val_loss: 0.6075\n",
      "Epoch 14/20\n",
      "\u001b[1m160/160\u001b[0m \u001b[32m━━━━━━━━━━━━━━━━━━━━\u001b[0m\u001b[37m\u001b[0m \u001b[1m0s\u001b[0m 140ms/step - accuracy: 0.9050 - loss: 0.2781\n",
      "Epoch 14: val_accuracy did not improve from 0.81406\n",
      "\u001b[1m160/160\u001b[0m \u001b[32m━━━━━━━━━━━━━━━━━━━━\u001b[0m\u001b[37m\u001b[0m \u001b[1m23s\u001b[0m 145ms/step - accuracy: 0.9050 - loss: 0.2782 - val_accuracy: 0.6531 - val_loss: 1.1631\n",
      "Epoch 15/20\n",
      "\u001b[1m160/160\u001b[0m \u001b[32m━━━━━━━━━━━━━━━━━━━━\u001b[0m\u001b[37m\u001b[0m \u001b[1m0s\u001b[0m 146ms/step - accuracy: 0.8995 - loss: 0.2772\n",
      "Epoch 15: val_accuracy did not improve from 0.81406\n",
      "\u001b[1m160/160\u001b[0m \u001b[32m━━━━━━━━━━━━━━━━━━━━\u001b[0m\u001b[37m\u001b[0m \u001b[1m24s\u001b[0m 151ms/step - accuracy: 0.8995 - loss: 0.2773 - val_accuracy: 0.7469 - val_loss: 0.8616\n",
      "Epoch 16/20\n",
      "\u001b[1m160/160\u001b[0m \u001b[32m━━━━━━━━━━━━━━━━━━━━\u001b[0m\u001b[37m\u001b[0m \u001b[1m0s\u001b[0m 151ms/step - accuracy: 0.9486 - loss: 0.1774\n",
      "Epoch 16: val_accuracy did not improve from 0.81406\n",
      "\u001b[1m160/160\u001b[0m \u001b[32m━━━━━━━━━━━━━━━━━━━━\u001b[0m\u001b[37m\u001b[0m \u001b[1m25s\u001b[0m 156ms/step - accuracy: 0.9485 - loss: 0.1776 - val_accuracy: 0.8000 - val_loss: 0.6892\n",
      "Epoch 17/20\n",
      "\u001b[1m160/160\u001b[0m \u001b[32m━━━━━━━━━━━━━━━━━━━━\u001b[0m\u001b[37m\u001b[0m \u001b[1m0s\u001b[0m 150ms/step - accuracy: 0.9367 - loss: 0.1780\n",
      "Epoch 17: val_accuracy did not improve from 0.81406\n",
      "\u001b[1m160/160\u001b[0m \u001b[32m━━━━━━━━━━━━━━━━━━━━\u001b[0m\u001b[37m\u001b[0m \u001b[1m25s\u001b[0m 156ms/step - accuracy: 0.9367 - loss: 0.1782 - val_accuracy: 0.2391 - val_loss: 14.1574\n",
      "Epoch 18/20\n",
      "\u001b[1m160/160\u001b[0m \u001b[32m━━━━━━━━━━━━━━━━━━━━\u001b[0m\u001b[37m\u001b[0m \u001b[1m0s\u001b[0m 151ms/step - accuracy: 0.7873 - loss: 0.6627\n",
      "Epoch 18: val_accuracy did not improve from 0.81406\n",
      "\u001b[1m160/160\u001b[0m \u001b[32m━━━━━━━━━━━━━━━━━━━━\u001b[0m\u001b[37m\u001b[0m \u001b[1m25s\u001b[0m 156ms/step - accuracy: 0.7876 - loss: 0.6615 - val_accuracy: 0.7844 - val_loss: 0.7629\n"
     ]
    },
    {
     "name": "stderr",
     "output_type": "stream",
     "text": [
      "2024-12-09 23:31:29.423486: E tensorflow/core/grappler/optimizers/meta_optimizer.cc:961] PluggableGraphOptimizer failed: INVALID_ARGUMENT: Failed to deserialize the `graph_buf`.\n"
     ]
    },
    {
     "name": "stdout",
     "output_type": "stream",
     "text": [
      "\u001b[1m25/25\u001b[0m \u001b[32m━━━━━━━━━━━━━━━━━━━━\u001b[0m\u001b[37m\u001b[0m \u001b[1m1s\u001b[0m 37ms/step\n",
      "Résultat: {'n_mfcc': 20, 'model_type': 'CNN_2D_deep', 'batch_size': 16, 'epochs': 20, 'learning_rate': 0.001, 'accuracy': 0.8112499713897705, 'loss': 0.611260175704956, 'validation_accuracy': 0.8140624761581421, 'validation_loss': 0.6075011491775513, 'precision': 0.8313241236438017, 'recall': 0.81125, 'f1_score': 0.812223341784334}\n",
      "Résultats sauvegardés dans 'model_results.csv'.\n",
      "Entraînement du modèle: CNN_2D_deep, Batch Size: 16, Epochs: 20, Learning Rate: 0.0001\n"
     ]
    },
    {
     "name": "stderr",
     "output_type": "stream",
     "text": [
      "/Users/mathisgorvien/conda_envs/ia_deeplearning/lib/python3.9/site-packages/keras/src/layers/convolutional/base_conv.py:107: UserWarning: Do not pass an `input_shape`/`input_dim` argument to a layer. When using Sequential models, prefer using an `Input(shape)` object as the first layer in the model instead.\n",
      "  super().__init__(activity_regularizer=activity_regularizer, **kwargs)\n"
     ]
    },
    {
     "name": "stdout",
     "output_type": "stream",
     "text": [
      "Epoch 1/20\n",
      "\u001b[1m160/160\u001b[0m \u001b[32m━━━━━━━━━━━━━━━━━━━━\u001b[0m\u001b[37m\u001b[0m \u001b[1m0s\u001b[0m 162ms/step - accuracy: 0.2122 - loss: 2.5580\n",
      "Epoch 1: val_accuracy improved from -inf to 0.10938, saving model to models/n_mfcc_20/CNN_2D_deep_bs16_ep20_lr0.0001.keras\n",
      "\u001b[1m160/160\u001b[0m \u001b[32m━━━━━━━━━━━━━━━━━━━━\u001b[0m\u001b[37m\u001b[0m \u001b[1m34s\u001b[0m 174ms/step - accuracy: 0.2123 - loss: 2.5567 - val_accuracy: 0.1094 - val_loss: 5.5465\n",
      "Epoch 2/20\n",
      "\u001b[1m160/160\u001b[0m \u001b[32m━━━━━━━━━━━━━━━━━━━━\u001b[0m\u001b[37m\u001b[0m \u001b[1m0s\u001b[0m 157ms/step - accuracy: 0.3299 - loss: 1.9897\n",
      "Epoch 2: val_accuracy did not improve from 0.10938\n",
      "\u001b[1m160/160\u001b[0m \u001b[32m━━━━━━━━━━━━━━━━━━━━\u001b[0m\u001b[37m\u001b[0m \u001b[1m26s\u001b[0m 163ms/step - accuracy: 0.3300 - loss: 1.9893 - val_accuracy: 0.0969 - val_loss: 5.5907\n",
      "Epoch 3/20\n",
      "\u001b[1m160/160\u001b[0m \u001b[32m━━━━━━━━━━━━━━━━━━━━\u001b[0m\u001b[37m\u001b[0m \u001b[1m0s\u001b[0m 156ms/step - accuracy: 0.4335 - loss: 1.6437\n",
      "Epoch 3: val_accuracy improved from 0.10938 to 0.13438, saving model to models/n_mfcc_20/CNN_2D_deep_bs16_ep20_lr0.0001.keras\n",
      "\u001b[1m160/160\u001b[0m \u001b[32m━━━━━━━━━━━━━━━━━━━━\u001b[0m\u001b[37m\u001b[0m \u001b[1m26s\u001b[0m 163ms/step - accuracy: 0.4337 - loss: 1.6434 - val_accuracy: 0.1344 - val_loss: 4.1591\n",
      "Epoch 4/20\n",
      "\u001b[1m160/160\u001b[0m \u001b[32m━━━━━━━━━━━━━━━━━━━━\u001b[0m\u001b[37m\u001b[0m \u001b[1m0s\u001b[0m 156ms/step - accuracy: 0.4894 - loss: 1.4195\n",
      "Epoch 4: val_accuracy improved from 0.13438 to 0.26875, saving model to models/n_mfcc_20/CNN_2D_deep_bs16_ep20_lr0.0001.keras\n",
      "\u001b[1m160/160\u001b[0m \u001b[32m━━━━━━━━━━━━━━━━━━━━\u001b[0m\u001b[37m\u001b[0m \u001b[1m26s\u001b[0m 163ms/step - accuracy: 0.4895 - loss: 1.4193 - val_accuracy: 0.2688 - val_loss: 2.9688\n",
      "Epoch 5/20\n",
      "\u001b[1m160/160\u001b[0m \u001b[32m━━━━━━━━━━━━━━━━━━━━\u001b[0m\u001b[37m\u001b[0m \u001b[1m0s\u001b[0m 156ms/step - accuracy: 0.5614 - loss: 1.2095\n",
      "Epoch 5: val_accuracy improved from 0.26875 to 0.45156, saving model to models/n_mfcc_20/CNN_2D_deep_bs16_ep20_lr0.0001.keras\n",
      "\u001b[1m160/160\u001b[0m \u001b[32m━━━━━━━━━━━━━━━━━━━━\u001b[0m\u001b[37m\u001b[0m \u001b[1m26s\u001b[0m 163ms/step - accuracy: 0.5615 - loss: 1.2093 - val_accuracy: 0.4516 - val_loss: 1.8346\n",
      "Epoch 6/20\n",
      "\u001b[1m160/160\u001b[0m \u001b[32m━━━━━━━━━━━━━━━━━━━━\u001b[0m\u001b[37m\u001b[0m \u001b[1m0s\u001b[0m 157ms/step - accuracy: 0.6297 - loss: 1.0426\n",
      "Epoch 6: val_accuracy improved from 0.45156 to 0.45781, saving model to models/n_mfcc_20/CNN_2D_deep_bs16_ep20_lr0.0001.keras\n",
      "\u001b[1m160/160\u001b[0m \u001b[32m━━━━━━━━━━━━━━━━━━━━\u001b[0m\u001b[37m\u001b[0m \u001b[1m26s\u001b[0m 164ms/step - accuracy: 0.6298 - loss: 1.0426 - val_accuracy: 0.4578 - val_loss: 1.8654\n",
      "Epoch 7/20\n",
      "\u001b[1m160/160\u001b[0m \u001b[32m━━━━━━━━━━━━━━━━━━━━\u001b[0m\u001b[37m\u001b[0m \u001b[1m0s\u001b[0m 158ms/step - accuracy: 0.6992 - loss: 0.8811\n",
      "Epoch 7: val_accuracy improved from 0.45781 to 0.55937, saving model to models/n_mfcc_20/CNN_2D_deep_bs16_ep20_lr0.0001.keras\n",
      "\u001b[1m160/160\u001b[0m \u001b[32m━━━━━━━━━━━━━━━━━━━━\u001b[0m\u001b[37m\u001b[0m \u001b[1m26s\u001b[0m 165ms/step - accuracy: 0.6993 - loss: 0.8809 - val_accuracy: 0.5594 - val_loss: 1.4519\n",
      "Epoch 8/20\n",
      "\u001b[1m160/160\u001b[0m \u001b[32m━━━━━━━━━━━━━━━━━━━━\u001b[0m\u001b[37m\u001b[0m \u001b[1m0s\u001b[0m 157ms/step - accuracy: 0.7342 - loss: 0.7291\n",
      "Epoch 8: val_accuracy improved from 0.55937 to 0.61563, saving model to models/n_mfcc_20/CNN_2D_deep_bs16_ep20_lr0.0001.keras\n",
      "\u001b[1m160/160\u001b[0m \u001b[32m━━━━━━━━━━━━━━━━━━━━\u001b[0m\u001b[37m\u001b[0m \u001b[1m26s\u001b[0m 165ms/step - accuracy: 0.7343 - loss: 0.7292 - val_accuracy: 0.6156 - val_loss: 1.2463\n",
      "Epoch 9/20\n",
      "\u001b[1m160/160\u001b[0m \u001b[32m━━━━━━━━━━━━━━━━━━━━\u001b[0m\u001b[37m\u001b[0m \u001b[1m0s\u001b[0m 145ms/step - accuracy: 0.7827 - loss: 0.6507\n",
      "Epoch 9: val_accuracy improved from 0.61563 to 0.68125, saving model to models/n_mfcc_20/CNN_2D_deep_bs16_ep20_lr0.0001.keras\n",
      "\u001b[1m160/160\u001b[0m \u001b[32m━━━━━━━━━━━━━━━━━━━━\u001b[0m\u001b[37m\u001b[0m \u001b[1m24s\u001b[0m 151ms/step - accuracy: 0.7828 - loss: 0.6504 - val_accuracy: 0.6812 - val_loss: 1.0667\n",
      "Epoch 10/20\n",
      "\u001b[1m160/160\u001b[0m \u001b[32m━━━━━━━━━━━━━━━━━━━━\u001b[0m\u001b[37m\u001b[0m \u001b[1m0s\u001b[0m 146ms/step - accuracy: 0.8369 - loss: 0.4900\n",
      "Epoch 10: val_accuracy improved from 0.68125 to 0.68594, saving model to models/n_mfcc_20/CNN_2D_deep_bs16_ep20_lr0.0001.keras\n",
      "\u001b[1m160/160\u001b[0m \u001b[32m━━━━━━━━━━━━━━━━━━━━\u001b[0m\u001b[37m\u001b[0m \u001b[1m24s\u001b[0m 153ms/step - accuracy: 0.8369 - loss: 0.4901 - val_accuracy: 0.6859 - val_loss: 1.0061\n",
      "Epoch 11/20\n",
      "\u001b[1m160/160\u001b[0m \u001b[32m━━━━━━━━━━━━━━━━━━━━\u001b[0m\u001b[37m\u001b[0m \u001b[1m0s\u001b[0m 145ms/step - accuracy: 0.8468 - loss: 0.4642\n",
      "Epoch 11: val_accuracy improved from 0.68594 to 0.71719, saving model to models/n_mfcc_20/CNN_2D_deep_bs16_ep20_lr0.0001.keras\n",
      "\u001b[1m160/160\u001b[0m \u001b[32m━━━━━━━━━━━━━━━━━━━━\u001b[0m\u001b[37m\u001b[0m \u001b[1m24s\u001b[0m 152ms/step - accuracy: 0.8468 - loss: 0.4642 - val_accuracy: 0.7172 - val_loss: 0.9261\n",
      "Epoch 12/20\n",
      "\u001b[1m160/160\u001b[0m \u001b[32m━━━━━━━━━━━━━━━━━━━━\u001b[0m\u001b[37m\u001b[0m \u001b[1m0s\u001b[0m 145ms/step - accuracy: 0.8946 - loss: 0.3486\n",
      "Epoch 12: val_accuracy improved from 0.71719 to 0.73906, saving model to models/n_mfcc_20/CNN_2D_deep_bs16_ep20_lr0.0001.keras\n",
      "\u001b[1m160/160\u001b[0m \u001b[32m━━━━━━━━━━━━━━━━━━━━\u001b[0m\u001b[37m\u001b[0m \u001b[1m24s\u001b[0m 151ms/step - accuracy: 0.8946 - loss: 0.3487 - val_accuracy: 0.7391 - val_loss: 0.8488\n",
      "Epoch 13/20\n",
      "\u001b[1m160/160\u001b[0m \u001b[32m━━━━━━━━━━━━━━━━━━━━\u001b[0m\u001b[37m\u001b[0m \u001b[1m0s\u001b[0m 145ms/step - accuracy: 0.8701 - loss: 0.3598\n",
      "Epoch 13: val_accuracy improved from 0.73906 to 0.76094, saving model to models/n_mfcc_20/CNN_2D_deep_bs16_ep20_lr0.0001.keras\n",
      "\u001b[1m160/160\u001b[0m \u001b[32m━━━━━━━━━━━━━━━━━━━━\u001b[0m\u001b[37m\u001b[0m \u001b[1m24s\u001b[0m 151ms/step - accuracy: 0.8702 - loss: 0.3597 - val_accuracy: 0.7609 - val_loss: 0.7734\n",
      "Epoch 14/20\n",
      "\u001b[1m160/160\u001b[0m \u001b[32m━━━━━━━━━━━━━━━━━━━━\u001b[0m\u001b[37m\u001b[0m \u001b[1m0s\u001b[0m 144ms/step - accuracy: 0.9101 - loss: 0.2989\n",
      "Epoch 14: val_accuracy did not improve from 0.76094\n",
      "\u001b[1m160/160\u001b[0m \u001b[32m━━━━━━━━━━━━━━━━━━━━\u001b[0m\u001b[37m\u001b[0m \u001b[1m24s\u001b[0m 149ms/step - accuracy: 0.9101 - loss: 0.2987 - val_accuracy: 0.7484 - val_loss: 0.7513\n",
      "Epoch 15/20\n",
      "\u001b[1m160/160\u001b[0m \u001b[32m━━━━━━━━━━━━━━━━━━━━\u001b[0m\u001b[37m\u001b[0m \u001b[1m0s\u001b[0m 145ms/step - accuracy: 0.9511 - loss: 0.1980\n",
      "Epoch 15: val_accuracy improved from 0.76094 to 0.81094, saving model to models/n_mfcc_20/CNN_2D_deep_bs16_ep20_lr0.0001.keras\n",
      "\u001b[1m160/160\u001b[0m \u001b[32m━━━━━━━━━━━━━━━━━━━━\u001b[0m\u001b[37m\u001b[0m \u001b[1m24s\u001b[0m 152ms/step - accuracy: 0.9511 - loss: 0.1980 - val_accuracy: 0.8109 - val_loss: 0.5718\n",
      "Epoch 16/20\n",
      "\u001b[1m160/160\u001b[0m \u001b[32m━━━━━━━━━━━━━━━━━━━━\u001b[0m\u001b[37m\u001b[0m \u001b[1m0s\u001b[0m 145ms/step - accuracy: 0.9498 - loss: 0.1826\n",
      "Epoch 16: val_accuracy did not improve from 0.81094\n",
      "\u001b[1m160/160\u001b[0m \u001b[32m━━━━━━━━━━━━━━━━━━━━\u001b[0m\u001b[37m\u001b[0m \u001b[1m24s\u001b[0m 150ms/step - accuracy: 0.9498 - loss: 0.1826 - val_accuracy: 0.8094 - val_loss: 0.5694\n",
      "Epoch 17/20\n",
      "\u001b[1m160/160\u001b[0m \u001b[32m━━━━━━━━━━━━━━━━━━━━\u001b[0m\u001b[37m\u001b[0m \u001b[1m0s\u001b[0m 146ms/step - accuracy: 0.9602 - loss: 0.1427\n",
      "Epoch 17: val_accuracy did not improve from 0.81094\n",
      "\u001b[1m160/160\u001b[0m \u001b[32m━━━━━━━━━━━━━━━━━━━━\u001b[0m\u001b[37m\u001b[0m \u001b[1m24s\u001b[0m 151ms/step - accuracy: 0.9602 - loss: 0.1428 - val_accuracy: 0.8094 - val_loss: 0.5972\n",
      "Epoch 18/20\n",
      "\u001b[1m160/160\u001b[0m \u001b[32m━━━━━━━━━━━━━━━━━━━━\u001b[0m\u001b[37m\u001b[0m \u001b[1m0s\u001b[0m 145ms/step - accuracy: 0.9649 - loss: 0.1313\n",
      "Epoch 18: val_accuracy did not improve from 0.81094\n",
      "\u001b[1m160/160\u001b[0m \u001b[32m━━━━━━━━━━━━━━━━━━━━\u001b[0m\u001b[37m\u001b[0m \u001b[1m24s\u001b[0m 149ms/step - accuracy: 0.9648 - loss: 0.1314 - val_accuracy: 0.8047 - val_loss: 0.7069\n",
      "Epoch 19/20\n",
      "\u001b[1m160/160\u001b[0m \u001b[32m━━━━━━━━━━━━━━━━━━━━\u001b[0m\u001b[37m\u001b[0m \u001b[1m0s\u001b[0m 146ms/step - accuracy: 0.9607 - loss: 0.1395\n",
      "Epoch 19: val_accuracy did not improve from 0.81094\n",
      "\u001b[1m160/160\u001b[0m \u001b[32m━━━━━━━━━━━━━━━━━━━━\u001b[0m\u001b[37m\u001b[0m \u001b[1m24s\u001b[0m 150ms/step - accuracy: 0.9607 - loss: 0.1395 - val_accuracy: 0.8016 - val_loss: 0.6630\n",
      "Epoch 20/20\n",
      "\u001b[1m160/160\u001b[0m \u001b[32m━━━━━━━━━━━━━━━━━━━━\u001b[0m\u001b[37m\u001b[0m \u001b[1m0s\u001b[0m 145ms/step - accuracy: 0.9606 - loss: 0.1237\n",
      "Epoch 20: val_accuracy improved from 0.81094 to 0.82031, saving model to models/n_mfcc_20/CNN_2D_deep_bs16_ep20_lr0.0001.keras\n",
      "\u001b[1m160/160\u001b[0m \u001b[32m━━━━━━━━━━━━━━━━━━━━\u001b[0m\u001b[37m\u001b[0m \u001b[1m24s\u001b[0m 152ms/step - accuracy: 0.9606 - loss: 0.1237 - val_accuracy: 0.8203 - val_loss: 0.6266\n"
     ]
    },
    {
     "name": "stderr",
     "output_type": "stream",
     "text": [
      "2024-12-09 23:40:00.152938: E tensorflow/core/grappler/optimizers/meta_optimizer.cc:961] PluggableGraphOptimizer failed: INVALID_ARGUMENT: Failed to deserialize the `graph_buf`.\n"
     ]
    },
    {
     "name": "stdout",
     "output_type": "stream",
     "text": [
      "\u001b[1m25/25\u001b[0m \u001b[32m━━━━━━━━━━━━━━━━━━━━\u001b[0m\u001b[37m\u001b[0m \u001b[1m1s\u001b[0m 32ms/step\n",
      "Résultat: {'n_mfcc': 20, 'model_type': 'CNN_2D_deep', 'batch_size': 16, 'epochs': 20, 'learning_rate': 0.0001, 'accuracy': 0.8349999785423279, 'loss': 0.5495018362998962, 'validation_accuracy': 0.8203125, 'validation_loss': 0.5694344639778137, 'precision': 0.8567880375042077, 'recall': 0.835, 'f1_score': 0.8358216201945297}\n",
      "Résultats sauvegardés dans 'model_results.csv'.\n",
      "Entraînement du modèle: CNN_2D_deep, Batch Size: 16, Epochs: 20, Learning Rate: 1e-05\n"
     ]
    },
    {
     "name": "stderr",
     "output_type": "stream",
     "text": [
      "/Users/mathisgorvien/conda_envs/ia_deeplearning/lib/python3.9/site-packages/keras/src/layers/convolutional/base_conv.py:107: UserWarning: Do not pass an `input_shape`/`input_dim` argument to a layer. When using Sequential models, prefer using an `Input(shape)` object as the first layer in the model instead.\n",
      "  super().__init__(activity_regularizer=activity_regularizer, **kwargs)\n"
     ]
    },
    {
     "name": "stdout",
     "output_type": "stream",
     "text": [
      "Epoch 1/20\n",
      "\u001b[1m160/160\u001b[0m \u001b[32m━━━━━━━━━━━━━━━━━━━━\u001b[0m\u001b[37m\u001b[0m \u001b[1m0s\u001b[0m 160ms/step - accuracy: 0.1212 - loss: 3.3223\n",
      "Epoch 1: val_accuracy improved from -inf to 0.10000, saving model to models/n_mfcc_20/CNN_2D_deep_bs16_ep20_lr1e-05.keras\n",
      "\u001b[1m160/160\u001b[0m \u001b[32m━━━━━━━━━━━━━━━━━━━━\u001b[0m\u001b[37m\u001b[0m \u001b[1m32s\u001b[0m 171ms/step - accuracy: 0.1214 - loss: 3.3214 - val_accuracy: 0.1000 - val_loss: 3.4030\n",
      "Epoch 2/20\n",
      "\u001b[1m160/160\u001b[0m \u001b[32m━━━━━━━━━━━━━━━━━━━━\u001b[0m\u001b[37m\u001b[0m \u001b[1m0s\u001b[0m 157ms/step - accuracy: 0.1973 - loss: 2.7475\n",
      "Epoch 2: val_accuracy did not improve from 0.10000\n",
      "\u001b[1m160/160\u001b[0m \u001b[32m━━━━━━━━━━━━━━━━━━━━\u001b[0m\u001b[37m\u001b[0m \u001b[1m26s\u001b[0m 162ms/step - accuracy: 0.1972 - loss: 2.7477 - val_accuracy: 0.1000 - val_loss: 4.7301\n",
      "Epoch 3/20\n",
      "\u001b[1m160/160\u001b[0m \u001b[32m━━━━━━━━━━━━━━━━━━━━\u001b[0m\u001b[37m\u001b[0m \u001b[1m0s\u001b[0m 158ms/step - accuracy: 0.2250 - loss: 2.6200\n",
      "Epoch 3: val_accuracy improved from 0.10000 to 0.11719, saving model to models/n_mfcc_20/CNN_2D_deep_bs16_ep20_lr1e-05.keras\n",
      "\u001b[1m160/160\u001b[0m \u001b[32m━━━━━━━━━━━━━━━━━━━━\u001b[0m\u001b[37m\u001b[0m \u001b[1m27s\u001b[0m 166ms/step - accuracy: 0.2251 - loss: 2.6195 - val_accuracy: 0.1172 - val_loss: 4.5312\n",
      "Epoch 4/20\n",
      "\u001b[1m160/160\u001b[0m \u001b[32m━━━━━━━━━━━━━━━━━━━━\u001b[0m\u001b[37m\u001b[0m \u001b[1m0s\u001b[0m 157ms/step - accuracy: 0.2659 - loss: 2.4308\n",
      "Epoch 4: val_accuracy improved from 0.11719 to 0.15156, saving model to models/n_mfcc_20/CNN_2D_deep_bs16_ep20_lr1e-05.keras\n",
      "\u001b[1m160/160\u001b[0m \u001b[32m━━━━━━━━━━━━━━━━━━━━\u001b[0m\u001b[37m\u001b[0m \u001b[1m26s\u001b[0m 164ms/step - accuracy: 0.2659 - loss: 2.4305 - val_accuracy: 0.1516 - val_loss: 3.7271\n",
      "Epoch 5/20\n",
      "\u001b[1m160/160\u001b[0m \u001b[32m━━━━━━━━━━━━━━━━━━━━\u001b[0m\u001b[37m\u001b[0m \u001b[1m0s\u001b[0m 159ms/step - accuracy: 0.2843 - loss: 2.3125\n",
      "Epoch 5: val_accuracy improved from 0.15156 to 0.17031, saving model to models/n_mfcc_20/CNN_2D_deep_bs16_ep20_lr1e-05.keras\n",
      "\u001b[1m160/160\u001b[0m \u001b[32m━━━━━━━━━━━━━━━━━━━━\u001b[0m\u001b[37m\u001b[0m \u001b[1m27s\u001b[0m 166ms/step - accuracy: 0.2843 - loss: 2.3124 - val_accuracy: 0.1703 - val_loss: 3.1673\n",
      "Epoch 6/20\n",
      "\u001b[1m160/160\u001b[0m \u001b[32m━━━━━━━━━━━━━━━━━━━━\u001b[0m\u001b[37m\u001b[0m \u001b[1m0s\u001b[0m 158ms/step - accuracy: 0.2762 - loss: 2.1929\n",
      "Epoch 6: val_accuracy improved from 0.17031 to 0.18750, saving model to models/n_mfcc_20/CNN_2D_deep_bs16_ep20_lr1e-05.keras\n",
      "\u001b[1m160/160\u001b[0m \u001b[32m━━━━━━━━━━━━━━━━━━━━\u001b[0m\u001b[37m\u001b[0m \u001b[1m27s\u001b[0m 166ms/step - accuracy: 0.2763 - loss: 2.1929 - val_accuracy: 0.1875 - val_loss: 2.9340\n",
      "Epoch 7/20\n",
      "\u001b[1m160/160\u001b[0m \u001b[32m━━━━━━━━━━━━━━━━━━━━\u001b[0m\u001b[37m\u001b[0m \u001b[1m0s\u001b[0m 157ms/step - accuracy: 0.3073 - loss: 2.1121\n",
      "Epoch 7: val_accuracy improved from 0.18750 to 0.20625, saving model to models/n_mfcc_20/CNN_2D_deep_bs16_ep20_lr1e-05.keras\n",
      "\u001b[1m160/160\u001b[0m \u001b[32m━━━━━━━━━━━━━━━━━━━━\u001b[0m\u001b[37m\u001b[0m \u001b[1m26s\u001b[0m 165ms/step - accuracy: 0.3073 - loss: 2.1121 - val_accuracy: 0.2062 - val_loss: 2.9416\n",
      "Epoch 8/20\n",
      "\u001b[1m160/160\u001b[0m \u001b[32m━━━━━━━━━━━━━━━━━━━━\u001b[0m\u001b[37m\u001b[0m \u001b[1m0s\u001b[0m 158ms/step - accuracy: 0.3218 - loss: 2.0533\n",
      "Epoch 8: val_accuracy improved from 0.20625 to 0.23438, saving model to models/n_mfcc_20/CNN_2D_deep_bs16_ep20_lr1e-05.keras\n",
      "\u001b[1m160/160\u001b[0m \u001b[32m━━━━━━━━━━━━━━━━━━━━\u001b[0m\u001b[37m\u001b[0m \u001b[1m26s\u001b[0m 165ms/step - accuracy: 0.3219 - loss: 2.0530 - val_accuracy: 0.2344 - val_loss: 2.6992\n",
      "Epoch 9/20\n",
      "\u001b[1m160/160\u001b[0m \u001b[32m━━━━━━━━━━━━━━━━━━━━\u001b[0m\u001b[37m\u001b[0m \u001b[1m0s\u001b[0m 158ms/step - accuracy: 0.3750 - loss: 1.9006\n",
      "Epoch 9: val_accuracy improved from 0.23438 to 0.24375, saving model to models/n_mfcc_20/CNN_2D_deep_bs16_ep20_lr1e-05.keras\n",
      "\u001b[1m160/160\u001b[0m \u001b[32m━━━━━━━━━━━━━━━━━━━━\u001b[0m\u001b[37m\u001b[0m \u001b[1m26s\u001b[0m 165ms/step - accuracy: 0.3750 - loss: 1.9008 - val_accuracy: 0.2438 - val_loss: 2.7508\n",
      "Epoch 10/20\n",
      "\u001b[1m160/160\u001b[0m \u001b[32m━━━━━━━━━━━━━━━━━━━━\u001b[0m\u001b[37m\u001b[0m \u001b[1m0s\u001b[0m 158ms/step - accuracy: 0.3729 - loss: 1.9421\n",
      "Epoch 10: val_accuracy improved from 0.24375 to 0.25625, saving model to models/n_mfcc_20/CNN_2D_deep_bs16_ep20_lr1e-05.keras\n",
      "\u001b[1m160/160\u001b[0m \u001b[32m━━━━━━━━━━━━━━━━━━━━\u001b[0m\u001b[37m\u001b[0m \u001b[1m27s\u001b[0m 165ms/step - accuracy: 0.3729 - loss: 1.9420 - val_accuracy: 0.2562 - val_loss: 2.9641\n",
      "Epoch 11/20\n",
      "\u001b[1m160/160\u001b[0m \u001b[32m━━━━━━━━━━━━━━━━━━━━\u001b[0m\u001b[37m\u001b[0m \u001b[1m0s\u001b[0m 158ms/step - accuracy: 0.3860 - loss: 1.8239\n",
      "Epoch 11: val_accuracy improved from 0.25625 to 0.28750, saving model to models/n_mfcc_20/CNN_2D_deep_bs16_ep20_lr1e-05.keras\n",
      "\u001b[1m160/160\u001b[0m \u001b[32m━━━━━━━━━━━━━━━━━━━━\u001b[0m\u001b[37m\u001b[0m \u001b[1m26s\u001b[0m 165ms/step - accuracy: 0.3861 - loss: 1.8240 - val_accuracy: 0.2875 - val_loss: 2.7751\n",
      "Epoch 12/20\n",
      "\u001b[1m160/160\u001b[0m \u001b[32m━━━━━━━━━━━━━━━━━━━━\u001b[0m\u001b[37m\u001b[0m \u001b[1m0s\u001b[0m 158ms/step - accuracy: 0.3804 - loss: 1.8409\n",
      "Epoch 12: val_accuracy did not improve from 0.28750\n",
      "\u001b[1m160/160\u001b[0m \u001b[32m━━━━━━━━━━━━━━━━━━━━\u001b[0m\u001b[37m\u001b[0m \u001b[1m26s\u001b[0m 163ms/step - accuracy: 0.3805 - loss: 1.8406 - val_accuracy: 0.2719 - val_loss: 2.9808\n",
      "Epoch 13/20\n",
      "\u001b[1m160/160\u001b[0m \u001b[32m━━━━━━━━━━━━━━━━━━━━\u001b[0m\u001b[37m\u001b[0m \u001b[1m0s\u001b[0m 159ms/step - accuracy: 0.4100 - loss: 1.7773\n",
      "Epoch 13: val_accuracy did not improve from 0.28750\n",
      "\u001b[1m160/160\u001b[0m \u001b[32m━━━━━━━━━━━━━━━━━━━━\u001b[0m\u001b[37m\u001b[0m \u001b[1m26s\u001b[0m 164ms/step - accuracy: 0.4100 - loss: 1.7771 - val_accuracy: 0.2781 - val_loss: 3.0112\n"
     ]
    },
    {
     "name": "stderr",
     "output_type": "stream",
     "text": [
      "2024-12-09 23:45:52.640361: E tensorflow/core/grappler/optimizers/meta_optimizer.cc:961] PluggableGraphOptimizer failed: INVALID_ARGUMENT: Failed to deserialize the `graph_buf`.\n"
     ]
    },
    {
     "name": "stdout",
     "output_type": "stream",
     "text": [
      "\u001b[1m25/25\u001b[0m \u001b[32m━━━━━━━━━━━━━━━━━━━━\u001b[0m\u001b[37m\u001b[0m \u001b[1m1s\u001b[0m 38ms/step\n",
      "Résultat: {'n_mfcc': 20, 'model_type': 'CNN_2D_deep', 'batch_size': 16, 'epochs': 20, 'learning_rate': 1e-05, 'accuracy': 0.23250000178813934, 'loss': 2.6399199962615967, 'validation_accuracy': 0.2874999940395355, 'validation_loss': 2.6992011070251465, 'precision': 0.4526454359927988, 'recall': 0.2325, 'f1_score': 0.17191611333853213}\n",
      "Résultats sauvegardés dans 'model_results.csv'.\n",
      "Entraînement du modèle: CNN_2D_deep, Batch Size: 16, Epochs: 50, Learning Rate: 0.001\n"
     ]
    },
    {
     "name": "stderr",
     "output_type": "stream",
     "text": [
      "/Users/mathisgorvien/conda_envs/ia_deeplearning/lib/python3.9/site-packages/keras/src/layers/convolutional/base_conv.py:107: UserWarning: Do not pass an `input_shape`/`input_dim` argument to a layer. When using Sequential models, prefer using an `Input(shape)` object as the first layer in the model instead.\n",
      "  super().__init__(activity_regularizer=activity_regularizer, **kwargs)\n"
     ]
    },
    {
     "name": "stdout",
     "output_type": "stream",
     "text": [
      "Epoch 1/50\n",
      "\u001b[1m160/160\u001b[0m \u001b[32m━━━━━━━━━━━━━━━━━━━━\u001b[0m\u001b[37m\u001b[0m \u001b[1m0s\u001b[0m 168ms/step - accuracy: 0.2592 - loss: 2.3239\n",
      "Epoch 1: val_accuracy improved from -inf to 0.10938, saving model to models/n_mfcc_20/CNN_2D_deep_bs16_ep50_lr0.001.keras\n",
      "\u001b[1m160/160\u001b[0m \u001b[32m━━━━━━━━━━━━━━━━━━━━\u001b[0m\u001b[37m\u001b[0m \u001b[1m35s\u001b[0m 180ms/step - accuracy: 0.2597 - loss: 2.3218 - val_accuracy: 0.1094 - val_loss: 6.8355\n",
      "Epoch 2/50\n",
      "\u001b[1m160/160\u001b[0m \u001b[32m━━━━━━━━━━━━━━━━━━━━\u001b[0m\u001b[37m\u001b[0m \u001b[1m0s\u001b[0m 161ms/step - accuracy: 0.4046 - loss: 1.7629\n",
      "Epoch 2: val_accuracy improved from 0.10938 to 0.12969, saving model to models/n_mfcc_20/CNN_2D_deep_bs16_ep50_lr0.001.keras\n",
      "\u001b[1m160/160\u001b[0m \u001b[32m━━━━━━━━━━━━━━━━━━━━\u001b[0m\u001b[37m\u001b[0m \u001b[1m27s\u001b[0m 169ms/step - accuracy: 0.4047 - loss: 1.7624 - val_accuracy: 0.1297 - val_loss: 6.2804\n",
      "Epoch 3/50\n",
      "\u001b[1m160/160\u001b[0m \u001b[32m━━━━━━━━━━━━━━━━━━━━\u001b[0m\u001b[37m\u001b[0m \u001b[1m0s\u001b[0m 161ms/step - accuracy: 0.5563 - loss: 1.3380\n",
      "Epoch 3: val_accuracy improved from 0.12969 to 0.13281, saving model to models/n_mfcc_20/CNN_2D_deep_bs16_ep50_lr0.001.keras\n",
      "\u001b[1m160/160\u001b[0m \u001b[32m━━━━━━━━━━━━━━━━━━━━\u001b[0m\u001b[37m\u001b[0m \u001b[1m27s\u001b[0m 169ms/step - accuracy: 0.5564 - loss: 1.3375 - val_accuracy: 0.1328 - val_loss: 5.7430\n",
      "Epoch 4/50\n",
      "\u001b[1m160/160\u001b[0m \u001b[32m━━━━━━━━━━━━━━━━━━━━\u001b[0m\u001b[37m\u001b[0m \u001b[1m0s\u001b[0m 161ms/step - accuracy: 0.6314 - loss: 1.0727\n",
      "Epoch 4: val_accuracy improved from 0.13281 to 0.21719, saving model to models/n_mfcc_20/CNN_2D_deep_bs16_ep50_lr0.001.keras\n",
      "\u001b[1m160/160\u001b[0m \u001b[32m━━━━━━━━━━━━━━━━━━━━\u001b[0m\u001b[37m\u001b[0m \u001b[1m27s\u001b[0m 169ms/step - accuracy: 0.6312 - loss: 1.0732 - val_accuracy: 0.2172 - val_loss: 4.9514\n",
      "Epoch 5/50\n",
      "\u001b[1m160/160\u001b[0m \u001b[32m━━━━━━━━━━━━━━━━━━━━\u001b[0m\u001b[37m\u001b[0m \u001b[1m0s\u001b[0m 161ms/step - accuracy: 0.5692 - loss: 1.2477\n",
      "Epoch 5: val_accuracy improved from 0.21719 to 0.57969, saving model to models/n_mfcc_20/CNN_2D_deep_bs16_ep50_lr0.001.keras\n",
      "\u001b[1m160/160\u001b[0m \u001b[32m━━━━━━━━━━━━━━━━━━━━\u001b[0m\u001b[37m\u001b[0m \u001b[1m27s\u001b[0m 169ms/step - accuracy: 0.5695 - loss: 1.2470 - val_accuracy: 0.5797 - val_loss: 1.3268\n",
      "Epoch 6/50\n",
      "\u001b[1m160/160\u001b[0m \u001b[32m━━━━━━━━━━━━━━━━━━━━\u001b[0m\u001b[37m\u001b[0m \u001b[1m0s\u001b[0m 161ms/step - accuracy: 0.7318 - loss: 0.7733\n",
      "Epoch 6: val_accuracy did not improve from 0.57969\n",
      "\u001b[1m160/160\u001b[0m \u001b[32m━━━━━━━━━━━━━━━━━━━━\u001b[0m\u001b[37m\u001b[0m \u001b[1m27s\u001b[0m 167ms/step - accuracy: 0.7317 - loss: 0.7735 - val_accuracy: 0.5672 - val_loss: 1.3354\n",
      "Epoch 7/50\n",
      "\u001b[1m160/160\u001b[0m \u001b[32m━━━━━━━━━━━━━━━━━━━━\u001b[0m\u001b[37m\u001b[0m \u001b[1m0s\u001b[0m 161ms/step - accuracy: 0.7749 - loss: 0.6447\n",
      "Epoch 7: val_accuracy improved from 0.57969 to 0.69531, saving model to models/n_mfcc_20/CNN_2D_deep_bs16_ep50_lr0.001.keras\n",
      "\u001b[1m160/160\u001b[0m \u001b[32m━━━━━━━━━━━━━━━━━━━━\u001b[0m\u001b[37m\u001b[0m \u001b[1m27s\u001b[0m 169ms/step - accuracy: 0.7750 - loss: 0.6448 - val_accuracy: 0.6953 - val_loss: 0.9554\n",
      "Epoch 8/50\n",
      "\u001b[1m160/160\u001b[0m \u001b[32m━━━━━━━━━━━━━━━━━━━━\u001b[0m\u001b[37m\u001b[0m \u001b[1m0s\u001b[0m 161ms/step - accuracy: 0.7987 - loss: 0.6075\n",
      "Epoch 8: val_accuracy did not improve from 0.69531\n",
      "\u001b[1m160/160\u001b[0m \u001b[32m━━━━━━━━━━━━━━━━━━━━\u001b[0m\u001b[37m\u001b[0m \u001b[1m27s\u001b[0m 167ms/step - accuracy: 0.7989 - loss: 0.6071 - val_accuracy: 0.6469 - val_loss: 1.2935\n",
      "Epoch 9/50\n",
      "\u001b[1m160/160\u001b[0m \u001b[32m━━━━━━━━━━━━━━━━━━━━\u001b[0m\u001b[37m\u001b[0m \u001b[1m0s\u001b[0m 161ms/step - accuracy: 0.8832 - loss: 0.3583\n",
      "Epoch 9: val_accuracy improved from 0.69531 to 0.78281, saving model to models/n_mfcc_20/CNN_2D_deep_bs16_ep50_lr0.001.keras\n",
      "\u001b[1m160/160\u001b[0m \u001b[32m━━━━━━━━━━━━━━━━━━━━\u001b[0m\u001b[37m\u001b[0m \u001b[1m27s\u001b[0m 169ms/step - accuracy: 0.8832 - loss: 0.3584 - val_accuracy: 0.7828 - val_loss: 0.7334\n",
      "Epoch 10/50\n",
      "\u001b[1m160/160\u001b[0m \u001b[32m━━━━━━━━━━━━━━━━━━━━\u001b[0m\u001b[37m\u001b[0m \u001b[1m0s\u001b[0m 161ms/step - accuracy: 0.9103 - loss: 0.2666\n",
      "Epoch 10: val_accuracy did not improve from 0.78281\n",
      "\u001b[1m160/160\u001b[0m \u001b[32m━━━━━━━━━━━━━━━━━━━━\u001b[0m\u001b[37m\u001b[0m \u001b[1m27s\u001b[0m 167ms/step - accuracy: 0.9103 - loss: 0.2666 - val_accuracy: 0.7672 - val_loss: 0.7945\n",
      "Epoch 11/50\n",
      "\u001b[1m160/160\u001b[0m \u001b[32m━━━━━━━━━━━━━━━━━━━━\u001b[0m\u001b[37m\u001b[0m \u001b[1m0s\u001b[0m 160ms/step - accuracy: 0.9216 - loss: 0.2369\n",
      "Epoch 11: val_accuracy did not improve from 0.78281\n",
      "\u001b[1m160/160\u001b[0m \u001b[32m━━━━━━━━━━━━━━━━━━━━\u001b[0m\u001b[37m\u001b[0m \u001b[1m27s\u001b[0m 166ms/step - accuracy: 0.9214 - loss: 0.2373 - val_accuracy: 0.7578 - val_loss: 0.8322\n",
      "Epoch 12/50\n",
      "\u001b[1m160/160\u001b[0m \u001b[32m━━━━━━━━━━━━━━━━━━━━\u001b[0m\u001b[37m\u001b[0m \u001b[1m0s\u001b[0m 170ms/step - accuracy: 0.9194 - loss: 0.2544\n",
      "Epoch 12: val_accuracy improved from 0.78281 to 0.82187, saving model to models/n_mfcc_20/CNN_2D_deep_bs16_ep50_lr0.001.keras\n",
      "\u001b[1m160/160\u001b[0m \u001b[32m━━━━━━━━━━━━━━━━━━━━\u001b[0m\u001b[37m\u001b[0m \u001b[1m29s\u001b[0m 179ms/step - accuracy: 0.9194 - loss: 0.2543 - val_accuracy: 0.8219 - val_loss: 0.6864\n",
      "Epoch 13/50\n",
      "\u001b[1m160/160\u001b[0m \u001b[32m━━━━━━━━━━━━━━━━━━━━\u001b[0m\u001b[37m\u001b[0m \u001b[1m0s\u001b[0m 176ms/step - accuracy: 0.9460 - loss: 0.1542\n",
      "Epoch 13: val_accuracy did not improve from 0.82187\n",
      "\u001b[1m160/160\u001b[0m \u001b[32m━━━━━━━━━━━━━━━━━━━━\u001b[0m\u001b[37m\u001b[0m \u001b[1m29s\u001b[0m 182ms/step - accuracy: 0.9459 - loss: 0.1543 - val_accuracy: 0.7937 - val_loss: 0.8039\n",
      "Epoch 14/50\n",
      "\u001b[1m 38/160\u001b[0m \u001b[32m━━━━\u001b[0m\u001b[37m━━━━━━━━━━━━━━━━\u001b[0m \u001b[1m20s\u001b[0m 171ms/step - accuracy: 0.9479 - loss: 0.1458"
     ]
    },
    {
     "ename": "KeyboardInterrupt",
     "evalue": "",
     "output_type": "error",
     "traceback": [
      "\u001b[0;31m---------------------------------------------------------------------------\u001b[0m",
      "\u001b[0;31mKeyboardInterrupt\u001b[0m                         Traceback (most recent call last)",
      "Cell \u001b[0;32mIn[34], line 59\u001b[0m\n\u001b[1;32m     56\u001b[0m model \u001b[38;5;241m=\u001b[39m create_model(model_type, input_shape, num_classes, learning_rate\u001b[38;5;241m=\u001b[39mlr)\n\u001b[1;32m     58\u001b[0m \u001b[38;5;66;03m# Entraîner le modèle\u001b[39;00m\n\u001b[0;32m---> 59\u001b[0m history \u001b[38;5;241m=\u001b[39m \u001b[43mmodel\u001b[49m\u001b[38;5;241;43m.\u001b[39;49m\u001b[43mfit\u001b[49m\u001b[43m(\u001b[49m\n\u001b[1;32m     60\u001b[0m \u001b[43m    \u001b[49m\u001b[43mX_train\u001b[49m\u001b[43m,\u001b[49m\u001b[43m \u001b[49m\u001b[43my_train\u001b[49m\u001b[43m,\u001b[49m\u001b[43m \u001b[49m\n\u001b[1;32m     61\u001b[0m \u001b[43m    \u001b[49m\u001b[43mvalidation_split\u001b[49m\u001b[38;5;241;43m=\u001b[39;49m\u001b[38;5;241;43m0.2\u001b[39;49m\u001b[43m,\u001b[49m\u001b[43m \u001b[49m\n\u001b[1;32m     62\u001b[0m \u001b[43m    \u001b[49m\u001b[43mepochs\u001b[49m\u001b[38;5;241;43m=\u001b[39;49m\u001b[43mepochs\u001b[49m\u001b[43m,\u001b[49m\u001b[43m \u001b[49m\n\u001b[1;32m     63\u001b[0m \u001b[43m    \u001b[49m\u001b[43mbatch_size\u001b[49m\u001b[38;5;241;43m=\u001b[39;49m\u001b[43mbatch_size\u001b[49m\u001b[43m,\u001b[49m\u001b[43m \u001b[49m\n\u001b[1;32m     64\u001b[0m \u001b[43m    \u001b[49m\u001b[43mcallbacks\u001b[49m\u001b[38;5;241;43m=\u001b[39;49m\u001b[43m[\u001b[49m\u001b[43mearly_stopping\u001b[49m\u001b[43m,\u001b[49m\u001b[43m \u001b[49m\u001b[43mcheckpoint\u001b[49m\u001b[43m]\u001b[49m\u001b[43m,\u001b[49m\u001b[43m \u001b[49m\n\u001b[1;32m     65\u001b[0m \u001b[43m    \u001b[49m\u001b[43mverbose\u001b[49m\u001b[38;5;241;43m=\u001b[39;49m\u001b[38;5;241;43m1\u001b[39;49m\u001b[43m  \u001b[49m\u001b[38;5;66;43;03m# Vous pouvez changer en 0 pour moins de sorties\u001b[39;49;00m\n\u001b[1;32m     66\u001b[0m \u001b[43m\u001b[49m\u001b[43m)\u001b[49m\n\u001b[1;32m     68\u001b[0m \u001b[38;5;66;03m# Évaluer le modèle\u001b[39;00m\n\u001b[1;32m     69\u001b[0m loss, accuracy \u001b[38;5;241m=\u001b[39m model\u001b[38;5;241m.\u001b[39mevaluate(X_test, y_test, verbose\u001b[38;5;241m=\u001b[39m\u001b[38;5;241m0\u001b[39m)\n",
      "File \u001b[0;32m~/conda_envs/ia_deeplearning/lib/python3.9/site-packages/keras/src/utils/traceback_utils.py:117\u001b[0m, in \u001b[0;36mfilter_traceback.<locals>.error_handler\u001b[0;34m(*args, **kwargs)\u001b[0m\n\u001b[1;32m    115\u001b[0m filtered_tb \u001b[38;5;241m=\u001b[39m \u001b[38;5;28;01mNone\u001b[39;00m\n\u001b[1;32m    116\u001b[0m \u001b[38;5;28;01mtry\u001b[39;00m:\n\u001b[0;32m--> 117\u001b[0m     \u001b[38;5;28;01mreturn\u001b[39;00m \u001b[43mfn\u001b[49m\u001b[43m(\u001b[49m\u001b[38;5;241;43m*\u001b[39;49m\u001b[43margs\u001b[49m\u001b[43m,\u001b[49m\u001b[43m \u001b[49m\u001b[38;5;241;43m*\u001b[39;49m\u001b[38;5;241;43m*\u001b[39;49m\u001b[43mkwargs\u001b[49m\u001b[43m)\u001b[49m\n\u001b[1;32m    118\u001b[0m \u001b[38;5;28;01mexcept\u001b[39;00m \u001b[38;5;167;01mException\u001b[39;00m \u001b[38;5;28;01mas\u001b[39;00m e:\n\u001b[1;32m    119\u001b[0m     filtered_tb \u001b[38;5;241m=\u001b[39m _process_traceback_frames(e\u001b[38;5;241m.\u001b[39m__traceback__)\n",
      "File \u001b[0;32m~/conda_envs/ia_deeplearning/lib/python3.9/site-packages/keras/src/backend/tensorflow/trainer.py:320\u001b[0m, in \u001b[0;36mTensorFlowTrainer.fit\u001b[0;34m(self, x, y, batch_size, epochs, verbose, callbacks, validation_split, validation_data, shuffle, class_weight, sample_weight, initial_epoch, steps_per_epoch, validation_steps, validation_batch_size, validation_freq)\u001b[0m\n\u001b[1;32m    318\u001b[0m \u001b[38;5;28;01mfor\u001b[39;00m step, iterator \u001b[38;5;129;01min\u001b[39;00m epoch_iterator\u001b[38;5;241m.\u001b[39menumerate_epoch():\n\u001b[1;32m    319\u001b[0m     callbacks\u001b[38;5;241m.\u001b[39mon_train_batch_begin(step)\n\u001b[0;32m--> 320\u001b[0m     logs \u001b[38;5;241m=\u001b[39m \u001b[38;5;28;43mself\u001b[39;49m\u001b[38;5;241;43m.\u001b[39;49m\u001b[43mtrain_function\u001b[49m\u001b[43m(\u001b[49m\u001b[43miterator\u001b[49m\u001b[43m)\u001b[49m\n\u001b[1;32m    321\u001b[0m     callbacks\u001b[38;5;241m.\u001b[39mon_train_batch_end(step, logs)\n\u001b[1;32m    322\u001b[0m     \u001b[38;5;28;01mif\u001b[39;00m \u001b[38;5;28mself\u001b[39m\u001b[38;5;241m.\u001b[39mstop_training:\n",
      "File \u001b[0;32m~/conda_envs/ia_deeplearning/lib/python3.9/site-packages/tensorflow/python/util/traceback_utils.py:139\u001b[0m, in \u001b[0;36mfilter_traceback.<locals>.error_handler\u001b[0;34m(*args, **kwargs)\u001b[0m\n\u001b[1;32m    138\u001b[0m \u001b[38;5;28;01mdef\u001b[39;00m \u001b[38;5;21merror_handler\u001b[39m(\u001b[38;5;241m*\u001b[39margs, \u001b[38;5;241m*\u001b[39m\u001b[38;5;241m*\u001b[39mkwargs):\n\u001b[0;32m--> 139\u001b[0m   \u001b[38;5;28;01mtry\u001b[39;00m:\n\u001b[1;32m    140\u001b[0m     \u001b[38;5;28;01mif\u001b[39;00m \u001b[38;5;129;01mnot\u001b[39;00m is_traceback_filtering_enabled():\n\u001b[1;32m    141\u001b[0m       \u001b[38;5;28;01mreturn\u001b[39;00m fn(\u001b[38;5;241m*\u001b[39margs, \u001b[38;5;241m*\u001b[39m\u001b[38;5;241m*\u001b[39mkwargs)\n",
      "\u001b[0;31mKeyboardInterrupt\u001b[0m: "
     ]
    }
   ],
   "source": [
    "# Chemin vers les données audio\n",
    "data_path = \"Data/genres_original\"\n",
    "\n",
    "# Définir fixed_length en fonction de n_mfcc et des paramètres de vos MFCC\n",
    "fixed_length = 1293  # À ajuster selon votre dataset (en fonction du sr et hop_length)\n",
    "\n",
    "# Itération sur les différentes valeurs de n_mfcc (token size)\n",
    "for n_mfcc in n_mfcc_values:\n",
    "    print(f\"\\nTraitement pour n_mfcc = {n_mfcc}\")\n",
    "    \n",
    "    # Charger les données avec augmentation\n",
    "    X, y = load_audio_features_with_augmentation(data_path, fixed_length, n_mfcc=n_mfcc)\n",
    "\n",
    "    print(f\"Shape des données: X={X.shape}, y={y.shape}\")\n",
    "    \n",
    "    # Encodage des labels\n",
    "    encoder = LabelEncoder()\n",
    "    y_encoded = encoder.fit_transform(y)\n",
    "    y_categorical = to_categorical(y_encoded, num_classes=len(encoder.classes_))\n",
    "\n",
    "    # Sauvegarder l'encodeur (écrasez le précédent si nécessaire)\n",
    "    joblib.dump(encoder, 'label_encoder.joblib')\n",
    "\n",
    "    # Split des données en ensembles d'entraînement et de test\n",
    "    X_train, X_test, y_train, y_test = train_test_split(X, y_categorical, test_size=0.2, random_state=42)\n",
    "\n",
    "    # Normalisation des données\n",
    "    # Par exemple, vous pouvez normaliser les MFCCs entre 0 et 1\n",
    "    X_train = X_train / np.max(X_train)\n",
    "    X_test = X_test / np.max(X_test)\n",
    "\n",
    "    # Itération sur les différentes combinaisons d'hyperparamètres\n",
    "    for model_type, batch_size, epochs, lr in itertools.product(model_types, batch_sizes, epochs_list, learning_rates):\n",
    "        print(f\"Entraînement du modèle: {model_type}, Batch Size: {batch_size}, Epochs: {epochs}, Learning Rate: {lr}\")\n",
    "        \n",
    "        # Définir le chemin de sauvegarde du modèle\n",
    "        model_save_path = f\"models/n_mfcc_{n_mfcc}/{model_type}_bs{batch_size}_ep{epochs}_lr{lr}.keras\"\n",
    "        \n",
    "        # Vérifier si le modèle existe déjà\n",
    "        if model_exists(n_mfcc, model_type, batch_size, epochs, lr):\n",
    "            print(f\"Le modèle {model_type} avec bs={batch_size}, ep={epochs}, lr={lr} existe déjà. Passage au suivant.\")\n",
    "            continue  # Passer à la prochaine combinaison\n",
    "        \n",
    "        # Créer le répertoire si nécessaire\n",
    "        os.makedirs(os.path.dirname(model_save_path), exist_ok=True)\n",
    "        \n",
    "        # Définir le callback EarlyStopping\n",
    "        early_stopping = EarlyStopping(monitor='val_loss', patience=5, restore_best_weights=True)\n",
    "        \n",
    "        # Définir un ModelCheckpoint pour sauvegarder le meilleur modèle\n",
    "        checkpoint = ModelCheckpoint(model_save_path, monitor='val_accuracy', save_best_only=True, verbose=1)\n",
    "        \n",
    "        # Définir le modèle\n",
    "        input_shape = X_train.shape[1:]  # (n_mfcc, fixed_length, 1)\n",
    "        num_classes = len(encoder.classes_)\n",
    "        model = create_model(model_type, input_shape, num_classes, learning_rate=lr)\n",
    "\n",
    "        # Entraîner le modèle\n",
    "        history = model.fit(\n",
    "            X_train, y_train, \n",
    "            validation_split=0.2, \n",
    "            epochs=epochs, \n",
    "            batch_size=batch_size, \n",
    "            callbacks=[early_stopping, checkpoint], \n",
    "            verbose=1  # Vous pouvez changer en 0 pour moins de sorties\n",
    "        )\n",
    "\n",
    "        # Évaluer le modèle\n",
    "        loss, accuracy = model.evaluate(X_test, y_test, verbose=0)\n",
    "        val_loss = min(history.history['val_loss'])\n",
    "        val_accuracy = max(history.history['val_accuracy'])\n",
    "\n",
    "        # Prédictions pour les métriques supplémentaires\n",
    "        y_pred = np.argmax(model.predict(X_test), axis=-1)\n",
    "        y_true = np.argmax(y_test, axis=-1)\n",
    "        precision = precision_score(y_true, y_pred, average='weighted', zero_division=0)\n",
    "        recall = recall_score(y_true, y_pred, average='weighted', zero_division=0)\n",
    "        f1 = f1_score(y_true, y_pred, average='weighted', zero_division=0)\n",
    "\n",
    "        # Enregistrer les résultats\n",
    "        result = {\n",
    "            'n_mfcc': n_mfcc,\n",
    "            'model_type': model_type,\n",
    "            'batch_size': batch_size,\n",
    "            'epochs': epochs,\n",
    "            'learning_rate': lr,\n",
    "            'accuracy': accuracy,\n",
    "            'loss': loss,\n",
    "            'validation_accuracy': val_accuracy,\n",
    "            'validation_loss': val_loss,\n",
    "            'precision': precision,\n",
    "            'recall': recall,\n",
    "            'f1_score': f1\n",
    "        }\n",
    "        results.append(result)\n",
    "        print(f\"Résultat: {result}\")\n",
    "\n",
    "        # Sauvegarder les résultats après chaque entraînement pour éviter les pertes en cas d'interruption\n",
    "        results_df = pd.DataFrame(results)\n",
    "        results_df.to_csv('model_results.csv', index=False)\n",
    "        print(\"Résultats sauvegardés dans 'model_results.csv'.\")"
   ]
  },
  {
   "cell_type": "markdown",
   "metadata": {},
   "source": [
    "**Explications :**\n",
    "\n",
    "- **Itération sur `n_mfcc`** : Pour chaque valeur de `n_mfcc` (nombre de coefficients MFCC), nous chargeons et prétraitons les données.\n",
    "- **Normalisation** : Les MFCCs sont normalisés en divisant par leur maximum pour faciliter la convergence du modèle.\n",
    "- **Boucle Imbriquée** : Utilisation de `itertools.product` pour parcourir toutes les combinaisons possibles des hyperparamètres et des types de modèles.\n",
    "- **Métriques Supplémentaires** : En plus de la précision et de la perte, nous calculons également la précision (`precision_score`), le rappel (`recall_score`) et le score F1 (`f1_score`) pour une évaluation plus complète.\n",
    "- **Sauvegarde des Modèles** : Les meilleurs modèles basés sur la précision de validation sont sauvegardés grâce au `ModelCheckpoint`."
   ]
  },
  {
   "cell_type": "markdown",
   "metadata": {},
   "source": [
    "## Étape 8 : Analyser et Sauvegarder les Résultats\n",
    "\n",
    "Après avoir entraîné tous les modèles, nous allons collecter les résultats dans un tableau et les sauvegarder dans un fichier CSV pour une analyse ultérieure."
   ]
  },
  {
   "cell_type": "code",
   "execution_count": 35,
   "metadata": {},
   "outputs": [
    {
     "name": "stdout",
     "output_type": "stream",
     "text": [
      "\n",
      "Tous les résultats ont été sauvegardés dans 'model_results.csv'.\n"
     ]
    }
   ],
   "source": [
    "# Convertir les résultats en DataFrame et sauvegarder\n",
    "results_df = pd.DataFrame(results)\n",
    "results_df.to_csv('model_results.csv', index=False)\n",
    "print(\"\\nTous les résultats ont été sauvegardés dans 'model_results.csv'.\")\n"
   ]
  },
  {
   "cell_type": "markdown",
   "metadata": {},
   "source": [
    "## Étape 9 : Visualiser les Meilleurs Résultats\n",
    "\n",
    "Nous allons afficher les 10 meilleures configurations basées sur la précision de test."
   ]
  },
  {
   "cell_type": "code",
   "execution_count": 36,
   "metadata": {},
   "outputs": [
    {
     "name": "stdout",
     "output_type": "stream",
     "text": [
      "\n",
      "Top 10 des meilleures configurations :\n"
     ]
    },
    {
     "data": {
      "text/html": [
       "<div>\n",
       "<style scoped>\n",
       "    .dataframe tbody tr th:only-of-type {\n",
       "        vertical-align: middle;\n",
       "    }\n",
       "\n",
       "    .dataframe tbody tr th {\n",
       "        vertical-align: top;\n",
       "    }\n",
       "\n",
       "    .dataframe thead th {\n",
       "        text-align: right;\n",
       "    }\n",
       "</style>\n",
       "<table border=\"1\" class=\"dataframe\">\n",
       "  <thead>\n",
       "    <tr style=\"text-align: right;\">\n",
       "      <th></th>\n",
       "      <th>n_mfcc</th>\n",
       "      <th>model_type</th>\n",
       "      <th>batch_size</th>\n",
       "      <th>epochs</th>\n",
       "      <th>learning_rate</th>\n",
       "      <th>accuracy</th>\n",
       "      <th>loss</th>\n",
       "      <th>validation_accuracy</th>\n",
       "      <th>validation_loss</th>\n",
       "      <th>precision</th>\n",
       "      <th>recall</th>\n",
       "      <th>f1_score</th>\n",
       "    </tr>\n",
       "  </thead>\n",
       "  <tbody>\n",
       "    <tr>\n",
       "      <th>15</th>\n",
       "      <td>20</td>\n",
       "      <td>CNN_2D_basic</td>\n",
       "      <td>32</td>\n",
       "      <td>100</td>\n",
       "      <td>0.0010</td>\n",
       "      <td>0.88875</td>\n",
       "      <td>0.469222</td>\n",
       "      <td>0.820312</td>\n",
       "      <td>0.606798</td>\n",
       "      <td>0.896033</td>\n",
       "      <td>0.88875</td>\n",
       "      <td>0.889629</td>\n",
       "    </tr>\n",
       "    <tr>\n",
       "      <th>9</th>\n",
       "      <td>20</td>\n",
       "      <td>CNN_2D_basic</td>\n",
       "      <td>32</td>\n",
       "      <td>20</td>\n",
       "      <td>0.0010</td>\n",
       "      <td>0.86375</td>\n",
       "      <td>0.541110</td>\n",
       "      <td>0.843750</td>\n",
       "      <td>0.599895</td>\n",
       "      <td>0.873622</td>\n",
       "      <td>0.86375</td>\n",
       "      <td>0.864497</td>\n",
       "    </tr>\n",
       "    <tr>\n",
       "      <th>12</th>\n",
       "      <td>20</td>\n",
       "      <td>CNN_2D_basic</td>\n",
       "      <td>32</td>\n",
       "      <td>50</td>\n",
       "      <td>0.0010</td>\n",
       "      <td>0.85500</td>\n",
       "      <td>0.500971</td>\n",
       "      <td>0.829687</td>\n",
       "      <td>0.720109</td>\n",
       "      <td>0.864506</td>\n",
       "      <td>0.85500</td>\n",
       "      <td>0.854494</td>\n",
       "    </tr>\n",
       "    <tr>\n",
       "      <th>6</th>\n",
       "      <td>20</td>\n",
       "      <td>CNN_2D_basic</td>\n",
       "      <td>16</td>\n",
       "      <td>100</td>\n",
       "      <td>0.0010</td>\n",
       "      <td>0.85000</td>\n",
       "      <td>0.571241</td>\n",
       "      <td>0.834375</td>\n",
       "      <td>0.696354</td>\n",
       "      <td>0.861165</td>\n",
       "      <td>0.85000</td>\n",
       "      <td>0.850079</td>\n",
       "    </tr>\n",
       "    <tr>\n",
       "      <th>24</th>\n",
       "      <td>20</td>\n",
       "      <td>CNN_2D_basic</td>\n",
       "      <td>64</td>\n",
       "      <td>100</td>\n",
       "      <td>0.0010</td>\n",
       "      <td>0.84875</td>\n",
       "      <td>0.568541</td>\n",
       "      <td>0.848437</td>\n",
       "      <td>0.647980</td>\n",
       "      <td>0.859395</td>\n",
       "      <td>0.84875</td>\n",
       "      <td>0.848930</td>\n",
       "    </tr>\n",
       "    <tr>\n",
       "      <th>3</th>\n",
       "      <td>20</td>\n",
       "      <td>CNN_2D_basic</td>\n",
       "      <td>16</td>\n",
       "      <td>50</td>\n",
       "      <td>0.0010</td>\n",
       "      <td>0.84500</td>\n",
       "      <td>0.461551</td>\n",
       "      <td>0.807813</td>\n",
       "      <td>0.612392</td>\n",
       "      <td>0.849317</td>\n",
       "      <td>0.84500</td>\n",
       "      <td>0.844333</td>\n",
       "    </tr>\n",
       "    <tr>\n",
       "      <th>28</th>\n",
       "      <td>20</td>\n",
       "      <td>CNN_2D_deep</td>\n",
       "      <td>16</td>\n",
       "      <td>20</td>\n",
       "      <td>0.0001</td>\n",
       "      <td>0.83500</td>\n",
       "      <td>0.549502</td>\n",
       "      <td>0.820312</td>\n",
       "      <td>0.569434</td>\n",
       "      <td>0.856788</td>\n",
       "      <td>0.83500</td>\n",
       "      <td>0.835822</td>\n",
       "    </tr>\n",
       "    <tr>\n",
       "      <th>27</th>\n",
       "      <td>20</td>\n",
       "      <td>CNN_2D_deep</td>\n",
       "      <td>16</td>\n",
       "      <td>20</td>\n",
       "      <td>0.0010</td>\n",
       "      <td>0.81125</td>\n",
       "      <td>0.611260</td>\n",
       "      <td>0.814062</td>\n",
       "      <td>0.607501</td>\n",
       "      <td>0.831324</td>\n",
       "      <td>0.81125</td>\n",
       "      <td>0.812223</td>\n",
       "    </tr>\n",
       "    <tr>\n",
       "      <th>0</th>\n",
       "      <td>20</td>\n",
       "      <td>CNN_2D_basic</td>\n",
       "      <td>16</td>\n",
       "      <td>20</td>\n",
       "      <td>0.0010</td>\n",
       "      <td>0.77250</td>\n",
       "      <td>0.671316</td>\n",
       "      <td>0.796875</td>\n",
       "      <td>0.711253</td>\n",
       "      <td>0.808364</td>\n",
       "      <td>0.77250</td>\n",
       "      <td>0.771787</td>\n",
       "    </tr>\n",
       "    <tr>\n",
       "      <th>4</th>\n",
       "      <td>20</td>\n",
       "      <td>CNN_2D_basic</td>\n",
       "      <td>16</td>\n",
       "      <td>50</td>\n",
       "      <td>0.0001</td>\n",
       "      <td>0.76250</td>\n",
       "      <td>1.076921</td>\n",
       "      <td>0.762500</td>\n",
       "      <td>1.320944</td>\n",
       "      <td>0.812918</td>\n",
       "      <td>0.76250</td>\n",
       "      <td>0.766612</td>\n",
       "    </tr>\n",
       "  </tbody>\n",
       "</table>\n",
       "</div>"
      ],
      "text/plain": [
       "    n_mfcc    model_type  batch_size  epochs  learning_rate  accuracy  \\\n",
       "15      20  CNN_2D_basic          32     100         0.0010   0.88875   \n",
       "9       20  CNN_2D_basic          32      20         0.0010   0.86375   \n",
       "12      20  CNN_2D_basic          32      50         0.0010   0.85500   \n",
       "6       20  CNN_2D_basic          16     100         0.0010   0.85000   \n",
       "24      20  CNN_2D_basic          64     100         0.0010   0.84875   \n",
       "3       20  CNN_2D_basic          16      50         0.0010   0.84500   \n",
       "28      20   CNN_2D_deep          16      20         0.0001   0.83500   \n",
       "27      20   CNN_2D_deep          16      20         0.0010   0.81125   \n",
       "0       20  CNN_2D_basic          16      20         0.0010   0.77250   \n",
       "4       20  CNN_2D_basic          16      50         0.0001   0.76250   \n",
       "\n",
       "        loss  validation_accuracy  validation_loss  precision   recall  \\\n",
       "15  0.469222             0.820312         0.606798   0.896033  0.88875   \n",
       "9   0.541110             0.843750         0.599895   0.873622  0.86375   \n",
       "12  0.500971             0.829687         0.720109   0.864506  0.85500   \n",
       "6   0.571241             0.834375         0.696354   0.861165  0.85000   \n",
       "24  0.568541             0.848437         0.647980   0.859395  0.84875   \n",
       "3   0.461551             0.807813         0.612392   0.849317  0.84500   \n",
       "28  0.549502             0.820312         0.569434   0.856788  0.83500   \n",
       "27  0.611260             0.814062         0.607501   0.831324  0.81125   \n",
       "0   0.671316             0.796875         0.711253   0.808364  0.77250   \n",
       "4   1.076921             0.762500         1.320944   0.812918  0.76250   \n",
       "\n",
       "    f1_score  \n",
       "15  0.889629  \n",
       "9   0.864497  \n",
       "12  0.854494  \n",
       "6   0.850079  \n",
       "24  0.848930  \n",
       "3   0.844333  \n",
       "28  0.835822  \n",
       "27  0.812223  \n",
       "0   0.771787  \n",
       "4   0.766612  "
      ]
     },
     "metadata": {},
     "output_type": "display_data"
    }
   ],
   "source": [
    "# Afficher les meilleurs résultats\n",
    "best_results = results_df.sort_values(by='accuracy', ascending=False).head(10)\n",
    "print(\"\\nTop 10 des meilleures configurations :\")\n",
    "display(best_results)"
   ]
  },
  {
   "cell_type": "markdown",
   "metadata": {},
   "source": [
    "### Visualisation des Résultats\n",
    "\n",
    "Pour mieux comprendre les performances des différents modèles et hyperparamètres, nous pouvons créer des visualisations."
   ]
  },
  {
   "cell_type": "code",
   "execution_count": 41,
   "metadata": {},
   "outputs": [
    {
     "data": {
      "image/png": "[encoded data removed]",
      "text/plain": [
       "<Figure size 1200x800 with 2 Axes>"
      ]
     },
     "metadata": {},
     "output_type": "display_data"
    },
    {
     "ename": "ValueError",
     "evalue": "zero-size array to reduction operation fmin which has no identity",
     "output_type": "error",
     "traceback": [
      "\u001b[0;31m---------------------------------------------------------------------------\u001b[0m",
      "\u001b[0;31mValueError\u001b[0m                                Traceback (most recent call last)",
      "Cell \u001b[0;32mIn[41], line 6\u001b[0m\n\u001b[1;32m      4\u001b[0m subset \u001b[38;5;241m=\u001b[39m results_df[results_df[\u001b[38;5;124m'\u001b[39m\u001b[38;5;124mn_mfcc\u001b[39m\u001b[38;5;124m'\u001b[39m] \u001b[38;5;241m==\u001b[39m n_mfcc]\n\u001b[1;32m      5\u001b[0m pivot_table \u001b[38;5;241m=\u001b[39m subset\u001b[38;5;241m.\u001b[39mpivot_table(values\u001b[38;5;241m=\u001b[39m\u001b[38;5;124m'\u001b[39m\u001b[38;5;124maccuracy\u001b[39m\u001b[38;5;124m'\u001b[39m, index\u001b[38;5;241m=\u001b[39m\u001b[38;5;124m'\u001b[39m\u001b[38;5;124mmodel_type\u001b[39m\u001b[38;5;124m'\u001b[39m, columns\u001b[38;5;241m=\u001b[39m\u001b[38;5;124m'\u001b[39m\u001b[38;5;124mlearning_rate\u001b[39m\u001b[38;5;124m'\u001b[39m, aggfunc\u001b[38;5;241m=\u001b[39m\u001b[38;5;124m'\u001b[39m\u001b[38;5;124mmean\u001b[39m\u001b[38;5;124m'\u001b[39m)\n\u001b[0;32m----> 6\u001b[0m \u001b[43msns\u001b[49m\u001b[38;5;241;43m.\u001b[39;49m\u001b[43mheatmap\u001b[49m\u001b[43m(\u001b[49m\u001b[43mpivot_table\u001b[49m\u001b[43m,\u001b[49m\u001b[43m \u001b[49m\u001b[43mannot\u001b[49m\u001b[38;5;241;43m=\u001b[39;49m\u001b[38;5;28;43;01mTrue\u001b[39;49;00m\u001b[43m,\u001b[49m\u001b[43m \u001b[49m\u001b[43mfmt\u001b[49m\u001b[38;5;241;43m=\u001b[39;49m\u001b[38;5;124;43m\"\u001b[39;49m\u001b[38;5;124;43m.4f\u001b[39;49m\u001b[38;5;124;43m\"\u001b[39;49m\u001b[43m,\u001b[49m\u001b[43m \u001b[49m\u001b[43mcmap\u001b[49m\u001b[38;5;241;43m=\u001b[39;49m\u001b[38;5;124;43m'\u001b[39;49m\u001b[38;5;124;43mviridis\u001b[39;49m\u001b[38;5;124;43m'\u001b[39;49m\u001b[43m)\u001b[49m\n\u001b[1;32m      7\u001b[0m plt\u001b[38;5;241m.\u001b[39mtitle(\u001b[38;5;124mf\u001b[39m\u001b[38;5;124m\"\u001b[39m\u001b[38;5;124mPrécision moyenne par modèle et taux d\u001b[39m\u001b[38;5;124m'\u001b[39m\u001b[38;5;124mapprentissage (n_mfcc=\u001b[39m\u001b[38;5;132;01m{\u001b[39;00mn_mfcc\u001b[38;5;132;01m}\u001b[39;00m\u001b[38;5;124m)\u001b[39m\u001b[38;5;124m\"\u001b[39m)\n\u001b[1;32m      8\u001b[0m plt\u001b[38;5;241m.\u001b[39mylabel(\u001b[38;5;124m\"\u001b[39m\u001b[38;5;124mType de Modèle\u001b[39m\u001b[38;5;124m\"\u001b[39m)\n",
      "File \u001b[0;32m~/conda_envs/ia_deeplearning/lib/python3.9/site-packages/seaborn/matrix.py:446\u001b[0m, in \u001b[0;36mheatmap\u001b[0;34m(data, vmin, vmax, cmap, center, robust, annot, fmt, annot_kws, linewidths, linecolor, cbar, cbar_kws, cbar_ax, square, xticklabels, yticklabels, mask, ax, **kwargs)\u001b[0m\n\u001b[1;32m    365\u001b[0m \u001b[38;5;250m\u001b[39m\u001b[38;5;124;03m\"\"\"Plot rectangular data as a color-encoded matrix.\u001b[39;00m\n\u001b[1;32m    366\u001b[0m \n\u001b[1;32m    367\u001b[0m \u001b[38;5;124;03mThis is an Axes-level function and will draw the heatmap into the\u001b[39;00m\n\u001b[0;32m   (...)\u001b[0m\n\u001b[1;32m    443\u001b[0m \n\u001b[1;32m    444\u001b[0m \u001b[38;5;124;03m\"\"\"\u001b[39;00m\n\u001b[1;32m    445\u001b[0m \u001b[38;5;66;03m# Initialize the plotter object\u001b[39;00m\n\u001b[0;32m--> 446\u001b[0m plotter \u001b[38;5;241m=\u001b[39m \u001b[43m_HeatMapper\u001b[49m\u001b[43m(\u001b[49m\u001b[43mdata\u001b[49m\u001b[43m,\u001b[49m\u001b[43m \u001b[49m\u001b[43mvmin\u001b[49m\u001b[43m,\u001b[49m\u001b[43m \u001b[49m\u001b[43mvmax\u001b[49m\u001b[43m,\u001b[49m\u001b[43m \u001b[49m\u001b[43mcmap\u001b[49m\u001b[43m,\u001b[49m\u001b[43m \u001b[49m\u001b[43mcenter\u001b[49m\u001b[43m,\u001b[49m\u001b[43m \u001b[49m\u001b[43mrobust\u001b[49m\u001b[43m,\u001b[49m\u001b[43m \u001b[49m\u001b[43mannot\u001b[49m\u001b[43m,\u001b[49m\u001b[43m \u001b[49m\u001b[43mfmt\u001b[49m\u001b[43m,\u001b[49m\n\u001b[1;32m    447\u001b[0m \u001b[43m                      \u001b[49m\u001b[43mannot_kws\u001b[49m\u001b[43m,\u001b[49m\u001b[43m \u001b[49m\u001b[43mcbar\u001b[49m\u001b[43m,\u001b[49m\u001b[43m \u001b[49m\u001b[43mcbar_kws\u001b[49m\u001b[43m,\u001b[49m\u001b[43m \u001b[49m\u001b[43mxticklabels\u001b[49m\u001b[43m,\u001b[49m\n\u001b[1;32m    448\u001b[0m \u001b[43m                      \u001b[49m\u001b[43myticklabels\u001b[49m\u001b[43m,\u001b[49m\u001b[43m \u001b[49m\u001b[43mmask\u001b[49m\u001b[43m)\u001b[49m\n\u001b[1;32m    450\u001b[0m \u001b[38;5;66;03m# Add the pcolormesh kwargs here\u001b[39;00m\n\u001b[1;32m    451\u001b[0m kwargs[\u001b[38;5;124m\"\u001b[39m\u001b[38;5;124mlinewidths\u001b[39m\u001b[38;5;124m\"\u001b[39m] \u001b[38;5;241m=\u001b[39m linewidths\n",
      "File \u001b[0;32m~/conda_envs/ia_deeplearning/lib/python3.9/site-packages/seaborn/matrix.py:163\u001b[0m, in \u001b[0;36m_HeatMapper.__init__\u001b[0;34m(self, data, vmin, vmax, cmap, center, robust, annot, fmt, annot_kws, cbar, cbar_kws, xticklabels, yticklabels, mask)\u001b[0m\n\u001b[1;32m    160\u001b[0m \u001b[38;5;28mself\u001b[39m\u001b[38;5;241m.\u001b[39mylabel \u001b[38;5;241m=\u001b[39m ylabel \u001b[38;5;28;01mif\u001b[39;00m ylabel \u001b[38;5;129;01mis\u001b[39;00m \u001b[38;5;129;01mnot\u001b[39;00m \u001b[38;5;28;01mNone\u001b[39;00m \u001b[38;5;28;01melse\u001b[39;00m \u001b[38;5;124m\"\u001b[39m\u001b[38;5;124m\"\u001b[39m\n\u001b[1;32m    162\u001b[0m \u001b[38;5;66;03m# Determine good default values for the colormapping\u001b[39;00m\n\u001b[0;32m--> 163\u001b[0m \u001b[38;5;28;43mself\u001b[39;49m\u001b[38;5;241;43m.\u001b[39;49m\u001b[43m_determine_cmap_params\u001b[49m\u001b[43m(\u001b[49m\u001b[43mplot_data\u001b[49m\u001b[43m,\u001b[49m\u001b[43m \u001b[49m\u001b[43mvmin\u001b[49m\u001b[43m,\u001b[49m\u001b[43m \u001b[49m\u001b[43mvmax\u001b[49m\u001b[43m,\u001b[49m\n\u001b[1;32m    164\u001b[0m \u001b[43m                            \u001b[49m\u001b[43mcmap\u001b[49m\u001b[43m,\u001b[49m\u001b[43m \u001b[49m\u001b[43mcenter\u001b[49m\u001b[43m,\u001b[49m\u001b[43m \u001b[49m\u001b[43mrobust\u001b[49m\u001b[43m)\u001b[49m\n\u001b[1;32m    166\u001b[0m \u001b[38;5;66;03m# Sort out the annotations\u001b[39;00m\n\u001b[1;32m    167\u001b[0m \u001b[38;5;28;01mif\u001b[39;00m annot \u001b[38;5;129;01mis\u001b[39;00m \u001b[38;5;28;01mNone\u001b[39;00m \u001b[38;5;129;01mor\u001b[39;00m annot \u001b[38;5;129;01mis\u001b[39;00m \u001b[38;5;28;01mFalse\u001b[39;00m:\n",
      "File \u001b[0;32m~/conda_envs/ia_deeplearning/lib/python3.9/site-packages/seaborn/matrix.py:202\u001b[0m, in \u001b[0;36m_HeatMapper._determine_cmap_params\u001b[0;34m(self, plot_data, vmin, vmax, cmap, center, robust)\u001b[0m\n\u001b[1;32m    200\u001b[0m         vmin \u001b[38;5;241m=\u001b[39m np\u001b[38;5;241m.\u001b[39mnanpercentile(calc_data, \u001b[38;5;241m2\u001b[39m)\n\u001b[1;32m    201\u001b[0m     \u001b[38;5;28;01melse\u001b[39;00m:\n\u001b[0;32m--> 202\u001b[0m         vmin \u001b[38;5;241m=\u001b[39m \u001b[43mnp\u001b[49m\u001b[38;5;241;43m.\u001b[39;49m\u001b[43mnanmin\u001b[49m\u001b[43m(\u001b[49m\u001b[43mcalc_data\u001b[49m\u001b[43m)\u001b[49m\n\u001b[1;32m    203\u001b[0m \u001b[38;5;28;01mif\u001b[39;00m vmax \u001b[38;5;129;01mis\u001b[39;00m \u001b[38;5;28;01mNone\u001b[39;00m:\n\u001b[1;32m    204\u001b[0m     \u001b[38;5;28;01mif\u001b[39;00m robust:\n",
      "File \u001b[0;32m~/conda_envs/ia_deeplearning/lib/python3.9/site-packages/numpy/lib/nanfunctions.py:343\u001b[0m, in \u001b[0;36mnanmin\u001b[0;34m(a, axis, out, keepdims, initial, where)\u001b[0m\n\u001b[1;32m    338\u001b[0m     kwargs[\u001b[38;5;124m'\u001b[39m\u001b[38;5;124mwhere\u001b[39m\u001b[38;5;124m'\u001b[39m] \u001b[38;5;241m=\u001b[39m where\n\u001b[1;32m    340\u001b[0m \u001b[38;5;28;01mif\u001b[39;00m \u001b[38;5;28mtype\u001b[39m(a) \u001b[38;5;129;01mis\u001b[39;00m np\u001b[38;5;241m.\u001b[39mndarray \u001b[38;5;129;01mand\u001b[39;00m a\u001b[38;5;241m.\u001b[39mdtype \u001b[38;5;241m!=\u001b[39m np\u001b[38;5;241m.\u001b[39mobject_:\n\u001b[1;32m    341\u001b[0m     \u001b[38;5;66;03m# Fast, but not safe for subclasses of ndarray, or object arrays,\u001b[39;00m\n\u001b[1;32m    342\u001b[0m     \u001b[38;5;66;03m# which do not implement isnan (gh-9009), or fmin correctly (gh-8975)\u001b[39;00m\n\u001b[0;32m--> 343\u001b[0m     res \u001b[38;5;241m=\u001b[39m \u001b[43mnp\u001b[49m\u001b[38;5;241;43m.\u001b[39;49m\u001b[43mfmin\u001b[49m\u001b[38;5;241;43m.\u001b[39;49m\u001b[43mreduce\u001b[49m\u001b[43m(\u001b[49m\u001b[43ma\u001b[49m\u001b[43m,\u001b[49m\u001b[43m \u001b[49m\u001b[43maxis\u001b[49m\u001b[38;5;241;43m=\u001b[39;49m\u001b[43maxis\u001b[49m\u001b[43m,\u001b[49m\u001b[43m \u001b[49m\u001b[43mout\u001b[49m\u001b[38;5;241;43m=\u001b[39;49m\u001b[43mout\u001b[49m\u001b[43m,\u001b[49m\u001b[43m \u001b[49m\u001b[38;5;241;43m*\u001b[39;49m\u001b[38;5;241;43m*\u001b[39;49m\u001b[43mkwargs\u001b[49m\u001b[43m)\u001b[49m\n\u001b[1;32m    344\u001b[0m     \u001b[38;5;28;01mif\u001b[39;00m np\u001b[38;5;241m.\u001b[39misnan(res)\u001b[38;5;241m.\u001b[39many():\n\u001b[1;32m    345\u001b[0m         warnings\u001b[38;5;241m.\u001b[39mwarn(\u001b[38;5;124m\"\u001b[39m\u001b[38;5;124mAll-NaN slice encountered\u001b[39m\u001b[38;5;124m\"\u001b[39m, \u001b[38;5;167;01mRuntimeWarning\u001b[39;00m,\n\u001b[1;32m    346\u001b[0m                       stacklevel\u001b[38;5;241m=\u001b[39m\u001b[38;5;241m2\u001b[39m)\n",
      "\u001b[0;31mValueError\u001b[0m: zero-size array to reduction operation fmin which has no identity"
     ]
    },
    {
     "data": {
      "text/plain": [
       "<Figure size 1200x800 with 0 Axes>"
      ]
     },
     "metadata": {},
     "output_type": "display_data"
    }
   ],
   "source": [
    "# Heatmap de la précision en fonction du modèle et du taux d'apprentissage pour chaque n_mfcc\n",
    "for n_mfcc in n_mfcc_values:\n",
    "    plt.figure(figsize=(12, 8))\n",
    "    subset = results_df[results_df['n_mfcc'] == n_mfcc]\n",
    "    pivot_table = subset.pivot_table(values='accuracy', index='model_type', columns='learning_rate', aggfunc='mean')\n",
    "    sns.heatmap(pivot_table, annot=True, fmt=\".4f\", cmap='viridis')\n",
    "    plt.title(f\"Précision moyenne par modèle et taux d'apprentissage (n_mfcc={n_mfcc})\")\n",
    "    plt.ylabel(\"Type de Modèle\")\n",
    "    plt.xlabel(\"Taux d'Apprentissage\")\n",
    "    plt.show()\n"
   ]
  },
  {
   "cell_type": "code",
   "execution_count": 42,
   "metadata": {},
   "outputs": [
    {
     "data": {
      "image/png": "[encoded data removed]",
      "text/plain": [
       "<Figure size 1400x800 with 1 Axes>"
      ]
     },
     "metadata": {},
     "output_type": "display_data"
    }
   ],
   "source": [
    "# Boxplot de la précision par type de modèle\n",
    "plt.figure(figsize=(14, 8))\n",
    "sns.boxplot(x='model_type', y='accuracy', data=results_df)\n",
    "plt.title(\"Distribution de la Précision par Type de Modèle\")\n",
    "plt.xlabel(\"Type de Modèle\")\n",
    "plt.ylabel(\"Précision\")\n",
    "plt.xticks(rotation=45)\n",
    "plt.show()\n"
   ]
  },
  {
   "cell_type": "code",
   "execution_count": 45,
   "metadata": {},
   "outputs": [
    {
     "data": {
      "image/png": "[encoded data removed]",
      "text/plain": [
       "<Figure size 1400x800 with 1 Axes>"
      ]
     },
     "metadata": {},
     "output_type": "display_data"
    }
   ],
   "source": [
    "# Scatter plot de la précision en fonction du taux d'apprentissage pour chaque modèle\n",
    "plt.figure(figsize=(14, 8))\n",
    "sns.scatterplot(x='learning_rate', y='accuracy', hue='model_type', style='n_mfcc', data=results_df)\n",
    "plt.xscale('log')\n",
    "plt.title(\"Précision en fonction du Taux d'Apprentissage par Type de Modèle\")\n",
    "plt.xlabel(\"Taux d'Apprentissage (échelle logarithmique)\")\n",
    "plt.ylabel(\"Précision\")\n",
    "plt.legend(bbox_to_anchor=(1.05, 1), loc='upper left')\n",
    "plt.show()\n"
   ]
  },
  {
   "cell_type": "code",
   "execution_count": 47,
   "metadata": {},
   "outputs": [
    {
     "data": {
      "image/png": "[encoded data removed]",
      "text/plain": [
       "<Figure size 1200x800 with 2 Axes>"
      ]
     },
     "metadata": {},
     "output_type": "display_data"
    },
    {
     "ename": "ValueError",
     "evalue": "zero-size array to reduction operation fmin which has no identity",
     "output_type": "error",
     "traceback": [
      "\u001b[0;31m---------------------------------------------------------------------------\u001b[0m",
      "\u001b[0;31mValueError\u001b[0m                                Traceback (most recent call last)",
      "Cell \u001b[0;32mIn[47], line 6\u001b[0m\n\u001b[1;32m      4\u001b[0m subset \u001b[38;5;241m=\u001b[39m results_df[results_df[\u001b[38;5;124m'\u001b[39m\u001b[38;5;124mn_mfcc\u001b[39m\u001b[38;5;124m'\u001b[39m] \u001b[38;5;241m==\u001b[39m n_mfcc]\n\u001b[1;32m      5\u001b[0m pivot_table \u001b[38;5;241m=\u001b[39m subset\u001b[38;5;241m.\u001b[39mpivot_table(values\u001b[38;5;241m=\u001b[39m\u001b[38;5;124m'\u001b[39m\u001b[38;5;124mvalidation_loss\u001b[39m\u001b[38;5;124m'\u001b[39m, index\u001b[38;5;241m=\u001b[39m\u001b[38;5;124m'\u001b[39m\u001b[38;5;124mmodel_type\u001b[39m\u001b[38;5;124m'\u001b[39m, columns\u001b[38;5;241m=\u001b[39m\u001b[38;5;124m'\u001b[39m\u001b[38;5;124mlearning_rate\u001b[39m\u001b[38;5;124m'\u001b[39m, aggfunc\u001b[38;5;241m=\u001b[39m\u001b[38;5;124m'\u001b[39m\u001b[38;5;124mmean\u001b[39m\u001b[38;5;124m'\u001b[39m)\n\u001b[0;32m----> 6\u001b[0m \u001b[43msns\u001b[49m\u001b[38;5;241;43m.\u001b[39;49m\u001b[43mheatmap\u001b[49m\u001b[43m(\u001b[49m\u001b[43mpivot_table\u001b[49m\u001b[43m,\u001b[49m\u001b[43m \u001b[49m\u001b[43mannot\u001b[49m\u001b[38;5;241;43m=\u001b[39;49m\u001b[38;5;28;43;01mTrue\u001b[39;49;00m\u001b[43m,\u001b[49m\u001b[43m \u001b[49m\u001b[43mfmt\u001b[49m\u001b[38;5;241;43m=\u001b[39;49m\u001b[38;5;124;43m\"\u001b[39;49m\u001b[38;5;124;43m.4f\u001b[39;49m\u001b[38;5;124;43m\"\u001b[39;49m\u001b[43m,\u001b[49m\u001b[43m \u001b[49m\u001b[43mcmap\u001b[49m\u001b[38;5;241;43m=\u001b[39;49m\u001b[38;5;124;43m'\u001b[39;49m\u001b[38;5;124;43mmagma\u001b[39;49m\u001b[38;5;124;43m'\u001b[39;49m\u001b[43m)\u001b[49m\n\u001b[1;32m      7\u001b[0m plt\u001b[38;5;241m.\u001b[39mtitle(\u001b[38;5;124mf\u001b[39m\u001b[38;5;124m\"\u001b[39m\u001b[38;5;124mPerte de Validation moyenne par modèle et taux d\u001b[39m\u001b[38;5;124m'\u001b[39m\u001b[38;5;124mapprentissage (n_mfcc=\u001b[39m\u001b[38;5;132;01m{\u001b[39;00mn_mfcc\u001b[38;5;132;01m}\u001b[39;00m\u001b[38;5;124m)\u001b[39m\u001b[38;5;124m\"\u001b[39m)\n\u001b[1;32m      8\u001b[0m plt\u001b[38;5;241m.\u001b[39mylabel(\u001b[38;5;124m\"\u001b[39m\u001b[38;5;124mType de Modèle\u001b[39m\u001b[38;5;124m\"\u001b[39m)\n",
      "File \u001b[0;32m~/conda_envs/ia_deeplearning/lib/python3.9/site-packages/seaborn/matrix.py:446\u001b[0m, in \u001b[0;36mheatmap\u001b[0;34m(data, vmin, vmax, cmap, center, robust, annot, fmt, annot_kws, linewidths, linecolor, cbar, cbar_kws, cbar_ax, square, xticklabels, yticklabels, mask, ax, **kwargs)\u001b[0m\n\u001b[1;32m    365\u001b[0m \u001b[38;5;250m\u001b[39m\u001b[38;5;124;03m\"\"\"Plot rectangular data as a color-encoded matrix.\u001b[39;00m\n\u001b[1;32m    366\u001b[0m \n\u001b[1;32m    367\u001b[0m \u001b[38;5;124;03mThis is an Axes-level function and will draw the heatmap into the\u001b[39;00m\n\u001b[0;32m   (...)\u001b[0m\n\u001b[1;32m    443\u001b[0m \n\u001b[1;32m    444\u001b[0m \u001b[38;5;124;03m\"\"\"\u001b[39;00m\n\u001b[1;32m    445\u001b[0m \u001b[38;5;66;03m# Initialize the plotter object\u001b[39;00m\n\u001b[0;32m--> 446\u001b[0m plotter \u001b[38;5;241m=\u001b[39m \u001b[43m_HeatMapper\u001b[49m\u001b[43m(\u001b[49m\u001b[43mdata\u001b[49m\u001b[43m,\u001b[49m\u001b[43m \u001b[49m\u001b[43mvmin\u001b[49m\u001b[43m,\u001b[49m\u001b[43m \u001b[49m\u001b[43mvmax\u001b[49m\u001b[43m,\u001b[49m\u001b[43m \u001b[49m\u001b[43mcmap\u001b[49m\u001b[43m,\u001b[49m\u001b[43m \u001b[49m\u001b[43mcenter\u001b[49m\u001b[43m,\u001b[49m\u001b[43m \u001b[49m\u001b[43mrobust\u001b[49m\u001b[43m,\u001b[49m\u001b[43m \u001b[49m\u001b[43mannot\u001b[49m\u001b[43m,\u001b[49m\u001b[43m \u001b[49m\u001b[43mfmt\u001b[49m\u001b[43m,\u001b[49m\n\u001b[1;32m    447\u001b[0m \u001b[43m                      \u001b[49m\u001b[43mannot_kws\u001b[49m\u001b[43m,\u001b[49m\u001b[43m \u001b[49m\u001b[43mcbar\u001b[49m\u001b[43m,\u001b[49m\u001b[43m \u001b[49m\u001b[43mcbar_kws\u001b[49m\u001b[43m,\u001b[49m\u001b[43m \u001b[49m\u001b[43mxticklabels\u001b[49m\u001b[43m,\u001b[49m\n\u001b[1;32m    448\u001b[0m \u001b[43m                      \u001b[49m\u001b[43myticklabels\u001b[49m\u001b[43m,\u001b[49m\u001b[43m \u001b[49m\u001b[43mmask\u001b[49m\u001b[43m)\u001b[49m\n\u001b[1;32m    450\u001b[0m \u001b[38;5;66;03m# Add the pcolormesh kwargs here\u001b[39;00m\n\u001b[1;32m    451\u001b[0m kwargs[\u001b[38;5;124m\"\u001b[39m\u001b[38;5;124mlinewidths\u001b[39m\u001b[38;5;124m\"\u001b[39m] \u001b[38;5;241m=\u001b[39m linewidths\n",
      "File \u001b[0;32m~/conda_envs/ia_deeplearning/lib/python3.9/site-packages/seaborn/matrix.py:163\u001b[0m, in \u001b[0;36m_HeatMapper.__init__\u001b[0;34m(self, data, vmin, vmax, cmap, center, robust, annot, fmt, annot_kws, cbar, cbar_kws, xticklabels, yticklabels, mask)\u001b[0m\n\u001b[1;32m    160\u001b[0m \u001b[38;5;28mself\u001b[39m\u001b[38;5;241m.\u001b[39mylabel \u001b[38;5;241m=\u001b[39m ylabel \u001b[38;5;28;01mif\u001b[39;00m ylabel \u001b[38;5;129;01mis\u001b[39;00m \u001b[38;5;129;01mnot\u001b[39;00m \u001b[38;5;28;01mNone\u001b[39;00m \u001b[38;5;28;01melse\u001b[39;00m \u001b[38;5;124m\"\u001b[39m\u001b[38;5;124m\"\u001b[39m\n\u001b[1;32m    162\u001b[0m \u001b[38;5;66;03m# Determine good default values for the colormapping\u001b[39;00m\n\u001b[0;32m--> 163\u001b[0m \u001b[38;5;28;43mself\u001b[39;49m\u001b[38;5;241;43m.\u001b[39;49m\u001b[43m_determine_cmap_params\u001b[49m\u001b[43m(\u001b[49m\u001b[43mplot_data\u001b[49m\u001b[43m,\u001b[49m\u001b[43m \u001b[49m\u001b[43mvmin\u001b[49m\u001b[43m,\u001b[49m\u001b[43m \u001b[49m\u001b[43mvmax\u001b[49m\u001b[43m,\u001b[49m\n\u001b[1;32m    164\u001b[0m \u001b[43m                            \u001b[49m\u001b[43mcmap\u001b[49m\u001b[43m,\u001b[49m\u001b[43m \u001b[49m\u001b[43mcenter\u001b[49m\u001b[43m,\u001b[49m\u001b[43m \u001b[49m\u001b[43mrobust\u001b[49m\u001b[43m)\u001b[49m\n\u001b[1;32m    166\u001b[0m \u001b[38;5;66;03m# Sort out the annotations\u001b[39;00m\n\u001b[1;32m    167\u001b[0m \u001b[38;5;28;01mif\u001b[39;00m annot \u001b[38;5;129;01mis\u001b[39;00m \u001b[38;5;28;01mNone\u001b[39;00m \u001b[38;5;129;01mor\u001b[39;00m annot \u001b[38;5;129;01mis\u001b[39;00m \u001b[38;5;28;01mFalse\u001b[39;00m:\n",
      "File \u001b[0;32m~/conda_envs/ia_deeplearning/lib/python3.9/site-packages/seaborn/matrix.py:202\u001b[0m, in \u001b[0;36m_HeatMapper._determine_cmap_params\u001b[0;34m(self, plot_data, vmin, vmax, cmap, center, robust)\u001b[0m\n\u001b[1;32m    200\u001b[0m         vmin \u001b[38;5;241m=\u001b[39m np\u001b[38;5;241m.\u001b[39mnanpercentile(calc_data, \u001b[38;5;241m2\u001b[39m)\n\u001b[1;32m    201\u001b[0m     \u001b[38;5;28;01melse\u001b[39;00m:\n\u001b[0;32m--> 202\u001b[0m         vmin \u001b[38;5;241m=\u001b[39m \u001b[43mnp\u001b[49m\u001b[38;5;241;43m.\u001b[39;49m\u001b[43mnanmin\u001b[49m\u001b[43m(\u001b[49m\u001b[43mcalc_data\u001b[49m\u001b[43m)\u001b[49m\n\u001b[1;32m    203\u001b[0m \u001b[38;5;28;01mif\u001b[39;00m vmax \u001b[38;5;129;01mis\u001b[39;00m \u001b[38;5;28;01mNone\u001b[39;00m:\n\u001b[1;32m    204\u001b[0m     \u001b[38;5;28;01mif\u001b[39;00m robust:\n",
      "File \u001b[0;32m~/conda_envs/ia_deeplearning/lib/python3.9/site-packages/numpy/lib/nanfunctions.py:343\u001b[0m, in \u001b[0;36mnanmin\u001b[0;34m(a, axis, out, keepdims, initial, where)\u001b[0m\n\u001b[1;32m    338\u001b[0m     kwargs[\u001b[38;5;124m'\u001b[39m\u001b[38;5;124mwhere\u001b[39m\u001b[38;5;124m'\u001b[39m] \u001b[38;5;241m=\u001b[39m where\n\u001b[1;32m    340\u001b[0m \u001b[38;5;28;01mif\u001b[39;00m \u001b[38;5;28mtype\u001b[39m(a) \u001b[38;5;129;01mis\u001b[39;00m np\u001b[38;5;241m.\u001b[39mndarray \u001b[38;5;129;01mand\u001b[39;00m a\u001b[38;5;241m.\u001b[39mdtype \u001b[38;5;241m!=\u001b[39m np\u001b[38;5;241m.\u001b[39mobject_:\n\u001b[1;32m    341\u001b[0m     \u001b[38;5;66;03m# Fast, but not safe for subclasses of ndarray, or object arrays,\u001b[39;00m\n\u001b[1;32m    342\u001b[0m     \u001b[38;5;66;03m# which do not implement isnan (gh-9009), or fmin correctly (gh-8975)\u001b[39;00m\n\u001b[0;32m--> 343\u001b[0m     res \u001b[38;5;241m=\u001b[39m \u001b[43mnp\u001b[49m\u001b[38;5;241;43m.\u001b[39;49m\u001b[43mfmin\u001b[49m\u001b[38;5;241;43m.\u001b[39;49m\u001b[43mreduce\u001b[49m\u001b[43m(\u001b[49m\u001b[43ma\u001b[49m\u001b[43m,\u001b[49m\u001b[43m \u001b[49m\u001b[43maxis\u001b[49m\u001b[38;5;241;43m=\u001b[39;49m\u001b[43maxis\u001b[49m\u001b[43m,\u001b[49m\u001b[43m \u001b[49m\u001b[43mout\u001b[49m\u001b[38;5;241;43m=\u001b[39;49m\u001b[43mout\u001b[49m\u001b[43m,\u001b[49m\u001b[43m \u001b[49m\u001b[38;5;241;43m*\u001b[39;49m\u001b[38;5;241;43m*\u001b[39;49m\u001b[43mkwargs\u001b[49m\u001b[43m)\u001b[49m\n\u001b[1;32m    344\u001b[0m     \u001b[38;5;28;01mif\u001b[39;00m np\u001b[38;5;241m.\u001b[39misnan(res)\u001b[38;5;241m.\u001b[39many():\n\u001b[1;32m    345\u001b[0m         warnings\u001b[38;5;241m.\u001b[39mwarn(\u001b[38;5;124m\"\u001b[39m\u001b[38;5;124mAll-NaN slice encountered\u001b[39m\u001b[38;5;124m\"\u001b[39m, \u001b[38;5;167;01mRuntimeWarning\u001b[39;00m,\n\u001b[1;32m    346\u001b[0m                       stacklevel\u001b[38;5;241m=\u001b[39m\u001b[38;5;241m2\u001b[39m)\n",
      "\u001b[0;31mValueError\u001b[0m: zero-size array to reduction operation fmin which has no identity"
     ]
    },
    {
     "data": {
      "text/plain": [
       "<Figure size 1200x800 with 0 Axes>"
      ]
     },
     "metadata": {},
     "output_type": "display_data"
    }
   ],
   "source": [
    "# Heatmap de la perte de validation par modèle et taux d'apprentissage pour chaque n_mfcc\n",
    "for n_mfcc in n_mfcc_values:\n",
    "    plt.figure(figsize=(12, 8))\n",
    "    subset = results_df[results_df['n_mfcc'] == n_mfcc]\n",
    "    pivot_table = subset.pivot_table(values='validation_loss', index='model_type', columns='learning_rate', aggfunc='mean')\n",
    "    sns.heatmap(pivot_table, annot=True, fmt=\".4f\", cmap='magma')\n",
    "    plt.title(f\"Perte de Validation moyenne par modèle et taux d'apprentissage (n_mfcc={n_mfcc})\")\n",
    "    plt.ylabel(\"Type de Modèle\")\n",
    "    plt.xlabel(\"Taux d'Apprentissage\")\n",
    "    plt.show()"
   ]
  },
  {
   "cell_type": "markdown",
   "metadata": {},
   "source": [
    "**Explications :**\n",
    "\n",
    "- **Heatmap de la Précision** : Compare la précision moyenne pour chaque type de modèle et taux d'apprentissage, segmenté par `n_mfcc`.\n",
    "- **Boxplot de la Précision** : Montre la distribution de la précision pour chaque type de modèle, permettant d'identifier la variabilité et les performances médianes.\n",
    "- **Scatter Plot de la Précision** : Visualise la relation entre le taux d'apprentissage et la précision, avec une distinction par type de modèle et `n_mfcc`.\n",
    "- **Boxplot du Score F1** : Permet de visualiser la distribution du score F1, une métrique équilibrée entre précision et rappel.\n",
    "- **Heatmap de la Perte de Validation** : Compare la perte de validation moyenne pour chaque type de modèle et taux d'apprentissage, segmenté par `n_mfcc`."
   ]
  },
  {
   "cell_type": "markdown",
   "metadata": {},
   "source": [
    "## Étape 10 : Évaluation Approfondie\n",
    "\n",
    "Pour une évaluation plus complète, calculons des métriques supplémentaires telles que le rapport de classification (classification report) et les courbes ROC (si applicable).\n",
    "\n",
    "### 10.1. Rapport de Classification\n",
    "\n",
    "Le rapport de classification fournit la précision, le rappel et le score F1 pour chaque classe."
   ]
  },
  {
   "cell_type": "code",
   "execution_count": 48,
   "metadata": {},
   "outputs": [
    {
     "name": "stdout",
     "output_type": "stream",
     "text": [
      "\n",
      "Chargement du meilleur modèle : models/n_mfcc_20/CNN_2D_basic_bs32_ep100_lr0.001.keras\n"
     ]
    },
    {
     "name": "stderr",
     "output_type": "stream",
     "text": [
      "2024-12-09 23:53:24.537976: E tensorflow/core/grappler/optimizers/meta_optimizer.cc:961] PluggableGraphOptimizer failed: INVALID_ARGUMENT: Failed to deserialize the `graph_buf`.\n"
     ]
    },
    {
     "name": "stdout",
     "output_type": "stream",
     "text": [
      "\u001b[1m25/25\u001b[0m \u001b[32m━━━━━━━━━━━━━━━━━━━━\u001b[0m\u001b[37m\u001b[0m \u001b[1m1s\u001b[0m 27ms/step\n",
      "\n",
      "Rapport de Classification pour le Meilleur Modèle :\n",
      "              precision    recall  f1-score   support\n",
      "\n",
      "       blues       0.86      0.91      0.88        78\n",
      "   classical       1.00      0.91      0.95        81\n",
      "     country       0.91      0.76      0.83        84\n",
      "       disco       0.91      0.81      0.86        86\n",
      "      hiphop       0.94      0.93      0.94        70\n",
      "        jazz       0.91      0.95      0.93        75\n",
      "       metal       0.89      0.99      0.93        72\n",
      "         pop       0.94      0.91      0.92        97\n",
      "      reggae       0.88      0.88      0.88        82\n",
      "        rock       0.72      0.89      0.80        75\n",
      "\n",
      "    accuracy                           0.89       800\n",
      "   macro avg       0.90      0.89      0.89       800\n",
      "weighted avg       0.90      0.89      0.89       800\n",
      "\n"
     ]
    }
   ],
   "source": [
    "# Sélectionner le meilleur modèle basé sur la précision\n",
    "best_result = results_df.sort_values(by='accuracy', ascending=False).iloc[0]\n",
    "best_model_path = f\"models/n_mfcc_{best_result['n_mfcc']}/{best_result['model_type']}_bs{best_result['batch_size']}_ep{best_result['epochs']}_lr{best_result['learning_rate']}.keras\"\n",
    "best_model = load_model(best_model_path)\n",
    "print(f\"\\nChargement du meilleur modèle : {best_model_path}\")\n",
    "\n",
    "# Re-évaluer pour obtenir le rapport de classification\n",
    "y_pred = np.argmax(best_model.predict(X_test), axis=-1)\n",
    "y_true = np.argmax(y_test, axis=-1)\n",
    "\n",
    "print(\"\\nRapport de Classification pour le Meilleur Modèle :\")\n",
    "print(classification_report(y_true, y_pred, target_names=encoder.classes_, zero_division=0))\n"
   ]
  },
  {
   "cell_type": "markdown",
   "metadata": {},
   "source": [
    "### 10.2. Courbes ROC et AUC\n",
    "\n",
    "Pour chaque classe, nous pouvons tracer les courbes ROC et calculer l'AUC. Cependant, cela nécessite des prédictions en probabilités et une binarisation des labels.\n",
    "\n",
    "**Note** : Les courbes ROC sont plus pertinentes pour des problèmes de classification binaire. Pour des classes multiples, nous utilisons une approche \"un contre tous\"."
   ]
  },
  {
   "cell_type": "code",
   "execution_count": 49,
   "metadata": {},
   "outputs": [
    {
     "name": "stdout",
     "output_type": "stream",
     "text": [
      "\u001b[1m25/25\u001b[0m \u001b[32m━━━━━━━━━━━━━━━━━━━━\u001b[0m\u001b[37m\u001b[0m \u001b[1m1s\u001b[0m 26ms/step\n"
     ]
    },
    {
     "data": {
      "image/png": "[encoded data removed]",
      "text/plain": [
       "<Figure size 1400x1000 with 1 Axes>"
      ]
     },
     "metadata": {},
     "output_type": "display_data"
    }
   ],
   "source": [
    "from sklearn.preprocessing import label_binarize\n",
    "from sklearn.metrics import roc_curve, auc\n",
    "\n",
    "# Binariser les labels\n",
    "y_true_binarized = label_binarize(y_true, classes=np.arange(len(encoder.classes_)))\n",
    "y_pred_proba = best_model.predict(X_test)\n",
    "\n",
    "# Calculer les courbes ROC et AUC pour chaque classe\n",
    "fpr = dict()\n",
    "tpr = dict()\n",
    "roc_auc = dict()\n",
    "n_classes = y_true_binarized.shape[1]\n",
    "\n",
    "for i in range(n_classes):\n",
    "    fpr[i], tpr[i], _ = roc_curve(y_true_binarized[:, i], y_pred_proba[:, i])\n",
    "    roc_auc[i] = auc(fpr[i], tpr[i])\n",
    "\n",
    "# Tracer toutes les courbes ROC\n",
    "plt.figure(figsize=(14, 10))\n",
    "colors = sns.color_palette(\"hls\", n_classes)\n",
    "for i, color in zip(range(n_classes), colors):\n",
    "    plt.plot(fpr[i], tpr[i], color=color, lw=2,\n",
    "             label='ROC curve of class {0} (area = {1:0.2f})'\n",
    "             ''.format(encoder.classes_[i], roc_auc[i]))\n",
    "\n",
    "plt.plot([0, 1], [0, 1], 'k--', lw=2)\n",
    "plt.xlim([-0.05, 1.0])\n",
    "plt.ylim([0.0, 1.05])\n",
    "plt.xlabel('Taux de Faux Positifs')\n",
    "plt.ylabel('Taux de Vrais Positifs')\n",
    "plt.title('Courbes ROC Multiclasses pour le Meilleur Modèle')\n",
    "plt.legend(loc=\"lower right\")\n",
    "plt.show()\n"
   ]
  },
  {
   "cell_type": "markdown",
   "metadata": {},
   "source": [
    "**Explications :**\n",
    "\n",
    "- **Rapport de Classification** : Fournit une vue détaillée des performances du modèle par classe, y compris la précision, le rappel et le score F1.\n",
    "- **Courbes ROC et AUC** : Mesurent la capacité du modèle à distinguer chaque classe par rapport aux autres. L'AUC (Area Under the Curve) est une mesure globale de performance pour chaque classe."
   ]
  },
  {
   "cell_type": "markdown",
   "metadata": {},
   "source": [
    "### 10.3. Matrice de Confusion\n",
    "\n",
    "Bien que vous ayez déjà une matrice de confusion, vous pouvez la refaire pour le meilleur modèle avec une visualisation améliorée."
   ]
  },
  {
   "cell_type": "code",
   "execution_count": 50,
   "metadata": {},
   "outputs": [
    {
     "data": {
      "text/plain": [
       "<Figure size 1200x1000 with 0 Axes>"
      ]
     },
     "metadata": {},
     "output_type": "display_data"
    },
    {
     "data": {
      "image/png": "[encoded data removed]",
      "text/plain": [
       "<Figure size 640x480 with 2 Axes>"
      ]
     },
     "metadata": {},
     "output_type": "display_data"
    }
   ],
   "source": [
    "# Matrice de Confusion pour le Meilleur Modèle\n",
    "conf_matrix = confusion_matrix(y_true, y_pred)\n",
    "plt.figure(figsize=(12, 10))\n",
    "ConfusionMatrixDisplay(conf_matrix, display_labels=encoder.classes_).plot(cmap='Blues', xticks_rotation=45)\n",
    "plt.title(\"Matrice de Confusion pour le Meilleur Modèle\")\n",
    "plt.show()"
   ]
  },
  {
   "cell_type": "markdown",
   "metadata": {},
   "source": [
    "## Étape 11 : Sauvegarder et Charger les Meilleurs Modèles\n",
    "\n",
    "Pour réutiliser les meilleurs modèles sans avoir à les réentraîner, nous pouvons les sauvegarder et les charger ultérieurement.\n",
    "\n",
    "### 11.1. Sauvegarde des Meilleurs Modèles\n",
    "\n",
    "Les modèles sont déjà sauvegardés pendant l'entraînement grâce au callback `ModelCheckpoint`. Assurez-vous que les chemins des modèles sont correctement définis dans les résultats.\n",
    "\n",
    "### 11.2. Chargement d'un Modèle Sauvegardé\n",
    "\n",
    "Voici comment charger un modèle sauvegardé et l'utiliser pour faire des prédictions."
   ]
  },
  {
   "cell_type": "code",
   "execution_count": 51,
   "metadata": {},
   "outputs": [
    {
     "name": "stdout",
     "output_type": "stream",
     "text": [
      "\n",
      "Chargement du meilleur modèle : models/n_mfcc_20/CNN_2D_basic_bs32_ep100_lr0.001.keras\n"
     ]
    }
   ],
   "source": [
    "# Exemple de chargement d'un modèle sauvegardé\n",
    "best_result = results_df.sort_values(by='accuracy', ascending=False).iloc[0]\n",
    "best_model_path = f\"models/n_mfcc_{best_result['n_mfcc']}/{best_result['model_type']}_bs{best_result['batch_size']}_ep{best_result['epochs']}_lr{best_result['learning_rate']}.keras\"\n",
    "best_model = load_model(best_model_path)\n",
    "print(f\"\\nChargement du meilleur modèle : {best_model_path}\")\n",
    "\n",
    "# Charger l'encodeur des labels (si non déjà chargé)\n",
    "encoder = joblib.load('label_encoder.joblib')"
   ]
  },
  {
   "cell_type": "markdown",
   "metadata": {},
   "source": [
    "### 11.3. Fonction de Prédiction\n",
    "\n",
    "Voici une fonction de prédiction réutilisable avec le modèle chargé."
   ]
  },
  {
   "cell_type": "code",
   "execution_count": 52,
   "metadata": {},
   "outputs": [],
   "source": [
    "def predict_genre(file_path, model, encoder, fixed_length=1293, n_mfcc=40):\n",
    "    \"\"\"\n",
    "    Prédit le genre musical d'un fichier audio.\n",
    "    \"\"\"\n",
    "    try:\n",
    "        audio, sr = librosa.load(file_path, duration=30)\n",
    "        mfccs = librosa.feature.mfcc(y=audio, sr=sr, n_mfcc=n_mfcc)\n",
    "        mfccs = pad_or_truncate_mfcc(mfccs, fixed_length)\n",
    "        mfccs = mfccs[..., np.newaxis]  # Ajouter la dimension canal\n",
    "        mfccs = np.expand_dims(mfccs, axis=0)  # Ajouter la dimension batch\n",
    "\n",
    "        # Normalisation\n",
    "        mfccs = mfccs / np.max(mfccs)\n",
    "\n",
    "        # Prédiction\n",
    "        y_pred_proba = model.predict(mfccs)\n",
    "        predicted_genre_index = np.argmax(y_pred_proba, axis=-1)\n",
    "        predicted_genre = encoder.inverse_transform(predicted_genre_index)[0]\n",
    "        return predicted_genre, y_pred_proba\n",
    "    except Exception as e:\n",
    "        print(f\"Erreur lors de la prédiction : {e}\")\n",
    "        return None, None\n"
   ]
  },
  {
   "cell_type": "markdown",
   "metadata": {},
   "source": [
    "## Étape 12 : Prédiction sur de Nouveaux Échantillons\n",
    "\n",
    "Téléchargeons un nouvel échantillon audio depuis YouTube et effectuons une prédiction en utilisant le meilleur modèle."
   ]
  },
  {
   "cell_type": "code",
   "execution_count": 53,
   "metadata": {},
   "outputs": [
    {
     "name": "stdout",
     "output_type": "stream",
     "text": [
      "[youtube] Extracting URL: https://youtu.be/tAGnKpE4NCI?si=6me8uc6lZW-LZLrA\n",
      "[youtube] tAGnKpE4NCI: Downloading webpage\n",
      "[youtube] tAGnKpE4NCI: Downloading ios player API JSON\n",
      "[youtube] tAGnKpE4NCI: Downloading mweb player API JSON\n",
      "[youtube] tAGnKpE4NCI: Downloading player 3bb1f723\n"
     ]
    },
    {
     "name": "stderr",
     "output_type": "stream",
     "text": [
      "WARNING: [youtube] tAGnKpE4NCI: Signature extraction failed: Some formats may be missing\n"
     ]
    },
    {
     "name": "stdout",
     "output_type": "stream",
     "text": [
      "[youtube] tAGnKpE4NCI: Downloading m3u8 information\n",
      "[info] tAGnKpE4NCI: Downloading 1 format(s): 251\n",
      "[download] Destination: temp_audio.webm\n",
      "[download] 100% of    6.33MiB in 00:00:00 at 27.04MiB/s  \n",
      "[ExtractAudio] Destination: temp_audio.wav\n",
      "Deleting original file temp_audio.webm (pass -k to keep)\n",
      "Audio téléchargé et sauvegardé sous : test_audio.wav\n",
      "Erreur lors de la prédiction : Exception encountered when calling Sequential.call().\n",
      "\n",
      "\u001b[1mInput 0 of layer \"dense_54\" is incompatible with the layer: expected axis -1 of input shape to have value 41216, but received input with shape (1, 512)\u001b[0m\n",
      "\n",
      "Arguments received by Sequential.call():\n",
      "  • inputs=tf.Tensor(shape=(1, 20, 20, 1), dtype=float32)\n",
      "  • training=False\n",
      "  • mask=None\n",
      "Le genre prédit pour 'test_audio.wav' est : None\n"
     ]
    },
    {
     "name": "stderr",
     "output_type": "stream",
     "text": [
      "/var/folders/g9/jzqz957j1slb_dkhyp9fl5_w0000gn/T/ipykernel_35556/1720711677.py:13: RuntimeWarning: divide by zero encountered in divide\n",
      "  mfccs = mfccs / np.max(mfccs)\n",
      "/var/folders/g9/jzqz957j1slb_dkhyp9fl5_w0000gn/T/ipykernel_35556/1720711677.py:13: RuntimeWarning: invalid value encountered in divide\n",
      "  mfccs = mfccs / np.max(mfccs)\n"
     ]
    }
   ],
   "source": [
    "# Télécharger un fichier audio depuis YouTube\n",
    "youtube_url = \"https://youtu.be/tAGnKpE4NCI?si=6me8uc6lZW-LZLrA\" \n",
    "download_youtube_audio(youtube_url, \"test_audio.wav\")\n",
    "\n",
    "# Faire une prédiction\n",
    "predicted_genre, y_pred_proba = predict_genre(\"test_audio.wav\", best_model, encoder, fixed_length=best_result['n_mfcc'], n_mfcc=best_result['n_mfcc'])\n",
    "print(f\"Le genre prédit pour 'test_audio.wav' est : {predicted_genre}\")"
   ]
  },
  {
   "cell_type": "markdown",
   "metadata": {},
   "source": [
    "### 12.1. Afficher les Probabilités de Prédiction\n",
    "\n",
    "Vous pouvez également afficher les probabilités associées à chaque classe."
   ]
  },
  {
   "cell_type": "code",
   "execution_count": 54,
   "metadata": {},
   "outputs": [],
   "source": [
    "if y_pred_proba is not None:\n",
    "    probabilities = y_pred_proba.flatten()\n",
    "    genre_probabilities = dict(zip(encoder.classes_, probabilities))\n",
    "    sorted_genres = sorted(genre_probabilities.items(), key=lambda x: x[1], reverse=True)\n",
    "\n",
    "    print(\"\\nProbabilités de prédiction par genre :\")\n",
    "    for genre, prob in sorted_genres:\n",
    "        print(f\"{genre}: {prob * 100:.2f}%\")\n",
    "\n",
    "    # Bar plot des probabilités\n",
    "    plt.figure(figsize=(12, 6))\n",
    "    sns.barplot(x=list(genre_probabilities.keys()), y=list(genre_probabilities.values()))\n",
    "    plt.title(\"Probabilités de Prédiction par Genre\")\n",
    "    plt.xlabel(\"Genre\")\n",
    "    plt.ylabel(\"Probabilité\")\n",
    "    plt.xticks(rotation=45)\n",
    "    plt.show()\n"
   ]
  },
  {
   "cell_type": "markdown",
   "metadata": {},
   "source": [
    "## Conclusion\n",
    "\n",
    "En suivant ce notebook structuré en blocs, vous pouvez systématiquement tester différentes combinaisons de modèles et d'hyperparamètres pour optimiser la classification des genres musicaux. Voici quelques points clés à retenir :\n",
    "\n",
    "- **Organisation en Blocs** : Chaque étape du processus est clairement séparée, ce qui facilite la maintenance et l'expérimentation.\n",
    "- **Automatisation des Tests** : L'utilisation de boucles imbriquées permet de tester efficacement toutes les combinaisons d'hyperparamètres.\n",
    "- **Métriques Complètes** : En plus de la précision, le rappel et le score F1 fournissent une vue plus équilibrée des performances du modèle, surtout en cas de déséquilibre des classes.\n",
    "- **Visualisation des Résultats** : Les graphiques générés permettent une analyse visuelle rapide des performances des différents modèles et hyperparamètres.\n",
    "- **Sauvegarde des Modèles** : Grâce à `ModelCheckpoint`, les meilleurs modèles sont automatiquement sauvegardés, ce qui évite de perdre les performances optimales obtenues.\n",
    "- **Réutilisation des Modèles** : Les modèles sauvegardés peuvent être facilement chargés pour des prédictions futures sans nécessiter un nouvel entraînement."
   ]
  }
 ],
 "metadata": {
  "kernelspec": {
   "display_name": "Python 3",
   "language": "python",
   "name": "python3"
  },
  "language_info": {
   "codemirror_mode": {
    "name": "ipython",
    "version": 3
   },
   "file_extension": ".py",
   "mimetype": "text/x-python",
   "name": "python",
   "nbconvert_exporter": "python",
   "pygments_lexer": "ipython3",
   "version": "3.9.20"
  }
 },
 "nbformat": 4,
 "nbformat_minor": 2
}
